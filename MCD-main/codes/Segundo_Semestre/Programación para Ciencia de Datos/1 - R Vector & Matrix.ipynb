{
 "cells": [
  {
   "cell_type": "markdown",
   "id": "ea5d65ac-31c4-4931-8a73-c8f0c1d3204e",
   "metadata": {},
   "source": [
    "#### Aritmética"
   ]
  },
  {
   "cell_type": "code",
   "execution_count": 8,
   "id": "ed27de6d-89c3-4e63-a6b0-9041909d8385",
   "metadata": {
    "execution": {
     "iopub.execute_input": "2025-04-07T04:42:33.410144Z",
     "iopub.status.busy": "2025-04-07T04:42:33.408657Z",
     "iopub.status.idle": "2025-04-07T04:42:33.456286Z",
     "shell.execute_reply": "2025-04-07T04:42:33.454164Z"
    }
   },
   "outputs": [
    {
     "data": {
      "text/html": [
       "2"
      ],
      "text/latex": [
       "2"
      ],
      "text/markdown": [
       "2"
      ],
      "text/plain": [
       "[1] 2"
      ]
     },
     "metadata": {},
     "output_type": "display_data"
    },
    {
     "data": {
      "text/html": [
       "1"
      ],
      "text/latex": [
       "1"
      ],
      "text/markdown": [
       "1"
      ],
      "text/plain": [
       "[1] 1"
      ]
     },
     "metadata": {},
     "output_type": "display_data"
    },
    {
     "data": {
      "text/html": [
       "8"
      ],
      "text/latex": [
       "8"
      ],
      "text/markdown": [
       "8"
      ],
      "text/plain": [
       "[1] 8"
      ]
     },
     "metadata": {},
     "output_type": "display_data"
    },
    {
     "data": {
      "text/html": [
       "0.8"
      ],
      "text/latex": [
       "0.8"
      ],
      "text/markdown": [
       "0.8"
      ],
      "text/plain": [
       "[1] 0.8"
      ]
     },
     "metadata": {},
     "output_type": "display_data"
    },
    {
     "data": {
      "text/html": [
       "125"
      ],
      "text/latex": [
       "125"
      ],
      "text/markdown": [
       "125"
      ],
      "text/plain": [
       "[1] 125"
      ]
     },
     "metadata": {},
     "output_type": "display_data"
    },
    {
     "data": {
      "text/html": [
       "1"
      ],
      "text/latex": [
       "1"
      ],
      "text/markdown": [
       "1"
      ],
      "text/plain": [
       "[1] 1"
      ]
     },
     "metadata": {},
     "output_type": "display_data"
    }
   ],
   "source": [
    "1 + 1\n",
    "2 - 1\n",
    "2.0 * 4\n",
    "4 / 5\n",
    "5 ^ 3 # Exponenciación\n",
    "5 %% 2 # Módulo"
   ]
  },
  {
   "cell_type": "markdown",
   "id": "f871286f-7194-45a7-a817-c5d04875a860",
   "metadata": {},
   "source": [
    "#### Asignación de variables"
   ]
  },
  {
   "cell_type": "code",
   "execution_count": 10,
   "id": "3b505da8-2494-42c6-bd7c-09158476292a",
   "metadata": {
    "execution": {
     "iopub.execute_input": "2025-04-07T04:44:17.817476Z",
     "iopub.status.busy": "2025-04-07T04:44:17.816166Z",
     "iopub.status.idle": "2025-04-07T04:44:17.835432Z",
     "shell.execute_reply": "2025-04-07T04:44:17.833728Z"
    }
   },
   "outputs": [
    {
     "data": {
      "text/html": [
       "42"
      ],
      "text/latex": [
       "42"
      ],
      "text/markdown": [
       "42"
      ],
      "text/plain": [
       "[1] 42"
      ]
     },
     "metadata": {},
     "output_type": "display_data"
    }
   ],
   "source": [
    "x <- 42\n",
    "x"
   ]
  },
  {
   "cell_type": "markdown",
   "id": "82a70dcb-c4b8-4e56-93a3-79ad4ee1599e",
   "metadata": {
    "execution": {
     "iopub.execute_input": "2025-04-07T04:54:52.130791Z",
     "iopub.status.busy": "2025-04-07T04:54:52.127876Z",
     "iopub.status.idle": "2025-04-07T04:54:52.141082Z",
     "shell.execute_reply": "2025-04-07T04:54:52.139663Z"
    }
   },
   "source": [
    "#### Tipo de dato de una variable"
   ]
  },
  {
   "cell_type": "code",
   "execution_count": 18,
   "id": "daf27ac1-d15d-468e-9aa6-d1be7de8917a",
   "metadata": {
    "execution": {
     "iopub.execute_input": "2025-04-07T04:54:52.492060Z",
     "iopub.status.busy": "2025-04-07T04:54:52.490563Z",
     "iopub.status.idle": "2025-04-07T04:54:52.530235Z",
     "shell.execute_reply": "2025-04-07T04:54:52.529171Z"
    }
   },
   "outputs": [
    {
     "data": {
      "text/html": [
       "'numeric'"
      ],
      "text/latex": [
       "'numeric'"
      ],
      "text/markdown": [
       "'numeric'"
      ],
      "text/plain": [
       "[1] \"numeric\""
      ]
     },
     "metadata": {},
     "output_type": "display_data"
    },
    {
     "data": {
      "text/html": [
       "'numeric'"
      ],
      "text/latex": [
       "'numeric'"
      ],
      "text/markdown": [
       "'numeric'"
      ],
      "text/plain": [
       "[1] \"numeric\""
      ]
     },
     "metadata": {},
     "output_type": "display_data"
    },
    {
     "data": {
      "text/html": [
       "'character'"
      ],
      "text/latex": [
       "'character'"
      ],
      "text/markdown": [
       "'character'"
      ],
      "text/plain": [
       "[1] \"character\""
      ]
     },
     "metadata": {},
     "output_type": "display_data"
    },
    {
     "data": {
      "text/html": [
       "'logical'"
      ],
      "text/latex": [
       "'logical'"
      ],
      "text/markdown": [
       "'logical'"
      ],
      "text/plain": [
       "[1] \"logical\""
      ]
     },
     "metadata": {},
     "output_type": "display_data"
    }
   ],
   "source": [
    "class(4.0)\n",
    "class(1)\n",
    "typeof(\"class\")\n",
    "typeof(TRUE)"
   ]
  },
  {
   "cell_type": "markdown",
   "id": "a2c0e0b0-8c21-42b3-b3e2-9f47f94b66c8",
   "metadata": {
    "execution": {
     "iopub.execute_input": "2025-04-07T04:55:20.761788Z",
     "iopub.status.busy": "2025-04-07T04:55:20.760711Z",
     "iopub.status.idle": "2025-04-07T04:55:20.772776Z",
     "shell.execute_reply": "2025-04-07T04:55:20.769652Z"
    }
   },
   "source": [
    "#### Vector\n",
    "Es una estructura unidimensional, del mismo tipo de dato"
   ]
  },
  {
   "cell_type": "code",
   "execution_count": 21,
   "id": "516dcf15-d19b-4efd-bb3e-28c020b5d591",
   "metadata": {
    "execution": {
     "iopub.execute_input": "2025-04-07T04:55:45.622973Z",
     "iopub.status.busy": "2025-04-07T04:55:45.621824Z",
     "iopub.status.idle": "2025-04-07T04:55:45.639717Z",
     "shell.execute_reply": "2025-04-07T04:55:45.638379Z"
    }
   },
   "outputs": [
    {
     "data": {
      "text/html": [
       "<style>\n",
       ".list-inline {list-style: none; margin:0; padding: 0}\n",
       ".list-inline>li {display: inline-block}\n",
       ".list-inline>li:not(:last-child)::after {content: \"\\00b7\"; padding: 0 .5ex}\n",
       "</style>\n",
       "<ol class=list-inline><li>1</li><li>10</li><li>49</li></ol>\n"
      ],
      "text/latex": [
       "\\begin{enumerate*}\n",
       "\\item 1\n",
       "\\item 10\n",
       "\\item 49\n",
       "\\end{enumerate*}\n"
      ],
      "text/markdown": [
       "1. 1\n",
       "2. 10\n",
       "3. 49\n",
       "\n",
       "\n"
      ],
      "text/plain": [
       "[1]  1 10 49"
      ]
     },
     "metadata": {},
     "output_type": "display_data"
    },
    {
     "data": {
      "text/html": [
       "'numeric'"
      ],
      "text/latex": [
       "'numeric'"
      ],
      "text/markdown": [
       "'numeric'"
      ],
      "text/plain": [
       "[1] \"numeric\""
      ]
     },
     "metadata": {},
     "output_type": "display_data"
    }
   ],
   "source": [
    "numeric_vector <- c(1, 10, 49)\n",
    "numeric_vector\n",
    "class(numeric_vector)"
   ]
  },
  {
   "cell_type": "code",
   "execution_count": 27,
   "id": "cb376dfe-f0d2-4f82-9420-a448a54db547",
   "metadata": {
    "execution": {
     "iopub.execute_input": "2025-04-07T04:58:54.694487Z",
     "iopub.status.busy": "2025-04-07T04:58:54.693039Z",
     "iopub.status.idle": "2025-04-07T04:58:54.735270Z",
     "shell.execute_reply": "2025-04-07T04:58:54.733684Z"
    }
   },
   "outputs": [
    {
     "data": {
      "text/html": [
       "<strong>Name:</strong> 'John Doe'"
      ],
      "text/latex": [
       "\\textbf{Name:} 'John Doe'"
      ],
      "text/markdown": [
       "**Name:** 'John Doe'"
      ],
      "text/plain": [
       "      Name \n",
       "\"John Doe\" "
      ]
     },
     "metadata": {},
     "output_type": "display_data"
    },
    {
     "data": {
      "text/html": [
       "<strong>Name:</strong> 'John Doe'"
      ],
      "text/latex": [
       "\\textbf{Name:} 'John Doe'"
      ],
      "text/markdown": [
       "**Name:** 'John Doe'"
      ],
      "text/plain": [
       "      Name \n",
       "\"John Doe\" "
      ]
     },
     "metadata": {},
     "output_type": "display_data"
    },
    {
     "data": {
      "text/html": [
       "<style>\n",
       ".dl-inline {width: auto; margin:0; padding: 0}\n",
       ".dl-inline>dt, .dl-inline>dd {float: none; width: auto; display: inline-block}\n",
       ".dl-inline>dt::after {content: \":\\0020\"; padding-right: .5ex}\n",
       ".dl-inline>dt:not(:first-of-type) {padding-left: .5ex}\n",
       "</style><dl class=dl-inline><dt>Name</dt><dd>'John Doe'</dd><dt>Profession</dt><dd>'Poker Player'</dd></dl>\n"
      ],
      "text/latex": [
       "\\begin{description*}\n",
       "\\item[Name] 'John Doe'\n",
       "\\item[Profession] 'Poker Player'\n",
       "\\end{description*}\n"
      ],
      "text/markdown": [
       "Name\n",
       ":   'John Doe'Profession\n",
       ":   'Poker Player'\n",
       "\n"
      ],
      "text/plain": [
       "          Name     Profession \n",
       "    \"John Doe\" \"Poker Player\" "
      ]
     },
     "metadata": {},
     "output_type": "display_data"
    }
   ],
   "source": [
    "some_vector <- c('John Doe', 'Poker Player')\n",
    "names(some_vector) <- c('Name', 'Profession')\n",
    "some_vector['Name']\n",
    "some_vector[1] # Los indices se indexan en 1\n",
    "some_vector[1:2] # Los : son inclusivos en ambos intervalos, en python es abierto por la derecha"
   ]
  },
  {
   "cell_type": "code",
   "execution_count": 29,
   "id": "df2fdd75-c91d-4c4d-aba8-361c83cd1c7a",
   "metadata": {
    "execution": {
     "iopub.execute_input": "2025-04-07T05:01:09.193502Z",
     "iopub.status.busy": "2025-04-07T05:01:09.192130Z",
     "iopub.status.idle": "2025-04-07T05:01:09.221632Z",
     "shell.execute_reply": "2025-04-07T05:01:09.220016Z"
    }
   },
   "outputs": [
    {
     "data": {
      "text/html": [
       "<style>\n",
       ".list-inline {list-style: none; margin:0; padding: 0}\n",
       ".list-inline>li {display: inline-block}\n",
       ".list-inline>li:not(:last-child)::after {content: \"\\00b7\"; padding: 0 .5ex}\n",
       "</style>\n",
       "<ol class=list-inline><li>5</li><li>7</li><li>9</li></ol>\n"
      ],
      "text/latex": [
       "\\begin{enumerate*}\n",
       "\\item 5\n",
       "\\item 7\n",
       "\\item 9\n",
       "\\end{enumerate*}\n"
      ],
      "text/markdown": [
       "1. 5\n",
       "2. 7\n",
       "3. 9\n",
       "\n",
       "\n"
      ],
      "text/plain": [
       "[1] 5 7 9"
      ]
     },
     "metadata": {},
     "output_type": "display_data"
    },
    {
     "data": {
      "text/html": [
       "<style>\n",
       ".list-inline {list-style: none; margin:0; padding: 0}\n",
       ".list-inline>li {display: inline-block}\n",
       ".list-inline>li:not(:last-child)::after {content: \"\\00b7\"; padding: 0 .5ex}\n",
       "</style>\n",
       "<ol class=list-inline><li>5</li><li>7</li><li>9</li></ol>\n"
      ],
      "text/latex": [
       "\\begin{enumerate*}\n",
       "\\item 5\n",
       "\\item 7\n",
       "\\item 9\n",
       "\\end{enumerate*}\n"
      ],
      "text/markdown": [
       "1. 5\n",
       "2. 7\n",
       "3. 9\n",
       "\n",
       "\n"
      ],
      "text/plain": [
       "[1] 5 7 9"
      ]
     },
     "metadata": {},
     "output_type": "display_data"
    }
   ],
   "source": [
    "c(1, 2, 3) + c(4, 5, 6) # Suma elemento a elemento\n",
    "c(1 + 4, 2 + 5, 3 + 6)"
   ]
  },
  {
   "cell_type": "code",
   "execution_count": 31,
   "id": "5c3b0a34-de4c-4096-ab1a-9ba393f050ca",
   "metadata": {
    "execution": {
     "iopub.execute_input": "2025-04-07T05:03:16.994935Z",
     "iopub.status.busy": "2025-04-07T05:03:16.993798Z",
     "iopub.status.idle": "2025-04-07T05:03:17.012357Z",
     "shell.execute_reply": "2025-04-07T05:03:17.010917Z"
    }
   },
   "outputs": [
    {
     "data": {
      "text/html": [
       "55"
      ],
      "text/latex": [
       "55"
      ],
      "text/markdown": [
       "55"
      ],
      "text/plain": [
       "[1] 55"
      ]
     },
     "metadata": {},
     "output_type": "display_data"
    }
   ],
   "source": [
    "sum(1:10)"
   ]
  },
  {
   "cell_type": "code",
   "execution_count": 33,
   "id": "1734d0d1-64cf-483a-af9f-2bdc4a860794",
   "metadata": {
    "execution": {
     "iopub.execute_input": "2025-04-07T05:05:55.158803Z",
     "iopub.status.busy": "2025-04-07T05:05:55.157590Z",
     "iopub.status.idle": "2025-04-07T05:05:55.215606Z",
     "shell.execute_reply": "2025-04-07T05:05:55.214097Z"
    }
   },
   "outputs": [
    {
     "data": {
      "text/html": [
       "<style>\n",
       ".list-inline {list-style: none; margin:0; padding: 0}\n",
       ".list-inline>li {display: inline-block}\n",
       ".list-inline>li:not(:last-child)::after {content: \"\\00b7\"; padding: 0 .5ex}\n",
       "</style>\n",
       "<ol class=list-inline><li>1</li><li>2</li><li>3</li><li>4</li><li>5</li><li>6</li><li>7</li><li>8</li><li>9</li><li>10</li></ol>\n"
      ],
      "text/latex": [
       "\\begin{enumerate*}\n",
       "\\item 1\n",
       "\\item 2\n",
       "\\item 3\n",
       "\\item 4\n",
       "\\item 5\n",
       "\\item 6\n",
       "\\item 7\n",
       "\\item 8\n",
       "\\item 9\n",
       "\\item 10\n",
       "\\end{enumerate*}\n"
      ],
      "text/markdown": [
       "1. 1\n",
       "2. 2\n",
       "3. 3\n",
       "4. 4\n",
       "5. 5\n",
       "6. 6\n",
       "7. 7\n",
       "8. 8\n",
       "9. 9\n",
       "10. 10\n",
       "\n",
       "\n"
      ],
      "text/plain": [
       " [1]  1  2  3  4  5  6  7  8  9 10"
      ]
     },
     "metadata": {},
     "output_type": "display_data"
    },
    {
     "data": {
      "text/html": [
       "<style>\n",
       ".list-inline {list-style: none; margin:0; padding: 0}\n",
       ".list-inline>li {display: inline-block}\n",
       ".list-inline>li:not(:last-child)::after {content: \"\\00b7\"; padding: 0 .5ex}\n",
       "</style>\n",
       "<ol class=list-inline><li>1</li><li>3</li><li>8</li></ol>\n"
      ],
      "text/latex": [
       "\\begin{enumerate*}\n",
       "\\item 1\n",
       "\\item 3\n",
       "\\item 8\n",
       "\\end{enumerate*}\n"
      ],
      "text/markdown": [
       "1. 1\n",
       "2. 3\n",
       "3. 8\n",
       "\n",
       "\n"
      ],
      "text/plain": [
       "[1] 1 3 8"
      ]
     },
     "metadata": {},
     "output_type": "display_data"
    }
   ],
   "source": [
    "my_nums <- 1:10\n",
    "my_nums\n",
    "my_nums[c(1, 3, 8)] # Posiciones en particular"
   ]
  },
  {
   "cell_type": "code",
   "execution_count": 36,
   "id": "75046486-d0df-48f1-8dfb-2dd5cd3c46d6",
   "metadata": {
    "execution": {
     "iopub.execute_input": "2025-04-07T05:11:16.020768Z",
     "iopub.status.busy": "2025-04-07T05:11:16.018968Z",
     "iopub.status.idle": "2025-04-07T05:11:16.056221Z",
     "shell.execute_reply": "2025-04-07T05:11:16.053591Z"
    }
   },
   "outputs": [
    {
     "data": {
      "text/html": [
       "<style>\n",
       ".list-inline {list-style: none; margin:0; padding: 0}\n",
       ".list-inline>li {display: inline-block}\n",
       ".list-inline>li:not(:last-child)::after {content: \"\\00b7\"; padding: 0 .5ex}\n",
       "</style>\n",
       "<ol class=list-inline><li>1</li><li>3</li><li>5</li><li>7</li><li>9</li></ol>\n"
      ],
      "text/latex": [
       "\\begin{enumerate*}\n",
       "\\item 1\n",
       "\\item 3\n",
       "\\item 5\n",
       "\\item 7\n",
       "\\item 9\n",
       "\\end{enumerate*}\n"
      ],
      "text/markdown": [
       "1. 1\n",
       "2. 3\n",
       "3. 5\n",
       "4. 7\n",
       "5. 9\n",
       "\n",
       "\n"
      ],
      "text/plain": [
       "[1] 1 3 5 7 9"
      ]
     },
     "metadata": {},
     "output_type": "display_data"
    }
   ],
   "source": [
    "my_nums[my_nums %% 2 == 1] # Filtró por mascara booleana"
   ]
  },
  {
   "cell_type": "markdown",
   "id": "943ac022-c843-43ae-8bce-f485a4876078",
   "metadata": {
    "execution": {
     "iopub.execute_input": "2025-04-07T05:16:51.252792Z",
     "iopub.status.busy": "2025-04-07T05:16:51.250596Z",
     "iopub.status.idle": "2025-04-07T05:16:51.271203Z",
     "shell.execute_reply": "2025-04-07T05:16:51.266298Z"
    }
   },
   "source": [
    "#### Matrices\n",
    "Es una colección de elementos del mismo tipo de dato organizados en un número fijo de filas y columnas"
   ]
  },
  {
   "cell_type": "code",
   "execution_count": 41,
   "id": "f47eb735-fb40-4d2d-b902-9f235831fedd",
   "metadata": {
    "execution": {
     "iopub.execute_input": "2025-04-07T05:18:03.222093Z",
     "iopub.status.busy": "2025-04-07T05:18:03.221179Z",
     "iopub.status.idle": "2025-04-07T05:18:03.235153Z",
     "shell.execute_reply": "2025-04-07T05:18:03.233353Z"
    }
   },
   "outputs": [
    {
     "data": {
      "text/html": [
       "<table class=\"dataframe\">\n",
       "<caption>A matrix: 3 × 3 of type int</caption>\n",
       "<tbody>\n",
       "\t<tr><td>1</td><td>2</td><td>3</td></tr>\n",
       "\t<tr><td>4</td><td>5</td><td>6</td></tr>\n",
       "\t<tr><td>7</td><td>8</td><td>9</td></tr>\n",
       "</tbody>\n",
       "</table>\n"
      ],
      "text/latex": [
       "A matrix: 3 × 3 of type int\n",
       "\\begin{tabular}{lll}\n",
       "\t 1 & 2 & 3\\\\\n",
       "\t 4 & 5 & 6\\\\\n",
       "\t 7 & 8 & 9\\\\\n",
       "\\end{tabular}\n"
      ],
      "text/markdown": [
       "\n",
       "A matrix: 3 × 3 of type int\n",
       "\n",
       "| 1 | 2 | 3 |\n",
       "| 4 | 5 | 6 |\n",
       "| 7 | 8 | 9 |\n",
       "\n"
      ],
      "text/plain": [
       "     [,1] [,2] [,3]\n",
       "[1,] 1    2    3   \n",
       "[2,] 4    5    6   \n",
       "[3,] 7    8    9   "
      ]
     },
     "metadata": {},
     "output_type": "display_data"
    }
   ],
   "source": [
    "A <- matrix(1:9, byrow = TRUE, nrow = 3)\n",
    "A"
   ]
  },
  {
   "cell_type": "code",
   "execution_count": 46,
   "id": "8cac99c8-4c46-4d75-97c1-554adca51c7d",
   "metadata": {
    "execution": {
     "iopub.execute_input": "2025-04-07T05:21:55.024082Z",
     "iopub.status.busy": "2025-04-07T05:21:55.023087Z",
     "iopub.status.idle": "2025-04-07T05:21:55.047507Z",
     "shell.execute_reply": "2025-04-07T05:21:55.046048Z"
    }
   },
   "outputs": [
    {
     "name": "stderr",
     "output_type": "stream",
     "text": [
      "Warning message in matrix(1:7, byrow = TRUE, nrow = 3):\n",
      "“data length [7] is not a sub-multiple or multiple of the number of rows [3]”\n"
     ]
    },
    {
     "data": {
      "text/html": [
       "<table class=\"dataframe\">\n",
       "<caption>A matrix: 3 × 3 of type int</caption>\n",
       "<tbody>\n",
       "\t<tr><td>1</td><td>2</td><td>3</td></tr>\n",
       "\t<tr><td>4</td><td>5</td><td>6</td></tr>\n",
       "\t<tr><td>7</td><td>1</td><td>2</td></tr>\n",
       "</tbody>\n",
       "</table>\n"
      ],
      "text/latex": [
       "A matrix: 3 × 3 of type int\n",
       "\\begin{tabular}{lll}\n",
       "\t 1 & 2 & 3\\\\\n",
       "\t 4 & 5 & 6\\\\\n",
       "\t 7 & 1 & 2\\\\\n",
       "\\end{tabular}\n"
      ],
      "text/markdown": [
       "\n",
       "A matrix: 3 × 3 of type int\n",
       "\n",
       "| 1 | 2 | 3 |\n",
       "| 4 | 5 | 6 |\n",
       "| 7 | 1 | 2 |\n",
       "\n"
      ],
      "text/plain": [
       "     [,1] [,2] [,3]\n",
       "[1,] 1    2    3   \n",
       "[2,] 4    5    6   \n",
       "[3,] 7    1    2   "
      ]
     },
     "metadata": {},
     "output_type": "display_data"
    }
   ],
   "source": [
    "B <- matrix(1:7, byrow = TRUE, nrow = 3) # Si la secuencia no completa el número de elementos, el restante se llena con los valores iniciando la secuencia nuevamente\n",
    "B"
   ]
  },
  {
   "cell_type": "code",
   "execution_count": 49,
   "id": "77e1380c-7180-45be-891f-d8507cbf0cb0",
   "metadata": {
    "execution": {
     "iopub.execute_input": "2025-04-07T05:25:36.567060Z",
     "iopub.status.busy": "2025-04-07T05:25:36.564459Z",
     "iopub.status.idle": "2025-04-07T05:25:36.694065Z",
     "shell.execute_reply": "2025-04-07T05:25:36.690120Z"
    }
   },
   "outputs": [
    {
     "data": {
      "text/html": [
       "<table class=\"dataframe\">\n",
       "<caption>A matrix: 3 × 2 of type dbl</caption>\n",
       "<tbody>\n",
       "\t<tr><td>460.998</td><td>314.4</td></tr>\n",
       "\t<tr><td>290.475</td><td>247.9</td></tr>\n",
       "\t<tr><td>309.306</td><td>165.8</td></tr>\n",
       "</tbody>\n",
       "</table>\n"
      ],
      "text/latex": [
       "A matrix: 3 × 2 of type dbl\n",
       "\\begin{tabular}{ll}\n",
       "\t 460.998 & 314.4\\\\\n",
       "\t 290.475 & 247.9\\\\\n",
       "\t 309.306 & 165.8\\\\\n",
       "\\end{tabular}\n"
      ],
      "text/markdown": [
       "\n",
       "A matrix: 3 × 2 of type dbl\n",
       "\n",
       "| 460.998 | 314.4 |\n",
       "| 290.475 | 247.9 |\n",
       "| 309.306 | 165.8 |\n",
       "\n"
      ],
      "text/plain": [
       "     [,1]    [,2] \n",
       "[1,] 460.998 314.4\n",
       "[2,] 290.475 247.9\n",
       "[3,] 309.306 165.8"
      ]
     },
     "metadata": {},
     "output_type": "display_data"
    }
   ],
   "source": [
    "# Cifras de 3 peliculas de Star Wars\n",
    "# Primer elemento, recaudación en taquilla en EE. UU.\n",
    "# Segundo elemento, recaudación en taquilla fuera de EE. UU.\n",
    "new_hope <- c(460.998, 314.4)\n",
    "empire_stikes <- c(290.475, 247.9)\n",
    "return_jedi <- c(309.306, 165.8)\n",
    "\n",
    "star_wars_matrix <- matrix(\n",
    "    c(new_hope, empire_stikes, return_jedi),\n",
    "    byrow = TRUE,\n",
    "    nrow = 3\n",
    ")\n",
    "\n",
    "star_wars_matrix"
   ]
  },
  {
   "cell_type": "code",
   "execution_count": 54,
   "id": "cba8a336-63a9-47e8-b348-eeb5d91e284f",
   "metadata": {
    "execution": {
     "iopub.execute_input": "2025-04-07T05:28:13.891560Z",
     "iopub.status.busy": "2025-04-07T05:28:13.889974Z",
     "iopub.status.idle": "2025-04-07T05:28:13.911260Z",
     "shell.execute_reply": "2025-04-07T05:28:13.910229Z"
    }
   },
   "outputs": [
    {
     "data": {
      "text/html": [
       "<table class=\"dataframe\">\n",
       "<caption>A matrix: 3 × 2 of type dbl</caption>\n",
       "<thead>\n",
       "\t<tr><th></th><th scope=col>US</th><th scope=col>non-US</th></tr>\n",
       "</thead>\n",
       "<tbody>\n",
       "\t<tr><th scope=row>A New Hope</th><td>460.998</td><td>314.4</td></tr>\n",
       "\t<tr><th scope=row>The Empire Strikes Back</th><td>290.475</td><td>247.9</td></tr>\n",
       "\t<tr><th scope=row>Return of the Jedi</th><td>309.306</td><td>165.8</td></tr>\n",
       "</tbody>\n",
       "</table>\n"
      ],
      "text/latex": [
       "A matrix: 3 × 2 of type dbl\n",
       "\\begin{tabular}{r|ll}\n",
       "  & US & non-US\\\\\n",
       "\\hline\n",
       "\tA New Hope & 460.998 & 314.4\\\\\n",
       "\tThe Empire Strikes Back & 290.475 & 247.9\\\\\n",
       "\tReturn of the Jedi & 309.306 & 165.8\\\\\n",
       "\\end{tabular}\n"
      ],
      "text/markdown": [
       "\n",
       "A matrix: 3 × 2 of type dbl\n",
       "\n",
       "| <!--/--> | US | non-US |\n",
       "|---|---|---|\n",
       "| A New Hope | 460.998 | 314.4 |\n",
       "| The Empire Strikes Back | 290.475 | 247.9 |\n",
       "| Return of the Jedi | 309.306 | 165.8 |\n",
       "\n"
      ],
      "text/plain": [
       "                        US      non-US\n",
       "A New Hope              460.998 314.4 \n",
       "The Empire Strikes Back 290.475 247.9 \n",
       "Return of the Jedi      309.306 165.8 "
      ]
     },
     "metadata": {},
     "output_type": "display_data"
    }
   ],
   "source": [
    "rownames(star_wars_matrix) <- c(\"A New Hope\", \"The Empire Strikes Back\", \"Return of the Jedi\")\n",
    "colnames(star_wars_matrix) <- c(\"US\", \"non-US\")\n",
    "star_wars_matrix"
   ]
  },
  {
   "cell_type": "code",
   "execution_count": 57,
   "id": "e5e63279-d57a-4a78-89d9-16d0de3757c3",
   "metadata": {
    "execution": {
     "iopub.execute_input": "2025-04-07T05:34:17.838590Z",
     "iopub.status.busy": "2025-04-07T05:34:17.837352Z",
     "iopub.status.idle": "2025-04-07T05:34:17.865860Z",
     "shell.execute_reply": "2025-04-07T05:34:17.864415Z"
    }
   },
   "outputs": [
    {
     "data": {
      "text/html": [
       "<style>\n",
       ".dl-inline {width: auto; margin:0; padding: 0}\n",
       ".dl-inline>dt, .dl-inline>dd {float: none; width: auto; display: inline-block}\n",
       ".dl-inline>dt::after {content: \":\\0020\"; padding-right: .5ex}\n",
       ".dl-inline>dt:not(:first-of-type) {padding-left: .5ex}\n",
       "</style><dl class=dl-inline><dt>A New Hope</dt><dd>775.398</dd><dt>The Empire Strikes Back</dt><dd>538.375</dd><dt>Return of the Jedi</dt><dd>475.106</dd></dl>\n"
      ],
      "text/latex": [
       "\\begin{description*}\n",
       "\\item[A New Hope] 775.398\n",
       "\\item[The Empire Strikes Back] 538.375\n",
       "\\item[Return of the Jedi] 475.106\n",
       "\\end{description*}\n"
      ],
      "text/markdown": [
       "A New Hope\n",
       ":   775.398The Empire Strikes Back\n",
       ":   538.375Return of the Jedi\n",
       ":   475.106\n",
       "\n"
      ],
      "text/plain": [
       "             A New Hope The Empire Strikes Back      Return of the Jedi \n",
       "                775.398                 538.375                 475.106 "
      ]
     },
     "metadata": {},
     "output_type": "display_data"
    },
    {
     "data": {
      "text/html": [
       "<table class=\"dataframe\">\n",
       "<caption>A matrix: 3 × 3 of type dbl</caption>\n",
       "<thead>\n",
       "\t<tr><th></th><th scope=col>US</th><th scope=col>non-US</th><th scope=col>worldwide</th></tr>\n",
       "</thead>\n",
       "<tbody>\n",
       "\t<tr><th scope=row>A New Hope</th><td>460.998</td><td>314.4</td><td>775.398</td></tr>\n",
       "\t<tr><th scope=row>The Empire Strikes Back</th><td>290.475</td><td>247.9</td><td>538.375</td></tr>\n",
       "\t<tr><th scope=row>Return of the Jedi</th><td>309.306</td><td>165.8</td><td>475.106</td></tr>\n",
       "</tbody>\n",
       "</table>\n"
      ],
      "text/latex": [
       "A matrix: 3 × 3 of type dbl\n",
       "\\begin{tabular}{r|lll}\n",
       "  & US & non-US & worldwide\\\\\n",
       "\\hline\n",
       "\tA New Hope & 460.998 & 314.4 & 775.398\\\\\n",
       "\tThe Empire Strikes Back & 290.475 & 247.9 & 538.375\\\\\n",
       "\tReturn of the Jedi & 309.306 & 165.8 & 475.106\\\\\n",
       "\\end{tabular}\n"
      ],
      "text/markdown": [
       "\n",
       "A matrix: 3 × 3 of type dbl\n",
       "\n",
       "| <!--/--> | US | non-US | worldwide |\n",
       "|---|---|---|---|\n",
       "| A New Hope | 460.998 | 314.4 | 775.398 |\n",
       "| The Empire Strikes Back | 290.475 | 247.9 | 538.375 |\n",
       "| Return of the Jedi | 309.306 | 165.8 | 475.106 |\n",
       "\n"
      ],
      "text/plain": [
       "                        US      non-US worldwide\n",
       "A New Hope              460.998 314.4  775.398  \n",
       "The Empire Strikes Back 290.475 247.9  538.375  \n",
       "Return of the Jedi      309.306 165.8  475.106  "
      ]
     },
     "metadata": {},
     "output_type": "display_data"
    }
   ],
   "source": [
    "worldwide <- rowSums(star_wars_matrix) # Taquilla Mundial\n",
    "worldwide\n",
    "all_star_wars_mat <- cbind(star_wars_matrix, worldwide)\n",
    "all_star_wars_mat"
   ]
  },
  {
   "cell_type": "code",
   "execution_count": 58,
   "id": "c30509b3-7736-4eaa-9df6-c162880ea1d1",
   "metadata": {
    "execution": {
     "iopub.execute_input": "2025-04-07T05:49:06.780847Z",
     "iopub.status.busy": "2025-04-07T05:49:06.779611Z",
     "iopub.status.idle": "2025-04-07T05:49:06.797399Z",
     "shell.execute_reply": "2025-04-07T05:49:06.794954Z"
    }
   },
   "outputs": [
    {
     "data": {
      "text/html": [
       "<table class=\"dataframe\">\n",
       "<caption>A matrix: 2 × 2 of type dbl</caption>\n",
       "<thead>\n",
       "\t<tr><th></th><th scope=col>non-US</th><th scope=col>worldwide</th></tr>\n",
       "</thead>\n",
       "<tbody>\n",
       "\t<tr><th scope=row>A New Hope</th><td>314.4</td><td>775.398</td></tr>\n",
       "\t<tr><th scope=row>Return of the Jedi</th><td>165.8</td><td>475.106</td></tr>\n",
       "</tbody>\n",
       "</table>\n"
      ],
      "text/latex": [
       "A matrix: 2 × 2 of type dbl\n",
       "\\begin{tabular}{r|ll}\n",
       "  & non-US & worldwide\\\\\n",
       "\\hline\n",
       "\tA New Hope & 314.4 & 775.398\\\\\n",
       "\tReturn of the Jedi & 165.8 & 475.106\\\\\n",
       "\\end{tabular}\n"
      ],
      "text/markdown": [
       "\n",
       "A matrix: 2 × 2 of type dbl\n",
       "\n",
       "| <!--/--> | non-US | worldwide |\n",
       "|---|---|---|\n",
       "| A New Hope | 314.4 | 775.398 |\n",
       "| Return of the Jedi | 165.8 | 475.106 |\n",
       "\n"
      ],
      "text/plain": [
       "                   non-US worldwide\n",
       "A New Hope         314.4  775.398  \n",
       "Return of the Jedi 165.8  475.106  "
      ]
     },
     "metadata": {},
     "output_type": "display_data"
    }
   ],
   "source": [
    "all_star_wars_mat[c(1, 3), 2:3]"
   ]
  },
  {
   "cell_type": "code",
   "execution_count": 63,
   "id": "fed7e124-4320-4f8c-aec8-522b5a05320b",
   "metadata": {
    "execution": {
     "iopub.execute_input": "2025-04-07T05:57:47.857323Z",
     "iopub.status.busy": "2025-04-07T05:57:47.856413Z",
     "iopub.status.idle": "2025-04-07T05:57:47.903847Z",
     "shell.execute_reply": "2025-04-07T05:57:47.902881Z"
    }
   },
   "outputs": [
    {
     "data": {
      "text/html": [
       "<table class=\"dataframe\">\n",
       "<caption>A matrix: 3 × 3 of type dbl</caption>\n",
       "<thead>\n",
       "\t<tr><th></th><th scope=col>US</th><th scope=col>non-US</th><th scope=col>worldwide</th></tr>\n",
       "</thead>\n",
       "<tbody>\n",
       "\t<tr><th scope=row>A New Hope</th><td>460.998</td><td>314.4</td><td>775.398</td></tr>\n",
       "\t<tr><th scope=row>The Empire Strikes Back</th><td>290.475</td><td>247.9</td><td>538.375</td></tr>\n",
       "\t<tr><th scope=row>Return of the Jedi</th><td>309.306</td><td>165.8</td><td>475.106</td></tr>\n",
       "</tbody>\n",
       "</table>\n"
      ],
      "text/latex": [
       "A matrix: 3 × 3 of type dbl\n",
       "\\begin{tabular}{r|lll}\n",
       "  & US & non-US & worldwide\\\\\n",
       "\\hline\n",
       "\tA New Hope & 460.998 & 314.4 & 775.398\\\\\n",
       "\tThe Empire Strikes Back & 290.475 & 247.9 & 538.375\\\\\n",
       "\tReturn of the Jedi & 309.306 & 165.8 & 475.106\\\\\n",
       "\\end{tabular}\n"
      ],
      "text/markdown": [
       "\n",
       "A matrix: 3 × 3 of type dbl\n",
       "\n",
       "| <!--/--> | US | non-US | worldwide |\n",
       "|---|---|---|---|\n",
       "| A New Hope | 460.998 | 314.4 | 775.398 |\n",
       "| The Empire Strikes Back | 290.475 | 247.9 | 538.375 |\n",
       "| Return of the Jedi | 309.306 | 165.8 | 475.106 |\n",
       "\n"
      ],
      "text/plain": [
       "                        US      non-US worldwide\n",
       "A New Hope              460.998 314.4  775.398  \n",
       "The Empire Strikes Back 290.475 247.9  538.375  \n",
       "Return of the Jedi      309.306 165.8  475.106  "
      ]
     },
     "metadata": {},
     "output_type": "display_data"
    },
    {
     "data": {
      "text/html": [
       "<table class=\"dataframe\">\n",
       "<caption>A matrix: 3 × 3 of type dbl</caption>\n",
       "<thead>\n",
       "\t<tr><th></th><th scope=col>US</th><th scope=col>non-US</th><th scope=col>worldwide</th></tr>\n",
       "</thead>\n",
       "<tbody>\n",
       "\t<tr><th scope=row>A New Hope</th><td>212519.16</td><td>98847.36</td><td>601242.1</td></tr>\n",
       "\t<tr><th scope=row>The Empire Strikes Back</th><td> 84375.73</td><td>61454.41</td><td>289847.6</td></tr>\n",
       "\t<tr><th scope=row>Return of the Jedi</th><td> 95670.20</td><td>27489.64</td><td>225725.7</td></tr>\n",
       "</tbody>\n",
       "</table>\n"
      ],
      "text/latex": [
       "A matrix: 3 × 3 of type dbl\n",
       "\\begin{tabular}{r|lll}\n",
       "  & US & non-US & worldwide\\\\\n",
       "\\hline\n",
       "\tA New Hope & 212519.16 & 98847.36 & 601242.1\\\\\n",
       "\tThe Empire Strikes Back &  84375.73 & 61454.41 & 289847.6\\\\\n",
       "\tReturn of the Jedi &  95670.20 & 27489.64 & 225725.7\\\\\n",
       "\\end{tabular}\n"
      ],
      "text/markdown": [
       "\n",
       "A matrix: 3 × 3 of type dbl\n",
       "\n",
       "| <!--/--> | US | non-US | worldwide |\n",
       "|---|---|---|---|\n",
       "| A New Hope | 212519.16 | 98847.36 | 601242.1 |\n",
       "| The Empire Strikes Back |  84375.73 | 61454.41 | 289847.6 |\n",
       "| Return of the Jedi |  95670.20 | 27489.64 | 225725.7 |\n",
       "\n"
      ],
      "text/plain": [
       "                        US        non-US   worldwide\n",
       "A New Hope              212519.16 98847.36 601242.1 \n",
       "The Empire Strikes Back  84375.73 61454.41 289847.6 \n",
       "Return of the Jedi       95670.20 27489.64 225725.7 "
      ]
     },
     "metadata": {},
     "output_type": "display_data"
    },
    {
     "data": {
      "text/html": [
       "<table class=\"dataframe\">\n",
       "<caption>A matrix: 3 × 3 of type dbl</caption>\n",
       "<thead>\n",
       "\t<tr><th></th><th scope=col>US</th><th scope=col>non-US</th><th scope=col>worldwide</th></tr>\n",
       "</thead>\n",
       "<tbody>\n",
       "\t<tr><th scope=row>A New Hope</th><td>460.998</td><td>314.4</td><td> 775.398</td></tr>\n",
       "\t<tr><th scope=row>The Empire Strikes Back</th><td>580.950</td><td>495.8</td><td>1076.750</td></tr>\n",
       "\t<tr><th scope=row>Return of the Jedi</th><td>927.918</td><td>497.4</td><td>1425.318</td></tr>\n",
       "</tbody>\n",
       "</table>\n"
      ],
      "text/latex": [
       "A matrix: 3 × 3 of type dbl\n",
       "\\begin{tabular}{r|lll}\n",
       "  & US & non-US & worldwide\\\\\n",
       "\\hline\n",
       "\tA New Hope & 460.998 & 314.4 &  775.398\\\\\n",
       "\tThe Empire Strikes Back & 580.950 & 495.8 & 1076.750\\\\\n",
       "\tReturn of the Jedi & 927.918 & 497.4 & 1425.318\\\\\n",
       "\\end{tabular}\n"
      ],
      "text/markdown": [
       "\n",
       "A matrix: 3 × 3 of type dbl\n",
       "\n",
       "| <!--/--> | US | non-US | worldwide |\n",
       "|---|---|---|---|\n",
       "| A New Hope | 460.998 | 314.4 |  775.398 |\n",
       "| The Empire Strikes Back | 580.950 | 495.8 | 1076.750 |\n",
       "| Return of the Jedi | 927.918 | 497.4 | 1425.318 |\n",
       "\n"
      ],
      "text/plain": [
       "                        US      non-US worldwide\n",
       "A New Hope              460.998 314.4   775.398 \n",
       "The Empire Strikes Back 580.950 495.8  1076.750 \n",
       "Return of the Jedi      927.918 497.4  1425.318 "
      ]
     },
     "metadata": {},
     "output_type": "display_data"
    },
    {
     "data": {
      "text/html": [
       "<table class=\"dataframe\">\n",
       "<caption>A matrix: 3 × 3 of type dbl</caption>\n",
       "<thead>\n",
       "\t<tr><th></th><th scope=col>US</th><th scope=col>non-US</th><th scope=col>worldwide</th></tr>\n",
       "</thead>\n",
       "<tbody>\n",
       "\t<tr><th scope=row>A New Hope</th><td>543679.7</td><td>351438.5</td><td>895118.3</td></tr>\n",
       "\t<tr><th scope=row>The Empire Strikes Back</th><td>372439.8</td><td>242042.3</td><td>614482.1</td></tr>\n",
       "\t<tr><th scope=row>Return of the Jedi</th><td>337703.3</td><td>217120.2</td><td>554823.5</td></tr>\n",
       "</tbody>\n",
       "</table>\n"
      ],
      "text/latex": [
       "A matrix: 3 × 3 of type dbl\n",
       "\\begin{tabular}{r|lll}\n",
       "  & US & non-US & worldwide\\\\\n",
       "\\hline\n",
       "\tA New Hope & 543679.7 & 351438.5 & 895118.3\\\\\n",
       "\tThe Empire Strikes Back & 372439.8 & 242042.3 & 614482.1\\\\\n",
       "\tReturn of the Jedi & 337703.3 & 217120.2 & 554823.5\\\\\n",
       "\\end{tabular}\n"
      ],
      "text/markdown": [
       "\n",
       "A matrix: 3 × 3 of type dbl\n",
       "\n",
       "| <!--/--> | US | non-US | worldwide |\n",
       "|---|---|---|---|\n",
       "| A New Hope | 543679.7 | 351438.5 | 895118.3 |\n",
       "| The Empire Strikes Back | 372439.8 | 242042.3 | 614482.1 |\n",
       "| Return of the Jedi | 337703.3 | 217120.2 | 554823.5 |\n",
       "\n"
      ],
      "text/plain": [
       "                        US       non-US   worldwide\n",
       "A New Hope              543679.7 351438.5 895118.3 \n",
       "The Empire Strikes Back 372439.8 242042.3 614482.1 \n",
       "Return of the Jedi      337703.3 217120.2 554823.5 "
      ]
     },
     "metadata": {},
     "output_type": "display_data"
    }
   ],
   "source": [
    "all_star_wars_mat\n",
    "all_star_wars_mat * all_star_wars_mat # La multiplicación es elemento a elemento\n",
    "all_star_wars_mat * c(1, 2, 3) # La multiplicación se hace por columna\n",
    "all_star_wars_mat %*% all_star_wars_mat # Multiplicación matricial"
   ]
  },
  {
   "cell_type": "code",
   "execution_count": null,
   "id": "16ad2256-28d7-48d2-92dc-b487aaaa289c",
   "metadata": {},
   "outputs": [],
   "source": []
  }
 ],
 "metadata": {
  "kernelspec": {
   "display_name": "R",
   "language": "R",
   "name": "ir"
  },
  "language_info": {
   "codemirror_mode": "r",
   "file_extension": ".r",
   "mimetype": "text/x-r-source",
   "name": "R",
   "pygments_lexer": "r",
   "version": "4.3.3"
  }
 },
 "nbformat": 4,
 "nbformat_minor": 5
}
