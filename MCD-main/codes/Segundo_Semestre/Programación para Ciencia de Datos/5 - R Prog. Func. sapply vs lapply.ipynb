{
 "cells": [
  {
   "cell_type": "markdown",
   "id": "3dbded9f-bf8c-4da1-8541-0e8178afbf06",
   "metadata": {},
   "source": [
    "### Conceptos de programación funcional\n",
    "- Los resultados dependen solo de sus entradas\n",
    "- No hay efectos secundarios\n",
    "- Son ciudadanos de primer orden"
   ]
  },
  {
   "cell_type": "code",
   "execution_count": 2,
   "id": "c1b9bdb0-6d92-476b-ade0-08674dcedc01",
   "metadata": {},
   "outputs": [],
   "source": [
    "aplicar <- function(func, valor){\n",
    "    return(func(valor))\n",
    "}\n",
    "doblar <- function(x) x * 2"
   ]
  },
  {
   "cell_type": "code",
   "execution_count": 3,
   "id": "42c69985-4d07-4d3b-adeb-1d70712aaa70",
   "metadata": {},
   "outputs": [
    {
     "data": {
      "text/html": [
       "20"
      ],
      "text/latex": [
       "20"
      ],
      "text/markdown": [
       "20"
      ],
      "text/plain": [
       "[1] 20"
      ]
     },
     "metadata": {},
     "output_type": "display_data"
    }
   ],
   "source": [
    "aplicar(doblar, 10)"
   ]
  },
  {
   "cell_type": "code",
   "execution_count": 4,
   "id": "0daddc70-040a-4910-9e8a-f54b741f4508",
   "metadata": {},
   "outputs": [
    {
     "data": {
      "text/html": [
       "60"
      ],
      "text/latex": [
       "60"
      ],
      "text/markdown": [
       "60"
      ],
      "text/plain": [
       "[1] 60"
      ]
     },
     "metadata": {},
     "output_type": "display_data"
    }
   ],
   "source": [
    "aplicar(function(x) x * 3, 20) # Función anónima"
   ]
  },
  {
   "cell_type": "markdown",
   "id": "97baa604-356d-4475-adbd-2ff25c04a615",
   "metadata": {},
   "source": [
    "#### lapply"
   ]
  },
  {
   "cell_type": "code",
   "execution_count": 7,
   "id": "e9d0d5d8-e759-4646-b26a-23cdb2b8e58a",
   "metadata": {},
   "outputs": [],
   "source": [
    "valores <- 1:5\n",
    "resultado <- lapply(valores, doblar)"
   ]
  },
  {
   "cell_type": "code",
   "execution_count": 8,
   "id": "3c19e58c-8f3d-4125-ae0b-54393516c9fd",
   "metadata": {},
   "outputs": [
    {
     "data": {
      "text/html": [
       "'list'"
      ],
      "text/latex": [
       "'list'"
      ],
      "text/markdown": [
       "'list'"
      ],
      "text/plain": [
       "[1] \"list\""
      ]
     },
     "metadata": {},
     "output_type": "display_data"
    },
    {
     "data": {
      "text/html": [
       "<ol>\n",
       "\t<li>2</li>\n",
       "\t<li>4</li>\n",
       "\t<li>6</li>\n",
       "\t<li>8</li>\n",
       "\t<li>10</li>\n",
       "</ol>\n"
      ],
      "text/latex": [
       "\\begin{enumerate}\n",
       "\\item 2\n",
       "\\item 4\n",
       "\\item 6\n",
       "\\item 8\n",
       "\\item 10\n",
       "\\end{enumerate}\n"
      ],
      "text/markdown": [
       "1. 2\n",
       "2. 4\n",
       "3. 6\n",
       "4. 8\n",
       "5. 10\n",
       "\n",
       "\n"
      ],
      "text/plain": [
       "[[1]]\n",
       "[1] 2\n",
       "\n",
       "[[2]]\n",
       "[1] 4\n",
       "\n",
       "[[3]]\n",
       "[1] 6\n",
       "\n",
       "[[4]]\n",
       "[1] 8\n",
       "\n",
       "[[5]]\n",
       "[1] 10\n"
      ]
     },
     "metadata": {},
     "output_type": "display_data"
    }
   ],
   "source": [
    "class(resultado)\n",
    "resultado"
   ]
  },
  {
   "cell_type": "code",
   "execution_count": 9,
   "id": "ef31804b-fa85-49d0-a90a-411d75b104b7",
   "metadata": {},
   "outputs": [
    {
     "data": {
      "text/html": [
       "<style>\n",
       ".list-inline {list-style: none; margin:0; padding: 0}\n",
       ".list-inline>li {display: inline-block}\n",
       ".list-inline>li:not(:last-child)::after {content: \"\\00b7\"; padding: 0 .5ex}\n",
       "</style>\n",
       "<ol class=list-inline><li>'GAUSS:1777'</li><li>'BAYES:1702'</li><li>'PASCAL:1623'</li><li>'PEARSON:1857'</li></ol>\n"
      ],
      "text/latex": [
       "\\begin{enumerate*}\n",
       "\\item 'GAUSS:1777'\n",
       "\\item 'BAYES:1702'\n",
       "\\item 'PASCAL:1623'\n",
       "\\item 'PEARSON:1857'\n",
       "\\end{enumerate*}\n"
      ],
      "text/markdown": [
       "1. 'GAUSS:1777'\n",
       "2. 'BAYES:1702'\n",
       "3. 'PASCAL:1623'\n",
       "4. 'PEARSON:1857'\n",
       "\n",
       "\n"
      ],
      "text/plain": [
       "[1] \"GAUSS:1777\"   \"BAYES:1702\"   \"PASCAL:1623\"  \"PEARSON:1857\""
      ]
     },
     "metadata": {},
     "output_type": "display_data"
    }
   ],
   "source": [
    "friends = c(\"GAUSS:1777\", \"BAYES:1702\", \"PASCAL:1623\", \"PEARSON:1857\")\n",
    "friends"
   ]
  },
  {
   "cell_type": "code",
   "execution_count": 11,
   "id": "f2e5458c-e59a-443f-b2bd-1ea766803ee6",
   "metadata": {},
   "outputs": [
    {
     "data": {
      "text/html": [
       "<ol>\n",
       "\t<li><style>\n",
       ".list-inline {list-style: none; margin:0; padding: 0}\n",
       ".list-inline>li {display: inline-block}\n",
       ".list-inline>li:not(:last-child)::after {content: \"\\00b7\"; padding: 0 .5ex}\n",
       "</style>\n",
       "<ol class=list-inline><li>'GAUSS'</li><li>'1777'</li></ol>\n",
       "</li>\n",
       "\t<li><style>\n",
       ".list-inline {list-style: none; margin:0; padding: 0}\n",
       ".list-inline>li {display: inline-block}\n",
       ".list-inline>li:not(:last-child)::after {content: \"\\00b7\"; padding: 0 .5ex}\n",
       "</style>\n",
       "<ol class=list-inline><li>'BAYES'</li><li>'1702'</li></ol>\n",
       "</li>\n",
       "\t<li><style>\n",
       ".list-inline {list-style: none; margin:0; padding: 0}\n",
       ".list-inline>li {display: inline-block}\n",
       ".list-inline>li:not(:last-child)::after {content: \"\\00b7\"; padding: 0 .5ex}\n",
       "</style>\n",
       "<ol class=list-inline><li>'PASCAL'</li><li>'1623'</li></ol>\n",
       "</li>\n",
       "\t<li><style>\n",
       ".list-inline {list-style: none; margin:0; padding: 0}\n",
       ".list-inline>li {display: inline-block}\n",
       ".list-inline>li:not(:last-child)::after {content: \"\\00b7\"; padding: 0 .5ex}\n",
       "</style>\n",
       "<ol class=list-inline><li>'PEARSON'</li><li>'1857'</li></ol>\n",
       "</li>\n",
       "</ol>\n"
      ],
      "text/latex": [
       "\\begin{enumerate}\n",
       "\\item \\begin{enumerate*}\n",
       "\\item 'GAUSS'\n",
       "\\item '1777'\n",
       "\\end{enumerate*}\n",
       "\n",
       "\\item \\begin{enumerate*}\n",
       "\\item 'BAYES'\n",
       "\\item '1702'\n",
       "\\end{enumerate*}\n",
       "\n",
       "\\item \\begin{enumerate*}\n",
       "\\item 'PASCAL'\n",
       "\\item '1623'\n",
       "\\end{enumerate*}\n",
       "\n",
       "\\item \\begin{enumerate*}\n",
       "\\item 'PEARSON'\n",
       "\\item '1857'\n",
       "\\end{enumerate*}\n",
       "\n",
       "\\end{enumerate}\n"
      ],
      "text/markdown": [
       "1. 1. 'GAUSS'\n",
       "2. '1777'\n",
       "\n",
       "\n",
       "\n",
       "2. 1. 'BAYES'\n",
       "2. '1702'\n",
       "\n",
       "\n",
       "\n",
       "3. 1. 'PASCAL'\n",
       "2. '1623'\n",
       "\n",
       "\n",
       "\n",
       "4. 1. 'PEARSON'\n",
       "2. '1857'\n",
       "\n",
       "\n",
       "\n",
       "\n",
       "\n"
      ],
      "text/plain": [
       "[[1]]\n",
       "[1] \"GAUSS\" \"1777\" \n",
       "\n",
       "[[2]]\n",
       "[1] \"BAYES\" \"1702\" \n",
       "\n",
       "[[3]]\n",
       "[1] \"PASCAL\" \"1623\"  \n",
       "\n",
       "[[4]]\n",
       "[1] \"PEARSON\" \"1857\"   \n"
      ]
     },
     "metadata": {},
     "output_type": "display_data"
    }
   ],
   "source": [
    "math_friends <- strsplit(friends, split = \":\")\n",
    "math_friends"
   ]
  },
  {
   "cell_type": "code",
   "execution_count": 13,
   "id": "3fc5d362-da29-4fd8-91cd-b376075b41d7",
   "metadata": {},
   "outputs": [
    {
     "data": {
      "text/html": [
       "<ol>\n",
       "\t<li><style>\n",
       ".list-inline {list-style: none; margin:0; padding: 0}\n",
       ".list-inline>li {display: inline-block}\n",
       ".list-inline>li:not(:last-child)::after {content: \"\\00b7\"; padding: 0 .5ex}\n",
       "</style>\n",
       "<ol class=list-inline><li>'gauss'</li><li>'1777'</li></ol>\n",
       "</li>\n",
       "\t<li><style>\n",
       ".list-inline {list-style: none; margin:0; padding: 0}\n",
       ".list-inline>li {display: inline-block}\n",
       ".list-inline>li:not(:last-child)::after {content: \"\\00b7\"; padding: 0 .5ex}\n",
       "</style>\n",
       "<ol class=list-inline><li>'bayes'</li><li>'1702'</li></ol>\n",
       "</li>\n",
       "\t<li><style>\n",
       ".list-inline {list-style: none; margin:0; padding: 0}\n",
       ".list-inline>li {display: inline-block}\n",
       ".list-inline>li:not(:last-child)::after {content: \"\\00b7\"; padding: 0 .5ex}\n",
       "</style>\n",
       "<ol class=list-inline><li>'pascal'</li><li>'1623'</li></ol>\n",
       "</li>\n",
       "\t<li><style>\n",
       ".list-inline {list-style: none; margin:0; padding: 0}\n",
       ".list-inline>li {display: inline-block}\n",
       ".list-inline>li:not(:last-child)::after {content: \"\\00b7\"; padding: 0 .5ex}\n",
       "</style>\n",
       "<ol class=list-inline><li>'pearson'</li><li>'1857'</li></ol>\n",
       "</li>\n",
       "</ol>\n"
      ],
      "text/latex": [
       "\\begin{enumerate}\n",
       "\\item \\begin{enumerate*}\n",
       "\\item 'gauss'\n",
       "\\item '1777'\n",
       "\\end{enumerate*}\n",
       "\n",
       "\\item \\begin{enumerate*}\n",
       "\\item 'bayes'\n",
       "\\item '1702'\n",
       "\\end{enumerate*}\n",
       "\n",
       "\\item \\begin{enumerate*}\n",
       "\\item 'pascal'\n",
       "\\item '1623'\n",
       "\\end{enumerate*}\n",
       "\n",
       "\\item \\begin{enumerate*}\n",
       "\\item 'pearson'\n",
       "\\item '1857'\n",
       "\\end{enumerate*}\n",
       "\n",
       "\\end{enumerate}\n"
      ],
      "text/markdown": [
       "1. 1. 'gauss'\n",
       "2. '1777'\n",
       "\n",
       "\n",
       "\n",
       "2. 1. 'bayes'\n",
       "2. '1702'\n",
       "\n",
       "\n",
       "\n",
       "3. 1. 'pascal'\n",
       "2. '1623'\n",
       "\n",
       "\n",
       "\n",
       "4. 1. 'pearson'\n",
       "2. '1857'\n",
       "\n",
       "\n",
       "\n",
       "\n",
       "\n"
      ],
      "text/plain": [
       "[[1]]\n",
       "[1] \"gauss\" \"1777\" \n",
       "\n",
       "[[2]]\n",
       "[1] \"bayes\" \"1702\" \n",
       "\n",
       "[[3]]\n",
       "[1] \"pascal\" \"1623\"  \n",
       "\n",
       "[[4]]\n",
       "[1] \"pearson\" \"1857\"   \n"
      ]
     },
     "metadata": {},
     "output_type": "display_data"
    }
   ],
   "source": [
    "split_low <- lapply(math_friends, tolower)\n",
    "split_low"
   ]
  },
  {
   "cell_type": "code",
   "execution_count": 14,
   "id": "3b9dbfc6-729c-4080-b9bb-b9d412595865",
   "metadata": {},
   "outputs": [
    {
     "name": "stdout",
     "output_type": "stream",
     "text": [
      "List of 4\n",
      " $ : chr [1:2] \"gauss\" \"1777\"\n",
      " $ : chr [1:2] \"bayes\" \"1702\"\n",
      " $ : chr [1:2] \"pascal\" \"1623\"\n",
      " $ : chr [1:2] \"pearson\" \"1857\"\n"
     ]
    }
   ],
   "source": [
    "str(split_low)"
   ]
  },
  {
   "cell_type": "code",
   "execution_count": 15,
   "id": "3158a75a-041d-4aa7-810d-0740af67a5fc",
   "metadata": {},
   "outputs": [],
   "source": [
    "select_element <- function(x, index) {\n",
    "    x[index]\n",
    "}"
   ]
  },
  {
   "cell_type": "code",
   "execution_count": 17,
   "id": "0a656dbe-7121-48b7-8e49-d12fda2b94eb",
   "metadata": {},
   "outputs": [
    {
     "data": {
      "text/html": [
       "<ol>\n",
       "\t<li>'gauss'</li>\n",
       "\t<li>'bayes'</li>\n",
       "\t<li>'pascal'</li>\n",
       "\t<li>'pearson'</li>\n",
       "</ol>\n"
      ],
      "text/latex": [
       "\\begin{enumerate}\n",
       "\\item 'gauss'\n",
       "\\item 'bayes'\n",
       "\\item 'pascal'\n",
       "\\item 'pearson'\n",
       "\\end{enumerate}\n"
      ],
      "text/markdown": [
       "1. 'gauss'\n",
       "2. 'bayes'\n",
       "3. 'pascal'\n",
       "4. 'pearson'\n",
       "\n",
       "\n"
      ],
      "text/plain": [
       "[[1]]\n",
       "[1] \"gauss\"\n",
       "\n",
       "[[2]]\n",
       "[1] \"bayes\"\n",
       "\n",
       "[[3]]\n",
       "[1] \"pascal\"\n",
       "\n",
       "[[4]]\n",
       "[1] \"pearson\"\n"
      ]
     },
     "metadata": {},
     "output_type": "display_data"
    }
   ],
   "source": [
    "names <- lapply(split_low, select_element, index = 1)\n",
    "names"
   ]
  },
  {
   "cell_type": "markdown",
   "id": "156aef8c-777a-4658-8ec7-093745e2682e",
   "metadata": {},
   "source": [
    "#### Sapply"
   ]
  },
  {
   "cell_type": "code",
   "execution_count": 21,
   "id": "837ea1fd-3702-4220-91e2-5dfe5edbd472",
   "metadata": {},
   "outputs": [],
   "source": [
    "temp <- list(\n",
    "    c(3, 7, 9, 6, -1),\n",
    "    c(6, 9, 12, 13, 5),\n",
    "    c(4, 8, 3, -1, -3),\n",
    "    c(1, 4, -2, 2, 7)\n",
    ")"
   ]
  },
  {
   "cell_type": "code",
   "execution_count": 22,
   "id": "25a79ed7-30c7-4f86-8ba0-f58db1de44b0",
   "metadata": {},
   "outputs": [
    {
     "data": {
      "text/html": [
       "<ol>\n",
       "\t<li>-1</li>\n",
       "\t<li>5</li>\n",
       "\t<li>-3</li>\n",
       "\t<li>-2</li>\n",
       "</ol>\n"
      ],
      "text/latex": [
       "\\begin{enumerate}\n",
       "\\item -1\n",
       "\\item 5\n",
       "\\item -3\n",
       "\\item -2\n",
       "\\end{enumerate}\n"
      ],
      "text/markdown": [
       "1. -1\n",
       "2. 5\n",
       "3. -3\n",
       "4. -2\n",
       "\n",
       "\n"
      ],
      "text/plain": [
       "[[1]]\n",
       "[1] -1\n",
       "\n",
       "[[2]]\n",
       "[1] 5\n",
       "\n",
       "[[3]]\n",
       "[1] -3\n",
       "\n",
       "[[4]]\n",
       "[1] -2\n"
      ]
     },
     "metadata": {},
     "output_type": "display_data"
    }
   ],
   "source": [
    "lapply(temp, min) # Lista"
   ]
  },
  {
   "cell_type": "code",
   "execution_count": 23,
   "id": "d6946f35-ba66-457f-9708-e356db1cf2ba",
   "metadata": {},
   "outputs": [
    {
     "data": {
      "text/html": [
       "<style>\n",
       ".list-inline {list-style: none; margin:0; padding: 0}\n",
       ".list-inline>li {display: inline-block}\n",
       ".list-inline>li:not(:last-child)::after {content: \"\\00b7\"; padding: 0 .5ex}\n",
       "</style>\n",
       "<ol class=list-inline><li>-1</li><li>5</li><li>-3</li><li>-2</li></ol>\n"
      ],
      "text/latex": [
       "\\begin{enumerate*}\n",
       "\\item -1\n",
       "\\item 5\n",
       "\\item -3\n",
       "\\item -2\n",
       "\\end{enumerate*}\n"
      ],
      "text/markdown": [
       "1. -1\n",
       "2. 5\n",
       "3. -3\n",
       "4. -2\n",
       "\n",
       "\n"
      ],
      "text/plain": [
       "[1] -1  5 -3 -2"
      ]
     },
     "metadata": {},
     "output_type": "display_data"
    }
   ],
   "source": [
    "sapply(temp, min) # Vectores"
   ]
  },
  {
   "cell_type": "code",
   "execution_count": 26,
   "id": "527f368d-39ef-4cff-ade3-fd1e6aac2c66",
   "metadata": {},
   "outputs": [],
   "source": [
    "extrems <- function(x) {\n",
    "    c(min = min(x), max = max(x))\n",
    "}"
   ]
  },
  {
   "cell_type": "code",
   "execution_count": 27,
   "id": "2f395c03-b994-4aaa-904a-d8a8fca4d0ba",
   "metadata": {},
   "outputs": [
    {
     "data": {
      "text/html": [
       "<ol>\n",
       "\t<li><style>\n",
       ".dl-inline {width: auto; margin:0; padding: 0}\n",
       ".dl-inline>dt, .dl-inline>dd {float: none; width: auto; display: inline-block}\n",
       ".dl-inline>dt::after {content: \":\\0020\"; padding-right: .5ex}\n",
       ".dl-inline>dt:not(:first-of-type) {padding-left: .5ex}\n",
       "</style><dl class=dl-inline><dt>min</dt><dd>-1</dd><dt>max</dt><dd>9</dd></dl>\n",
       "</li>\n",
       "\t<li><style>\n",
       ".dl-inline {width: auto; margin:0; padding: 0}\n",
       ".dl-inline>dt, .dl-inline>dd {float: none; width: auto; display: inline-block}\n",
       ".dl-inline>dt::after {content: \":\\0020\"; padding-right: .5ex}\n",
       ".dl-inline>dt:not(:first-of-type) {padding-left: .5ex}\n",
       "</style><dl class=dl-inline><dt>min</dt><dd>5</dd><dt>max</dt><dd>13</dd></dl>\n",
       "</li>\n",
       "\t<li><style>\n",
       ".dl-inline {width: auto; margin:0; padding: 0}\n",
       ".dl-inline>dt, .dl-inline>dd {float: none; width: auto; display: inline-block}\n",
       ".dl-inline>dt::after {content: \":\\0020\"; padding-right: .5ex}\n",
       ".dl-inline>dt:not(:first-of-type) {padding-left: .5ex}\n",
       "</style><dl class=dl-inline><dt>min</dt><dd>-3</dd><dt>max</dt><dd>8</dd></dl>\n",
       "</li>\n",
       "\t<li><style>\n",
       ".dl-inline {width: auto; margin:0; padding: 0}\n",
       ".dl-inline>dt, .dl-inline>dd {float: none; width: auto; display: inline-block}\n",
       ".dl-inline>dt::after {content: \":\\0020\"; padding-right: .5ex}\n",
       ".dl-inline>dt:not(:first-of-type) {padding-left: .5ex}\n",
       "</style><dl class=dl-inline><dt>min</dt><dd>-2</dd><dt>max</dt><dd>7</dd></dl>\n",
       "</li>\n",
       "</ol>\n"
      ],
      "text/latex": [
       "\\begin{enumerate}\n",
       "\\item \\begin{description*}\n",
       "\\item[min] -1\n",
       "\\item[max] 9\n",
       "\\end{description*}\n",
       "\n",
       "\\item \\begin{description*}\n",
       "\\item[min] 5\n",
       "\\item[max] 13\n",
       "\\end{description*}\n",
       "\n",
       "\\item \\begin{description*}\n",
       "\\item[min] -3\n",
       "\\item[max] 8\n",
       "\\end{description*}\n",
       "\n",
       "\\item \\begin{description*}\n",
       "\\item[min] -2\n",
       "\\item[max] 7\n",
       "\\end{description*}\n",
       "\n",
       "\\end{enumerate}\n"
      ],
      "text/markdown": [
       "1. min\n",
       ":   -1max\n",
       ":   9\n",
       "\n",
       "\n",
       "2. min\n",
       ":   5max\n",
       ":   13\n",
       "\n",
       "\n",
       "3. min\n",
       ":   -3max\n",
       ":   8\n",
       "\n",
       "\n",
       "4. min\n",
       ":   -2max\n",
       ":   7\n",
       "\n",
       "\n",
       "\n",
       "\n"
      ],
      "text/plain": [
       "[[1]]\n",
       "min max \n",
       " -1   9 \n",
       "\n",
       "[[2]]\n",
       "min max \n",
       "  5  13 \n",
       "\n",
       "[[3]]\n",
       "min max \n",
       " -3   8 \n",
       "\n",
       "[[4]]\n",
       "min max \n",
       " -2   7 \n"
      ]
     },
     "metadata": {},
     "output_type": "display_data"
    }
   ],
   "source": [
    "lapply(temp, extrems)"
   ]
  },
  {
   "cell_type": "code",
   "execution_count": 28,
   "id": "e3070caa-b215-4971-a53a-9611d41f2912",
   "metadata": {},
   "outputs": [
    {
     "data": {
      "text/html": [
       "<table class=\"dataframe\">\n",
       "<caption>A matrix: 2 × 4 of type dbl</caption>\n",
       "<tbody>\n",
       "\t<tr><th scope=row>min</th><td>-1</td><td> 5</td><td>-3</td><td>-2</td></tr>\n",
       "\t<tr><th scope=row>max</th><td> 9</td><td>13</td><td> 8</td><td> 7</td></tr>\n",
       "</tbody>\n",
       "</table>\n"
      ],
      "text/latex": [
       "A matrix: 2 × 4 of type dbl\n",
       "\\begin{tabular}{r|llll}\n",
       "\tmin & -1 &  5 & -3 & -2\\\\\n",
       "\tmax &  9 & 13 &  8 &  7\\\\\n",
       "\\end{tabular}\n"
      ],
      "text/markdown": [
       "\n",
       "A matrix: 2 × 4 of type dbl\n",
       "\n",
       "| min | -1 |  5 | -3 | -2 |\n",
       "| max |  9 | 13 |  8 |  7 |\n",
       "\n"
      ],
      "text/plain": [
       "    [,1] [,2] [,3] [,4]\n",
       "min -1    5   -3   -2  \n",
       "max  9   13    8    7  "
      ]
     },
     "metadata": {},
     "output_type": "display_data"
    }
   ],
   "source": [
    "sapply(temp, extrems) # Matriz"
   ]
  },
  {
   "cell_type": "code",
   "execution_count": 29,
   "id": "3e84885f-16ef-4123-81f0-1355a5ef94f1",
   "metadata": {},
   "outputs": [],
   "source": [
    "below_zero <- function(x) {\n",
    "    return(x[x<0])\n",
    "}"
   ]
  },
  {
   "cell_type": "code",
   "execution_count": 30,
   "id": "89f98498-ab98-4e36-9173-51aa1710b488",
   "metadata": {},
   "outputs": [
    {
     "data": {
      "text/html": [
       "<ol>\n",
       "\t<li>-1</li>\n",
       "\t<li></li>\n",
       "\t<li><style>\n",
       ".list-inline {list-style: none; margin:0; padding: 0}\n",
       ".list-inline>li {display: inline-block}\n",
       ".list-inline>li:not(:last-child)::after {content: \"\\00b7\"; padding: 0 .5ex}\n",
       "</style>\n",
       "<ol class=list-inline><li>-1</li><li>-3</li></ol>\n",
       "</li>\n",
       "\t<li>-2</li>\n",
       "</ol>\n"
      ],
      "text/latex": [
       "\\begin{enumerate}\n",
       "\\item -1\n",
       "\\item \n",
       "\\item \\begin{enumerate*}\n",
       "\\item -1\n",
       "\\item -3\n",
       "\\end{enumerate*}\n",
       "\n",
       "\\item -2\n",
       "\\end{enumerate}\n"
      ],
      "text/markdown": [
       "1. -1\n",
       "2. \n",
       "3. 1. -1\n",
       "2. -3\n",
       "\n",
       "\n",
       "\n",
       "4. -2\n",
       "\n",
       "\n"
      ],
      "text/plain": [
       "[[1]]\n",
       "[1] -1\n",
       "\n",
       "[[2]]\n",
       "numeric(0)\n",
       "\n",
       "[[3]]\n",
       "[1] -1 -3\n",
       "\n",
       "[[4]]\n",
       "[1] -2\n"
      ]
     },
     "metadata": {},
     "output_type": "display_data"
    }
   ],
   "source": [
    "sapply(temp, below_zero) # Lista"
   ]
  },
  {
   "cell_type": "code",
   "execution_count": 31,
   "id": "ba995bf9-b1c7-4b47-bd59-ebf80e560370",
   "metadata": {},
   "outputs": [
    {
     "data": {
      "text/html": [
       "<ol>\n",
       "\t<li>-1</li>\n",
       "\t<li></li>\n",
       "\t<li><style>\n",
       ".list-inline {list-style: none; margin:0; padding: 0}\n",
       ".list-inline>li {display: inline-block}\n",
       ".list-inline>li:not(:last-child)::after {content: \"\\00b7\"; padding: 0 .5ex}\n",
       "</style>\n",
       "<ol class=list-inline><li>-1</li><li>-3</li></ol>\n",
       "</li>\n",
       "\t<li>-2</li>\n",
       "</ol>\n"
      ],
      "text/latex": [
       "\\begin{enumerate}\n",
       "\\item -1\n",
       "\\item \n",
       "\\item \\begin{enumerate*}\n",
       "\\item -1\n",
       "\\item -3\n",
       "\\end{enumerate*}\n",
       "\n",
       "\\item -2\n",
       "\\end{enumerate}\n"
      ],
      "text/markdown": [
       "1. -1\n",
       "2. \n",
       "3. 1. -1\n",
       "2. -3\n",
       "\n",
       "\n",
       "\n",
       "4. -2\n",
       "\n",
       "\n"
      ],
      "text/plain": [
       "[[1]]\n",
       "[1] -1\n",
       "\n",
       "[[2]]\n",
       "numeric(0)\n",
       "\n",
       "[[3]]\n",
       "[1] -1 -3\n",
       "\n",
       "[[4]]\n",
       "[1] -2\n"
      ]
     },
     "metadata": {},
     "output_type": "display_data"
    }
   ],
   "source": [
    "lapply(temp, below_zero)"
   ]
  },
  {
   "cell_type": "code",
   "execution_count": null,
   "id": "eef1622e-9d88-421c-9aca-a87e0d031fb3",
   "metadata": {},
   "outputs": [],
   "source": [
    "# Sapply buscará la estructura más simple posible"
   ]
  }
 ],
 "metadata": {
  "kernelspec": {
   "display_name": "R",
   "language": "R",
   "name": "ir"
  },
  "language_info": {
   "codemirror_mode": "r",
   "file_extension": ".r",
   "mimetype": "text/x-r-source",
   "name": "R",
   "pygments_lexer": "r",
   "version": "4.3.3"
  }
 },
 "nbformat": 4,
 "nbformat_minor": 5
}
