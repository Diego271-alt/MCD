{
 "cells": [
  {
   "cell_type": "code",
   "execution_count": 2,
   "id": "fe229415-b52b-465d-8691-625dc32d9ab1",
   "metadata": {},
   "outputs": [],
   "source": [
    "temp <- list(\n",
    "    c(3, 7, 9, 6, -1),\n",
    "    c(6, 9, 12, 13, 5),\n",
    "    c(4, 8, 3, -1, -3),\n",
    "    c(1, 4, -2, 2, 7)\n",
    ")"
   ]
  },
  {
   "cell_type": "code",
   "execution_count": 3,
   "id": "ad0f51b1-f8cd-423e-a489-6bcd9f4d832b",
   "metadata": {},
   "outputs": [],
   "source": [
    "print_info <- function(x) {\n",
    "    cat(\"Temperatura promedio es: \", mean(x), \"\\n\")\n",
    "}"
   ]
  },
  {
   "cell_type": "code",
   "execution_count": 5,
   "id": "afddaaf1-84bf-4f0f-b385-2fd34b840d9c",
   "metadata": {},
   "outputs": [
    {
     "name": "stdout",
     "output_type": "stream",
     "text": [
      "Temperatura promedio es:  4.8 \n",
      "Temperatura promedio es:  9 \n",
      "Temperatura promedio es:  2.2 \n",
      "Temperatura promedio es:  2.4 \n"
     ]
    },
    {
     "data": {
      "text/html": [
       "<ol>\n",
       "\t<li>NULL</li>\n",
       "\t<li>NULL</li>\n",
       "\t<li>NULL</li>\n",
       "\t<li>NULL</li>\n",
       "</ol>\n"
      ],
      "text/latex": [
       "\\begin{enumerate}\n",
       "\\item NULL\n",
       "\\item NULL\n",
       "\\item NULL\n",
       "\\item NULL\n",
       "\\end{enumerate}\n"
      ],
      "text/markdown": [
       "1. NULL\n",
       "2. NULL\n",
       "3. NULL\n",
       "4. NULL\n",
       "\n",
       "\n"
      ],
      "text/plain": [
       "[[1]]\n",
       "NULL\n",
       "\n",
       "[[2]]\n",
       "NULL\n",
       "\n",
       "[[3]]\n",
       "NULL\n",
       "\n",
       "[[4]]\n",
       "NULL\n"
      ]
     },
     "metadata": {},
     "output_type": "display_data"
    }
   ],
   "source": [
    "lapply(temp, print_info)"
   ]
  },
  {
   "cell_type": "code",
   "execution_count": 6,
   "id": "989769ee-095f-4f28-b57b-3f7afe75d1eb",
   "metadata": {},
   "outputs": [
    {
     "name": "stdout",
     "output_type": "stream",
     "text": [
      "Temperatura promedio es:  4.8 \n",
      "Temperatura promedio es:  9 \n",
      "Temperatura promedio es:  2.2 \n",
      "Temperatura promedio es:  2.4 \n"
     ]
    },
    {
     "data": {
      "text/html": [
       "<ol>\n",
       "\t<li>NULL</li>\n",
       "\t<li>NULL</li>\n",
       "\t<li>NULL</li>\n",
       "\t<li>NULL</li>\n",
       "</ol>\n"
      ],
      "text/latex": [
       "\\begin{enumerate}\n",
       "\\item NULL\n",
       "\\item NULL\n",
       "\\item NULL\n",
       "\\item NULL\n",
       "\\end{enumerate}\n"
      ],
      "text/markdown": [
       "1. NULL\n",
       "2. NULL\n",
       "3. NULL\n",
       "4. NULL\n",
       "\n",
       "\n"
      ],
      "text/plain": [
       "[[1]]\n",
       "NULL\n",
       "\n",
       "[[2]]\n",
       "NULL\n",
       "\n",
       "[[3]]\n",
       "NULL\n",
       "\n",
       "[[4]]\n",
       "NULL\n"
      ]
     },
     "metadata": {},
     "output_type": "display_data"
    }
   ],
   "source": [
    "sapply(temp, print_info)"
   ]
  },
  {
   "cell_type": "markdown",
   "id": "65d95850-acbf-444e-b82c-baa05d70338b",
   "metadata": {},
   "source": [
    "#### vapply"
   ]
  },
  {
   "cell_type": "code",
   "execution_count": 7,
   "id": "d58b7529-b4a2-4fb1-bd23-9dca15e43798",
   "metadata": {},
   "outputs": [],
   "source": [
    "basics <- function(x) {\n",
    "    c(min = min(x), max = max(x), mean = mean(x))\n",
    "}"
   ]
  },
  {
   "cell_type": "code",
   "execution_count": 10,
   "id": "714a4bb3-afbf-445b-802c-bc8e746fe767",
   "metadata": {},
   "outputs": [
    {
     "data": {
      "text/html": [
       "<table class=\"dataframe\">\n",
       "<caption>A matrix: 3 × 4 of type dbl</caption>\n",
       "<tbody>\n",
       "\t<tr><th scope=row>min</th><td>-1.0</td><td> 5</td><td>-3.0</td><td>-2.0</td></tr>\n",
       "\t<tr><th scope=row>max</th><td> 9.0</td><td>13</td><td> 8.0</td><td> 7.0</td></tr>\n",
       "\t<tr><th scope=row>mean</th><td> 4.8</td><td> 9</td><td> 2.2</td><td> 2.4</td></tr>\n",
       "</tbody>\n",
       "</table>\n"
      ],
      "text/latex": [
       "A matrix: 3 × 4 of type dbl\n",
       "\\begin{tabular}{r|llll}\n",
       "\tmin & -1.0 &  5 & -3.0 & -2.0\\\\\n",
       "\tmax &  9.0 & 13 &  8.0 &  7.0\\\\\n",
       "\tmean &  4.8 &  9 &  2.2 &  2.4\\\\\n",
       "\\end{tabular}\n"
      ],
      "text/markdown": [
       "\n",
       "A matrix: 3 × 4 of type dbl\n",
       "\n",
       "| min | -1.0 |  5 | -3.0 | -2.0 |\n",
       "| max |  9.0 | 13 |  8.0 |  7.0 |\n",
       "| mean |  4.8 |  9 |  2.2 |  2.4 |\n",
       "\n"
      ],
      "text/plain": [
       "     [,1] [,2] [,3] [,4]\n",
       "min  -1.0  5   -3.0 -2.0\n",
       "max   9.0 13    8.0  7.0\n",
       "mean  4.8  9    2.2  2.4"
      ]
     },
     "metadata": {},
     "output_type": "display_data"
    }
   ],
   "source": [
    "vapply(temp, basics, numeric(3) ) # Permite especificar el tipo de dato esperado [dar \"formato\"]"
   ]
  },
  {
   "cell_type": "code",
   "execution_count": 11,
   "id": "8d34bea7-c7f9-48fd-84ad-3955c9796d01",
   "metadata": {},
   "outputs": [
    {
     "data": {
      "text/html": [
       "<style>\n",
       ".list-inline {list-style: none; margin:0; padding: 0}\n",
       ".list-inline>li {display: inline-block}\n",
       ".list-inline>li:not(:last-child)::after {content: \"\\00b7\"; padding: 0 .5ex}\n",
       "</style>\n",
       "<ol class=list-inline><li>FALSE</li><li>TRUE</li><li>FALSE</li><li>FALSE</li></ol>\n"
      ],
      "text/latex": [
       "\\begin{enumerate*}\n",
       "\\item FALSE\n",
       "\\item TRUE\n",
       "\\item FALSE\n",
       "\\item FALSE\n",
       "\\end{enumerate*}\n"
      ],
      "text/markdown": [
       "1. FALSE\n",
       "2. TRUE\n",
       "3. FALSE\n",
       "4. FALSE\n",
       "\n",
       "\n"
      ],
      "text/plain": [
       "[1] FALSE  TRUE FALSE FALSE"
      ]
     },
     "metadata": {},
     "output_type": "display_data"
    }
   ],
   "source": [
    "vapply(temp, function(x, y) {mean(x) > y}, y = 5, logical(1))"
   ]
  },
  {
   "cell_type": "code",
   "execution_count": 12,
   "id": "d2203569-9c3c-4a23-b483-831dcd1be94e",
   "metadata": {},
   "outputs": [
    {
     "ename": "ERROR",
     "evalue": "Error in vapply(temp, function(x, y) {: values must be length 2,\n but FUN(X[[1]]) result is length 1\n",
     "output_type": "error",
     "traceback": [
      "Error in vapply(temp, function(x, y) {: values must be length 2,\n but FUN(X[[1]]) result is length 1\nTraceback:\n",
      "1. .handleSimpleError(function (cnd) \n . {\n .     watcher$capture_plot_and_output()\n .     cnd <- sanitize_call(cnd)\n .     watcher$push(cnd)\n .     switch(on_error, continue = invokeRestart(\"eval_continue\"), \n .         stop = invokeRestart(\"eval_stop\"), error = NULL)\n . }, \"values must be length 2,\\n but FUN(X[[1]]) result is length 1\", \n .     base::quote(vapply(temp, function(x, y) {\n .         mean(x) > y\n .     }, y = 5, logical(2))))"
     ]
    }
   ],
   "source": [
    "vapply(temp, function(x, y) {mean(x) > y}, y = 5, logical(2)) # En caso de que no se devuelva lo indicado, falla"
   ]
  },
  {
   "cell_type": "code",
   "execution_count": null,
   "id": "d5cb660e-c80a-4b38-aafc-5dfa3ca7ae4a",
   "metadata": {},
   "outputs": [],
   "source": []
  }
 ],
 "metadata": {
  "kernelspec": {
   "display_name": "R",
   "language": "R",
   "name": "ir"
  },
  "language_info": {
   "codemirror_mode": "r",
   "file_extension": ".r",
   "mimetype": "text/x-r-source",
   "name": "R",
   "pygments_lexer": "r",
   "version": "4.3.3"
  }
 },
 "nbformat": 4,
 "nbformat_minor": 5
}
