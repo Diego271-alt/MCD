{
 "cells": [
  {
   "cell_type": "markdown",
   "id": "0d87486a-603f-478c-b239-9f7de7538fc8",
   "metadata": {},
   "source": [
    "#### grepl"
   ]
  },
  {
   "cell_type": "code",
   "execution_count": 6,
   "id": "04305046-f2e7-43d1-8999-b17a8e9333e7",
   "metadata": {},
   "outputs": [],
   "source": [
    "emails <- c(\n",
    "    \"john.dan@utm.mx\", \"christian.millan@oaxaca.gov\",\n",
    "    \"dalia.ortega@peace.org\", \"invalid.edu\",\n",
    "    \"carlos@utm.edu\", \"web.master@foto.tv\"\n",
    ")"
   ]
  },
  {
   "cell_type": "code",
   "execution_count": 9,
   "id": "824914be-8834-482b-b7ea-8b409c484b11",
   "metadata": {},
   "outputs": [],
   "source": [
    "boolean_mask <- grepl(pattern = \"edu\", x = emails)"
   ]
  },
  {
   "cell_type": "code",
   "execution_count": 10,
   "id": "5d42c4b3-e2c3-450d-a463-54fdb54d9680",
   "metadata": {},
   "outputs": [
    {
     "data": {
      "text/html": [
       "<style>\n",
       ".list-inline {list-style: none; margin:0; padding: 0}\n",
       ".list-inline>li {display: inline-block}\n",
       ".list-inline>li:not(:last-child)::after {content: \"\\00b7\"; padding: 0 .5ex}\n",
       "</style>\n",
       "<ol class=list-inline><li>'invalid.edu'</li><li>'carlos@utm.edu'</li></ol>\n"
      ],
      "text/latex": [
       "\\begin{enumerate*}\n",
       "\\item 'invalid.edu'\n",
       "\\item 'carlos@utm.edu'\n",
       "\\end{enumerate*}\n"
      ],
      "text/markdown": [
       "1. 'invalid.edu'\n",
       "2. 'carlos@utm.edu'\n",
       "\n",
       "\n"
      ],
      "text/plain": [
       "[1] \"invalid.edu\"    \"carlos@utm.edu\""
      ]
     },
     "metadata": {},
     "output_type": "display_data"
    }
   ],
   "source": [
    "emails[boolean_mask]"
   ]
  },
  {
   "cell_type": "code",
   "execution_count": 13,
   "id": "02013772-6783-4d92-aaff-09c0682df4ee",
   "metadata": {},
   "outputs": [
    {
     "data": {
      "text/html": [
       "'carlos@utm.edu'"
      ],
      "text/latex": [
       "'carlos@utm.edu'"
      ],
      "text/markdown": [
       "'carlos@utm.edu'"
      ],
      "text/plain": [
       "[1] \"carlos@utm.edu\""
      ]
     },
     "metadata": {},
     "output_type": "display_data"
    }
   ],
   "source": [
    "emails[grepl(pattern = \"@.*\\\\.edu$\", x = emails)]"
   ]
  },
  {
   "cell_type": "markdown",
   "id": "bc1e5c50-01f1-414a-a4c0-4d192827020a",
   "metadata": {},
   "source": [
    "#### Sub"
   ]
  },
  {
   "cell_type": "code",
   "execution_count": 16,
   "id": "fea380d3-7f4f-41e1-97b9-547a0b3fdea9",
   "metadata": {},
   "outputs": [
    {
     "data": {
      "text/html": [
       "<style>\n",
       ".list-inline {list-style: none; margin:0; padding: 0}\n",
       ".list-inline>li {display: inline-block}\n",
       ".list-inline>li:not(:last-child)::after {content: \"\\00b7\"; padding: 0 .5ex}\n",
       "</style>\n",
       "<ol class=list-inline><li>'john.dan@utm.mx'</li><li>'christian.millan@oaxaca.gov'</li><li>'dalia.ortega@peace.org'</li><li>'invalid.edu'</li><li>'carlos@gs.utm.mx'</li><li>'web.master@foto.tv'</li></ol>\n"
      ],
      "text/latex": [
       "\\begin{enumerate*}\n",
       "\\item 'john.dan@utm.mx'\n",
       "\\item 'christian.millan@oaxaca.gov'\n",
       "\\item 'dalia.ortega@peace.org'\n",
       "\\item 'invalid.edu'\n",
       "\\item 'carlos@gs.utm.mx'\n",
       "\\item 'web.master@foto.tv'\n",
       "\\end{enumerate*}\n"
      ],
      "text/markdown": [
       "1. 'john.dan@utm.mx'\n",
       "2. 'christian.millan@oaxaca.gov'\n",
       "3. 'dalia.ortega@peace.org'\n",
       "4. 'invalid.edu'\n",
       "5. 'carlos@gs.utm.mx'\n",
       "6. 'web.master@foto.tv'\n",
       "\n",
       "\n"
      ],
      "text/plain": [
       "[1] \"john.dan@utm.mx\"             \"christian.millan@oaxaca.gov\"\n",
       "[3] \"dalia.ortega@peace.org\"      \"invalid.edu\"                \n",
       "[5] \"carlos@gs.utm.mx\"            \"web.master@foto.tv\"         "
      ]
     },
     "metadata": {},
     "output_type": "display_data"
    }
   ],
   "source": [
    "sub(pattern = \"@.*\\\\.edu$\", replacement = \"@gs.utm.mx\", x = emails)"
   ]
  },
  {
   "cell_type": "code",
   "execution_count": null,
   "id": "3e8afa85-6196-4eac-9245-3494ef6b70e4",
   "metadata": {},
   "outputs": [],
   "source": []
  }
 ],
 "metadata": {
  "kernelspec": {
   "display_name": "R",
   "language": "R",
   "name": "ir"
  },
  "language_info": {
   "codemirror_mode": "r",
   "file_extension": ".r",
   "mimetype": "text/x-r-source",
   "name": "R",
   "pygments_lexer": "r",
   "version": "4.3.3"
  }
 },
 "nbformat": 4,
 "nbformat_minor": 5
}
