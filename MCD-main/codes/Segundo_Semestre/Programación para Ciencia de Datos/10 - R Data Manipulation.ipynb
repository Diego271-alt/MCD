{
 "cells": [
  {
   "cell_type": "code",
   "execution_count": 2,
   "id": "cbc7fb1a",
   "metadata": {
    "vscode": {
     "languageId": "r"
    }
   },
   "outputs": [],
   "source": [
    "# install.packages(\"dplyr\")\n",
    "# install.packages(\"ggplot2\")\n",
    "library(dplyr)\n",
    "library(ggplot2)"
   ]
  },
  {
   "cell_type": "code",
   "execution_count": 5,
   "id": "0a483cd4",
   "metadata": {
    "vscode": {
     "languageId": "r"
    }
   },
   "outputs": [],
   "source": [
    "countries <- readRDS(\"data/counties.rds\")"
   ]
  },
  {
   "cell_type": "code",
   "execution_count": 7,
   "id": "4373707b",
   "metadata": {
    "vscode": {
     "languageId": "r"
    }
   },
   "outputs": [
    {
     "data": {
      "text/html": [
       "<table class=\"dataframe\">\n",
       "<caption>A spec_tbl_df: 3 × 40</caption>\n",
       "<thead>\n",
       "\t<tr><th scope=col>census_id</th><th scope=col>state</th><th scope=col>county</th><th scope=col>region</th><th scope=col>metro</th><th scope=col>population</th><th scope=col>men</th><th scope=col>women</th><th scope=col>hispanic</th><th scope=col>white</th><th scope=col>⋯</th><th scope=col>other_transp</th><th scope=col>work_at_home</th><th scope=col>mean_commute</th><th scope=col>employed</th><th scope=col>private_work</th><th scope=col>public_work</th><th scope=col>self_employed</th><th scope=col>family_work</th><th scope=col>unemployment</th><th scope=col>land_area</th></tr>\n",
       "\t<tr><th scope=col>&lt;chr&gt;</th><th scope=col>&lt;chr&gt;</th><th scope=col>&lt;chr&gt;</th><th scope=col>&lt;chr&gt;</th><th scope=col>&lt;chr&gt;</th><th scope=col>&lt;dbl&gt;</th><th scope=col>&lt;dbl&gt;</th><th scope=col>&lt;dbl&gt;</th><th scope=col>&lt;dbl&gt;</th><th scope=col>&lt;dbl&gt;</th><th scope=col>⋯</th><th scope=col>&lt;dbl&gt;</th><th scope=col>&lt;dbl&gt;</th><th scope=col>&lt;dbl&gt;</th><th scope=col>&lt;dbl&gt;</th><th scope=col>&lt;dbl&gt;</th><th scope=col>&lt;dbl&gt;</th><th scope=col>&lt;dbl&gt;</th><th scope=col>&lt;dbl&gt;</th><th scope=col>&lt;dbl&gt;</th><th scope=col>&lt;dbl&gt;</th></tr>\n",
       "</thead>\n",
       "<tbody>\n",
       "\t<tr><td>1001</td><td>Alabama</td><td>Autauga</td><td>South</td><td>Metro   </td><td> 55221</td><td>26745</td><td>28476</td><td>2.6</td><td>75.8</td><td>⋯</td><td>1.3</td><td>1.8</td><td>26.5</td><td>23986</td><td>73.6</td><td>20.9</td><td>5.5</td><td>0.0</td><td> 7.6</td><td> 594.44</td></tr>\n",
       "\t<tr><td>1003</td><td>Alabama</td><td>Baldwin</td><td>South</td><td>Metro   </td><td>195121</td><td>95314</td><td>99807</td><td>4.5</td><td>83.1</td><td>⋯</td><td>1.4</td><td>3.9</td><td>26.4</td><td>85953</td><td>81.5</td><td>12.3</td><td>5.8</td><td>0.4</td><td> 7.5</td><td>1589.78</td></tr>\n",
       "\t<tr><td>1005</td><td>Alabama</td><td>Barbour</td><td>South</td><td>Nonmetro</td><td> 26932</td><td>14497</td><td>12435</td><td>4.6</td><td>46.2</td><td>⋯</td><td>1.5</td><td>1.6</td><td>24.1</td><td> 8597</td><td>71.8</td><td>20.8</td><td>7.3</td><td>0.1</td><td>17.6</td><td> 884.88</td></tr>\n",
       "</tbody>\n",
       "</table>\n"
      ],
      "text/latex": [
       "A spec\\_tbl\\_df: 3 × 40\n",
       "\\begin{tabular}{lllllllllllllllllllll}\n",
       " census\\_id & state & county & region & metro & population & men & women & hispanic & white & ⋯ & other\\_transp & work\\_at\\_home & mean\\_commute & employed & private\\_work & public\\_work & self\\_employed & family\\_work & unemployment & land\\_area\\\\\n",
       " <chr> & <chr> & <chr> & <chr> & <chr> & <dbl> & <dbl> & <dbl> & <dbl> & <dbl> & ⋯ & <dbl> & <dbl> & <dbl> & <dbl> & <dbl> & <dbl> & <dbl> & <dbl> & <dbl> & <dbl>\\\\\n",
       "\\hline\n",
       "\t 1001 & Alabama & Autauga & South & Metro    &  55221 & 26745 & 28476 & 2.6 & 75.8 & ⋯ & 1.3 & 1.8 & 26.5 & 23986 & 73.6 & 20.9 & 5.5 & 0.0 &  7.6 &  594.44\\\\\n",
       "\t 1003 & Alabama & Baldwin & South & Metro    & 195121 & 95314 & 99807 & 4.5 & 83.1 & ⋯ & 1.4 & 3.9 & 26.4 & 85953 & 81.5 & 12.3 & 5.8 & 0.4 &  7.5 & 1589.78\\\\\n",
       "\t 1005 & Alabama & Barbour & South & Nonmetro &  26932 & 14497 & 12435 & 4.6 & 46.2 & ⋯ & 1.5 & 1.6 & 24.1 &  8597 & 71.8 & 20.8 & 7.3 & 0.1 & 17.6 &  884.88\\\\\n",
       "\\end{tabular}\n"
      ],
      "text/markdown": [
       "\n",
       "A spec_tbl_df: 3 × 40\n",
       "\n",
       "| census_id &lt;chr&gt; | state &lt;chr&gt; | county &lt;chr&gt; | region &lt;chr&gt; | metro &lt;chr&gt; | population &lt;dbl&gt; | men &lt;dbl&gt; | women &lt;dbl&gt; | hispanic &lt;dbl&gt; | white &lt;dbl&gt; | ⋯ ⋯ | other_transp &lt;dbl&gt; | work_at_home &lt;dbl&gt; | mean_commute &lt;dbl&gt; | employed &lt;dbl&gt; | private_work &lt;dbl&gt; | public_work &lt;dbl&gt; | self_employed &lt;dbl&gt; | family_work &lt;dbl&gt; | unemployment &lt;dbl&gt; | land_area &lt;dbl&gt; |\n",
       "|---|---|---|---|---|---|---|---|---|---|---|---|---|---|---|---|---|---|---|---|---|\n",
       "| 1001 | Alabama | Autauga | South | Metro    |  55221 | 26745 | 28476 | 2.6 | 75.8 | ⋯ | 1.3 | 1.8 | 26.5 | 23986 | 73.6 | 20.9 | 5.5 | 0.0 |  7.6 |  594.44 |\n",
       "| 1003 | Alabama | Baldwin | South | Metro    | 195121 | 95314 | 99807 | 4.5 | 83.1 | ⋯ | 1.4 | 3.9 | 26.4 | 85953 | 81.5 | 12.3 | 5.8 | 0.4 |  7.5 | 1589.78 |\n",
       "| 1005 | Alabama | Barbour | South | Nonmetro |  26932 | 14497 | 12435 | 4.6 | 46.2 | ⋯ | 1.5 | 1.6 | 24.1 |  8597 | 71.8 | 20.8 | 7.3 | 0.1 | 17.6 |  884.88 |\n",
       "\n"
      ],
      "text/plain": [
       "  census_id state   county  region metro    population men   women hispanic\n",
       "1 1001      Alabama Autauga South  Metro     55221     26745 28476 2.6     \n",
       "2 1003      Alabama Baldwin South  Metro    195121     95314 99807 4.5     \n",
       "3 1005      Alabama Barbour South  Nonmetro  26932     14497 12435 4.6     \n",
       "  white ⋯ other_transp work_at_home mean_commute employed private_work\n",
       "1 75.8  ⋯ 1.3          1.8          26.5         23986    73.6        \n",
       "2 83.1  ⋯ 1.4          3.9          26.4         85953    81.5        \n",
       "3 46.2  ⋯ 1.5          1.6          24.1          8597    71.8        \n",
       "  public_work self_employed family_work unemployment land_area\n",
       "1 20.9        5.5           0.0          7.6          594.44  \n",
       "2 12.3        5.8           0.4          7.5         1589.78  \n",
       "3 20.8        7.3           0.1         17.6          884.88  "
      ]
     },
     "metadata": {},
     "output_type": "display_data"
    }
   ],
   "source": [
    "head(countries, 3)"
   ]
  },
  {
   "cell_type": "code",
   "execution_count": 8,
   "id": "5d9123d6",
   "metadata": {
    "vscode": {
     "languageId": "r"
    }
   },
   "outputs": [
    {
     "name": "stdout",
     "output_type": "stream",
     "text": [
      "Rows: 3,138\n",
      "Columns: 40\n",
      "$ census_id          \u001b[3m\u001b[90m<chr>\u001b[39m\u001b[23m \"1001\"\u001b[90m, \u001b[39m\"1003\"\u001b[90m, \u001b[39m\"1005\"\u001b[90m, \u001b[39m\"1007\"\u001b[90m, \u001b[39m\"1009\"\u001b[90m, \u001b[39m\"1011\"\u001b[90m, \u001b[39m\"10…\n",
      "$ state              \u001b[3m\u001b[90m<chr>\u001b[39m\u001b[23m \"Alabama\"\u001b[90m, \u001b[39m\"Alabama\"\u001b[90m, \u001b[39m\"Alabama\"\u001b[90m, \u001b[39m\"Alabama\"\u001b[90m, \u001b[39m\"Alabam…\n",
      "$ county             \u001b[3m\u001b[90m<chr>\u001b[39m\u001b[23m \"Autauga\"\u001b[90m, \u001b[39m\"Baldwin\"\u001b[90m, \u001b[39m\"Barbour\"\u001b[90m, \u001b[39m\"Bibb\"\u001b[90m, \u001b[39m\"Blount\"\u001b[90m, \u001b[39m…\n",
      "$ region             \u001b[3m\u001b[90m<chr>\u001b[39m\u001b[23m \"South\"\u001b[90m, \u001b[39m\"South\"\u001b[90m, \u001b[39m\"South\"\u001b[90m, \u001b[39m\"South\"\u001b[90m, \u001b[39m\"South\"\u001b[90m, \u001b[39m\"South…\n",
      "$ metro              \u001b[3m\u001b[90m<chr>\u001b[39m\u001b[23m \"Metro\"\u001b[90m, \u001b[39m\"Metro\"\u001b[90m, \u001b[39m\"Nonmetro\"\u001b[90m, \u001b[39m\"Metro\"\u001b[90m, \u001b[39m\"Metro\"\u001b[90m, \u001b[39m\"No…\n",
      "$ population         \u001b[3m\u001b[90m<dbl>\u001b[39m\u001b[23m 55221\u001b[90m, \u001b[39m195121\u001b[90m, \u001b[39m26932\u001b[90m, \u001b[39m22604\u001b[90m, \u001b[39m57710\u001b[90m, \u001b[39m10678\u001b[90m, \u001b[39m20354\u001b[90m, \u001b[39m1…\n",
      "$ men                \u001b[3m\u001b[90m<dbl>\u001b[39m\u001b[23m 26745\u001b[90m, \u001b[39m95314\u001b[90m, \u001b[39m14497\u001b[90m, \u001b[39m12073\u001b[90m, \u001b[39m28512\u001b[90m, \u001b[39m5660\u001b[90m, \u001b[39m9502\u001b[90m, \u001b[39m5627…\n",
      "$ women              \u001b[3m\u001b[90m<dbl>\u001b[39m\u001b[23m 28476\u001b[90m, \u001b[39m99807\u001b[90m, \u001b[39m12435\u001b[90m, \u001b[39m10531\u001b[90m, \u001b[39m29198\u001b[90m, \u001b[39m5018\u001b[90m, \u001b[39m10852\u001b[90m, \u001b[39m603…\n",
      "$ hispanic           \u001b[3m\u001b[90m<dbl>\u001b[39m\u001b[23m 2.6\u001b[90m, \u001b[39m4.5\u001b[90m, \u001b[39m4.6\u001b[90m, \u001b[39m2.2\u001b[90m, \u001b[39m8.6\u001b[90m, \u001b[39m4.4\u001b[90m, \u001b[39m1.2\u001b[90m, \u001b[39m3.5\u001b[90m, \u001b[39m0.4\u001b[90m, \u001b[39m1.5\u001b[90m, \u001b[39m7…\n",
      "$ white              \u001b[3m\u001b[90m<dbl>\u001b[39m\u001b[23m 75.8\u001b[90m, \u001b[39m83.1\u001b[90m, \u001b[39m46.2\u001b[90m, \u001b[39m74.5\u001b[90m, \u001b[39m87.9\u001b[90m, \u001b[39m22.2\u001b[90m, \u001b[39m53.3\u001b[90m, \u001b[39m73.0\u001b[90m, \u001b[39m57.…\n",
      "$ black              \u001b[3m\u001b[90m<dbl>\u001b[39m\u001b[23m 18.5\u001b[90m, \u001b[39m9.5\u001b[90m, \u001b[39m46.7\u001b[90m, \u001b[39m21.4\u001b[90m, \u001b[39m1.5\u001b[90m, \u001b[39m70.7\u001b[90m, \u001b[39m43.8\u001b[90m, \u001b[39m20.3\u001b[90m, \u001b[39m40.3\u001b[90m,\u001b[39m…\n",
      "$ native             \u001b[3m\u001b[90m<dbl>\u001b[39m\u001b[23m 0.4\u001b[90m, \u001b[39m0.6\u001b[90m, \u001b[39m0.2\u001b[90m, \u001b[39m0.4\u001b[90m, \u001b[39m0.3\u001b[90m, \u001b[39m1.2\u001b[90m, \u001b[39m0.1\u001b[90m, \u001b[39m0.2\u001b[90m, \u001b[39m0.2\u001b[90m, \u001b[39m0.6\u001b[90m, \u001b[39m0…\n",
      "$ asian              \u001b[3m\u001b[90m<dbl>\u001b[39m\u001b[23m 1.0\u001b[90m, \u001b[39m0.7\u001b[90m, \u001b[39m0.4\u001b[90m, \u001b[39m0.1\u001b[90m, \u001b[39m0.1\u001b[90m, \u001b[39m0.2\u001b[90m, \u001b[39m0.4\u001b[90m, \u001b[39m0.9\u001b[90m, \u001b[39m0.8\u001b[90m, \u001b[39m0.3\u001b[90m, \u001b[39m0…\n",
      "$ pacific            \u001b[3m\u001b[90m<dbl>\u001b[39m\u001b[23m 0.0\u001b[90m, \u001b[39m0.0\u001b[90m, \u001b[39m0.0\u001b[90m, \u001b[39m0.0\u001b[90m, \u001b[39m0.0\u001b[90m, \u001b[39m0.0\u001b[90m, \u001b[39m0.0\u001b[90m, \u001b[39m0.0\u001b[90m, \u001b[39m0.0\u001b[90m, \u001b[39m0.0\u001b[90m, \u001b[39m0…\n",
      "$ citizens           \u001b[3m\u001b[90m<dbl>\u001b[39m\u001b[23m 40725\u001b[90m, \u001b[39m147695\u001b[90m, \u001b[39m20714\u001b[90m, \u001b[39m17495\u001b[90m, \u001b[39m42345\u001b[90m, \u001b[39m8057\u001b[90m, \u001b[39m15581\u001b[90m, \u001b[39m88…\n",
      "$ income             \u001b[3m\u001b[90m<dbl>\u001b[39m\u001b[23m 51281\u001b[90m, \u001b[39m50254\u001b[90m, \u001b[39m32964\u001b[90m, \u001b[39m38678\u001b[90m, \u001b[39m45813\u001b[90m, \u001b[39m31938\u001b[90m, \u001b[39m32229\u001b[90m, \u001b[39m41…\n",
      "$ income_err         \u001b[3m\u001b[90m<dbl>\u001b[39m\u001b[23m 2391\u001b[90m, \u001b[39m1263\u001b[90m, \u001b[39m2973\u001b[90m, \u001b[39m3995\u001b[90m, \u001b[39m3141\u001b[90m, \u001b[39m5884\u001b[90m, \u001b[39m1793\u001b[90m, \u001b[39m925\u001b[90m, \u001b[39m2949…\n",
      "$ income_per_cap     \u001b[3m\u001b[90m<dbl>\u001b[39m\u001b[23m 24974\u001b[90m, \u001b[39m27317\u001b[90m, \u001b[39m16824\u001b[90m, \u001b[39m18431\u001b[90m, \u001b[39m20532\u001b[90m, \u001b[39m17580\u001b[90m, \u001b[39m18390\u001b[90m, \u001b[39m21…\n",
      "$ income_per_cap_err \u001b[3m\u001b[90m<dbl>\u001b[39m\u001b[23m 1080\u001b[90m, \u001b[39m711\u001b[90m, \u001b[39m798\u001b[90m, \u001b[39m1618\u001b[90m, \u001b[39m708\u001b[90m, \u001b[39m2055\u001b[90m, \u001b[39m714\u001b[90m, \u001b[39m489\u001b[90m, \u001b[39m1366\u001b[90m, \u001b[39m15…\n",
      "$ poverty            \u001b[3m\u001b[90m<dbl>\u001b[39m\u001b[23m 12.9\u001b[90m, \u001b[39m13.4\u001b[90m, \u001b[39m26.7\u001b[90m, \u001b[39m16.8\u001b[90m, \u001b[39m16.7\u001b[90m, \u001b[39m24.6\u001b[90m, \u001b[39m25.4\u001b[90m, \u001b[39m20.5\u001b[90m, \u001b[39m21.…\n",
      "$ child_poverty      \u001b[3m\u001b[90m<dbl>\u001b[39m\u001b[23m 18.6\u001b[90m, \u001b[39m19.2\u001b[90m, \u001b[39m45.3\u001b[90m, \u001b[39m27.9\u001b[90m, \u001b[39m27.2\u001b[90m, \u001b[39m38.4\u001b[90m, \u001b[39m39.2\u001b[90m, \u001b[39m31.6\u001b[90m, \u001b[39m37.…\n",
      "$ professional       \u001b[3m\u001b[90m<dbl>\u001b[39m\u001b[23m 33.2\u001b[90m, \u001b[39m33.1\u001b[90m, \u001b[39m26.8\u001b[90m, \u001b[39m21.5\u001b[90m, \u001b[39m28.5\u001b[90m, \u001b[39m18.8\u001b[90m, \u001b[39m27.5\u001b[90m, \u001b[39m27.3\u001b[90m, \u001b[39m23.…\n",
      "$ service            \u001b[3m\u001b[90m<dbl>\u001b[39m\u001b[23m 17.0\u001b[90m, \u001b[39m17.7\u001b[90m, \u001b[39m16.1\u001b[90m, \u001b[39m17.9\u001b[90m, \u001b[39m14.1\u001b[90m, \u001b[39m15.0\u001b[90m, \u001b[39m16.6\u001b[90m, \u001b[39m17.7\u001b[90m, \u001b[39m14.…\n",
      "$ office             \u001b[3m\u001b[90m<dbl>\u001b[39m\u001b[23m 24.2\u001b[90m, \u001b[39m27.1\u001b[90m, \u001b[39m23.1\u001b[90m, \u001b[39m17.8\u001b[90m, \u001b[39m23.9\u001b[90m, \u001b[39m19.7\u001b[90m, \u001b[39m21.9\u001b[90m, \u001b[39m24.2\u001b[90m, \u001b[39m26.…\n",
      "$ construction       \u001b[3m\u001b[90m<dbl>\u001b[39m\u001b[23m 8.6\u001b[90m, \u001b[39m10.8\u001b[90m, \u001b[39m10.8\u001b[90m, \u001b[39m19.0\u001b[90m, \u001b[39m13.5\u001b[90m, \u001b[39m20.1\u001b[90m, \u001b[39m10.3\u001b[90m, \u001b[39m10.5\u001b[90m, \u001b[39m11.5…\n",
      "$ production         \u001b[3m\u001b[90m<dbl>\u001b[39m\u001b[23m 17.1\u001b[90m, \u001b[39m11.2\u001b[90m, \u001b[39m23.1\u001b[90m, \u001b[39m23.7\u001b[90m, \u001b[39m19.9\u001b[90m, \u001b[39m26.4\u001b[90m, \u001b[39m23.7\u001b[90m, \u001b[39m20.4\u001b[90m, \u001b[39m24.…\n",
      "$ drive              \u001b[3m\u001b[90m<dbl>\u001b[39m\u001b[23m 87.5\u001b[90m, \u001b[39m84.7\u001b[90m, \u001b[39m83.8\u001b[90m, \u001b[39m83.2\u001b[90m, \u001b[39m84.9\u001b[90m, \u001b[39m74.9\u001b[90m, \u001b[39m84.5\u001b[90m, \u001b[39m85.3\u001b[90m, \u001b[39m85.…\n",
      "$ carpool            \u001b[3m\u001b[90m<dbl>\u001b[39m\u001b[23m 8.8\u001b[90m, \u001b[39m8.8\u001b[90m, \u001b[39m10.9\u001b[90m, \u001b[39m13.5\u001b[90m, \u001b[39m11.2\u001b[90m, \u001b[39m14.9\u001b[90m, \u001b[39m12.4\u001b[90m, \u001b[39m9.4\u001b[90m, \u001b[39m11.9\u001b[90m, \u001b[39m…\n",
      "$ transit            \u001b[3m\u001b[90m<dbl>\u001b[39m\u001b[23m 0.1\u001b[90m, \u001b[39m0.1\u001b[90m, \u001b[39m0.4\u001b[90m, \u001b[39m0.5\u001b[90m, \u001b[39m0.4\u001b[90m, \u001b[39m0.7\u001b[90m, \u001b[39m0.0\u001b[90m, \u001b[39m0.2\u001b[90m, \u001b[39m0.2\u001b[90m, \u001b[39m0.2\u001b[90m, \u001b[39m0…\n",
      "$ walk               \u001b[3m\u001b[90m<dbl>\u001b[39m\u001b[23m 0.5\u001b[90m, \u001b[39m1.0\u001b[90m, \u001b[39m1.8\u001b[90m, \u001b[39m0.6\u001b[90m, \u001b[39m0.9\u001b[90m, \u001b[39m5.0\u001b[90m, \u001b[39m0.8\u001b[90m, \u001b[39m1.2\u001b[90m, \u001b[39m0.3\u001b[90m, \u001b[39m0.6\u001b[90m, \u001b[39m1…\n",
      "$ other_transp       \u001b[3m\u001b[90m<dbl>\u001b[39m\u001b[23m 1.3\u001b[90m, \u001b[39m1.4\u001b[90m, \u001b[39m1.5\u001b[90m, \u001b[39m1.5\u001b[90m, \u001b[39m0.4\u001b[90m, \u001b[39m1.7\u001b[90m, \u001b[39m0.6\u001b[90m, \u001b[39m1.2\u001b[90m, \u001b[39m0.4\u001b[90m, \u001b[39m0.7\u001b[90m, \u001b[39m1…\n",
      "$ work_at_home       \u001b[3m\u001b[90m<dbl>\u001b[39m\u001b[23m 1.8\u001b[90m, \u001b[39m3.9\u001b[90m, \u001b[39m1.6\u001b[90m, \u001b[39m0.7\u001b[90m, \u001b[39m2.3\u001b[90m, \u001b[39m2.8\u001b[90m, \u001b[39m1.7\u001b[90m, \u001b[39m2.7\u001b[90m, \u001b[39m2.1\u001b[90m, \u001b[39m2.5\u001b[90m, \u001b[39m1…\n",
      "$ mean_commute       \u001b[3m\u001b[90m<dbl>\u001b[39m\u001b[23m 26.5\u001b[90m, \u001b[39m26.4\u001b[90m, \u001b[39m24.1\u001b[90m, \u001b[39m28.8\u001b[90m, \u001b[39m34.9\u001b[90m, \u001b[39m27.5\u001b[90m, \u001b[39m24.6\u001b[90m, \u001b[39m24.1\u001b[90m, \u001b[39m25.…\n",
      "$ employed           \u001b[3m\u001b[90m<dbl>\u001b[39m\u001b[23m 23986\u001b[90m, \u001b[39m85953\u001b[90m, \u001b[39m8597\u001b[90m, \u001b[39m8294\u001b[90m, \u001b[39m22189\u001b[90m, \u001b[39m3865\u001b[90m, \u001b[39m7813\u001b[90m, \u001b[39m47401\u001b[90m,\u001b[39m…\n",
      "$ private_work       \u001b[3m\u001b[90m<dbl>\u001b[39m\u001b[23m 73.6\u001b[90m, \u001b[39m81.5\u001b[90m, \u001b[39m71.8\u001b[90m, \u001b[39m76.8\u001b[90m, \u001b[39m82.0\u001b[90m, \u001b[39m79.5\u001b[90m, \u001b[39m77.4\u001b[90m, \u001b[39m74.1\u001b[90m, \u001b[39m85.…\n",
      "$ public_work        \u001b[3m\u001b[90m<dbl>\u001b[39m\u001b[23m 20.9\u001b[90m, \u001b[39m12.3\u001b[90m, \u001b[39m20.8\u001b[90m, \u001b[39m16.1\u001b[90m, \u001b[39m13.5\u001b[90m, \u001b[39m15.1\u001b[90m, \u001b[39m16.2\u001b[90m, \u001b[39m20.8\u001b[90m, \u001b[39m12.…\n",
      "$ self_employed      \u001b[3m\u001b[90m<dbl>\u001b[39m\u001b[23m 5.5\u001b[90m, \u001b[39m5.8\u001b[90m, \u001b[39m7.3\u001b[90m, \u001b[39m6.7\u001b[90m, \u001b[39m4.2\u001b[90m, \u001b[39m5.4\u001b[90m, \u001b[39m6.2\u001b[90m, \u001b[39m5.0\u001b[90m, \u001b[39m2.8\u001b[90m, \u001b[39m7.9\u001b[90m, \u001b[39m4…\n",
      "$ family_work        \u001b[3m\u001b[90m<dbl>\u001b[39m\u001b[23m 0.0\u001b[90m, \u001b[39m0.4\u001b[90m, \u001b[39m0.1\u001b[90m, \u001b[39m0.4\u001b[90m, \u001b[39m0.4\u001b[90m, \u001b[39m0.0\u001b[90m, \u001b[39m0.2\u001b[90m, \u001b[39m0.1\u001b[90m, \u001b[39m0.0\u001b[90m, \u001b[39m0.5\u001b[90m, \u001b[39m0…\n",
      "$ unemployment       \u001b[3m\u001b[90m<dbl>\u001b[39m\u001b[23m 7.6\u001b[90m, \u001b[39m7.5\u001b[90m, \u001b[39m17.6\u001b[90m, \u001b[39m8.3\u001b[90m, \u001b[39m7.7\u001b[90m, \u001b[39m18.0\u001b[90m, \u001b[39m10.9\u001b[90m, \u001b[39m12.3\u001b[90m, \u001b[39m8.9\u001b[90m, \u001b[39m7.…\n",
      "$ land_area          \u001b[3m\u001b[90m<dbl>\u001b[39m\u001b[23m 594.44\u001b[90m, \u001b[39m1589.78\u001b[90m, \u001b[39m884.88\u001b[90m, \u001b[39m622.58\u001b[90m, \u001b[39m644.78\u001b[90m, \u001b[39m622.81\u001b[90m, \u001b[39m77…\n"
     ]
    }
   ],
   "source": [
    "glimpse(countries)"
   ]
  },
  {
   "cell_type": "code",
   "execution_count": null,
   "id": "28ac6e03",
   "metadata": {
    "vscode": {
     "languageId": "r"
    }
   },
   "outputs": [],
   "source": [
    "# Seleccionar columnas\n",
    "countries_clean <-countries %>%\n",
    "    select(state, county, population, poverty)"
   ]
  },
  {
   "cell_type": "code",
   "execution_count": 13,
   "id": "d27d1dd6",
   "metadata": {
    "vscode": {
     "languageId": "r"
    }
   },
   "outputs": [
    {
     "data": {
      "text/html": [
       "<table class=\"dataframe\">\n",
       "<caption>A spec_tbl_df: 3 × 4</caption>\n",
       "<thead>\n",
       "\t<tr><th scope=col>state</th><th scope=col>county</th><th scope=col>population</th><th scope=col>poverty</th></tr>\n",
       "\t<tr><th scope=col>&lt;chr&gt;</th><th scope=col>&lt;chr&gt;</th><th scope=col>&lt;dbl&gt;</th><th scope=col>&lt;dbl&gt;</th></tr>\n",
       "</thead>\n",
       "<tbody>\n",
       "\t<tr><td>Alabama</td><td>Autauga</td><td> 55221</td><td>12.9</td></tr>\n",
       "\t<tr><td>Alabama</td><td>Baldwin</td><td>195121</td><td>13.4</td></tr>\n",
       "\t<tr><td>Alabama</td><td>Barbour</td><td> 26932</td><td>26.7</td></tr>\n",
       "</tbody>\n",
       "</table>\n"
      ],
      "text/latex": [
       "A spec\\_tbl\\_df: 3 × 4\n",
       "\\begin{tabular}{llll}\n",
       " state & county & population & poverty\\\\\n",
       " <chr> & <chr> & <dbl> & <dbl>\\\\\n",
       "\\hline\n",
       "\t Alabama & Autauga &  55221 & 12.9\\\\\n",
       "\t Alabama & Baldwin & 195121 & 13.4\\\\\n",
       "\t Alabama & Barbour &  26932 & 26.7\\\\\n",
       "\\end{tabular}\n"
      ],
      "text/markdown": [
       "\n",
       "A spec_tbl_df: 3 × 4\n",
       "\n",
       "| state &lt;chr&gt; | county &lt;chr&gt; | population &lt;dbl&gt; | poverty &lt;dbl&gt; |\n",
       "|---|---|---|---|\n",
       "| Alabama | Autauga |  55221 | 12.9 |\n",
       "| Alabama | Baldwin | 195121 | 13.4 |\n",
       "| Alabama | Barbour |  26932 | 26.7 |\n",
       "\n"
      ],
      "text/plain": [
       "  state   county  population poverty\n",
       "1 Alabama Autauga  55221     12.9   \n",
       "2 Alabama Baldwin 195121     13.4   \n",
       "3 Alabama Barbour  26932     26.7   "
      ]
     },
     "metadata": {},
     "output_type": "display_data"
    }
   ],
   "source": [
    "head(countries_clean, 3)"
   ]
  },
  {
   "cell_type": "code",
   "execution_count": 14,
   "id": "e19f61aa",
   "metadata": {
    "vscode": {
     "languageId": "r"
    }
   },
   "outputs": [],
   "source": [
    "countries_selected <- countries %>%\n",
    "    select(state, county, population, private_work, public_work, self_employed) %>%\n",
    "    arrange(desc(public_work))"
   ]
  },
  {
   "cell_type": "code",
   "execution_count": 15,
   "id": "ba7da3f6",
   "metadata": {
    "vscode": {
     "languageId": "r"
    }
   },
   "outputs": [
    {
     "data": {
      "text/html": [
       "<table class=\"dataframe\">\n",
       "<caption>A spec_tbl_df: 3 × 6</caption>\n",
       "<thead>\n",
       "\t<tr><th scope=col>state</th><th scope=col>county</th><th scope=col>population</th><th scope=col>private_work</th><th scope=col>public_work</th><th scope=col>self_employed</th></tr>\n",
       "\t<tr><th scope=col>&lt;chr&gt;</th><th scope=col>&lt;chr&gt;</th><th scope=col>&lt;dbl&gt;</th><th scope=col>&lt;dbl&gt;</th><th scope=col>&lt;dbl&gt;</th><th scope=col>&lt;dbl&gt;</th></tr>\n",
       "</thead>\n",
       "<tbody>\n",
       "\t<tr><td>Hawaii   </td><td>Kalawao                  </td><td>  85</td><td>25.0</td><td>64.1</td><td>10.9</td></tr>\n",
       "\t<tr><td>Alaska   </td><td>Yukon-Koyukuk Census Area</td><td>5644</td><td>33.3</td><td>61.7</td><td> 5.1</td></tr>\n",
       "\t<tr><td>Wisconsin</td><td>Menominee                </td><td>4451</td><td>36.8</td><td>59.1</td><td> 3.7</td></tr>\n",
       "</tbody>\n",
       "</table>\n"
      ],
      "text/latex": [
       "A spec\\_tbl\\_df: 3 × 6\n",
       "\\begin{tabular}{llllll}\n",
       " state & county & population & private\\_work & public\\_work & self\\_employed\\\\\n",
       " <chr> & <chr> & <dbl> & <dbl> & <dbl> & <dbl>\\\\\n",
       "\\hline\n",
       "\t Hawaii    & Kalawao                   &   85 & 25.0 & 64.1 & 10.9\\\\\n",
       "\t Alaska    & Yukon-Koyukuk Census Area & 5644 & 33.3 & 61.7 &  5.1\\\\\n",
       "\t Wisconsin & Menominee                 & 4451 & 36.8 & 59.1 &  3.7\\\\\n",
       "\\end{tabular}\n"
      ],
      "text/markdown": [
       "\n",
       "A spec_tbl_df: 3 × 6\n",
       "\n",
       "| state &lt;chr&gt; | county &lt;chr&gt; | population &lt;dbl&gt; | private_work &lt;dbl&gt; | public_work &lt;dbl&gt; | self_employed &lt;dbl&gt; |\n",
       "|---|---|---|---|---|---|\n",
       "| Hawaii    | Kalawao                   |   85 | 25.0 | 64.1 | 10.9 |\n",
       "| Alaska    | Yukon-Koyukuk Census Area | 5644 | 33.3 | 61.7 |  5.1 |\n",
       "| Wisconsin | Menominee                 | 4451 | 36.8 | 59.1 |  3.7 |\n",
       "\n"
      ],
      "text/plain": [
       "  state     county                    population private_work public_work\n",
       "1 Hawaii    Kalawao                     85       25.0         64.1       \n",
       "2 Alaska    Yukon-Koyukuk Census Area 5644       33.3         61.7       \n",
       "3 Wisconsin Menominee                 4451       36.8         59.1       \n",
       "  self_employed\n",
       "1 10.9         \n",
       "2  5.1         \n",
       "3  3.7         "
      ]
     },
     "metadata": {},
     "output_type": "display_data"
    }
   ],
   "source": [
    "head(countries_selected, 3)"
   ]
  },
  {
   "cell_type": "code",
   "execution_count": 20,
   "id": "524c8682",
   "metadata": {
    "vscode": {
     "languageId": "r"
    }
   },
   "outputs": [],
   "source": [
    "countries_selected <- countries %>%\n",
    "    select(state, county, population) %>%\n",
    "    filter(\n",
    "        state == \"California\",\n",
    "        population > 1000000\n",
    "    )"
   ]
  },
  {
   "cell_type": "code",
   "execution_count": 21,
   "id": "823e4196",
   "metadata": {
    "vscode": {
     "languageId": "r"
    }
   },
   "outputs": [
    {
     "data": {
      "text/html": [
       "<table class=\"dataframe\">\n",
       "<caption>A spec_tbl_df: 9 × 3</caption>\n",
       "<thead>\n",
       "\t<tr><th scope=col>state</th><th scope=col>county</th><th scope=col>population</th></tr>\n",
       "\t<tr><th scope=col>&lt;chr&gt;</th><th scope=col>&lt;chr&gt;</th><th scope=col>&lt;dbl&gt;</th></tr>\n",
       "</thead>\n",
       "<tbody>\n",
       "\t<tr><td>California</td><td>Alameda       </td><td> 1584983</td></tr>\n",
       "\t<tr><td>California</td><td>Contra Costa  </td><td> 1096068</td></tr>\n",
       "\t<tr><td>California</td><td>Los Angeles   </td><td>10038388</td></tr>\n",
       "\t<tr><td>California</td><td>Orange        </td><td> 3116069</td></tr>\n",
       "\t<tr><td>California</td><td>Riverside     </td><td> 2298032</td></tr>\n",
       "\t<tr><td>California</td><td>Sacramento    </td><td> 1465832</td></tr>\n",
       "\t<tr><td>California</td><td>San Bernardino</td><td> 2094769</td></tr>\n",
       "\t<tr><td>California</td><td>San Diego     </td><td> 3223096</td></tr>\n",
       "\t<tr><td>California</td><td>Santa Clara   </td><td> 1868149</td></tr>\n",
       "</tbody>\n",
       "</table>\n"
      ],
      "text/latex": [
       "A spec\\_tbl\\_df: 9 × 3\n",
       "\\begin{tabular}{lll}\n",
       " state & county & population\\\\\n",
       " <chr> & <chr> & <dbl>\\\\\n",
       "\\hline\n",
       "\t California & Alameda        &  1584983\\\\\n",
       "\t California & Contra Costa   &  1096068\\\\\n",
       "\t California & Los Angeles    & 10038388\\\\\n",
       "\t California & Orange         &  3116069\\\\\n",
       "\t California & Riverside      &  2298032\\\\\n",
       "\t California & Sacramento     &  1465832\\\\\n",
       "\t California & San Bernardino &  2094769\\\\\n",
       "\t California & San Diego      &  3223096\\\\\n",
       "\t California & Santa Clara    &  1868149\\\\\n",
       "\\end{tabular}\n"
      ],
      "text/markdown": [
       "\n",
       "A spec_tbl_df: 9 × 3\n",
       "\n",
       "| state &lt;chr&gt; | county &lt;chr&gt; | population &lt;dbl&gt; |\n",
       "|---|---|---|\n",
       "| California | Alameda        |  1584983 |\n",
       "| California | Contra Costa   |  1096068 |\n",
       "| California | Los Angeles    | 10038388 |\n",
       "| California | Orange         |  3116069 |\n",
       "| California | Riverside      |  2298032 |\n",
       "| California | Sacramento     |  1465832 |\n",
       "| California | San Bernardino |  2094769 |\n",
       "| California | San Diego      |  3223096 |\n",
       "| California | Santa Clara    |  1868149 |\n",
       "\n"
      ],
      "text/plain": [
       "  state      county         population\n",
       "1 California Alameda         1584983  \n",
       "2 California Contra Costa    1096068  \n",
       "3 California Los Angeles    10038388  \n",
       "4 California Orange          3116069  \n",
       "5 California Riverside       2298032  \n",
       "6 California Sacramento      1465832  \n",
       "7 California San Bernardino  2094769  \n",
       "8 California San Diego       3223096  \n",
       "9 California Santa Clara     1868149  "
      ]
     },
     "metadata": {},
     "output_type": "display_data"
    }
   ],
   "source": [
    "countries_selected"
   ]
  },
  {
   "cell_type": "code",
   "execution_count": 27,
   "id": "3aea638a",
   "metadata": {
    "vscode": {
     "languageId": "r"
    }
   },
   "outputs": [],
   "source": [
    "countries_selected <- countries %>%\n",
    "    select(state, county, population, public_work) %>%\n",
    "    mutate(\n",
    "        public_workers = public_work * population / 100,\n",
    "    ) %>%\n",
    "    arrange(desc(public_workers))"
   ]
  },
  {
   "cell_type": "code",
   "execution_count": 28,
   "id": "c19f5e08",
   "metadata": {
    "vscode": {
     "languageId": "r"
    }
   },
   "outputs": [
    {
     "data": {
      "text/html": [
       "<table class=\"dataframe\">\n",
       "<caption>A spec_tbl_df: 3 × 5</caption>\n",
       "<thead>\n",
       "\t<tr><th scope=col>state</th><th scope=col>county</th><th scope=col>population</th><th scope=col>public_work</th><th scope=col>public_workers</th></tr>\n",
       "\t<tr><th scope=col>&lt;chr&gt;</th><th scope=col>&lt;chr&gt;</th><th scope=col>&lt;dbl&gt;</th><th scope=col>&lt;dbl&gt;</th><th scope=col>&lt;dbl&gt;</th></tr>\n",
       "</thead>\n",
       "<tbody>\n",
       "\t<tr><td>California</td><td>Los Angeles</td><td>10038388</td><td>11.5</td><td>1154414.6</td></tr>\n",
       "\t<tr><td>Illinois  </td><td>Cook       </td><td> 5236393</td><td>11.5</td><td> 602185.2</td></tr>\n",
       "\t<tr><td>California</td><td>San Diego  </td><td> 3223096</td><td>14.8</td><td> 477018.2</td></tr>\n",
       "</tbody>\n",
       "</table>\n"
      ],
      "text/latex": [
       "A spec\\_tbl\\_df: 3 × 5\n",
       "\\begin{tabular}{lllll}\n",
       " state & county & population & public\\_work & public\\_workers\\\\\n",
       " <chr> & <chr> & <dbl> & <dbl> & <dbl>\\\\\n",
       "\\hline\n",
       "\t California & Los Angeles & 10038388 & 11.5 & 1154414.6\\\\\n",
       "\t Illinois   & Cook        &  5236393 & 11.5 &  602185.2\\\\\n",
       "\t California & San Diego   &  3223096 & 14.8 &  477018.2\\\\\n",
       "\\end{tabular}\n"
      ],
      "text/markdown": [
       "\n",
       "A spec_tbl_df: 3 × 5\n",
       "\n",
       "| state &lt;chr&gt; | county &lt;chr&gt; | population &lt;dbl&gt; | public_work &lt;dbl&gt; | public_workers &lt;dbl&gt; |\n",
       "|---|---|---|---|---|\n",
       "| California | Los Angeles | 10038388 | 11.5 | 1154414.6 |\n",
       "| Illinois   | Cook        |  5236393 | 11.5 |  602185.2 |\n",
       "| California | San Diego   |  3223096 | 14.8 |  477018.2 |\n",
       "\n"
      ],
      "text/plain": [
       "  state      county      population public_work public_workers\n",
       "1 California Los Angeles 10038388   11.5        1154414.6     \n",
       "2 Illinois   Cook         5236393   11.5         602185.2     \n",
       "3 California San Diego    3223096   14.8         477018.2     "
      ]
     },
     "metadata": {},
     "output_type": "display_data"
    }
   ],
   "source": [
    "head(countries_selected, 3)"
   ]
  },
  {
   "cell_type": "code",
   "execution_count": null,
   "id": "875a9c95",
   "metadata": {
    "vscode": {
     "languageId": "r"
    }
   },
   "outputs": [],
   "source": [
    "countries_selected <- countries %>%\n",
    "    mutate(\n",
    "        state = state,\n",
    "        county = county,\n",
    "        population = population,\n",
    "        proportion_women = women / population,\n",
    "        proportion_men = men / population,\n",
    "        .keep = \"none\" # se mantiene solo las columnas elegidas\n",
    "    )"
   ]
  },
  {
   "cell_type": "code",
   "execution_count": 34,
   "id": "c0ec2095",
   "metadata": {
    "vscode": {
     "languageId": "r"
    }
   },
   "outputs": [
    {
     "data": {
      "text/html": [
       "<table class=\"dataframe\">\n",
       "<caption>A spec_tbl_df: 3 × 5</caption>\n",
       "<thead>\n",
       "\t<tr><th scope=col>state</th><th scope=col>county</th><th scope=col>population</th><th scope=col>proportion_women</th><th scope=col>proportion_men</th></tr>\n",
       "\t<tr><th scope=col>&lt;chr&gt;</th><th scope=col>&lt;chr&gt;</th><th scope=col>&lt;dbl&gt;</th><th scope=col>&lt;dbl&gt;</th><th scope=col>&lt;dbl&gt;</th></tr>\n",
       "</thead>\n",
       "<tbody>\n",
       "\t<tr><td>Alabama</td><td>Autauga</td><td> 55221</td><td>0.5156734</td><td>0.4843266</td></tr>\n",
       "\t<tr><td>Alabama</td><td>Baldwin</td><td>195121</td><td>0.5115134</td><td>0.4884866</td></tr>\n",
       "\t<tr><td>Alabama</td><td>Barbour</td><td> 26932</td><td>0.4617184</td><td>0.5382816</td></tr>\n",
       "</tbody>\n",
       "</table>\n"
      ],
      "text/latex": [
       "A spec\\_tbl\\_df: 3 × 5\n",
       "\\begin{tabular}{lllll}\n",
       " state & county & population & proportion\\_women & proportion\\_men\\\\\n",
       " <chr> & <chr> & <dbl> & <dbl> & <dbl>\\\\\n",
       "\\hline\n",
       "\t Alabama & Autauga &  55221 & 0.5156734 & 0.4843266\\\\\n",
       "\t Alabama & Baldwin & 195121 & 0.5115134 & 0.4884866\\\\\n",
       "\t Alabama & Barbour &  26932 & 0.4617184 & 0.5382816\\\\\n",
       "\\end{tabular}\n"
      ],
      "text/markdown": [
       "\n",
       "A spec_tbl_df: 3 × 5\n",
       "\n",
       "| state &lt;chr&gt; | county &lt;chr&gt; | population &lt;dbl&gt; | proportion_women &lt;dbl&gt; | proportion_men &lt;dbl&gt; |\n",
       "|---|---|---|---|---|\n",
       "| Alabama | Autauga |  55221 | 0.5156734 | 0.4843266 |\n",
       "| Alabama | Baldwin | 195121 | 0.5115134 | 0.4884866 |\n",
       "| Alabama | Barbour |  26932 | 0.4617184 | 0.5382816 |\n",
       "\n"
      ],
      "text/plain": [
       "  state   county  population proportion_women proportion_men\n",
       "1 Alabama Autauga  55221     0.5156734        0.4843266     \n",
       "2 Alabama Baldwin 195121     0.5115134        0.4884866     \n",
       "3 Alabama Barbour  26932     0.4617184        0.5382816     "
      ]
     },
     "metadata": {},
     "output_type": "display_data"
    }
   ],
   "source": [
    "head(countries_selected, 3)"
   ]
  }
 ],
 "metadata": {
  "kernelspec": {
   "display_name": "R",
   "language": "R",
   "name": "ir"
  },
  "language_info": {
   "codemirror_mode": "r",
   "file_extension": ".r",
   "mimetype": "text/x-r-source",
   "name": "R",
   "pygments_lexer": "r",
   "version": "4.5.0"
  }
 },
 "nbformat": 4,
 "nbformat_minor": 5
}
