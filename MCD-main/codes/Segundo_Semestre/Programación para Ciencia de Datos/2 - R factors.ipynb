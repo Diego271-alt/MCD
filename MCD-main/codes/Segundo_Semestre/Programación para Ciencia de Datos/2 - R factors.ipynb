{
 "cells": [
  {
   "cell_type": "markdown",
   "id": "667db722-6af0-453d-af07-0c5df3337fec",
   "metadata": {},
   "source": [
    "### Factors\n",
    "Son un tipo de dato que permite representar de forma categórica una variable"
   ]
  },
  {
   "cell_type": "code",
   "execution_count": 1,
   "id": "b7730866-50fa-4b06-8887-764cbc0582df",
   "metadata": {},
   "outputs": [],
   "source": [
    "colores <- c(\"rojo\", \"azul\", \"verde\", \"morado\", \"azul\", \"rojo\")"
   ]
  },
  {
   "cell_type": "code",
   "execution_count": 2,
   "id": "6242167e-c7fa-4ea2-9513-14eb17f69aa5",
   "metadata": {},
   "outputs": [
    {
     "data": {
      "text/html": [
       "<style>\n",
       ".list-inline {list-style: none; margin:0; padding: 0}\n",
       ".list-inline>li {display: inline-block}\n",
       ".list-inline>li:not(:last-child)::after {content: \"\\00b7\"; padding: 0 .5ex}\n",
       "</style>\n",
       "<ol class=list-inline><li>'rojo'</li><li>'azul'</li><li>'verde'</li><li>'morado'</li></ol>\n"
      ],
      "text/latex": [
       "\\begin{enumerate*}\n",
       "\\item 'rojo'\n",
       "\\item 'azul'\n",
       "\\item 'verde'\n",
       "\\item 'morado'\n",
       "\\end{enumerate*}\n"
      ],
      "text/markdown": [
       "1. 'rojo'\n",
       "2. 'azul'\n",
       "3. 'verde'\n",
       "4. 'morado'\n",
       "\n",
       "\n"
      ],
      "text/plain": [
       "[1] \"rojo\"   \"azul\"   \"verde\"  \"morado\""
      ]
     },
     "metadata": {},
     "output_type": "display_data"
    }
   ],
   "source": [
    "unique(colores)"
   ]
  },
  {
   "cell_type": "code",
   "execution_count": 3,
   "id": "fbddb855-6d1e-4df4-bd45-4fac0a2fd20f",
   "metadata": {},
   "outputs": [
    {
     "name": "stdout",
     "output_type": "stream",
     "text": [
      "[1] rojo   azul   verde  morado azul   rojo  \n",
      "Levels: azul morado rojo verde\n"
     ]
    },
    {
     "data": {
      "text/html": [
       "'factor'"
      ],
      "text/latex": [
       "'factor'"
      ],
      "text/markdown": [
       "'factor'"
      ],
      "text/plain": [
       "[1] \"factor\""
      ]
     },
     "metadata": {},
     "output_type": "display_data"
    }
   ],
   "source": [
    "colores_factor <- factor(colores)\n",
    "print(colores_factor)\n",
    "class(colores_factor)"
   ]
  },
  {
   "cell_type": "code",
   "execution_count": 4,
   "id": "6d5285cc-ae43-43f9-9f9f-1b9589067d04",
   "metadata": {},
   "outputs": [
    {
     "name": "stderr",
     "output_type": "stream",
     "text": [
      "Warning message in Ops.factor(colores_factor[1], colores_factor[2]):\n",
      "“‘>’ not meaningful for factors”\n"
     ]
    },
    {
     "data": {
      "text/html": [
       "&lt;NA&gt;"
      ],
      "text/latex": [
       "<NA>"
      ],
      "text/markdown": [
       "&lt;NA&gt;"
      ],
      "text/plain": [
       "[1] NA"
      ]
     },
     "metadata": {},
     "output_type": "display_data"
    }
   ],
   "source": [
    "colores_factor[1] > colores_factor[2] # Para datos nominales la operación no tiene algún sentido"
   ]
  },
  {
   "cell_type": "code",
   "execution_count": 5,
   "id": "823b5679-2229-439a-9b72-8270d834d304",
   "metadata": {},
   "outputs": [
    {
     "name": "stdout",
     "output_type": "stream",
     "text": [
      "[1] Bajo  Alto  Medio Medio Alto \n",
      "Levels: Bajo < Medio < Alto\n"
     ]
    }
   ],
   "source": [
    "# Ordernar niveles\n",
    "calificacion <- c(\"Bajo\", \"Alto\", \"Medio\", \"Medio\", \"Alto\")\n",
    "calificacion_factor <- factor(\n",
    "    calificacion,\n",
    "    levels = c(\"Bajo\", \"Medio\", \"Alto\"),\n",
    "    ordered = TRUE # Varibles ordinales\n",
    ")\n",
    "print(calificacion_factor)"
   ]
  },
  {
   "cell_type": "code",
   "execution_count": 6,
   "id": "e0605f57-47bf-4a10-b089-80411ce52b80",
   "metadata": {},
   "outputs": [
    {
     "data": {
      "text/html": [
       "TRUE"
      ],
      "text/latex": [
       "TRUE"
      ],
      "text/markdown": [
       "TRUE"
      ],
      "text/plain": [
       "[1] TRUE"
      ]
     },
     "metadata": {},
     "output_type": "display_data"
    }
   ],
   "source": [
    "calificacion_factor[1] < calificacion_factor[2] # Para datos ordinales, si es posible realizar estas comparaciones"
   ]
  },
  {
   "cell_type": "code",
   "execution_count": 7,
   "id": "af06e8b4-6ad6-440c-825e-0f72887a1bb8",
   "metadata": {},
   "outputs": [
    {
     "data": {
      "text/html": [
       "<style>\n",
       ".list-inline {list-style: none; margin:0; padding: 0}\n",
       ".list-inline>li {display: inline-block}\n",
       ".list-inline>li:not(:last-child)::after {content: \"\\00b7\"; padding: 0 .5ex}\n",
       "</style>\n",
       "<ol class=list-inline><li>A</li><li>B</li><li>C</li><li>B</li><li>C</li><li>D</li></ol>\n",
       "\n",
       "<details>\n",
       "\t<summary style=display:list-item;cursor:pointer>\n",
       "\t\t<strong>Levels</strong>:\n",
       "\t</summary>\n",
       "\t<style>\n",
       "\t.list-inline {list-style: none; margin:0; padding: 0}\n",
       "\t.list-inline>li {display: inline-block}\n",
       "\t.list-inline>li:not(:last-child)::after {content: \"\\00b7\"; padding: 0 .5ex}\n",
       "\t</style>\n",
       "\t<ol class=list-inline><li>'A'</li><li>'B'</li><li>'C'</li><li>'D'</li></ol>\n",
       "</details>"
      ],
      "text/latex": [
       "\\begin{enumerate*}\n",
       "\\item A\n",
       "\\item B\n",
       "\\item C\n",
       "\\item B\n",
       "\\item C\n",
       "\\item D\n",
       "\\end{enumerate*}\n",
       "\n",
       "\\emph{Levels}: \\begin{enumerate*}\n",
       "\\item 'A'\n",
       "\\item 'B'\n",
       "\\item 'C'\n",
       "\\item 'D'\n",
       "\\end{enumerate*}\n"
      ],
      "text/markdown": [
       "1. A\n",
       "2. B\n",
       "3. C\n",
       "4. B\n",
       "5. C\n",
       "6. D\n",
       "\n",
       "\n",
       "\n",
       "**Levels**: 1. 'A'\n",
       "2. 'B'\n",
       "3. 'C'\n",
       "4. 'D'\n",
       "\n",
       "\n"
      ],
      "text/plain": [
       "[1] A B C B C D\n",
       "Levels: A B C D"
      ]
     },
     "metadata": {},
     "output_type": "display_data"
    }
   ],
   "source": [
    "# Combinar factores\n",
    "f1 <- factor(c(\"A\", \"B\", \"C\"))\n",
    "f2 <- factor(c(\"B\", \"C\", \"D\"))\n",
    "\n",
    "# Es necesario convertirlo primero a caracter para unirlo como factor\n",
    "combinado <- factor(\n",
    "    c(\n",
    "        as.character(f1),\n",
    "        as.character(f2)\n",
    "    )\n",
    ")\n",
    "combinado"
   ]
  },
  {
   "cell_type": "code",
   "execution_count": 8,
   "id": "39b3287a-77e7-442b-b6b8-c28720f42801",
   "metadata": {},
   "outputs": [
    {
     "name": "stdout",
     "output_type": "stream",
     "text": [
      "[1] Niño   Joven  Joven  Adulto Mayor  Mayor \n",
      "Levels: Niño Joven Adulto Mayor\n"
     ]
    }
   ],
   "source": [
    "# Cortes -> Agrupar datos numéricos en categorias\n",
    "edades <- c(15, 22, 35, 42, 67, 88)\n",
    "cortes <- cut(\n",
    "    edades,\n",
    "    breaks = c(0, 18, 40, 60, 100),\n",
    "    labels = c(\"Niño\", \"Joven\", \"Adulto\", \"Mayor\")\n",
    ")\n",
    "print(cortes)"
   ]
  },
  {
   "cell_type": "markdown",
   "id": "f7d2ff1b-25d7-49aa-8753-029eeb7f2b08",
   "metadata": {},
   "source": [
    "#### Resumiendo un factor"
   ]
  },
  {
   "cell_type": "code",
   "execution_count": 9,
   "id": "eaaa42b9-417e-4722-832f-326a59458652",
   "metadata": {},
   "outputs": [
    {
     "data": {
      "text/plain": [
       "   Min. 1st Qu.  Median    Mean 3rd Qu.    Max. \n",
       "  15.00   25.25   38.50   44.83   60.75   88.00 "
      ]
     },
     "metadata": {},
     "output_type": "display_data"
    }
   ],
   "source": [
    "summary(edades)"
   ]
  },
  {
   "cell_type": "code",
   "execution_count": 10,
   "id": "c306ef94-d770-4df2-a246-aa006de27f02",
   "metadata": {},
   "outputs": [
    {
     "data": {
      "text/html": [
       "<style>\n",
       ".dl-inline {width: auto; margin:0; padding: 0}\n",
       ".dl-inline>dt, .dl-inline>dd {float: none; width: auto; display: inline-block}\n",
       ".dl-inline>dt::after {content: \":\\0020\"; padding-right: .5ex}\n",
       ".dl-inline>dt:not(:first-of-type) {padding-left: .5ex}\n",
       "</style><dl class=dl-inline><dt>Niño</dt><dd>1</dd><dt>Joven</dt><dd>2</dd><dt>Adulto</dt><dd>1</dd><dt>Mayor</dt><dd>2</dd></dl>\n"
      ],
      "text/latex": [
       "\\begin{description*}\n",
       "\\item[Niño] 1\n",
       "\\item[Joven] 2\n",
       "\\item[Adulto] 1\n",
       "\\item[Mayor] 2\n",
       "\\end{description*}\n"
      ],
      "text/markdown": [
       "Niño\n",
       ":   1Joven\n",
       ":   2Adulto\n",
       ":   1Mayor\n",
       ":   2\n",
       "\n"
      ],
      "text/plain": [
       "  Niño  Joven Adulto  Mayor \n",
       "     1      2      1      2 "
      ]
     },
     "metadata": {},
     "output_type": "display_data"
    }
   ],
   "source": [
    "summary(cortes)"
   ]
  }
 ],
 "metadata": {
  "kernelspec": {
   "display_name": "R",
   "language": "R",
   "name": "ir"
  },
  "language_info": {
   "codemirror_mode": "r",
   "file_extension": ".r",
   "mimetype": "text/x-r-source",
   "name": "R",
   "pygments_lexer": "r",
   "version": "4.3.3"
  }
 },
 "nbformat": 4,
 "nbformat_minor": 5
}
