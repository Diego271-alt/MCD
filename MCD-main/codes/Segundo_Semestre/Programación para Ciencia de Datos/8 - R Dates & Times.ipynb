{
 "cells": [
  {
   "cell_type": "code",
   "execution_count": 1,
   "id": "494286d7-4e97-49dc-9571-92ca4ad44ae1",
   "metadata": {},
   "outputs": [
    {
     "data": {
      "text/html": [
       "'C.UTF-8'"
      ],
      "text/latex": [
       "'C.UTF-8'"
      ],
      "text/markdown": [
       "'C.UTF-8'"
      ],
      "text/plain": [
       "[1] \"C.UTF-8\""
      ]
     },
     "metadata": {},
     "output_type": "display_data"
    }
   ],
   "source": [
    "Sys.getlocale(\"LC_TIME\")"
   ]
  },
  {
   "cell_type": "code",
   "execution_count": 2,
   "id": "c4f0e793-8be3-4dfc-b8a5-abd53c15a25b",
   "metadata": {},
   "outputs": [
    {
     "data": {
      "text/html": [
       "<time datetime=\"2025-05-13\">2025-05-13</time>"
      ],
      "text/latex": [
       "2025-05-13"
      ],
      "text/markdown": [
       "2025-05-13"
      ],
      "text/plain": [
       "[1] \"2025-05-13\""
      ]
     },
     "metadata": {},
     "output_type": "display_data"
    }
   ],
   "source": [
    "today <- Sys.Date() # Date\n",
    "today"
   ]
  },
  {
   "cell_type": "code",
   "execution_count": 3,
   "id": "4a424ed4-37d9-4be5-91db-114f8841fa44",
   "metadata": {},
   "outputs": [
    {
     "data": {
      "text/html": [
       "'Date'"
      ],
      "text/latex": [
       "'Date'"
      ],
      "text/markdown": [
       "'Date'"
      ],
      "text/plain": [
       "[1] \"Date\""
      ]
     },
     "metadata": {},
     "output_type": "display_data"
    }
   ],
   "source": [
    "class(today)"
   ]
  },
  {
   "cell_type": "code",
   "execution_count": 4,
   "id": "937bb682-15ef-4c17-8986-ba8983f0a1d7",
   "metadata": {},
   "outputs": [
    {
     "data": {
      "text/plain": [
       "[1] \"2025-05-13 16:01:10 CST\""
      ]
     },
     "metadata": {},
     "output_type": "display_data"
    }
   ],
   "source": [
    "now <- Sys.time()\n",
    "now"
   ]
  },
  {
   "cell_type": "code",
   "execution_count": 5,
   "id": "ca7d9fc1-4234-4047-8931-6ee42a68ac26",
   "metadata": {},
   "outputs": [
    {
     "data": {
      "text/html": [
       "<style>\n",
       ".list-inline {list-style: none; margin:0; padding: 0}\n",
       ".list-inline>li {display: inline-block}\n",
       ".list-inline>li:not(:last-child)::after {content: \"\\00b7\"; padding: 0 .5ex}\n",
       "</style>\n",
       "<ol class=list-inline><li>'POSIXct'</li><li>'POSIXt'</li></ol>\n"
      ],
      "text/latex": [
       "\\begin{enumerate*}\n",
       "\\item 'POSIXct'\n",
       "\\item 'POSIXt'\n",
       "\\end{enumerate*}\n"
      ],
      "text/markdown": [
       "1. 'POSIXct'\n",
       "2. 'POSIXt'\n",
       "\n",
       "\n"
      ],
      "text/plain": [
       "[1] \"POSIXct\" \"POSIXt\" "
      ]
     },
     "metadata": {},
     "output_type": "display_data"
    }
   ],
   "source": [
    "class(now)"
   ]
  },
  {
   "cell_type": "markdown",
   "id": "cac12afc-7f00-4978-99c0-c17433ccb3cd",
   "metadata": {},
   "source": [
    "#### String to Date"
   ]
  },
  {
   "cell_type": "code",
   "execution_count": 6,
   "id": "c70ae740-b36d-42df-94cf-7819f3f27b24",
   "metadata": {},
   "outputs": [],
   "source": [
    "str1 <- \"May 23, '96\"\n",
    "str2 <- \"2012-03-15\"\n",
    "str3 <- \"30/January/2006\"\n",
    "str4 <- \"May 23, '96 hours:23 minutes: 45 seconds:17\""
   ]
  },
  {
   "cell_type": "code",
   "execution_count": 7,
   "id": "0e063e0b-6f9b-4bd9-b8c3-6129b40986d8",
   "metadata": {},
   "outputs": [
    {
     "data": {
      "text/html": [
       "<time datetime=\"1996-05-23\">1996-05-23</time>"
      ],
      "text/latex": [
       "1996-05-23"
      ],
      "text/markdown": [
       "1996-05-23"
      ],
      "text/plain": [
       "[1] \"1996-05-23\""
      ]
     },
     "metadata": {},
     "output_type": "display_data"
    }
   ],
   "source": [
    "d1 <- as.Date(str1, format = \"%b %d, '%y\")\n",
    "d1"
   ]
  },
  {
   "cell_type": "code",
   "execution_count": 8,
   "id": "1e5c28c2-2e5e-4462-a23b-0b7c7c3134cb",
   "metadata": {},
   "outputs": [
    {
     "data": {
      "text/html": [
       "<time datetime=\"2012-03-15\">2012-03-15</time>"
      ],
      "text/latex": [
       "2012-03-15"
      ],
      "text/markdown": [
       "2012-03-15"
      ],
      "text/plain": [
       "[1] \"2012-03-15\""
      ]
     },
     "metadata": {},
     "output_type": "display_data"
    }
   ],
   "source": [
    "d2 <- as.Date(str2, format = \"%Y-%m-%d\")\n",
    "d2"
   ]
  },
  {
   "cell_type": "code",
   "execution_count": 9,
   "id": "f42776e9-86d7-43c9-adb0-64e40686ddb5",
   "metadata": {},
   "outputs": [
    {
     "data": {
      "text/html": [
       "<time datetime=\"2006-01-30\">2006-01-30</time>"
      ],
      "text/latex": [
       "2006-01-30"
      ],
      "text/markdown": [
       "2006-01-30"
      ],
      "text/plain": [
       "[1] \"2006-01-30\""
      ]
     },
     "metadata": {},
     "output_type": "display_data"
    }
   ],
   "source": [
    "d3 <- as.Date(str3, format = \"%d/%B/%Y\")\n",
    "d3"
   ]
  },
  {
   "cell_type": "code",
   "execution_count": 10,
   "id": "8cd17cb9-ab21-4a7f-b53e-b4907dbfc442",
   "metadata": {},
   "outputs": [
    {
     "data": {
      "text/plain": [
       "[1] \"1996-05-23 23:45:17 CDT\""
      ]
     },
     "metadata": {},
     "output_type": "display_data"
    }
   ],
   "source": [
    "POS1 <- as.POSIXct(str4, format = \"%b %d, '%y hours:%H minutes: %M seconds:%S\")\n",
    "POS1"
   ]
  },
  {
   "cell_type": "markdown",
   "id": "eb30d430-843b-4a3f-97ed-3f2cb41d45ce",
   "metadata": {},
   "source": [
    "#### Date to String"
   ]
  },
  {
   "cell_type": "code",
   "execution_count": 11,
   "id": "cc1dac8e-9c4d-4a0c-bb2a-88950380feb9",
   "metadata": {},
   "outputs": [
    {
     "data": {
      "text/html": [
       "'May 23 =96='"
      ],
      "text/latex": [
       "'May 23 =96='"
      ],
      "text/markdown": [
       "'May 23 =96='"
      ],
      "text/plain": [
       "[1] \"May 23 =96=\""
      ]
     },
     "metadata": {},
     "output_type": "display_data"
    }
   ],
   "source": [
    "format(d1, \"%b %d =%y=\")"
   ]
  },
  {
   "cell_type": "markdown",
   "id": "5fe4fe47-9d26-4c3a-9740-19f5f077ce12",
   "metadata": {},
   "source": [
    "#### Operaciones fechas"
   ]
  },
  {
   "cell_type": "code",
   "execution_count": 12,
   "id": "6b0b8dbd-815e-402c-a8e6-5214892a5b84",
   "metadata": {},
   "outputs": [
    {
     "data": {
      "text/html": [
       "<time datetime=\"1996-05-24\">1996-05-24</time>"
      ],
      "text/latex": [
       "1996-05-24"
      ],
      "text/markdown": [
       "1996-05-24"
      ],
      "text/plain": [
       "[1] \"1996-05-24\""
      ]
     },
     "metadata": {},
     "output_type": "display_data"
    }
   ],
   "source": [
    "d1 + 1"
   ]
  },
  {
   "cell_type": "code",
   "execution_count": 13,
   "id": "36f37da4-8657-472f-b1d8-b66c431d0851",
   "metadata": {},
   "outputs": [
    {
     "data": {
      "text/plain": [
       "Time difference of 5775 days"
      ]
     },
     "metadata": {},
     "output_type": "display_data"
    }
   ],
   "source": [
    "d2 - d1"
   ]
  },
  {
   "cell_type": "code",
   "execution_count": 14,
   "id": "accd1a2d-2091-4138-a013-8d614f2d5cdb",
   "metadata": {},
   "outputs": [],
   "source": [
    "day1 <- as.Date(\"2025-04-19\")\n",
    "day2 <- as.Date(\"2025-04-21\")\n",
    "day3 <- as.Date(\"2025-04-26\")\n",
    "day4 <- as.Date(\"2025-05-02\")\n",
    "day5 <- as.Date(\"2025-05-07\")"
   ]
  },
  {
   "cell_type": "code",
   "execution_count": 15,
   "id": "f7213b74-eefe-46b8-956f-7692ca1dc92b",
   "metadata": {},
   "outputs": [
    {
     "data": {
      "text/html": [
       "<style>\n",
       ".list-inline {list-style: none; margin:0; padding: 0}\n",
       ".list-inline>li {display: inline-block}\n",
       ".list-inline>li:not(:last-child)::after {content: \"\\00b7\"; padding: 0 .5ex}\n",
       "</style>\n",
       "<ol class=list-inline><li><time datetime=\"2025-04-19\">2025-04-19</time></li><li><time datetime=\"2025-04-21\">2025-04-21</time></li><li><time datetime=\"2025-04-26\">2025-04-26</time></li><li><time datetime=\"2025-05-02\">2025-05-02</time></li><li><time datetime=\"2025-05-07\">2025-05-07</time></li></ol>\n"
      ],
      "text/latex": [
       "\\begin{enumerate*}\n",
       "\\item 2025-04-19\n",
       "\\item 2025-04-21\n",
       "\\item 2025-04-26\n",
       "\\item 2025-05-02\n",
       "\\item 2025-05-07\n",
       "\\end{enumerate*}\n"
      ],
      "text/markdown": [
       "1. 2025-04-19\n",
       "2. 2025-04-21\n",
       "3. 2025-04-26\n",
       "4. 2025-05-02\n",
       "5. 2025-05-07\n",
       "\n",
       "\n"
      ],
      "text/plain": [
       "[1] \"2025-04-19\" \"2025-04-21\" \"2025-04-26\" \"2025-05-02\" \"2025-05-07\""
      ]
     },
     "metadata": {},
     "output_type": "display_data"
    }
   ],
   "source": [
    "pizza <- c(day1, day2, day3, day4, day5)\n",
    "pizza"
   ]
  },
  {
   "cell_type": "code",
   "execution_count": 16,
   "id": "52c286eb-56a8-44e9-bd87-99c3b938d49b",
   "metadata": {},
   "outputs": [
    {
     "data": {
      "text/plain": [
       "Time differences in days\n",
       "[1] 2 5 6 5"
      ]
     },
     "metadata": {},
     "output_type": "display_data"
    }
   ],
   "source": [
    "day_diffs <- diff(pizza)\n",
    "day_diffs"
   ]
  },
  {
   "cell_type": "code",
   "execution_count": 17,
   "id": "4b58480c-8f06-416f-b618-70abacdd91dc",
   "metadata": {},
   "outputs": [
    {
     "data": {
      "text/plain": [
       "Time difference of 4.5 days"
      ]
     },
     "metadata": {},
     "output_type": "display_data"
    }
   ],
   "source": [
    "mean(day_diffs)"
   ]
  },
  {
   "cell_type": "code",
   "execution_count": 18,
   "id": "edd3fb97-e256-45ff-b3c5-70a579f077fc",
   "metadata": {},
   "outputs": [
    {
     "data": {
      "text/html": [
       "'difftime'"
      ],
      "text/latex": [
       "'difftime'"
      ],
      "text/markdown": [
       "'difftime'"
      ],
      "text/plain": [
       "[1] \"difftime\""
      ]
     },
     "metadata": {},
     "output_type": "display_data"
    }
   ],
   "source": [
    "class(mean(day_diffs))"
   ]
  },
  {
   "cell_type": "code",
   "execution_count": null,
   "id": "1c8220eb-61e9-463a-ac7e-55b8cb34af9a",
   "metadata": {},
   "outputs": [],
   "source": []
  }
 ],
 "metadata": {
  "kernelspec": {
   "display_name": "R",
   "language": "R",
   "name": "ir"
  },
  "language_info": {
   "codemirror_mode": "r",
   "file_extension": ".r",
   "mimetype": "text/x-r-source",
   "name": "R",
   "pygments_lexer": "r",
   "version": "4.3.3"
  }
 },
 "nbformat": 4,
 "nbformat_minor": 5
}
