{
 "cells": [
  {
   "cell_type": "markdown",
   "id": "7bcb0d05-0398-4e5b-9bbc-d06b9d64df7b",
   "metadata": {},
   "source": [
    "371024 Introducción al Aprendizaje Máquina  \n",
    "Tarea Regresión Logística  \n",
    "`Lic. Jose Ricardo Mendoza Villar`"
   ]
  },
  {
   "cell_type": "markdown",
   "id": "47f5d97b-a605-4649-b0ef-1a5f1c4bac6f",
   "metadata": {},
   "source": [
    "# 1. Escoger una base de datos de kaggle con al menos 5 columnas para entrenar un modelo de regresión logística, incluir el link a la base de datos.  \n",
    "- Base de Datos: https://www.kaggle.com/datasets/johnsmith88/heart-disease-dataset"
   ]
  },
  {
   "cell_type": "code",
   "execution_count": 1,
   "id": "e7f18d8e-68cb-4dc2-b117-985aa7ae9e77",
   "metadata": {},
   "outputs": [],
   "source": [
    "import pandas as pd\n",
    "import numpy as np\n",
    "import matplotlib.pyplot as plt"
   ]
  },
  {
   "cell_type": "code",
   "execution_count": 2,
   "id": "f99d1167-828d-4d21-9bb9-e209b75be95e",
   "metadata": {},
   "outputs": [],
   "source": [
    "df = pd.read_csv(\"heart.csv\")"
   ]
  },
  {
   "cell_type": "code",
   "execution_count": 3,
   "id": "3b7b0355-208d-48e2-ab73-7132f643c551",
   "metadata": {},
   "outputs": [
    {
     "data": {
      "text/html": [
       "<div>\n",
       "<style scoped>\n",
       "    .dataframe tbody tr th:only-of-type {\n",
       "        vertical-align: middle;\n",
       "    }\n",
       "\n",
       "    .dataframe tbody tr th {\n",
       "        vertical-align: top;\n",
       "    }\n",
       "\n",
       "    .dataframe thead th {\n",
       "        text-align: right;\n",
       "    }\n",
       "</style>\n",
       "<table border=\"1\" class=\"dataframe\">\n",
       "  <thead>\n",
       "    <tr style=\"text-align: right;\">\n",
       "      <th></th>\n",
       "      <th>age</th>\n",
       "      <th>sex</th>\n",
       "      <th>cp</th>\n",
       "      <th>trestbps</th>\n",
       "      <th>chol</th>\n",
       "      <th>fbs</th>\n",
       "      <th>restecg</th>\n",
       "      <th>thalach</th>\n",
       "      <th>exang</th>\n",
       "      <th>oldpeak</th>\n",
       "      <th>slope</th>\n",
       "      <th>ca</th>\n",
       "      <th>thal</th>\n",
       "      <th>target</th>\n",
       "    </tr>\n",
       "  </thead>\n",
       "  <tbody>\n",
       "    <tr>\n",
       "      <th>0</th>\n",
       "      <td>52</td>\n",
       "      <td>1</td>\n",
       "      <td>0</td>\n",
       "      <td>125</td>\n",
       "      <td>212</td>\n",
       "      <td>0</td>\n",
       "      <td>1</td>\n",
       "      <td>168</td>\n",
       "      <td>0</td>\n",
       "      <td>1.0</td>\n",
       "      <td>2</td>\n",
       "      <td>2</td>\n",
       "      <td>3</td>\n",
       "      <td>0</td>\n",
       "    </tr>\n",
       "    <tr>\n",
       "      <th>1</th>\n",
       "      <td>53</td>\n",
       "      <td>1</td>\n",
       "      <td>0</td>\n",
       "      <td>140</td>\n",
       "      <td>203</td>\n",
       "      <td>1</td>\n",
       "      <td>0</td>\n",
       "      <td>155</td>\n",
       "      <td>1</td>\n",
       "      <td>3.1</td>\n",
       "      <td>0</td>\n",
       "      <td>0</td>\n",
       "      <td>3</td>\n",
       "      <td>0</td>\n",
       "    </tr>\n",
       "    <tr>\n",
       "      <th>2</th>\n",
       "      <td>70</td>\n",
       "      <td>1</td>\n",
       "      <td>0</td>\n",
       "      <td>145</td>\n",
       "      <td>174</td>\n",
       "      <td>0</td>\n",
       "      <td>1</td>\n",
       "      <td>125</td>\n",
       "      <td>1</td>\n",
       "      <td>2.6</td>\n",
       "      <td>0</td>\n",
       "      <td>0</td>\n",
       "      <td>3</td>\n",
       "      <td>0</td>\n",
       "    </tr>\n",
       "  </tbody>\n",
       "</table>\n",
       "</div>"
      ],
      "text/plain": [
       "   age  sex  cp  trestbps  chol  fbs  restecg  thalach  exang  oldpeak  slope  \\\n",
       "0   52    1   0       125   212    0        1      168      0      1.0      2   \n",
       "1   53    1   0       140   203    1        0      155      1      3.1      0   \n",
       "2   70    1   0       145   174    0        1      125      1      2.6      0   \n",
       "\n",
       "   ca  thal  target  \n",
       "0   2     3       0  \n",
       "1   0     3       0  \n",
       "2   0     3       0  "
      ]
     },
     "execution_count": 3,
     "metadata": {},
     "output_type": "execute_result"
    }
   ],
   "source": [
    "df.head(3)"
   ]
  },
  {
   "cell_type": "code",
   "execution_count": 4,
   "id": "46a2c697-1356-4db8-ba9f-d4640d148edc",
   "metadata": {},
   "outputs": [],
   "source": [
    "categorical_columns = [\"slope\", \"restecg\", \"thal\", \"cp\", \"ca\"]\n",
    "for categorical_column in categorical_columns: \n",
    "    dummies = pd.get_dummies(df[categorical_column], dtype = int, prefix = categorical_column, drop_first = True)\n",
    "    df = df.drop([categorical_column], axis = 1)\n",
    "    df = pd.concat([df, dummies], axis = 1)"
   ]
  },
  {
   "cell_type": "code",
   "execution_count": 5,
   "id": "e767a034-7782-4845-bbb4-16de1b361732",
   "metadata": {},
   "outputs": [
    {
     "data": {
      "text/html": [
       "<div>\n",
       "<style scoped>\n",
       "    .dataframe tbody tr th:only-of-type {\n",
       "        vertical-align: middle;\n",
       "    }\n",
       "\n",
       "    .dataframe tbody tr th {\n",
       "        vertical-align: top;\n",
       "    }\n",
       "\n",
       "    .dataframe thead th {\n",
       "        text-align: right;\n",
       "    }\n",
       "</style>\n",
       "<table border=\"1\" class=\"dataframe\">\n",
       "  <thead>\n",
       "    <tr style=\"text-align: right;\">\n",
       "      <th></th>\n",
       "      <th>age</th>\n",
       "      <th>sex</th>\n",
       "      <th>trestbps</th>\n",
       "      <th>chol</th>\n",
       "      <th>fbs</th>\n",
       "      <th>thalach</th>\n",
       "      <th>exang</th>\n",
       "      <th>oldpeak</th>\n",
       "      <th>target</th>\n",
       "      <th>slope_1</th>\n",
       "      <th>...</th>\n",
       "      <th>thal_1</th>\n",
       "      <th>thal_2</th>\n",
       "      <th>thal_3</th>\n",
       "      <th>cp_1</th>\n",
       "      <th>cp_2</th>\n",
       "      <th>cp_3</th>\n",
       "      <th>ca_1</th>\n",
       "      <th>ca_2</th>\n",
       "      <th>ca_3</th>\n",
       "      <th>ca_4</th>\n",
       "    </tr>\n",
       "  </thead>\n",
       "  <tbody>\n",
       "    <tr>\n",
       "      <th>0</th>\n",
       "      <td>52</td>\n",
       "      <td>1</td>\n",
       "      <td>125</td>\n",
       "      <td>212</td>\n",
       "      <td>0</td>\n",
       "      <td>168</td>\n",
       "      <td>0</td>\n",
       "      <td>1.0</td>\n",
       "      <td>0</td>\n",
       "      <td>0</td>\n",
       "      <td>...</td>\n",
       "      <td>0</td>\n",
       "      <td>0</td>\n",
       "      <td>1</td>\n",
       "      <td>0</td>\n",
       "      <td>0</td>\n",
       "      <td>0</td>\n",
       "      <td>0</td>\n",
       "      <td>1</td>\n",
       "      <td>0</td>\n",
       "      <td>0</td>\n",
       "    </tr>\n",
       "    <tr>\n",
       "      <th>1</th>\n",
       "      <td>53</td>\n",
       "      <td>1</td>\n",
       "      <td>140</td>\n",
       "      <td>203</td>\n",
       "      <td>1</td>\n",
       "      <td>155</td>\n",
       "      <td>1</td>\n",
       "      <td>3.1</td>\n",
       "      <td>0</td>\n",
       "      <td>0</td>\n",
       "      <td>...</td>\n",
       "      <td>0</td>\n",
       "      <td>0</td>\n",
       "      <td>1</td>\n",
       "      <td>0</td>\n",
       "      <td>0</td>\n",
       "      <td>0</td>\n",
       "      <td>0</td>\n",
       "      <td>0</td>\n",
       "      <td>0</td>\n",
       "      <td>0</td>\n",
       "    </tr>\n",
       "    <tr>\n",
       "      <th>2</th>\n",
       "      <td>70</td>\n",
       "      <td>1</td>\n",
       "      <td>145</td>\n",
       "      <td>174</td>\n",
       "      <td>0</td>\n",
       "      <td>125</td>\n",
       "      <td>1</td>\n",
       "      <td>2.6</td>\n",
       "      <td>0</td>\n",
       "      <td>0</td>\n",
       "      <td>...</td>\n",
       "      <td>0</td>\n",
       "      <td>0</td>\n",
       "      <td>1</td>\n",
       "      <td>0</td>\n",
       "      <td>0</td>\n",
       "      <td>0</td>\n",
       "      <td>0</td>\n",
       "      <td>0</td>\n",
       "      <td>0</td>\n",
       "      <td>0</td>\n",
       "    </tr>\n",
       "  </tbody>\n",
       "</table>\n",
       "<p>3 rows × 23 columns</p>\n",
       "</div>"
      ],
      "text/plain": [
       "   age  sex  trestbps  chol  fbs  thalach  exang  oldpeak  target  slope_1  \\\n",
       "0   52    1       125   212    0      168      0      1.0       0        0   \n",
       "1   53    1       140   203    1      155      1      3.1       0        0   \n",
       "2   70    1       145   174    0      125      1      2.6       0        0   \n",
       "\n",
       "   ...  thal_1  thal_2  thal_3  cp_1  cp_2  cp_3  ca_1  ca_2  ca_3  ca_4  \n",
       "0  ...       0       0       1     0     0     0     0     1     0     0  \n",
       "1  ...       0       0       1     0     0     0     0     0     0     0  \n",
       "2  ...       0       0       1     0     0     0     0     0     0     0  \n",
       "\n",
       "[3 rows x 23 columns]"
      ]
     },
     "execution_count": 5,
     "metadata": {},
     "output_type": "execute_result"
    }
   ],
   "source": [
    "df.head(3)"
   ]
  },
  {
   "cell_type": "markdown",
   "id": "eb086a66-4d8c-4d73-a3fb-b1522ac78f5d",
   "metadata": {
    "execution": {
     "iopub.execute_input": "2025-04-02T19:48:17.953485Z",
     "iopub.status.busy": "2025-04-02T19:48:17.896955Z",
     "iopub.status.idle": "2025-04-02T19:48:18.170009Z",
     "shell.execute_reply": "2025-04-02T19:48:18.166365Z",
     "shell.execute_reply.started": "2025-04-02T19:48:17.953322Z"
    }
   },
   "source": [
    "# 2. Escoger una de las columnas de la base de datos como variable objetivo."
   ]
  },
  {
   "cell_type": "code",
   "execution_count": 6,
   "id": "41ca45ca-984c-4705-a3b8-1a64fb666aae",
   "metadata": {},
   "outputs": [],
   "source": [
    "X = df.drop(\"target\", axis = 1)\n",
    "y = df[\"target\"]"
   ]
  },
  {
   "cell_type": "code",
   "execution_count": 7,
   "id": "441388a2-9f23-46f6-89cc-d42bb77bc34d",
   "metadata": {},
   "outputs": [
    {
     "data": {
      "text/plain": [
       "target\n",
       "1    526\n",
       "0    499\n",
       "Name: count, dtype: int64"
      ]
     },
     "execution_count": 7,
     "metadata": {},
     "output_type": "execute_result"
    }
   ],
   "source": [
    "y.value_counts() # Clases balanceadas"
   ]
  },
  {
   "cell_type": "markdown",
   "id": "b9eee665-4942-4ee1-a4cb-1a2248636825",
   "metadata": {},
   "source": [
    "# 3. Separar la base de datos en una de entrenamiento y otra de prueba."
   ]
  },
  {
   "cell_type": "code",
   "execution_count": 8,
   "id": "bc5d4ad3-df6d-4124-aff3-1c0930fb25c4",
   "metadata": {},
   "outputs": [],
   "source": [
    "from sklearn.model_selection import train_test_split"
   ]
  },
  {
   "cell_type": "code",
   "execution_count": 9,
   "id": "870565be-4ff2-403e-96c4-eff1eb4f5e28",
   "metadata": {},
   "outputs": [],
   "source": [
    "X_train, X_test, y_train, y_test = train_test_split(X, y, test_size=0.3, random_state=20250428)"
   ]
  },
  {
   "cell_type": "markdown",
   "id": "6c746411-b177-4ab6-ab3b-75d0639cf739",
   "metadata": {},
   "source": [
    "# 4. Las columnas restantes serán utilizadas como variables descriptivas en modelos de regresión logística. Escoger 3 de estas variables y, para cada una:\n",
    "a. Entrenar un modelo de regresión logística simple, utilizando la base de entrenamiento (realizar un gráfico de la dispersión de los puntos).  \n",
    "b. Utilizar el modelo entrenado para hacer predicciones en la base de prueba.  \n",
    "c. Obtener la matriz de confusión y obtener el reporte de clasificación.  \n",
    "d. Dar conclusiones sobre qué quiere decir la exactitud, presición y recall obtenidos, en términos del problema que se está estudiando. "
   ]
  },
  {
   "cell_type": "code",
   "execution_count": 10,
   "id": "d791307a-9e7a-4221-b45d-f7a04483c5d2",
   "metadata": {},
   "outputs": [],
   "source": [
    "from sklearn.linear_model import LogisticRegression\n",
    "from sklearn.metrics import confusion_matrix, classification_report"
   ]
  },
  {
   "cell_type": "code",
   "execution_count": 11,
   "id": "0b331532-5c6e-44d9-ad7d-227c018b8b1d",
   "metadata": {},
   "outputs": [
    {
     "name": "stdout",
     "output_type": "stream",
     "text": [
      "##################################################\n",
      "-----Característica descriptiva: chol ----\n",
      "----- Gráfico de Dispersión ----\n"
     ]
    },
    {
     "data": {
      "image/png": "[encoded data removed]",
      "text/plain": [
       "<Figure size 640x480 with 1 Axes>"
      ]
     },
     "metadata": {},
     "output_type": "display_data"
    },
    {
     "name": "stdout",
     "output_type": "stream",
     "text": [
      "[[75 56]\n",
      " [88 89]]\n",
      "              precision    recall  f1-score   support\n",
      "\n",
      "           0       0.46      0.57      0.51       131\n",
      "           1       0.61      0.50      0.55       177\n",
      "\n",
      "    accuracy                           0.53       308\n",
      "   macro avg       0.54      0.54      0.53       308\n",
      "weighted avg       0.55      0.53      0.53       308\n",
      "\n",
      "##################################################\n",
      "-----Característica descriptiva: oldpeak ----\n",
      "----- Gráfico de Dispersión ----\n"
     ]
    },
    {
     "data": {
      "image/png": "[encoded data removed]",
      "text/plain": [
       "<Figure size 640x480 with 1 Axes>"
      ]
     },
     "metadata": {},
     "output_type": "display_data"
    },
    {
     "name": "stdout",
     "output_type": "stream",
     "text": [
      "[[ 88  43]\n",
      " [ 53 124]]\n",
      "              precision    recall  f1-score   support\n",
      "\n",
      "           0       0.62      0.67      0.65       131\n",
      "           1       0.74      0.70      0.72       177\n",
      "\n",
      "    accuracy                           0.69       308\n",
      "   macro avg       0.68      0.69      0.68       308\n",
      "weighted avg       0.69      0.69      0.69       308\n",
      "\n",
      "##################################################\n",
      "-----Característica descriptiva: trestbps ----\n",
      "----- Gráfico de Dispersión ----\n"
     ]
    },
    {
     "data": {
      "image/png": "[encoded data removed]",
      "text/plain": [
       "<Figure size 640x480 with 1 Axes>"
      ]
     },
     "metadata": {},
     "output_type": "display_data"
    },
    {
     "name": "stdout",
     "output_type": "stream",
     "text": [
      "[[83 48]\n",
      " [91 86]]\n",
      "              precision    recall  f1-score   support\n",
      "\n",
      "           0       0.48      0.63      0.54       131\n",
      "           1       0.64      0.49      0.55       177\n",
      "\n",
      "    accuracy                           0.55       308\n",
      "   macro avg       0.56      0.56      0.55       308\n",
      "weighted avg       0.57      0.55      0.55       308\n",
      "\n"
     ]
    }
   ],
   "source": [
    "for colname in [\"chol\", \"oldpeak\", \"trestbps\"]:\n",
    "    print(\"#\"*50)\n",
    "    print(f\"-----Característica descriptiva: {colname} ----\")\n",
    "    logreg = LogisticRegression()\n",
    "    # A. Entrenar el modelo, utilizando la base de entrenamiento\n",
    "    logreg.fit(X_train[[colname]], y_train)\n",
    "\n",
    "    x_graph = pd.DataFrame(np.linspace(\n",
    "        X_test[[colname]].min().iloc[0],\n",
    "        X_test[[colname]].max().iloc[0], \n",
    "        100\n",
    "    ).reshape(-1, 1), columns = [colname])\n",
    "    y_proba = logreg.predict_proba(x_graph)[:, 1]\n",
    "    \n",
    "    predicciones = logreg.predict_proba(X_test[[colname]])[:, 1]\n",
    "    print(\"----- Gráfico de Dispersión ----\")\n",
    "    plt.scatter(X[[colname]], y)\n",
    "    plt.scatter(x_graph, y_proba)\n",
    "    plt.plot(x_graph, y_proba)\n",
    "    plt.show()\n",
    "\n",
    "    # B. Realizar predicciones en la base de prueba\n",
    "    y_pred = logreg.predict(X_test[[colname]])\n",
    "    \n",
    "    # C.  Obtener la matriz de confusión y obtener el reporte de clasificación.\n",
    "    print(confusion_matrix(y_test, y_pred))\n",
    "    print(classification_report(y_test, y_pred))"
   ]
  },
  {
   "cell_type": "markdown",
   "id": "811f5336-7ad3-43aa-8ef1-0760d394daaa",
   "metadata": {},
   "source": [
    "D)\n",
    "- Exactitud: Mide el % de los casos donde el modelo predijo correctamente si un paciente tiene(1) o no (0) enfermedad cardíaca.\n",
    "- Precisión: Se busca una alta precisión cuando el resultado del modelo puede derivar en un tratamiento que pueda tener consecuencias fuertes (ej: cirugía innecesaria). Es decir cuando se desea minimizar los falsos positivos.\n",
    "- Recall: En caso que el resultado del modelo gener un diagnóstico médico, se buscaria un recall alto, porque un falso negativo (no detectar una enfermedad real a tiempo) puede ser mortal."
   ]
  },
  {
   "cell_type": "markdown",
   "id": "3a3ff642-5e99-4f5b-82bb-9c1bd74cfcd8",
   "metadata": {},
   "source": [
    "# 5. Entrenar un modelo de regresión logística utilizando todas las variables descriptivas."
   ]
  },
  {
   "cell_type": "code",
   "execution_count": 12,
   "id": "d9ee2eb8-6a58-40d9-8e45-de6e220f97b2",
   "metadata": {},
   "outputs": [],
   "source": [
    "logreg = LogisticRegression(max_iter=10000)\n",
    "logreg.fit(X_train, y_train)\n",
    "y_pred = logreg.predict(X_test)"
   ]
  },
  {
   "cell_type": "markdown",
   "id": "54e8fd8a-dee8-4449-b568-8aa6c61e921f",
   "metadata": {},
   "source": [
    "# 6. Obtener la matriz de confusión y reporte de clasificación del modelo anterior y compararlas con las métricas de los modelos del punto 4c. ¿Qué puede decir de esta comparación?"
   ]
  },
  {
   "cell_type": "code",
   "execution_count": 13,
   "id": "1ec8b548-9109-45f5-bf84-809ecc10aa67",
   "metadata": {},
   "outputs": [
    {
     "name": "stdout",
     "output_type": "stream",
     "text": [
      "[[115  16]\n",
      " [ 24 153]]\n",
      "              precision    recall  f1-score   support\n",
      "\n",
      "           0       0.83      0.88      0.85       131\n",
      "           1       0.91      0.86      0.88       177\n",
      "\n",
      "    accuracy                           0.87       308\n",
      "   macro avg       0.87      0.87      0.87       308\n",
      "weighted avg       0.87      0.87      0.87       308\n",
      "\n"
     ]
    }
   ],
   "source": [
    "print(confusion_matrix(y_test, y_pred))\n",
    "print(classification_report(y_test, y_pred))"
   ]
  },
  {
   "cell_type": "markdown",
   "id": "82667f51-c478-4805-9ad3-af5e6a3e2641",
   "metadata": {},
   "source": [
    "Si se comparan las regresiones logísticas de una sola variable vs el modelo con todas las características, vemos que las regresiones univariables tienen una métrica de exactitud inferior al 70%, de hecho al contrastar las gráficas, podemos ver como las clases están distribuidas tanto en los valores 0 y 1 por todo el eje de la x, sin un comportamiento que permita segmentar de forma adecuada, razón por la cual, al graficar las sigmoides, estas se encuentran muy aplanadas en el eje y; en general, realizar la regresión con todas las características ayudó mucho al modelo a tener métricas estables, con una precisión del 0.91% y un recall del 0.86% idealmente en un contexto médico nuestro modelo minimiza mejor los falsos positivos que los negativos por lo que podría resultar más valioso en un contexto de tratamiento que preventivo, aunque en temas de salud, se buscaría un modelo mucho más preciso que minimice en mayor medida estas métricas, pues cualquier sesgo puede ser clave entre la vida y la muerte de un paciente."
   ]
  },
  {
   "cell_type": "code",
   "execution_count": null,
   "id": "9524bac3-27a8-4e87-86bc-10d6e475ffaf",
   "metadata": {},
   "outputs": [],
   "source": []
  }
 ],
 "metadata": {
  "kernelspec": {
   "display_name": "Python 3 (ipykernel)",
   "language": "python",
   "name": "python3"
  },
  "language_info": {
   "codemirror_mode": {
    "name": "ipython",
    "version": 3
   },
   "file_extension": ".py",
   "mimetype": "text/x-python",
   "name": "python",
   "nbconvert_exporter": "python",
   "pygments_lexer": "ipython3",
   "version": "3.12.3"
  }
 },
 "nbformat": 4,
 "nbformat_minor": 5
}
