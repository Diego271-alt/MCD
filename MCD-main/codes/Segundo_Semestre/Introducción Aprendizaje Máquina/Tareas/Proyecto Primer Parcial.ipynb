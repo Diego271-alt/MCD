{
 "cells": [
  {
   "cell_type": "markdown",
   "id": "7bcb0d05-0398-4e5b-9bbc-d06b9d64df7b",
   "metadata": {},
   "source": [
    "371024 Introducción al Aprendizaje Máquina  \n",
    "Proyecto Primer Parcial  \n",
    "`Lic. Jose Ricardo Mendoza Villar`"
   ]
  },
  {
   "cell_type": "markdown",
   "id": "47f5d97b-a605-4649-b0ef-1a5f1c4bac6f",
   "metadata": {},
   "source": [
    "# 1. Escoger una base de datos de kaggle con al menos 5 columnas para entrenar un modelo de regresión lineal múltiple, incluir el link a la base de datos.  \n",
    "- Base de Datos: https://www.kaggle.com/datasets/fedesoriano/the-boston-houseprice-data"
   ]
  },
  {
   "cell_type": "code",
   "execution_count": 1,
   "id": "e7f18d8e-68cb-4dc2-b117-985aa7ae9e77",
   "metadata": {
    "execution": {
     "iopub.execute_input": "2025-04-03T00:18:58.434310Z",
     "iopub.status.busy": "2025-04-03T00:18:58.433978Z",
     "iopub.status.idle": "2025-04-03T00:19:01.882330Z",
     "shell.execute_reply": "2025-04-03T00:19:01.876683Z",
     "shell.execute_reply.started": "2025-04-03T00:18:58.434282Z"
    }
   },
   "outputs": [],
   "source": [
    "import pandas as pd\n",
    "import matplotlib.pyplot as plt"
   ]
  },
  {
   "cell_type": "code",
   "execution_count": 2,
   "id": "f99d1167-828d-4d21-9bb9-e209b75be95e",
   "metadata": {
    "execution": {
     "iopub.execute_input": "2025-04-03T00:19:01.887009Z",
     "iopub.status.busy": "2025-04-03T00:19:01.885643Z",
     "iopub.status.idle": "2025-04-03T00:19:01.971803Z",
     "shell.execute_reply": "2025-04-03T00:19:01.969913Z",
     "shell.execute_reply.started": "2025-04-03T00:19:01.886961Z"
    }
   },
   "outputs": [],
   "source": [
    "df = pd.read_csv(\"boston.csv\")"
   ]
  },
  {
   "cell_type": "code",
   "execution_count": 3,
   "id": "46a2c697-1356-4db8-ba9f-d4640d148edc",
   "metadata": {
    "execution": {
     "iopub.execute_input": "2025-04-03T00:19:01.973463Z",
     "iopub.status.busy": "2025-04-03T00:19:01.973185Z",
     "iopub.status.idle": "2025-04-03T00:19:02.025113Z",
     "shell.execute_reply": "2025-04-03T00:19:02.023140Z",
     "shell.execute_reply.started": "2025-04-03T00:19:01.973440Z"
    }
   },
   "outputs": [
    {
     "data": {
      "text/html": [
       "<div>\n",
       "<style scoped>\n",
       "    .dataframe tbody tr th:only-of-type {\n",
       "        vertical-align: middle;\n",
       "    }\n",
       "\n",
       "    .dataframe tbody tr th {\n",
       "        vertical-align: top;\n",
       "    }\n",
       "\n",
       "    .dataframe thead th {\n",
       "        text-align: right;\n",
       "    }\n",
       "</style>\n",
       "<table border=\"1\" class=\"dataframe\">\n",
       "  <thead>\n",
       "    <tr style=\"text-align: right;\">\n",
       "      <th></th>\n",
       "      <th>CRIM</th>\n",
       "      <th>ZN</th>\n",
       "      <th>INDUS</th>\n",
       "      <th>CHAS</th>\n",
       "      <th>NOX</th>\n",
       "      <th>RM</th>\n",
       "      <th>AGE</th>\n",
       "      <th>DIS</th>\n",
       "      <th>RAD</th>\n",
       "      <th>TAX</th>\n",
       "      <th>PTRATIO</th>\n",
       "      <th>B</th>\n",
       "      <th>LSTAT</th>\n",
       "      <th>MEDV</th>\n",
       "    </tr>\n",
       "  </thead>\n",
       "  <tbody>\n",
       "    <tr>\n",
       "      <th>0</th>\n",
       "      <td>0.00632</td>\n",
       "      <td>18.0</td>\n",
       "      <td>2.31</td>\n",
       "      <td>0</td>\n",
       "      <td>0.538</td>\n",
       "      <td>6.575</td>\n",
       "      <td>65.2</td>\n",
       "      <td>4.0900</td>\n",
       "      <td>1</td>\n",
       "      <td>296.0</td>\n",
       "      <td>15.3</td>\n",
       "      <td>396.90</td>\n",
       "      <td>4.98</td>\n",
       "      <td>24.0</td>\n",
       "    </tr>\n",
       "    <tr>\n",
       "      <th>1</th>\n",
       "      <td>0.02731</td>\n",
       "      <td>0.0</td>\n",
       "      <td>7.07</td>\n",
       "      <td>0</td>\n",
       "      <td>0.469</td>\n",
       "      <td>6.421</td>\n",
       "      <td>78.9</td>\n",
       "      <td>4.9671</td>\n",
       "      <td>2</td>\n",
       "      <td>242.0</td>\n",
       "      <td>17.8</td>\n",
       "      <td>396.90</td>\n",
       "      <td>9.14</td>\n",
       "      <td>21.6</td>\n",
       "    </tr>\n",
       "    <tr>\n",
       "      <th>2</th>\n",
       "      <td>0.02729</td>\n",
       "      <td>0.0</td>\n",
       "      <td>7.07</td>\n",
       "      <td>0</td>\n",
       "      <td>0.469</td>\n",
       "      <td>7.185</td>\n",
       "      <td>61.1</td>\n",
       "      <td>4.9671</td>\n",
       "      <td>2</td>\n",
       "      <td>242.0</td>\n",
       "      <td>17.8</td>\n",
       "      <td>392.83</td>\n",
       "      <td>4.03</td>\n",
       "      <td>34.7</td>\n",
       "    </tr>\n",
       "  </tbody>\n",
       "</table>\n",
       "</div>"
      ],
      "text/plain": [
       "      CRIM    ZN  INDUS  CHAS    NOX     RM   AGE     DIS  RAD    TAX  \\\n",
       "0  0.00632  18.0   2.31     0  0.538  6.575  65.2  4.0900    1  296.0   \n",
       "1  0.02731   0.0   7.07     0  0.469  6.421  78.9  4.9671    2  242.0   \n",
       "2  0.02729   0.0   7.07     0  0.469  7.185  61.1  4.9671    2  242.0   \n",
       "\n",
       "   PTRATIO       B  LSTAT  MEDV  \n",
       "0     15.3  396.90   4.98  24.0  \n",
       "1     17.8  396.90   9.14  21.6  \n",
       "2     17.8  392.83   4.03  34.7  "
      ]
     },
     "execution_count": 3,
     "metadata": {},
     "output_type": "execute_result"
    }
   ],
   "source": [
    "df.head(3)"
   ]
  },
  {
   "cell_type": "code",
   "execution_count": 4,
   "id": "e767a034-7782-4845-bbb4-16de1b361732",
   "metadata": {
    "execution": {
     "iopub.execute_input": "2025-04-03T00:19:02.028577Z",
     "iopub.status.busy": "2025-04-03T00:19:02.027007Z",
     "iopub.status.idle": "2025-04-03T00:19:02.064171Z",
     "shell.execute_reply": "2025-04-03T00:19:02.062132Z",
     "shell.execute_reply.started": "2025-04-03T00:19:02.028519Z"
    }
   },
   "outputs": [],
   "source": [
    "# Se realiza un one-hot encoding porque la variable RAD, representa un índice de accesibilidad, por lo que se le da un tratamiento categórico\n",
    "dummies = pd.get_dummies(df[\"RAD\"], dtype = int)\n",
    "dummies.columns = map(str, dummies.columns)\n",
    "df = pd.concat([dummies, df], axis=1).drop([\"RAD\"], axis = 1)"
   ]
  },
  {
   "cell_type": "code",
   "execution_count": 5,
   "id": "5131c5cb-a011-4287-a502-478321e09030",
   "metadata": {
    "execution": {
     "iopub.execute_input": "2025-04-03T00:19:02.065808Z",
     "iopub.status.busy": "2025-04-03T00:19:02.065513Z",
     "iopub.status.idle": "2025-04-03T00:19:02.102547Z",
     "shell.execute_reply": "2025-04-03T00:19:02.098906Z",
     "shell.execute_reply.started": "2025-04-03T00:19:02.065782Z"
    }
   },
   "outputs": [
    {
     "data": {
      "text/html": [
       "<div>\n",
       "<style scoped>\n",
       "    .dataframe tbody tr th:only-of-type {\n",
       "        vertical-align: middle;\n",
       "    }\n",
       "\n",
       "    .dataframe tbody tr th {\n",
       "        vertical-align: top;\n",
       "    }\n",
       "\n",
       "    .dataframe thead th {\n",
       "        text-align: right;\n",
       "    }\n",
       "</style>\n",
       "<table border=\"1\" class=\"dataframe\">\n",
       "  <thead>\n",
       "    <tr style=\"text-align: right;\">\n",
       "      <th></th>\n",
       "      <th>1</th>\n",
       "      <th>2</th>\n",
       "      <th>3</th>\n",
       "      <th>4</th>\n",
       "      <th>5</th>\n",
       "      <th>6</th>\n",
       "      <th>7</th>\n",
       "      <th>8</th>\n",
       "      <th>24</th>\n",
       "      <th>CRIM</th>\n",
       "      <th>...</th>\n",
       "      <th>CHAS</th>\n",
       "      <th>NOX</th>\n",
       "      <th>RM</th>\n",
       "      <th>AGE</th>\n",
       "      <th>DIS</th>\n",
       "      <th>TAX</th>\n",
       "      <th>PTRATIO</th>\n",
       "      <th>B</th>\n",
       "      <th>LSTAT</th>\n",
       "      <th>MEDV</th>\n",
       "    </tr>\n",
       "  </thead>\n",
       "  <tbody>\n",
       "    <tr>\n",
       "      <th>0</th>\n",
       "      <td>1</td>\n",
       "      <td>0</td>\n",
       "      <td>0</td>\n",
       "      <td>0</td>\n",
       "      <td>0</td>\n",
       "      <td>0</td>\n",
       "      <td>0</td>\n",
       "      <td>0</td>\n",
       "      <td>0</td>\n",
       "      <td>0.00632</td>\n",
       "      <td>...</td>\n",
       "      <td>0</td>\n",
       "      <td>0.538</td>\n",
       "      <td>6.575</td>\n",
       "      <td>65.2</td>\n",
       "      <td>4.0900</td>\n",
       "      <td>296.0</td>\n",
       "      <td>15.3</td>\n",
       "      <td>396.90</td>\n",
       "      <td>4.98</td>\n",
       "      <td>24.0</td>\n",
       "    </tr>\n",
       "    <tr>\n",
       "      <th>1</th>\n",
       "      <td>0</td>\n",
       "      <td>1</td>\n",
       "      <td>0</td>\n",
       "      <td>0</td>\n",
       "      <td>0</td>\n",
       "      <td>0</td>\n",
       "      <td>0</td>\n",
       "      <td>0</td>\n",
       "      <td>0</td>\n",
       "      <td>0.02731</td>\n",
       "      <td>...</td>\n",
       "      <td>0</td>\n",
       "      <td>0.469</td>\n",
       "      <td>6.421</td>\n",
       "      <td>78.9</td>\n",
       "      <td>4.9671</td>\n",
       "      <td>242.0</td>\n",
       "      <td>17.8</td>\n",
       "      <td>396.90</td>\n",
       "      <td>9.14</td>\n",
       "      <td>21.6</td>\n",
       "    </tr>\n",
       "    <tr>\n",
       "      <th>2</th>\n",
       "      <td>0</td>\n",
       "      <td>1</td>\n",
       "      <td>0</td>\n",
       "      <td>0</td>\n",
       "      <td>0</td>\n",
       "      <td>0</td>\n",
       "      <td>0</td>\n",
       "      <td>0</td>\n",
       "      <td>0</td>\n",
       "      <td>0.02729</td>\n",
       "      <td>...</td>\n",
       "      <td>0</td>\n",
       "      <td>0.469</td>\n",
       "      <td>7.185</td>\n",
       "      <td>61.1</td>\n",
       "      <td>4.9671</td>\n",
       "      <td>242.0</td>\n",
       "      <td>17.8</td>\n",
       "      <td>392.83</td>\n",
       "      <td>4.03</td>\n",
       "      <td>34.7</td>\n",
       "    </tr>\n",
       "  </tbody>\n",
       "</table>\n",
       "<p>3 rows × 22 columns</p>\n",
       "</div>"
      ],
      "text/plain": [
       "   1  2  3  4  5  6  7  8  24     CRIM  ...  CHAS    NOX     RM   AGE     DIS  \\\n",
       "0  1  0  0  0  0  0  0  0   0  0.00632  ...     0  0.538  6.575  65.2  4.0900   \n",
       "1  0  1  0  0  0  0  0  0   0  0.02731  ...     0  0.469  6.421  78.9  4.9671   \n",
       "2  0  1  0  0  0  0  0  0   0  0.02729  ...     0  0.469  7.185  61.1  4.9671   \n",
       "\n",
       "     TAX  PTRATIO       B  LSTAT  MEDV  \n",
       "0  296.0     15.3  396.90   4.98  24.0  \n",
       "1  242.0     17.8  396.90   9.14  21.6  \n",
       "2  242.0     17.8  392.83   4.03  34.7  \n",
       "\n",
       "[3 rows x 22 columns]"
      ]
     },
     "execution_count": 5,
     "metadata": {},
     "output_type": "execute_result"
    }
   ],
   "source": [
    "df.head(3)"
   ]
  },
  {
   "cell_type": "markdown",
   "id": "eb086a66-4d8c-4d73-a3fb-b1522ac78f5d",
   "metadata": {
    "execution": {
     "iopub.execute_input": "2025-04-02T19:48:17.953485Z",
     "iopub.status.busy": "2025-04-02T19:48:17.896955Z",
     "iopub.status.idle": "2025-04-02T19:48:18.170009Z",
     "shell.execute_reply": "2025-04-02T19:48:18.166365Z",
     "shell.execute_reply.started": "2025-04-02T19:48:17.953322Z"
    }
   },
   "source": [
    "# 2. Escoger una de las columnas de la base de datos como variable objetivo."
   ]
  },
  {
   "cell_type": "code",
   "execution_count": 6,
   "id": "41ca45ca-984c-4705-a3b8-1a64fb666aae",
   "metadata": {
    "execution": {
     "iopub.execute_input": "2025-04-03T00:19:02.106163Z",
     "iopub.status.busy": "2025-04-03T00:19:02.105505Z",
     "iopub.status.idle": "2025-04-03T00:19:02.120237Z",
     "shell.execute_reply": "2025-04-03T00:19:02.117592Z",
     "shell.execute_reply.started": "2025-04-03T00:19:02.106119Z"
    }
   },
   "outputs": [],
   "source": [
    "X = df.drop(\"MEDV\", axis = 1)\n",
    "y = df[[\"MEDV\"]]"
   ]
  },
  {
   "cell_type": "markdown",
   "id": "b9eee665-4942-4ee1-a4cb-1a2248636825",
   "metadata": {},
   "source": [
    "# 3. Separar la base de datos en una de entrenamiento y otra de prueba."
   ]
  },
  {
   "cell_type": "code",
   "execution_count": 7,
   "id": "bc5d4ad3-df6d-4124-aff3-1c0930fb25c4",
   "metadata": {
    "execution": {
     "iopub.execute_input": "2025-04-03T00:19:02.125422Z",
     "iopub.status.busy": "2025-04-03T00:19:02.125056Z",
     "iopub.status.idle": "2025-04-03T00:19:04.535355Z",
     "shell.execute_reply": "2025-04-03T00:19:04.533221Z",
     "shell.execute_reply.started": "2025-04-03T00:19:02.125395Z"
    }
   },
   "outputs": [],
   "source": [
    "from sklearn.model_selection import train_test_split\n",
    "from sklearn.metrics import root_mean_squared_error as rmse"
   ]
  },
  {
   "cell_type": "code",
   "execution_count": 8,
   "id": "870565be-4ff2-403e-96c4-eff1eb4f5e28",
   "metadata": {
    "execution": {
     "iopub.execute_input": "2025-04-03T00:19:04.537282Z",
     "iopub.status.busy": "2025-04-03T00:19:04.536851Z",
     "iopub.status.idle": "2025-04-03T00:19:04.560308Z",
     "shell.execute_reply": "2025-04-03T00:19:04.557528Z",
     "shell.execute_reply.started": "2025-04-03T00:19:04.537237Z"
    }
   },
   "outputs": [],
   "source": [
    "X_train, X_test, y_train, y_test = train_test_split(X, y, test_size=0.3, random_state=20250402) "
   ]
  },
  {
   "cell_type": "markdown",
   "id": "6c746411-b177-4ab6-ab3b-75d0639cf739",
   "metadata": {},
   "source": [
    "# 4. Las columnas restantes serán utilizadas como variables descriptivas en el modelo de regresión lineal. Escoger 3 de estas variables y, para cada una:\n",
    "a. Entrenar un modelo de regresión lineal simple, utilizando la base de entrenamiento.  \n",
    "b. Utilizar el modelo entrenado para hacer predicciones en la base de prueba.  \n",
    "c. Gráficar los datos en un diagrama de dispersión y dibujar la recta que mejor ajusta a los puntos.  \n",
    "d. Calcular las métricas de rendimiento “r cuadrado” y “rmse”."
   ]
  },
  {
   "cell_type": "code",
   "execution_count": 9,
   "id": "d791307a-9e7a-4221-b45d-f7a04483c5d2",
   "metadata": {
    "execution": {
     "iopub.execute_input": "2025-04-03T00:19:04.562169Z",
     "iopub.status.busy": "2025-04-03T00:19:04.561736Z",
     "iopub.status.idle": "2025-04-03T00:19:04.941503Z",
     "shell.execute_reply": "2025-04-03T00:19:04.940226Z",
     "shell.execute_reply.started": "2025-04-03T00:19:04.562137Z"
    }
   },
   "outputs": [],
   "source": [
    "from sklearn.linear_model import LinearRegression"
   ]
  },
  {
   "cell_type": "code",
   "execution_count": 10,
   "id": "0b331532-5c6e-44d9-ad7d-227c018b8b1d",
   "metadata": {
    "execution": {
     "iopub.execute_input": "2025-04-03T00:19:04.942984Z",
     "iopub.status.busy": "2025-04-03T00:19:04.942579Z",
     "iopub.status.idle": "2025-04-03T00:19:05.814415Z",
     "shell.execute_reply": "2025-04-03T00:19:05.813132Z",
     "shell.execute_reply.started": "2025-04-03T00:19:04.942954Z"
    }
   },
   "outputs": [
    {
     "name": "stdout",
     "output_type": "stream",
     "text": [
      "##################################################\n",
      "-----Característica descriptiva: TAX ----\n",
      "----- Diagrama de Dispersión ----\n"
     ]
    },
    {
     "data": {
      "image/png": "[encoded data removed]",
      "text/plain": [
       "<Figure size 640x480 with 1 Axes>"
      ]
     },
     "metadata": {},
     "output_type": "display_data"
    },
    {
     "name": "stdout",
     "output_type": "stream",
     "text": [
      "----- Métricas de Rendimiento ----\n",
      "R^2: 0.20178207140490034\n",
      "RMSE: 8.175548689171219\n",
      "##################################################\n",
      "-----Característica descriptiva: CRIM ----\n",
      "----- Diagrama de Dispersión ----\n"
     ]
    },
    {
     "data": {
      "image/png": "[encoded data removed]",
      "text/plain": [
       "<Figure size 640x480 with 1 Axes>"
      ]
     },
     "metadata": {},
     "output_type": "display_data"
    },
    {
     "name": "stdout",
     "output_type": "stream",
     "text": [
      "----- Métricas de Rendimiento ----\n",
      "R^2: 0.15028778171978108\n",
      "RMSE: 8.435136246313602\n",
      "##################################################\n",
      "-----Característica descriptiva: ZN ----\n",
      "----- Diagrama de Dispersión ----\n"
     ]
    },
    {
     "data": {
      "image/png": "[encoded data removed]",
      "text/plain": [
       "<Figure size 640x480 with 1 Axes>"
      ]
     },
     "metadata": {},
     "output_type": "display_data"
    },
    {
     "name": "stdout",
     "output_type": "stream",
     "text": [
      "----- Métricas de Rendimiento ----\n",
      "R^2: 0.08872738465970265\n",
      "RMSE: 8.735350390044065\n"
     ]
    }
   ],
   "source": [
    "for colname in [\"TAX\", \"CRIM\", \"ZN\"]:\n",
    "    print(\"#\"*50)\n",
    "    print(f\"-----Característica descriptiva: {colname} ----\")\n",
    "    regSimple = LinearRegression()\n",
    "    # A. Entrenar el modelo, utilizando la base de entrenamiento\n",
    "    regSimple.fit(X_train[[colname]], y_train)\n",
    "    # B. Realizar predicciones en la base de prueba\n",
    "    predicciones = regSimple.predict(X_test[[colname]])\n",
    "    # C. Diagrama de dispersión\n",
    "    print(\"----- Diagrama de Dispersión ----\")\n",
    "    plt.scatter(X[[colname]], y)\n",
    "    plt.scatter(X_test[[colname]], predicciones)\n",
    "    plt.plot(X_test[[colname]], predicciones)\n",
    "    plt.show()\n",
    "    # D. Métricas de rendimiento\n",
    "    print(\"----- Métricas de Rendimiento ----\")\n",
    "    print(f\"R^2: {regSimple.score(X_test[[colname]], y_test)}\")\n",
    "    print(f\"RMSE: {rmse(y_test, predicciones)}\")"
   ]
  },
  {
   "cell_type": "markdown",
   "id": "3a3ff642-5e99-4f5b-82bb-9c1bd74cfcd8",
   "metadata": {},
   "source": [
    "# 5. Entrenar un modelo de regresión lineal múltiple utilizando todas las variables descriptivas."
   ]
  },
  {
   "cell_type": "code",
   "execution_count": 11,
   "id": "d9ee2eb8-6a58-40d9-8e45-de6e220f97b2",
   "metadata": {
    "execution": {
     "iopub.execute_input": "2025-04-03T00:19:05.816466Z",
     "iopub.status.busy": "2025-04-03T00:19:05.815844Z",
     "iopub.status.idle": "2025-04-03T00:19:05.844675Z",
     "shell.execute_reply": "2025-04-03T00:19:05.842565Z",
     "shell.execute_reply.started": "2025-04-03T00:19:05.816435Z"
    }
   },
   "outputs": [],
   "source": [
    "regMultiple = LinearRegression()\n",
    "regMultiple.fit(X_train, y_train)\n",
    "predicciones = regMultiple.predict(X_test)"
   ]
  },
  {
   "cell_type": "markdown",
   "id": "54e8fd8a-dee8-4449-b568-8aa6c61e921f",
   "metadata": {},
   "source": [
    "# 6. Calcular las métricas de rendimiento “r cuadrado” y “rmse” para el modelo anterior y compararlas con las métricas de los “modelos simples” del punto 3c. ¿Qué puede decir de esta comparación?"
   ]
  },
  {
   "cell_type": "code",
   "execution_count": 12,
   "id": "1ec8b548-9109-45f5-bf84-809ecc10aa67",
   "metadata": {
    "execution": {
     "iopub.execute_input": "2025-04-03T00:19:05.849039Z",
     "iopub.status.busy": "2025-04-03T00:19:05.848254Z",
     "iopub.status.idle": "2025-04-03T00:19:05.901159Z",
     "shell.execute_reply": "2025-04-03T00:19:05.891620Z",
     "shell.execute_reply.started": "2025-04-03T00:19:05.848941Z"
    }
   },
   "outputs": [
    {
     "name": "stdout",
     "output_type": "stream",
     "text": [
      "----- Métricas de Rendimiento ----\n",
      "R^2: 0.7268433809611349\n",
      "RMSE: 4.7825777005540875\n"
     ]
    }
   ],
   "source": [
    "print(\"----- Métricas de Rendimiento ----\")\n",
    "print(f\"R^2: {regMultiple.score(X_test, y_test)}\")\n",
    "print(f\"RMSE: {rmse(y_test, predicciones)}\")"
   ]
  },
  {
   "cell_type": "markdown",
   "id": "82667f51-c478-4805-9ad3-af5e6a3e2641",
   "metadata": {},
   "source": [
    "Se puede notar un aumento muy significativo al utilizar la métrica R^2, pasamos de modelos lineales simples con R^2 de: 0.201, 0.15 y 0.08 a un modelo de regresión lineal múltiple con R^2 de 0.726, para el caso de RMSE, vemos una disminución, que representa también una mejora en el modelo, pasamos de métricas de 8.175, 8.435 y 8.735 a un RMSE para el modelo regresión múltiple de: 4.782, lo que significa que hubo una disminución bastante significativa en la variabilidad promedio de las predicciones del modelo, en este caso, considerar todas las variables descriptivas resultó en una mejora del modelo para realizar las predicciones."
   ]
  }
 ],
 "metadata": {
  "kernelspec": {
   "display_name": "Python 3 (ipykernel)",
   "language": "python",
   "name": "python3"
  },
  "language_info": {
   "codemirror_mode": {
    "name": "ipython",
    "version": 3
   },
   "file_extension": ".py",
   "mimetype": "text/x-python",
   "name": "python",
   "nbconvert_exporter": "python",
   "pygments_lexer": "ipython3",
   "version": "3.10.12"
  }
 },
 "nbformat": 4,
 "nbformat_minor": 5
}
