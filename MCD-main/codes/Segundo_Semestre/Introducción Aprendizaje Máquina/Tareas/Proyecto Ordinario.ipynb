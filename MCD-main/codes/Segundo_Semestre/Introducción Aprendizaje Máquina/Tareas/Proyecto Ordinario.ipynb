{
 "cells": [
  {
   "cell_type": "markdown",
   "id": "7bcb0d05-0398-4e5b-9bbc-d06b9d64df7b",
   "metadata": {},
   "source": [
    "371024 Introducción al Aprendizaje Máquina  \n",
    "Proyecto Ordinario  \n",
    "`Lic. Jose Ricardo Mendoza Villar`"
   ]
  },
  {
   "cell_type": "markdown",
   "id": "47f5d97b-a605-4649-b0ef-1a5f1c4bac6f",
   "metadata": {},
   "source": [
    "# 1. Escoger una base de datos con al menos 10 columnas. Si es posible,incluir el link a la base de datos.  \n",
    "\n",
    "- Base de Datos: https://www.kaggle.com/c/house-prices-advanced-regression-techniques"
   ]
  },
  {
   "cell_type": "code",
   "execution_count": 1,
   "id": "e7f18d8e-68cb-4dc2-b117-985aa7ae9e77",
   "metadata": {},
   "outputs": [],
   "source": [
    "import pandas as pd\n",
    "import numpy as np\n",
    "import matplotlib.pyplot as plt"
   ]
  },
  {
   "cell_type": "code",
   "execution_count": 2,
   "id": "a217a860",
   "metadata": {},
   "outputs": [],
   "source": [
    "df = pd.read_csv(\"train.csv\")"
   ]
  },
  {
   "cell_type": "code",
   "execution_count": 3,
   "id": "5609717a",
   "metadata": {},
   "outputs": [
    {
     "data": {
      "text/html": [
       "<div>\n",
       "<style scoped>\n",
       "    .dataframe tbody tr th:only-of-type {\n",
       "        vertical-align: middle;\n",
       "    }\n",
       "\n",
       "    .dataframe tbody tr th {\n",
       "        vertical-align: top;\n",
       "    }\n",
       "\n",
       "    .dataframe thead th {\n",
       "        text-align: right;\n",
       "    }\n",
       "</style>\n",
       "<table border=\"1\" class=\"dataframe\">\n",
       "  <thead>\n",
       "    <tr style=\"text-align: right;\">\n",
       "      <th></th>\n",
       "      <th>Id</th>\n",
       "      <th>MSSubClass</th>\n",
       "      <th>MSZoning</th>\n",
       "      <th>LotFrontage</th>\n",
       "      <th>LotArea</th>\n",
       "      <th>Street</th>\n",
       "      <th>Alley</th>\n",
       "      <th>LotShape</th>\n",
       "      <th>LandContour</th>\n",
       "      <th>Utilities</th>\n",
       "      <th>...</th>\n",
       "      <th>PoolArea</th>\n",
       "      <th>PoolQC</th>\n",
       "      <th>Fence</th>\n",
       "      <th>MiscFeature</th>\n",
       "      <th>MiscVal</th>\n",
       "      <th>MoSold</th>\n",
       "      <th>YrSold</th>\n",
       "      <th>SaleType</th>\n",
       "      <th>SaleCondition</th>\n",
       "      <th>SalePrice</th>\n",
       "    </tr>\n",
       "  </thead>\n",
       "  <tbody>\n",
       "    <tr>\n",
       "      <th>0</th>\n",
       "      <td>1</td>\n",
       "      <td>60</td>\n",
       "      <td>RL</td>\n",
       "      <td>65.0</td>\n",
       "      <td>8450</td>\n",
       "      <td>Pave</td>\n",
       "      <td>NaN</td>\n",
       "      <td>Reg</td>\n",
       "      <td>Lvl</td>\n",
       "      <td>AllPub</td>\n",
       "      <td>...</td>\n",
       "      <td>0</td>\n",
       "      <td>NaN</td>\n",
       "      <td>NaN</td>\n",
       "      <td>NaN</td>\n",
       "      <td>0</td>\n",
       "      <td>2</td>\n",
       "      <td>2008</td>\n",
       "      <td>WD</td>\n",
       "      <td>Normal</td>\n",
       "      <td>208500</td>\n",
       "    </tr>\n",
       "    <tr>\n",
       "      <th>1</th>\n",
       "      <td>2</td>\n",
       "      <td>20</td>\n",
       "      <td>RL</td>\n",
       "      <td>80.0</td>\n",
       "      <td>9600</td>\n",
       "      <td>Pave</td>\n",
       "      <td>NaN</td>\n",
       "      <td>Reg</td>\n",
       "      <td>Lvl</td>\n",
       "      <td>AllPub</td>\n",
       "      <td>...</td>\n",
       "      <td>0</td>\n",
       "      <td>NaN</td>\n",
       "      <td>NaN</td>\n",
       "      <td>NaN</td>\n",
       "      <td>0</td>\n",
       "      <td>5</td>\n",
       "      <td>2007</td>\n",
       "      <td>WD</td>\n",
       "      <td>Normal</td>\n",
       "      <td>181500</td>\n",
       "    </tr>\n",
       "    <tr>\n",
       "      <th>2</th>\n",
       "      <td>3</td>\n",
       "      <td>60</td>\n",
       "      <td>RL</td>\n",
       "      <td>68.0</td>\n",
       "      <td>11250</td>\n",
       "      <td>Pave</td>\n",
       "      <td>NaN</td>\n",
       "      <td>IR1</td>\n",
       "      <td>Lvl</td>\n",
       "      <td>AllPub</td>\n",
       "      <td>...</td>\n",
       "      <td>0</td>\n",
       "      <td>NaN</td>\n",
       "      <td>NaN</td>\n",
       "      <td>NaN</td>\n",
       "      <td>0</td>\n",
       "      <td>9</td>\n",
       "      <td>2008</td>\n",
       "      <td>WD</td>\n",
       "      <td>Normal</td>\n",
       "      <td>223500</td>\n",
       "    </tr>\n",
       "    <tr>\n",
       "      <th>3</th>\n",
       "      <td>4</td>\n",
       "      <td>70</td>\n",
       "      <td>RL</td>\n",
       "      <td>60.0</td>\n",
       "      <td>9550</td>\n",
       "      <td>Pave</td>\n",
       "      <td>NaN</td>\n",
       "      <td>IR1</td>\n",
       "      <td>Lvl</td>\n",
       "      <td>AllPub</td>\n",
       "      <td>...</td>\n",
       "      <td>0</td>\n",
       "      <td>NaN</td>\n",
       "      <td>NaN</td>\n",
       "      <td>NaN</td>\n",
       "      <td>0</td>\n",
       "      <td>2</td>\n",
       "      <td>2006</td>\n",
       "      <td>WD</td>\n",
       "      <td>Abnorml</td>\n",
       "      <td>140000</td>\n",
       "    </tr>\n",
       "    <tr>\n",
       "      <th>4</th>\n",
       "      <td>5</td>\n",
       "      <td>60</td>\n",
       "      <td>RL</td>\n",
       "      <td>84.0</td>\n",
       "      <td>14260</td>\n",
       "      <td>Pave</td>\n",
       "      <td>NaN</td>\n",
       "      <td>IR1</td>\n",
       "      <td>Lvl</td>\n",
       "      <td>AllPub</td>\n",
       "      <td>...</td>\n",
       "      <td>0</td>\n",
       "      <td>NaN</td>\n",
       "      <td>NaN</td>\n",
       "      <td>NaN</td>\n",
       "      <td>0</td>\n",
       "      <td>12</td>\n",
       "      <td>2008</td>\n",
       "      <td>WD</td>\n",
       "      <td>Normal</td>\n",
       "      <td>250000</td>\n",
       "    </tr>\n",
       "  </tbody>\n",
       "</table>\n",
       "<p>5 rows × 81 columns</p>\n",
       "</div>"
      ],
      "text/plain": [
       "   Id  MSSubClass MSZoning  LotFrontage  LotArea Street Alley LotShape  \\\n",
       "0   1          60       RL         65.0     8450   Pave   NaN      Reg   \n",
       "1   2          20       RL         80.0     9600   Pave   NaN      Reg   \n",
       "2   3          60       RL         68.0    11250   Pave   NaN      IR1   \n",
       "3   4          70       RL         60.0     9550   Pave   NaN      IR1   \n",
       "4   5          60       RL         84.0    14260   Pave   NaN      IR1   \n",
       "\n",
       "  LandContour Utilities  ... PoolArea PoolQC Fence MiscFeature MiscVal MoSold  \\\n",
       "0         Lvl    AllPub  ...        0    NaN   NaN         NaN       0      2   \n",
       "1         Lvl    AllPub  ...        0    NaN   NaN         NaN       0      5   \n",
       "2         Lvl    AllPub  ...        0    NaN   NaN         NaN       0      9   \n",
       "3         Lvl    AllPub  ...        0    NaN   NaN         NaN       0      2   \n",
       "4         Lvl    AllPub  ...        0    NaN   NaN         NaN       0     12   \n",
       "\n",
       "  YrSold  SaleType  SaleCondition  SalePrice  \n",
       "0   2008        WD         Normal     208500  \n",
       "1   2007        WD         Normal     181500  \n",
       "2   2008        WD         Normal     223500  \n",
       "3   2006        WD        Abnorml     140000  \n",
       "4   2008        WD         Normal     250000  \n",
       "\n",
       "[5 rows x 81 columns]"
      ]
     },
     "execution_count": 3,
     "metadata": {},
     "output_type": "execute_result"
    }
   ],
   "source": [
    "df.head()"
   ]
  },
  {
   "cell_type": "code",
   "execution_count": 4,
   "id": "f9635dbd",
   "metadata": {},
   "outputs": [
    {
     "data": {
      "text/plain": [
       "(1460, 81)"
      ]
     },
     "execution_count": 4,
     "metadata": {},
     "output_type": "execute_result"
    }
   ],
   "source": [
    "df.shape"
   ]
  },
  {
   "cell_type": "code",
   "execution_count": 5,
   "id": "3fe33373",
   "metadata": {},
   "outputs": [
    {
     "name": "stdout",
     "output_type": "stream",
     "text": [
      "Porcentaje de nulos por columna:\n",
      "LotFrontage     17.739726\n",
      "Alley           93.767123\n",
      "MasVnrType      59.726027\n",
      "MasVnrArea       0.547945\n",
      "BsmtQual         2.534247\n",
      "BsmtCond         2.534247\n",
      "BsmtExposure     2.602740\n",
      "BsmtFinType1     2.534247\n",
      "BsmtFinType2     2.602740\n",
      "Electrical       0.068493\n",
      "FireplaceQu     47.260274\n",
      "GarageType       5.547945\n",
      "GarageYrBlt      5.547945\n",
      "GarageFinish     5.547945\n",
      "GarageQual       5.547945\n",
      "GarageCond       5.547945\n",
      "PoolQC          99.520548\n",
      "Fence           80.753425\n",
      "MiscFeature     96.301370\n",
      "dtype: float64\n"
     ]
    }
   ],
   "source": [
    "# Validar proporción de nulos\n",
    "nulls = df.isnull().sum()\n",
    "nulls = nulls[nulls > 0]\n",
    "nulls_percentage = (nulls / len(df)) * 100\n",
    "print(\"Porcentaje de nulos por columna:\")\n",
    "print(nulls_percentage)"
   ]
  },
  {
   "cell_type": "code",
   "execution_count": 6,
   "id": "80b243d0",
   "metadata": {},
   "outputs": [],
   "source": [
    "# Eliminar columnas con más del 15% de nulos\n",
    "threshold = 0.85 * len(df)\n",
    "df = df.dropna(thresh=threshold, axis=1)"
   ]
  },
  {
   "cell_type": "code",
   "execution_count": 7,
   "id": "d4b02cda",
   "metadata": {},
   "outputs": [],
   "source": [
    "# Eliminar filas con presencia de nulos\n",
    "df = df.dropna()"
   ]
  },
  {
   "cell_type": "code",
   "execution_count": 8,
   "id": "b4e343cc",
   "metadata": {},
   "outputs": [
    {
     "data": {
      "text/plain": [
       "(1338, 74)"
      ]
     },
     "execution_count": 8,
     "metadata": {},
     "output_type": "execute_result"
    }
   ],
   "source": [
    "df.shape"
   ]
  },
  {
   "cell_type": "code",
   "execution_count": 9,
   "id": "15dfefef-5474-454f-9960-372e73fe91f2",
   "metadata": {},
   "outputs": [
    {
     "name": "stdout",
     "output_type": "stream",
     "text": [
      "Categorical columns: ['MSZoning', 'Street', 'LotShape', 'LandContour', 'Utilities', 'LotConfig', 'LandSlope', 'Neighborhood', 'Condition1', 'Condition2', 'BldgType', 'HouseStyle', 'RoofStyle', 'RoofMatl', 'Exterior1st', 'Exterior2nd', 'ExterQual', 'ExterCond', 'Foundation', 'BsmtQual', 'BsmtCond', 'BsmtExposure', 'BsmtFinType1', 'BsmtFinType2', 'Heating', 'HeatingQC', 'CentralAir', 'Electrical', 'KitchenQual', 'Functional', 'GarageType', 'GarageFinish', 'GarageQual', 'GarageCond', 'PavedDrive', 'SaleType', 'SaleCondition']\n"
     ]
    }
   ],
   "source": [
    "# Las variables categóricas se convierten en su representación binarizada\n",
    "def convert_categorical_to_binary(df):\n",
    "    categorical_cols = df.select_dtypes(include=['object']).columns\n",
    "    print(f\"Categorical columns: {categorical_cols.tolist()}\")\n",
    "    dummies = pd.get_dummies(df, columns=categorical_cols, drop_first=True, dtype=np.int8, prefix=[f\"{col}_\" for col in categorical_cols])\n",
    "    return dummies\n",
    "\n",
    "df = convert_categorical_to_binary(df)"
   ]
  },
  {
   "cell_type": "code",
   "execution_count": 10,
   "id": "ba9d97fa",
   "metadata": {},
   "outputs": [
    {
     "data": {
      "text/plain": [
       "(1338, 225)"
      ]
     },
     "execution_count": 10,
     "metadata": {},
     "output_type": "execute_result"
    }
   ],
   "source": [
    "df.shape"
   ]
  },
  {
   "cell_type": "markdown",
   "id": "eb086a66-4d8c-4d73-a3fb-b1522ac78f5d",
   "metadata": {
    "execution": {
     "iopub.execute_input": "2025-04-02T19:48:17.953485Z",
     "iopub.status.busy": "2025-04-02T19:48:17.896955Z",
     "iopub.status.idle": "2025-04-02T19:48:18.170009Z",
     "shell.execute_reply": "2025-04-02T19:48:18.166365Z",
     "shell.execute_reply.started": "2025-04-02T19:48:17.953322Z"
    }
   },
   "source": [
    "# 2. Escoger una de las columnas de la base de datos como variable objetivo. Las columnas restantes serán utilizadas como variables descriptivas.  "
   ]
  },
  {
   "cell_type": "code",
   "execution_count": 11,
   "id": "9fba2594-4246-438a-b5f1-eba69c953b9d",
   "metadata": {},
   "outputs": [],
   "source": [
    "X = df.drop([\"Id\",\"SalePrice\"], axis = 1)"
   ]
  },
  {
   "cell_type": "code",
   "execution_count": 12,
   "id": "41ca45ca-984c-4705-a3b8-1a64fb666aae",
   "metadata": {},
   "outputs": [],
   "source": [
    "y = df[\"SalePrice\"]"
   ]
  },
  {
   "cell_type": "markdown",
   "id": "b9eee665-4942-4ee1-a4cb-1a2248636825",
   "metadata": {},
   "source": [
    "# 3. Separar la base de datos en una de entrenamiento y otra de prueba."
   ]
  },
  {
   "cell_type": "code",
   "execution_count": 13,
   "id": "bc5d4ad3-df6d-4124-aff3-1c0930fb25c4",
   "metadata": {},
   "outputs": [],
   "source": [
    "from sklearn.model_selection import train_test_split"
   ]
  },
  {
   "cell_type": "code",
   "execution_count": 14,
   "id": "870565be-4ff2-403e-96c4-eff1eb4f5e28",
   "metadata": {},
   "outputs": [],
   "source": [
    "X_train, X_test, y_train, y_test = train_test_split(\n",
    "    X, y,\n",
    "    test_size=0.3,\n",
    "    random_state=20250627\n",
    ")"
   ]
  },
  {
   "cell_type": "markdown",
   "id": "6c60b86c-c12d-472c-8293-961bcc84f967",
   "metadata": {},
   "source": [
    "# 4. Entrenar dos modelos de aprendizaje máquina y calcular sus métricas de desempeño."
   ]
  },
  {
   "cell_type": "code",
   "execution_count": 15,
   "id": "d27a7932",
   "metadata": {},
   "outputs": [],
   "source": [
    "from sklearn.linear_model import LinearRegression\n",
    "from sklearn.ensemble import RandomForestRegressor\n",
    "from sklearn.metrics import mean_squared_error, r2_score"
   ]
  },
  {
   "cell_type": "code",
   "execution_count": 16,
   "id": "272be5a2",
   "metadata": {},
   "outputs": [
    {
     "name": "stdout",
     "output_type": "stream",
     "text": [
      "Regresión Lineal:\n",
      "  MSE: 2936745882.74\n",
      "  R2: 0.5984\n"
     ]
    }
   ],
   "source": [
    "# Modelo 1: Regresión Lineal\n",
    "lr = LinearRegression()\n",
    "lr.fit(X_train, y_train)\n",
    "y_pred_lr = lr.predict(X_test)\n",
    "mse_lr = mean_squared_error(y_test, y_pred_lr)\n",
    "r2_lr = r2_score(y_test, y_pred_lr)\n",
    "\n",
    "print(\"Regresión Lineal:\")\n",
    "print(f\"  MSE: {mse_lr:.2f}\")\n",
    "print(f\"  R2: {r2_lr:.4f}\")"
   ]
  },
  {
   "cell_type": "code",
   "execution_count": 17,
   "id": "e866f9f6",
   "metadata": {},
   "outputs": [
    {
     "name": "stdout",
     "output_type": "stream",
     "text": [
      "\n",
      "Random Forest:\n",
      "  MSE: 1029147009.78\n",
      "  R2: 0.8593\n"
     ]
    }
   ],
   "source": [
    "# Modelo 2: Random Forest\n",
    "rf = RandomForestRegressor(random_state=20250627, n_estimators=100)\n",
    "rf.fit(X_train, y_train)\n",
    "y_pred_rf = rf.predict(X_test)\n",
    "mse_rf = mean_squared_error(y_test, y_pred_rf)\n",
    "r2_rf = r2_score(y_test, y_pred_rf)\n",
    "\n",
    "print(\"\\nRandom Forest:\")\n",
    "print(f\"  MSE: {mse_rf:.2f}\")\n",
    "print(f\"  R2: {r2_rf:.4f}\")"
   ]
  },
  {
   "cell_type": "markdown",
   "id": "de34718b-01c7-42f3-a5a9-fa900611c805",
   "metadata": {},
   "source": [
    "# 5. Utilizar PCA para reducir dimensiones, hacer un análisis breve sobre el número de componentes principales a escoger."
   ]
  },
  {
   "cell_type": "code",
   "execution_count": 18,
   "id": "c301a611",
   "metadata": {},
   "outputs": [],
   "source": [
    "from sklearn.decomposition import PCA\n",
    "\n",
    "pca = PCA(random_state=20250627).fit(X_train)\n",
    "explained_variance = np.cumsum(pca.explained_variance_ratio_)"
   ]
  },
  {
   "cell_type": "code",
   "execution_count": 19,
   "id": "4c55b4af",
   "metadata": {},
   "outputs": [
    {
     "data": {
      "image/png": "[encoded data removed]",
      "text/plain": [
       "<Figure size 640x480 with 1 Axes>"
      ]
     },
     "metadata": {},
     "output_type": "display_data"
    }
   ],
   "source": [
    "# Solo las primeras 10 componentes principales\n",
    "features = [f\"PC{i+1}\" for i in range(pca.n_components_)]\n",
    "plt.bar(features[:10], pca.explained_variance_ratio_[:10])\n",
    "plt.xticks(features[:10], rotation=45)\n",
    "plt.ylabel(\"Explained Variance\")\n",
    "plt.xlabel(\"PCA features\")\n",
    "plt.show()"
   ]
  },
  {
   "cell_type": "code",
   "execution_count": 20,
   "id": "db77c748",
   "metadata": {},
   "outputs": [
    {
     "data": {
      "image/png": "[encoded data removed]",
      "text/plain": [
       "<Figure size 800x500 with 1 Axes>"
      ]
     },
     "metadata": {},
     "output_type": "display_data"
    },
    {
     "name": "stdout",
     "output_type": "stream",
     "text": [
      "Número de componentes principales para explicar al menos el 99.5% de la varianza: 5\n"
     ]
    }
   ],
   "source": [
    "plt.figure(figsize=(8,5))\n",
    "plt.plot(range(1, len(explained_variance)+1), explained_variance, marker='o')\n",
    "plt.xlabel('Número de Componentes Principales')\n",
    "plt.ylabel('Varianza Explicada Acumulada')\n",
    "plt.title('Análisis de Componentes Principales (PCA)')\n",
    "plt.grid(True)\n",
    "plt.show()\n",
    "\n",
    "n_components = np.argmax(explained_variance >= 0.995) + 1\n",
    "print(f\"Número de componentes principales para explicar al menos el 99.5% de la varianza: {n_components}\")"
   ]
  },
  {
   "cell_type": "markdown",
   "id": "7e347f95-1bea-4413-b90a-48fd5728c644",
   "metadata": {},
   "source": [
    "# 6. Con la mismas bases de entrenamiento y prueba obtenidas en el punto 3, transformar las bases correspondientes y utilizarlas para entrenar los mismos modelos utilizados en el punto 4."
   ]
  },
  {
   "cell_type": "code",
   "execution_count": 21,
   "id": "643306c0-2925-40db-a7f0-40b408f954b0",
   "metadata": {},
   "outputs": [],
   "source": [
    "pca = PCA(n_components=n_components)\n",
    "X_train_pca = pca.fit_transform(X_train)\n",
    "X_test_pca = pca.transform(X_test)"
   ]
  },
  {
   "cell_type": "code",
   "execution_count": 22,
   "id": "77595de3",
   "metadata": {},
   "outputs": [],
   "source": [
    "lr_pca = LinearRegression()\n",
    "lr_pca.fit(X_train_pca, y_train)\n",
    "y_pred_lr_pca = lr_pca.predict(X_test_pca)"
   ]
  },
  {
   "cell_type": "code",
   "execution_count": 23,
   "id": "949f78e8",
   "metadata": {},
   "outputs": [],
   "source": [
    "rf_pca = RandomForestRegressor(random_state=20250627, n_estimators=100)\n",
    "rf_pca.fit(X_train_pca, y_train)\n",
    "y_pred_rf_pca = rf_pca.predict(X_test_pca)"
   ]
  },
  {
   "cell_type": "markdown",
   "id": "75b236e4",
   "metadata": {},
   "source": [
    "# 7. Obtener las métricas de desempeño de los modelos con PCA."
   ]
  },
  {
   "cell_type": "code",
   "execution_count": 24,
   "id": "294216e8",
   "metadata": {},
   "outputs": [
    {
     "name": "stdout",
     "output_type": "stream",
     "text": [
      "Regresión Lineal con PCA:\n",
      "  MSE: 2092353463.50\n",
      "  R2: 0.7139\n",
      "\n",
      "Random Forest con PCA:\n",
      "  MSE: 2269004617.90\n",
      "  R2: 0.6897\n"
     ]
    }
   ],
   "source": [
    "mse_lr_pca = mean_squared_error(y_test, y_pred_lr_pca)\n",
    "r2_lr_pca = r2_score(y_test, y_pred_lr_pca)\n",
    "\n",
    "mse_rf_pca = mean_squared_error(y_test, y_pred_rf_pca)\n",
    "r2_rf_pca = r2_score(y_test, y_pred_rf_pca)\n",
    "\n",
    "print(\"Regresión Lineal con PCA:\")\n",
    "print(f\"  MSE: {mse_lr_pca:.2f}\")\n",
    "print(f\"  R2: {r2_lr_pca:.4f}\")\n",
    "\n",
    "print(\"\\nRandom Forest con PCA:\")\n",
    "print(f\"  MSE: {mse_rf_pca:.2f}\")\n",
    "print(f\"  R2: {r2_rf_pca:.4f}\")"
   ]
  },
  {
   "cell_type": "markdown",
   "id": "1aa085f9",
   "metadata": {},
   "source": [
    "# 8. Escribir las conclusiones finales. ¿Mejoraron las métricas? ¿Se redujo el tiempo de entrenamiento?"
   ]
  },
  {
   "cell_type": "code",
   "execution_count": 25,
   "id": "78c93a94",
   "metadata": {},
   "outputs": [
    {
     "name": "stdout",
     "output_type": "stream",
     "text": [
      "\n",
      "Tiempos de entrenamiento (segundos):\n",
      "  Regresión Lineal: 0.0098\n",
      "  Random Forest: 0.7634\n",
      "  Regresión Lineal con PCA: 0.0005\n",
      "  Random Forest con PCA: 0.1776\n"
     ]
    }
   ],
   "source": [
    "from time import time\n",
    "\n",
    "# Medir tiempos de entrenamiento\n",
    "start = time()\n",
    "lr.fit(X_train, y_train)\n",
    "t_lr = time() - start\n",
    "\n",
    "start = time()\n",
    "rf.fit(X_train, y_train)\n",
    "t_rf = time() - start\n",
    "\n",
    "start = time()\n",
    "lr_pca.fit(X_train_pca, y_train)\n",
    "t_lr_pca = time() - start\n",
    "\n",
    "start = time()\n",
    "rf_pca.fit(X_train_pca, y_train)\n",
    "t_rf_pca = time() - start\n",
    "\n",
    "print(\"\\nTiempos de entrenamiento (segundos):\")\n",
    "print(f\"  Regresión Lineal: {t_lr:.4f}\")\n",
    "print(f\"  Random Forest: {t_rf:.4f}\")\n",
    "print(f\"  Regresión Lineal con PCA: {t_lr_pca:.4f}\")\n",
    "print(f\"  Random Forest con PCA: {t_rf_pca:.4f}\")"
   ]
  },
  {
   "cell_type": "markdown",
   "id": "18423f39",
   "metadata": {},
   "source": [
    "<!-- #### Conclusiones  \n",
    "- Ambos modelos, Regresión Lineal y Random Forest, muestran un desempeño razonable sobre el conjunto de prueba. Random Forest suele obtener un mejor R² y menor MSE que la Regresión Lineal, lo que es consistente con su capacidad para modelar relaciones no lineales y complejas.\n",
    "\n",
    "- Al aplicar PCA y conservar el 99.5% de la varianza, el número de variables se reduce considerablemente. Esto ayuda a simplificar el modelo y puede reducir el riesgo de sobreajuste, especialmente en modelos lineales.\n",
    "\n",
    "- Las métricas de desempeño (MSE y R²) variaron ligeramente tras la reducción de dimensionalidad. En general, la Regresión Lineal se benefició de la reducción de ruido y multicolinealidad, mientras que Random Forest, al ser robusto a variables irrelevantes, no mostró mejoras significativas, incluso perdió algo de precisión al eliminar ciertas \"variables importantes\", que no se recopilaron al extraer solo 5 componentes.\n",
    "\n",
    "- Los tiempos de entrenamiento para ambos modelos disminuyeron notablemente al reducir la dimensionalidad, especialmente para Random Forest, que es más sensible al número de variables. -->"
   ]
  }
 ],
 "metadata": {
  "kernelspec": {
   "display_name": "3.11.9",
   "language": "python",
   "name": "python3"
  },
  "language_info": {
   "codemirror_mode": {
    "name": "ipython",
    "version": 3
   },
   "file_extension": ".py",
   "mimetype": "text/x-python",
   "name": "python",
   "nbconvert_exporter": "python",
   "pygments_lexer": "ipython3",
   "version": "3.11.9"
  }
 },
 "nbformat": 4,
 "nbformat_minor": 5
}
