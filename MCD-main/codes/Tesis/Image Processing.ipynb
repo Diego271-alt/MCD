{
 "cells": [
  {
   "cell_type": "code",
   "execution_count": null,
   "id": "a18e7155-e613-4289-af8c-7418a58960fc",
   "metadata": {
    "execution": {
     "iopub.execute_input": "2025-03-05T15:15:59.336054Z",
     "iopub.status.busy": "2025-03-05T15:15:59.335477Z",
     "iopub.status.idle": "2025-03-05T15:16:00.225615Z",
     "shell.execute_reply": "2025-03-05T15:16:00.223614Z",
     "shell.execute_reply.started": "2025-03-05T15:15:59.336023Z"
    }
   },
   "outputs": [],
   "source": [
    "import cv2\n",
    "import numpy as np\n",
    "import matplotlib.pyplot as plt"
   ]
  },
  {
   "cell_type": "code",
   "execution_count": null,
   "id": "9e3b638f-9d87-4d40-8122-5d75fb3f2ab4",
   "metadata": {
    "execution": {
     "iopub.execute_input": "2025-03-05T15:16:00.228700Z",
     "iopub.status.busy": "2025-03-05T15:16:00.228272Z",
     "iopub.status.idle": "2025-03-05T15:16:00.313379Z",
     "shell.execute_reply": "2025-03-05T15:16:00.311709Z",
     "shell.execute_reply.started": "2025-03-05T15:16:00.228666Z"
    }
   },
   "outputs": [],
   "source": [
    "imagen = cv2.imread('images/001L_1.png')"
   ]
  },
  {
   "cell_type": "code",
   "execution_count": null,
   "id": "b67c8d90-93c7-41e9-a19c-c2cfc76f407f",
   "metadata": {
    "execution": {
     "iopub.execute_input": "2025-03-05T15:18:43.526145Z",
     "iopub.status.busy": "2025-03-05T15:18:43.523992Z",
     "iopub.status.idle": "2025-03-05T15:18:43.861026Z",
     "shell.execute_reply": "2025-03-05T15:18:43.858100Z",
     "shell.execute_reply.started": "2025-03-05T15:18:43.526087Z"
    }
   },
   "outputs": [],
   "source": [
    "imagen_rgb = cv2.cvtColor(imagen, cv2.COLOR_BGR2RGB)\n",
    "plt.imshow(imagen_rgb)"
   ]
  },
  {
   "cell_type": "code",
   "execution_count": null,
   "id": "297f135d-d684-4d79-8390-b4335fa6bea5",
   "metadata": {
    "execution": {
     "iopub.execute_input": "2025-03-05T15:31:02.488458Z",
     "iopub.status.busy": "2025-03-05T15:31:02.488147Z",
     "iopub.status.idle": "2025-03-05T15:31:54.078780Z",
     "shell.execute_reply": "2025-03-05T15:31:54.075383Z",
     "shell.execute_reply.started": "2025-03-05T15:31:02.488436Z"
    }
   },
   "outputs": [],
   "source": [
    "gris = cv2.medianBlur(imagen, 5)\n",
    "\n",
    "# Convertir la imagen a escala de grises\n",
    "gris = cv2.cvtColor(gris, cv2.COLOR_BGR2GRAY)\n",
    "\n",
    "# Aplicar la Transformada de Hough para detectar círculos (iris)\n",
    "circulos = cv2.HoughCircles(gris, cv2.HOUGH_GRADIENT, 1, 20,\n",
    "                             param1=50, param2=30, minRadius=0, maxRadius=0)\n",
    "\n",
    "# Si se detectan círculos, procesarlos\n",
    "if circulos is not None:\n",
    "    circulos = np.round(circulos[0, :]).astype(\"int\")\n",
    "    \n",
    "    # Convertir la imagen a espacio de color HSV\n",
    "    imagen_hsv = cv2.cvtColor(imagen, cv2.COLOR_BGR2HSV)\n",
    "    \n",
    "    # Definir un rango de colores para el iris (puedes ajustarlo)\n",
    "    # Rango para tonos marrones, verdes y azules del iris en HSV\n",
    "    color_min = np.array([0, 50, 50])  # Rango mínimo de color (por ejemplo, marrón)\n",
    "    color_max = np.array([20, 255, 255])  # Rango máximo de color\n",
    "\n",
    "    # Máscara para aislar colores dentro del rango\n",
    "    mascara_color = cv2.inRange(imagen_hsv, color_min, color_max)\n",
    "    \n",
    "    # Crear una imagen con la máscara aplicada para mostrar solo los colores seleccionados\n",
    "    imagen_filtrada = cv2.bitwise_and(imagen, imagen, mask=mascara_color)\n",
    "\n",
    "    # Procesar los círculos detectados\n",
    "    for (x, y, radio) in circulos:\n",
    "        # Obtener el color del centro del círculo en la imagen filtrada\n",
    "        color_centro = imagen_filtrada[y, x]\n",
    "\n",
    "        # Si el color del centro del círculo está dentro del rango del iris (no es negro ni blanco)\n",
    "        if np.all(color_centro != 0):  # Verifica si el centro no es negro (fondo vacío)\n",
    "            # Dibujar el círculo sobre la imagen\n",
    "            imagen_con_circulo = imagen.copy()\n",
    "            cv2.circle(imagen_con_circulo, (x, y), radio, (0, 255, 0), 4)\n",
    "            cv2.circle(imagen_con_circulo, (x, y), 2, (0, 0, 255), 3)\n",
    "\n",
    "            # Mostrar la imagen con el círculo detectado\n",
    "            plt.imshow(cv2.cvtColor(imagen_con_circulo, cv2.COLOR_BGR2RGB))\n",
    "            plt.axis('off')\n",
    "            plt.show()\n",
    "else:\n",
    "    print(\"No se detectó el iris.\")\n"
   ]
  },
  {
   "cell_type": "code",
   "execution_count": null,
   "id": "0e71e10a-7bee-45eb-94da-e31ea3bd63d4",
   "metadata": {
    "execution": {
     "iopub.execute_input": "2025-03-05T15:27:10.806361Z",
     "iopub.status.busy": "2025-03-05T15:27:10.800449Z",
     "iopub.status.idle": "2025-03-05T15:27:11.961739Z",
     "shell.execute_reply": "2025-03-05T15:27:11.958445Z",
     "shell.execute_reply.started": "2025-03-05T15:27:10.806291Z"
    }
   },
   "outputs": [],
   "source": [
    "gris = cv2.medianBlur(imagen,5)\n",
    "gris = cv2.cvtColor(gris,cv2.COLOR_BGR2GRAY)\n",
    "circulos = cv2.HoughCircles(gris, cv2.HOUGH_GRADIENT,1,20,\n",
    "                            param1=50,param2=30,minRadius=0,maxRadius=0)\n",
    "# Si se detectan círculos, procesarlos\n",
    "if circulos is not None:\n",
    "    circulos = np.round(circulos[0, :]).astype(\"int\")\n",
    "    \n",
    "    # Extraer las coordenadas del círculo (centro y radio)\n",
    "    for circle in circulos:\n",
    "        x, y, radio = circulos[0]\n",
    "        \n",
    "        # Dibujar el círculo sobre la imagen para verificar\n",
    "        imagen_con_circulo = imagen.copy()\n",
    "        cv2.circle(imagen_con_circulo, (x, y), radio, (0, 255, 0), 4)\n",
    "        cv2.circle(imagen_con_circulo, (x, y), 2, (0, 0, 255), 3)\n",
    "    \n",
    "        # Mostrar la imagen con el círculo detectado\n",
    "        plt.imshow(cv2.cvtColor(imagen_con_circulo, cv2.COLOR_BGR2RGB))\n",
    "        plt.axis('off')\n",
    "        plt.show()\n",
    "\n",
    "    # Extraer la región del iris en coordenadas cartesianas\n",
    "    mascara = np.zeros(gris.shape, dtype=np.uint8)\n",
    "    cv2.circle(mascara, (x, y), radio, (255), thickness=-1)\n",
    "    iris_region = cv2.bitwise_and(imagen, imagen, mask=mascara)\n",
    "\n",
    "    # Mostrar la región del iris extraída\n",
    "    plt.imshow(cv2.cvtColor(iris_region, cv2.COLOR_BGR2RGB))\n",
    "    plt.axis('off')\n",
    "    plt.show()\n",
    "\n",
    "    # Convertir las coordenadas a polares\n",
    "    # Crear un espacio de coordenadas polares\n",
    "    polar_img = cv2.linearPolar(imagen, (x, y), radio, cv2.INTER_LINEAR)\n",
    "\n",
    "    # Mostrar la imagen en coordenadas polares\n",
    "    plt.imshow(cv2.cvtColor(polar_img, cv2.COLOR_BGR2RGB))\n",
    "    plt.axis('off')\n",
    "    plt.show()\n",
    "else:\n",
    "    print(\"No se detectó el iris.\")"
   ]
  },
  {
   "cell_type": "code",
   "execution_count": null,
   "id": "98e9587b-2b78-483f-8532-eae3d6bfd1e8",
   "metadata": {
    "execution": {
     "iopub.execute_input": "2025-03-05T15:25:09.199606Z",
     "iopub.status.busy": "2025-03-05T15:25:09.198917Z",
     "iopub.status.idle": "2025-03-05T15:25:09.884905Z",
     "shell.execute_reply": "2025-03-05T15:25:09.882056Z",
     "shell.execute_reply.started": "2025-03-05T15:25:09.199573Z"
    }
   },
   "outputs": [],
   "source": [
    "gris = cv2.medianBlur(imagen,5)\n",
    "gris = cv2.cvtColor(gris,cv2.COLOR_BGR2GRAY)\n",
    "circulos = cv2.HoughCircles(gris, cv2.HOUGH_GRADIENT,1,20,\n",
    "                            param1=50,param2=30,minRadius=0,maxRadius=0)\n",
    "# Si se detectan círculos, procesarlos\n",
    "if circulos is not None:\n",
    "    circles = np.uint16(np.around(circulos))\n",
    "    plt.imshow(imagen_rgb)\n",
    "    for i in circles[0,:]:\n",
    "        # draw the outer circle\n",
    "        cv2.circle(gris,(i[0],i[1]),i[2],(0,255,0),2)\n",
    "        # draw the center of the circle\n",
    "        cv2.circle(gris,(i[0],i[1]),2,(0,0,255),3)\n",
    "else:\n",
    "    print(\"No se detectó el iris.\")"
   ]
  },
  {
   "cell_type": "code",
   "execution_count": null,
   "id": "a22bb3f7-132a-4709-a8bb-c26d1bbf4545",
   "metadata": {},
   "outputs": [],
   "source": []
  }
 ],
 "metadata": {
  "kernelspec": {
   "display_name": "Python 3 (ipykernel)",
   "language": "python",
   "name": "python3"
  },
  "language_info": {
   "codemirror_mode": {
    "name": "ipython",
    "version": 3
   },
   "file_extension": ".py",
   "mimetype": "text/x-python",
   "name": "python",
   "nbconvert_exporter": "python",
   "pygments_lexer": "ipython3",
   "version": "3.10.12"
  }
 },
 "nbformat": 4,
 "nbformat_minor": 5
}
