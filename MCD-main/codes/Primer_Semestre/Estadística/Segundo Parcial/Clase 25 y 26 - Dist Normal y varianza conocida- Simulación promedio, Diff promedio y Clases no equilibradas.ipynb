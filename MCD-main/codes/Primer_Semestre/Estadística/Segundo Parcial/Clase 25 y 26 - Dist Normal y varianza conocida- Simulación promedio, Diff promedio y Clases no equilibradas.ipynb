{
 "cells": [
  {
   "cell_type": "code",
   "execution_count": 28,
   "id": "aed38d3d-f157-428d-adb1-8198e6b070e0",
   "metadata": {
    "execution": {
     "iopub.execute_input": "2025-01-05T18:16:20.742686Z",
     "iopub.status.busy": "2025-01-05T18:16:20.740400Z",
     "iopub.status.idle": "2025-01-05T18:16:20.993553Z",
     "shell.execute_reply": "2025-01-05T18:16:20.990520Z",
     "shell.execute_reply.started": "2025-01-05T18:16:20.742621Z"
    }
   },
   "outputs": [],
   "source": [
    "import math\n",
    "import numpy as np\n",
    "import pandas as pd\n",
    "from scipy.stats import norm"
   ]
  },
  {
   "cell_type": "code",
   "execution_count": 9,
   "id": "214a9748-53cb-48ce-b216-258116439717",
   "metadata": {
    "execution": {
     "iopub.execute_input": "2025-01-05T16:27:14.109975Z",
     "iopub.status.busy": "2025-01-05T16:27:14.108225Z",
     "iopub.status.idle": "2025-01-05T16:27:14.174626Z",
     "shell.execute_reply": "2025-01-05T16:27:14.165476Z",
     "shell.execute_reply.started": "2025-01-05T16:27:14.109838Z"
    }
   },
   "outputs": [],
   "source": [
    "estaturas = pd.DataFrame({\n",
    "    'mujeres': {\n",
    "        0: 105.23648976814002,\n",
    "        1: 159.9830117505917,\n",
    "        2: 157.8305504302989,\n",
    "        3: 150.83684881246882,\n",
    "        4: 126.27105585706886,\n",
    "        5: 154.9637094434729,\n",
    "        6: 156.78858214087086,\n",
    "        7: 116.20647380041191,\n",
    "        8: 149.52279949866352,\n",
    "        9: 156.15767703493475,\n",
    "        10: 132.98198988777585,\n",
    "        11: 123.7628399998357,\n",
    "        12: 124.49782540570595,\n",
    "        13: 166.8592464433459,\n",
    "        14: 145.43553030889598,\n",
    "        15: 153.10134851133625,\n",
    "        16: 153.98807742385543,\n",
    "        17: 140.58610455904272,\n",
    "        18: 114.38748439686606,\n",
    "        19: 140.80540646900772,\n",
    "        20: 148.08088091413083,\n",
    "        21: 177.61362338787876,\n",
    "        22: 129.99771039758343,\n",
    "        23: 176.59140818650485,\n",
    "        24: 150.7086669029377,\n",
    "        25: 141.0953647486167,\n",
    "        26: 121.73642896086676,\n",
    "        27: 116.42452515516197,\n",
    "        28: 134.15924551409262,\n",
    "        29: 151.51845824802876,\n",
    "        30: 110.26861026621191,\n",
    "        31: 105.2269400737714,\n",
    "        32: 137.1392901695799,\n",
    "        33: 154.14118517255702,\n",
    "        34: 100.49256540369242,\n",
    "        35: np.nan,\n",
    "        36: np.nan\n",
    "    },\n",
    "    'hombres': {\n",
    "        0: 181.4449290423654,\n",
    "        1: 166.2976131074829,\n",
    "        2: 102.27359715197235,\n",
    "        3: 167.90237103402615,\n",
    "        4: 136.90651874919422,\n",
    "        5: 129.52351360861212,\n",
    "        6: 163.08200363989454,\n",
    "        7: 160.46243152511306,\n",
    "        8: 151.1630755731603,\n",
    "        9: 147.4429693944985,\n",
    "        10: 133.9246039452264,\n",
    "        11: 148.28989086078946,\n",
    "        12: 141.9965513224015,\n",
    "        13: 150.3129481380456,\n",
    "        14: 156.39230631047394,\n",
    "        15: 116.63661033078097,\n",
    "        16: 150.26485860568937,\n",
    "        17: 120.95052560023032,\n",
    "        18: 178.2243173539173,\n",
    "        19: 188.32198228035122,\n",
    "        20: 185.21569407591596,\n",
    "        21: 156.1521087597357,\n",
    "        22: 197.0163878314197,\n",
    "        23: 167.79696059809066,\n",
    "        24: 113.88584360526875,\n",
    "        25: 115.3547684981022,\n",
    "        26: 202.31765054911375,\n",
    "        27: 145.54908310226165,\n",
    "        28: 121.76152202580124,\n",
    "        29: 159.06499291583896,\n",
    "        30: 160.2235072669573,\n",
    "        31: 127.93262547627091,\n",
    "        32: 147.4674348019762,\n",
    "        33: 190.9071300206706,\n",
    "        34: 151.02560544898733,\n",
    "        35: 158.13808139052708,\n",
    "        36: 124.12334334210027\n",
    "    }\n",
    "})"
   ]
  },
  {
   "cell_type": "code",
   "execution_count": 17,
   "id": "0f368355-0007-457c-a91e-d862cd97a9cf",
   "metadata": {
    "execution": {
     "iopub.execute_input": "2025-01-05T16:29:38.837459Z",
     "iopub.status.busy": "2025-01-05T16:29:38.836140Z",
     "iopub.status.idle": "2025-01-05T16:29:38.875486Z",
     "shell.execute_reply": "2025-01-05T16:29:38.873618Z",
     "shell.execute_reply.started": "2025-01-05T16:29:38.837405Z"
    }
   },
   "outputs": [
    {
     "data": {
      "text/html": [
       "<div>\n",
       "<style scoped>\n",
       "    .dataframe tbody tr th:only-of-type {\n",
       "        vertical-align: middle;\n",
       "    }\n",
       "\n",
       "    .dataframe tbody tr th {\n",
       "        vertical-align: top;\n",
       "    }\n",
       "\n",
       "    .dataframe thead th {\n",
       "        text-align: right;\n",
       "    }\n",
       "</style>\n",
       "<table border=\"1\" class=\"dataframe\">\n",
       "  <thead>\n",
       "    <tr style=\"text-align: right;\">\n",
       "      <th></th>\n",
       "      <th>mujeres</th>\n",
       "      <th>hombres</th>\n",
       "    </tr>\n",
       "  </thead>\n",
       "  <tbody>\n",
       "    <tr>\n",
       "      <th>count</th>\n",
       "      <td>35.000000</td>\n",
       "      <td>37.000000</td>\n",
       "    </tr>\n",
       "    <tr>\n",
       "      <th>mean</th>\n",
       "      <td>139.582799</td>\n",
       "      <td>151.776929</td>\n",
       "    </tr>\n",
       "    <tr>\n",
       "      <th>std</th>\n",
       "      <td>20.241863</td>\n",
       "      <td>24.809382</td>\n",
       "    </tr>\n",
       "    <tr>\n",
       "      <th>min</th>\n",
       "      <td>100.492565</td>\n",
       "      <td>102.273597</td>\n",
       "    </tr>\n",
       "    <tr>\n",
       "      <th>25%</th>\n",
       "      <td>124.130333</td>\n",
       "      <td>133.924604</td>\n",
       "    </tr>\n",
       "    <tr>\n",
       "      <th>50%</th>\n",
       "      <td>141.095365</td>\n",
       "      <td>151.025605</td>\n",
       "    </tr>\n",
       "    <tr>\n",
       "      <th>75%</th>\n",
       "      <td>154.064631</td>\n",
       "      <td>166.297613</td>\n",
       "    </tr>\n",
       "    <tr>\n",
       "      <th>max</th>\n",
       "      <td>177.613623</td>\n",
       "      <td>202.317651</td>\n",
       "    </tr>\n",
       "  </tbody>\n",
       "</table>\n",
       "</div>"
      ],
      "text/plain": [
       "          mujeres     hombres\n",
       "count   35.000000   37.000000\n",
       "mean   139.582799  151.776929\n",
       "std     20.241863   24.809382\n",
       "min    100.492565  102.273597\n",
       "25%    124.130333  133.924604\n",
       "50%    141.095365  151.025605\n",
       "75%    154.064631  166.297613\n",
       "max    177.613623  202.317651"
      ]
     },
     "execution_count": 17,
     "metadata": {},
     "output_type": "execute_result"
    }
   ],
   "source": [
    "estaturas.describe()"
   ]
  },
  {
   "cell_type": "code",
   "execution_count": 14,
   "id": "c36e668f-3429-449d-bfec-5c9c863a91bc",
   "metadata": {
    "execution": {
     "iopub.execute_input": "2025-01-05T16:28:36.177553Z",
     "iopub.status.busy": "2025-01-05T16:28:36.176745Z",
     "iopub.status.idle": "2025-01-05T16:28:36.186697Z",
     "shell.execute_reply": "2025-01-05T16:28:36.184841Z",
     "shell.execute_reply.started": "2025-01-05T16:28:36.177503Z"
    }
   },
   "outputs": [],
   "source": [
    "estaturas_mujeres = estaturas[\"mujeres\"][estaturas[\"mujeres\"].notnull()]\n",
    "estaturas_hombres = estaturas[\"hombres\"]"
   ]
  },
  {
   "cell_type": "code",
   "execution_count": 19,
   "id": "26aee159-2d3c-4b76-b891-d76c42053271",
   "metadata": {
    "execution": {
     "iopub.execute_input": "2025-01-05T18:11:10.535934Z",
     "iopub.status.busy": "2025-01-05T18:11:10.534486Z",
     "iopub.status.idle": "2025-01-05T18:11:10.802205Z",
     "shell.execute_reply": "2025-01-05T18:11:10.799259Z",
     "shell.execute_reply.started": "2025-01-05T18:11:10.535866Z"
    }
   },
   "outputs": [],
   "source": [
    "mu_hombres = estaturas_hombres.mean()\n",
    "mu_mujeres = estaturas_mujeres.mean()"
   ]
  },
  {
   "cell_type": "code",
   "execution_count": 22,
   "id": "b0f1bf4a-b6ef-4061-8c21-5ad538088a20",
   "metadata": {
    "execution": {
     "iopub.execute_input": "2025-01-05T18:12:14.743240Z",
     "iopub.status.busy": "2025-01-05T18:12:14.740840Z",
     "iopub.status.idle": "2025-01-05T18:12:15.155580Z",
     "shell.execute_reply": "2025-01-05T18:12:15.151892Z",
     "shell.execute_reply.started": "2025-01-05T18:12:14.743159Z"
    }
   },
   "outputs": [],
   "source": [
    "std_hombres = estaturas_hombres.std()\n",
    "std_mujeres = estaturas_mujeres.std()"
   ]
  },
  {
   "cell_type": "code",
   "execution_count": 26,
   "id": "5b0c3c19-4f53-4432-be4f-cd759a4960ca",
   "metadata": {
    "execution": {
     "iopub.execute_input": "2025-01-05T18:16:06.268199Z",
     "iopub.status.busy": "2025-01-05T18:16:06.267228Z",
     "iopub.status.idle": "2025-01-05T18:16:06.381949Z",
     "shell.execute_reply": "2025-01-05T18:16:06.380402Z",
     "shell.execute_reply.started": "2025-01-05T18:16:06.268164Z"
    }
   },
   "outputs": [],
   "source": [
    "size_hombres = len(estaturas_hombres)\n",
    "size_mujeres = len(estaturas_mujeres)"
   ]
  },
  {
   "cell_type": "markdown",
   "id": "6b447ebd-3408-4a48-8e2e-31920b0e31a0",
   "metadata": {
    "execution": {
     "iopub.execute_input": "2025-01-05T16:28:47.274288Z",
     "iopub.status.busy": "2025-01-05T16:28:47.273462Z",
     "iopub.status.idle": "2025-01-05T16:28:47.289936Z",
     "shell.execute_reply": "2025-01-05T16:28:47.287552Z",
     "shell.execute_reply.started": "2025-01-05T16:28:47.274237Z"
    }
   },
   "source": [
    "### Una sola observación\n",
    "1. Observando las estaturas de las mujeres, ¿cuál es la probabilidad de que la estatura esté por arriba de 162 cm?"
   ]
  },
  {
   "cell_type": "code",
   "execution_count": 24,
   "id": "99df410d-297d-475b-9c70-b08f3f803582",
   "metadata": {
    "execution": {
     "iopub.execute_input": "2025-01-05T18:12:31.450847Z",
     "iopub.status.busy": "2025-01-05T18:12:31.450587Z",
     "iopub.status.idle": "2025-01-05T18:12:31.857259Z",
     "shell.execute_reply": "2025-01-05T18:12:31.856271Z",
     "shell.execute_reply.started": "2025-01-05T18:12:31.450826Z"
    }
   },
   "outputs": [
    {
     "data": {
      "text/plain": [
       "0.13404597454050116"
      ]
     },
     "execution_count": 24,
     "metadata": {},
     "output_type": "execute_result"
    }
   ],
   "source": [
    "# P(X>162) = 1 - P(X<=162)\n",
    "1 - norm.cdf(162, mu_mujeres, std_mujeres)"
   ]
  },
  {
   "attachments": {},
   "cell_type": "markdown",
   "id": "d3a40f84-e659-4025-97c4-7178c3b2388a",
   "metadata": {},
   "source": [
    "2. Observando los datos de las estaturas de los hombres, ¿cuál es la probabilidad e que la estatura sea superior a 1.75?"
   ]
  },
  {
   "cell_type": "code",
   "execution_count": 25,
   "id": "9d7896c5-9aec-44e2-a06b-d26da76ce2db",
   "metadata": {
    "execution": {
     "iopub.execute_input": "2025-01-05T18:13:28.334685Z",
     "iopub.status.busy": "2025-01-05T18:13:28.333920Z",
     "iopub.status.idle": "2025-01-05T18:13:28.523505Z",
     "shell.execute_reply": "2025-01-05T18:13:28.522221Z",
     "shell.execute_reply.started": "2025-01-05T18:13:28.334631Z"
    }
   },
   "outputs": [
    {
     "data": {
      "text/plain": [
       "0.1746211304119154"
      ]
     },
     "execution_count": 25,
     "metadata": {},
     "output_type": "execute_result"
    }
   ],
   "source": [
    "# P(Y>175) = 1 - P(Y<=175)\n",
    "1 - norm.cdf(175, mu_hombres, std_hombres)"
   ]
  },
  {
   "attachments": {},
   "cell_type": "markdown",
   "id": "3133505d-88fd-4b47-b14b-7244f37e20e2",
   "metadata": {},
   "source": [
    "### Para el promedio de las estaturas\n",
    "1. Observando las estaturas de las mujeres, ¿cuál es la probabilidad de que el promedio estaturas esté por arriba de 162 cm?"
   ]
  },
  {
   "cell_type": "code",
   "execution_count": 40,
   "id": "b0f0cb90-38e2-43be-b64f-e16258cbc517",
   "metadata": {
    "execution": {
     "iopub.execute_input": "2025-01-05T18:19:09.798979Z",
     "iopub.status.busy": "2025-01-05T18:19:09.798230Z",
     "iopub.status.idle": "2025-01-05T18:19:09.850113Z",
     "shell.execute_reply": "2025-01-05T18:19:09.849030Z",
     "shell.execute_reply.started": "2025-01-05T18:19:09.798939Z"
    }
   },
   "outputs": [
    {
     "data": {
      "text/plain": [
       "2.8411495378577456e-11"
      ]
     },
     "execution_count": 40,
     "metadata": {},
     "output_type": "execute_result"
    }
   ],
   "source": [
    "# P(X^_ > 162) = 1 - P(X^_ <= 162)\n",
    "1 - norm.cdf(162, mu_mujeres, std_mujeres / math.sqrt(size_mujeres))\n",
    "1 -  norm.cdf(\n",
    "    (162 - mu_mujeres) / (std_mujeres / math.sqrt(size_mujeres)),\n",
    "    0,\n",
    "    1\n",
    ") # Estandarizado"
   ]
  },
  {
   "cell_type": "markdown",
   "id": "7845c37a-5ad0-454f-8d44-53ee5a597ef1",
   "metadata": {
    "execution": {
     "iopub.execute_input": "2025-01-05T18:18:49.277851Z",
     "iopub.status.busy": "2025-01-05T18:18:49.276725Z",
     "iopub.status.idle": "2025-01-05T18:18:49.590498Z",
     "shell.execute_reply": "2025-01-05T18:18:49.587414Z",
     "shell.execute_reply.started": "2025-01-05T18:18:49.277813Z"
    }
   },
   "source": [
    "2. Observando los datos de las estaturas de los hombres, ¿cuál es la probabilidad de que el promedio de las estaturas sea superior a 1.75?"
   ]
  },
  {
   "cell_type": "code",
   "execution_count": 41,
   "id": "53718c5a-3449-4a0c-a2f2-4f91f8847bae",
   "metadata": {
    "execution": {
     "iopub.execute_input": "2025-01-05T18:20:17.539115Z",
     "iopub.status.busy": "2025-01-05T18:20:17.538451Z",
     "iopub.status.idle": "2025-01-05T18:20:17.774075Z",
     "shell.execute_reply": "2025-01-05T18:20:17.772701Z",
     "shell.execute_reply.started": "2025-01-05T18:20:17.539082Z"
    },
    "scrolled": true
   },
   "outputs": [
    {
     "data": {
      "text/plain": [
       "6.21099804920533e-09"
      ]
     },
     "execution_count": 41,
     "metadata": {},
     "output_type": "execute_result"
    }
   ],
   "source": [
    "# P(Y^_ > 175) = 1 - P(Y^_ <= 175)\n",
    "1 - norm.cdf(175, mu_hombres, std_hombres / math.sqrt(size_hombres))"
   ]
  },
  {
   "cell_type": "markdown",
   "id": "f9d913c1-6483-46aa-aaff-340a70112e33",
   "metadata": {},
   "source": [
    "### Diferencia de promedios  \n",
    "¿Cuál es la probabilidad de que el promedio de las estaturas de los hombres sea mayor que el promedio de las estaturas de las mujeres?"
   ]
  },
  {
   "cell_type": "code",
   "execution_count": 43,
   "id": "98774a53-d0d2-4a8d-84a6-362972ea2a69",
   "metadata": {
    "execution": {
     "iopub.execute_input": "2025-01-05T18:29:37.583405Z",
     "iopub.status.busy": "2025-01-05T18:29:37.581402Z",
     "iopub.status.idle": "2025-01-05T18:29:37.964703Z",
     "shell.execute_reply": "2025-01-05T18:29:37.963433Z",
     "shell.execute_reply.started": "2025-01-05T18:29:37.583324Z"
    }
   },
   "outputs": [
    {
     "data": {
      "text/plain": [
       "0.9890047017049604"
      ]
     },
     "execution_count": 43,
     "metadata": {},
     "output_type": "execute_result"
    }
   ],
   "source": [
    "#P(Y^_ > X^_) = P(Y^_ -  X^_ > 0 ) = 1 -  P(Y^_ -  X^_ <= 0 )\n",
    "1 - norm.cdf(\n",
    "    0,\n",
    "    mu_hombres - mu_mujeres,\n",
    "    math.sqrt(\n",
    "        (std_hombres ** 2 / size_hombres)\n",
    "        +\n",
    "        (std_mujeres ** 2 / size_mujeres)\n",
    "    )\n",
    ")"
   ]
  },
  {
   "cell_type": "markdown",
   "id": "2f0f1e98-78d1-4112-9d1c-5f80077531b3",
   "metadata": {},
   "source": [
    "¿Cuál es la probabilidad de que la diferencia entre el promedio de las estaturas de hombres con respecto de las estaturas de las mujeres es menor a 15 cm?"
   ]
  },
  {
   "cell_type": "code",
   "execution_count": 45,
   "id": "a15ecc29-213a-4334-bd64-d5078d26c008",
   "metadata": {
    "execution": {
     "iopub.execute_input": "2025-01-05T18:32:00.075502Z",
     "iopub.status.busy": "2025-01-05T18:32:00.074479Z",
     "iopub.status.idle": "2025-01-05T18:32:00.480372Z",
     "shell.execute_reply": "2025-01-05T18:32:00.478618Z",
     "shell.execute_reply.started": "2025-01-05T18:32:00.075476Z"
    }
   },
   "outputs": [
    {
     "data": {
      "text/plain": [
       "0.7009209749320205"
      ]
     },
     "execution_count": 45,
     "metadata": {},
     "output_type": "execute_result"
    }
   ],
   "source": [
    "#P(Y^_ -  X^_ < 15 )\n",
    "norm.cdf(\n",
    "    15,\n",
    "    mu_hombres - mu_mujeres,\n",
    "    math.sqrt(\n",
    "        (std_hombres ** 2 / size_hombres)\n",
    "        +\n",
    "        (std_mujeres ** 2 / size_mujeres)\n",
    "    )\n",
    ")"
   ]
  }
 ],
 "metadata": {
  "kernelspec": {
   "display_name": "Python 3 (ipykernel)",
   "language": "python",
   "name": "python3"
  },
  "language_info": {
   "codemirror_mode": {
    "name": "ipython",
    "version": 3
   },
   "file_extension": ".py",
   "mimetype": "text/x-python",
   "name": "python",
   "nbconvert_exporter": "python",
   "pygments_lexer": "ipython3",
   "version": "3.10.12"
  }
 },
 "nbformat": 4,
 "nbformat_minor": 5
}
