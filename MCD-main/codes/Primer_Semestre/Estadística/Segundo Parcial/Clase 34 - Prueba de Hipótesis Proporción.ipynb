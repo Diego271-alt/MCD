{
 "cells": [
  {
   "cell_type": "code",
   "execution_count": 19,
   "id": "e4e55cfe-a774-42de-ad8c-c099d476ec4f",
   "metadata": {
    "execution": {
     "iopub.execute_input": "2025-01-20T01:21:10.693136Z",
     "iopub.status.busy": "2025-01-20T01:21:10.692678Z",
     "iopub.status.idle": "2025-01-20T01:21:10.698446Z",
     "shell.execute_reply": "2025-01-20T01:21:10.696994Z",
     "shell.execute_reply.started": "2025-01-20T01:21:10.693110Z"
    }
   },
   "outputs": [],
   "source": [
    "import math\n",
    "import numpy as np\n",
    "import pandas as pd\n",
    "from scipy.stats import norm"
   ]
  },
  {
   "cell_type": "markdown",
   "id": "4015efde-ca5d-4ea1-b093-45f6f34c50f0",
   "metadata": {},
   "source": [
    "### Votaciones de hombres y mujeres en un partido determinado\n",
    "\n",
    "Se obtuvieron los resultados de la votación en un pueblo cercano donde están registradas 48 mujeres y 40 hombres  \n",
    "Será cierto que ¿Menos del 60% de las mujeres votaron por el partido que quedó en el poder?"
   ]
  },
  {
   "cell_type": "code",
   "execution_count": 8,
   "id": "f26e9b9f-5e8e-40cd-9d2f-9a19fd0ab53c",
   "metadata": {
    "execution": {
     "iopub.execute_input": "2025-01-20T00:54:04.528108Z",
     "iopub.status.busy": "2025-01-20T00:54:04.527822Z",
     "iopub.status.idle": "2025-01-20T00:54:04.539720Z",
     "shell.execute_reply": "2025-01-20T00:54:04.538141Z",
     "shell.execute_reply.started": "2025-01-20T00:54:04.528087Z"
    }
   },
   "outputs": [],
   "source": [
    "votaciones = pd.DataFrame({\n",
    "    'mujeres': {\n",
    "        0: 1,\n",
    "        1: 1,\n",
    "        2: 1,\n",
    "        3: 1,\n",
    "        4: 1,\n",
    "        5: 1,\n",
    "        6: 1,\n",
    "        7: 1,\n",
    "        8: 0,\n",
    "        9: 0,\n",
    "        10: 1,\n",
    "        11: 1,\n",
    "        12: 1,\n",
    "        13: 0,\n",
    "        14: 0,\n",
    "        15: 0,\n",
    "        16: 1,\n",
    "        17: 1,\n",
    "        18: 1,\n",
    "        19: 0,\n",
    "        20: 1,\n",
    "        21: 0,\n",
    "        22: 1,\n",
    "        23: 1,\n",
    "        24: 1,\n",
    "        25: 0,\n",
    "        26: 0,\n",
    "        27: 1,\n",
    "        28: 1,\n",
    "        29: 1,\n",
    "        30: 0,\n",
    "        31: 0,\n",
    "        32: 1,\n",
    "        33: 0,\n",
    "        34: 0,\n",
    "        35: 1,\n",
    "        36: 1,\n",
    "        37: 0,\n",
    "        38: 0,\n",
    "        39: 1,\n",
    "        40: 1,\n",
    "        41: 1,\n",
    "        42: 0,\n",
    "        43: 1,\n",
    "        44: 1,\n",
    "        45: 1,\n",
    "        46: 1,\n",
    "        47: 1\n",
    "    },\n",
    "    'hombres': {\n",
    "        0: 0.0,\n",
    "        1: 1.0,\n",
    "        2: 1.0,\n",
    "        3: 0.0,\n",
    "        4: 1.0,\n",
    "        5: 0.0,\n",
    "        6: 0.0,\n",
    "        7: 0.0,\n",
    "        8: 1.0,\n",
    "        9: 1.0,\n",
    "        10: 0.0,\n",
    "        11: 0.0,\n",
    "        12: 0.0,\n",
    "        13: 1.0,\n",
    "        14: 1.0,\n",
    "        15: 1.0,\n",
    "        16: 0.0,\n",
    "        17: 1.0,\n",
    "        18: 0.0,\n",
    "        19: 0.0,\n",
    "        20: 1.0,\n",
    "        21: 1.0,\n",
    "        22: 1.0,\n",
    "        23: 0.0,\n",
    "        24: 0.0,\n",
    "        25: 1.0,\n",
    "        26: 1.0,\n",
    "        27: 1.0,\n",
    "        28: 0.0,\n",
    "        29: 1.0,\n",
    "        30: 0.0,\n",
    "        31: 0.0,\n",
    "        32: 1.0,\n",
    "        33: 1.0,\n",
    "        34: 0.0,\n",
    "        35: 1.0,\n",
    "        36: 0.0,\n",
    "        37: 1.0,\n",
    "        38: 0.0,\n",
    "        39: 0.0,\n",
    "        40: np.nan,\n",
    "        41: np.nan,\n",
    "        42: np.nan,\n",
    "        43: np.nan,\n",
    "        44: np.nan,\n",
    "        45: np.nan,\n",
    "        46: np.nan,\n",
    "        47: np.nan\n",
    "    }\n",
    "})"
   ]
  },
  {
   "cell_type": "code",
   "execution_count": 14,
   "id": "7eaedc29-6a85-4933-bd38-c69eb92179cb",
   "metadata": {
    "execution": {
     "iopub.execute_input": "2025-01-20T01:19:07.406016Z",
     "iopub.status.busy": "2025-01-20T01:19:07.405127Z",
     "iopub.status.idle": "2025-01-20T01:19:07.416614Z",
     "shell.execute_reply": "2025-01-20T01:19:07.415238Z",
     "shell.execute_reply.started": "2025-01-20T01:19:07.405978Z"
    }
   },
   "outputs": [],
   "source": [
    "votaciones_mujeres = votaciones[\"mujeres\"][votaciones[\"mujeres\"].notnull()]"
   ]
  },
  {
   "cell_type": "markdown",
   "id": "5696322c-31aa-41a6-8430-8f0e370e095a",
   "metadata": {},
   "source": [
    "### 1. Datos\n",
    "Los datos provienen de los registros de votantes de una comunidad. Nos interesa estudiar la proporción de mujeres que votaron por el partido que quedó en el poder. Nivel de significancia del 0.05.\n",
    "### 2. Supuestos  \n",
    "Las respuestas de las mujeres se modelan según una variable aleatoria del tipo Bernoulli, donde no conocemos la varianza (pero se puede estimar) y que tenemos una muestra suficientemente grande $n=48$ para $n>30$\n",
    "### 3. Hipótesis\n",
    "* Hipótesis de Investigación: La proporción de mujeres votantes es menor al 60%\n",
    "* $H_a$: $p < 0.6$  \n",
    "* $H_0$: $p \\geq 0.6$  \n",
    "Planteamos que $H_0$ es verdadera y queremos demostrar que es falsa\n",
    "### 4. Estadístico de prueba\n",
    "$Z = \\frac{\\bar{p}-p_0}{\\sqrt{\\frac{p_0*q_0}{n}}}$\n",
    "### 5. Distribución del estadístico de prueba\n",
    "$Z$ es $N(0,1)$ cuando $n \\rightarrow \\infty$ utilizando TCL\n",
    "### 6. Región de rechazo\n",
    "Al ser unilateral\n",
    "* $V.C. = - Z_{0.95}$"
   ]
  },
  {
   "cell_type": "code",
   "execution_count": 17,
   "id": "4310cf6c-6d66-49a2-9f53-6412f35dc4d5",
   "metadata": {
    "execution": {
     "iopub.execute_input": "2025-01-20T01:20:29.574399Z",
     "iopub.status.busy": "2025-01-20T01:20:29.572304Z",
     "iopub.status.idle": "2025-01-20T01:20:29.582606Z",
     "shell.execute_reply": "2025-01-20T01:20:29.580743Z",
     "shell.execute_reply.started": "2025-01-20T01:20:29.574349Z"
    }
   },
   "outputs": [],
   "source": [
    "alpha = 0.05\n",
    "p0 = 0.6\n",
    "q0 = 1 - p0"
   ]
  },
  {
   "cell_type": "code",
   "execution_count": 13,
   "id": "63bf0dd8-a3e5-4575-a9f7-8671e0e3b907",
   "metadata": {
    "execution": {
     "iopub.execute_input": "2025-01-20T01:05:04.362527Z",
     "iopub.status.busy": "2025-01-20T01:05:04.361283Z",
     "iopub.status.idle": "2025-01-20T01:05:04.371649Z",
     "shell.execute_reply": "2025-01-20T01:05:04.369447Z",
     "shell.execute_reply.started": "2025-01-20T01:05:04.362502Z"
    }
   },
   "outputs": [
    {
     "data": {
      "text/plain": [
       "-1.6448536269514729"
      ]
     },
     "execution_count": 13,
     "metadata": {},
     "output_type": "execute_result"
    }
   ],
   "source": [
    "# Valor crítico\n",
    "vc_superior = norm.ppf(alpha)\n",
    "vc_superior"
   ]
  },
  {
   "cell_type": "markdown",
   "id": "0de47bbb-981f-4ff5-bc99-91e1b3d42118",
   "metadata": {},
   "source": [
    "Región de Rechazo $= \\{\\infty, -1.6448536\\} $"
   ]
  },
  {
   "cell_type": "markdown",
   "id": "3bf60b9b-94c2-4628-9653-5ccc1b46c8db",
   "metadata": {},
   "source": [
    "### 7. Cálculo del valor del estadístico de prueba"
   ]
  },
  {
   "cell_type": "code",
   "execution_count": 16,
   "id": "48aa4efb-67c3-4632-be2d-69167ad485b3",
   "metadata": {
    "execution": {
     "iopub.execute_input": "2025-01-20T01:19:28.984795Z",
     "iopub.status.busy": "2025-01-20T01:19:28.984419Z",
     "iopub.status.idle": "2025-01-20T01:19:28.993125Z",
     "shell.execute_reply": "2025-01-20T01:19:28.991698Z",
     "shell.execute_reply.started": "2025-01-20T01:19:28.984764Z"
    }
   },
   "outputs": [
    {
     "data": {
      "text/plain": [
       "0.6666666666666666"
      ]
     },
     "execution_count": 16,
     "metadata": {},
     "output_type": "execute_result"
    }
   ],
   "source": [
    "p_est = votaciones_mujeres.mean()\n",
    "p_est"
   ]
  },
  {
   "cell_type": "code",
   "execution_count": 18,
   "id": "81ce7a7b-cb2c-4566-b129-33983bf28eff",
   "metadata": {
    "execution": {
     "iopub.execute_input": "2025-01-20T01:20:41.540123Z",
     "iopub.status.busy": "2025-01-20T01:20:41.538184Z",
     "iopub.status.idle": "2025-01-20T01:20:41.560592Z",
     "shell.execute_reply": "2025-01-20T01:20:41.554907Z",
     "shell.execute_reply.started": "2025-01-20T01:20:41.540031Z"
    }
   },
   "outputs": [
    {
     "data": {
      "text/plain": [
       "48"
      ]
     },
     "execution_count": 18,
     "metadata": {},
     "output_type": "execute_result"
    }
   ],
   "source": [
    "n  = len(votaciones_mujeres)\n",
    "n"
   ]
  },
  {
   "cell_type": "code",
   "execution_count": 22,
   "id": "40873322-ec16-4f9d-80a0-bb941ea77c2a",
   "metadata": {
    "execution": {
     "iopub.execute_input": "2025-01-20T01:21:30.081538Z",
     "iopub.status.busy": "2025-01-20T01:21:30.079787Z",
     "iopub.status.idle": "2025-01-20T01:21:30.093233Z",
     "shell.execute_reply": "2025-01-20T01:21:30.091024Z",
     "shell.execute_reply.started": "2025-01-20T01:21:30.081496Z"
    }
   },
   "outputs": [
    {
     "data": {
      "text/plain": [
       "0.9428090415820631"
      ]
     },
     "execution_count": 22,
     "metadata": {},
     "output_type": "execute_result"
    }
   ],
   "source": [
    "z = (p_est - p0) / math.sqrt(p0 * q0 / n)\n",
    "z"
   ]
  },
  {
   "cell_type": "markdown",
   "id": "40b789b7-9330-49ab-9792-8b302ccd8c26",
   "metadata": {
    "execution": {
     "iopub.execute_input": "2025-01-20T00:53:24.960208Z",
     "iopub.status.busy": "2025-01-20T00:53:24.959933Z",
     "iopub.status.idle": "2025-01-20T00:53:24.973091Z",
     "shell.execute_reply": "2025-01-20T00:53:24.971496Z",
     "shell.execute_reply.started": "2025-01-20T00:53:24.960188Z"
    }
   },
   "source": [
    "### 8. Decisión  \n",
    "Debido a que el valor del estadístico de prueba $(z)$ del paso anterior no se encuentra en la región de rechazo (6), por lo tanto la hipótesis nula no es rechazada"
   ]
  },
  {
   "cell_type": "markdown",
   "id": "81c6b68c-1f66-4129-bd7d-e7fec0352854",
   "metadata": {
    "execution": {
     "iopub.execute_input": "2025-01-20T01:26:34.456794Z",
     "iopub.status.busy": "2025-01-20T01:26:34.454800Z",
     "iopub.status.idle": "2025-01-20T01:26:34.478950Z",
     "shell.execute_reply": "2025-01-20T01:26:34.477042Z",
     "shell.execute_reply.started": "2025-01-20T01:26:34.456370Z"
    }
   },
   "source": [
    "### 9. Conclusión\n",
    "Después de realizar el estudio pertinente encontramos que la proporción de mujeres que votaron por el partido en el poder quizá es mayor al 60% que se propuso  \n",
    "### 10. P-valor"
   ]
  },
  {
   "cell_type": "code",
   "execution_count": 25,
   "id": "cd7ac0dd-c8e6-4ba7-a673-13cacffb8286",
   "metadata": {
    "execution": {
     "iopub.execute_input": "2025-01-20T01:28:18.287534Z",
     "iopub.status.busy": "2025-01-20T01:28:18.285209Z",
     "iopub.status.idle": "2025-01-20T01:28:18.296141Z",
     "shell.execute_reply": "2025-01-20T01:28:18.294469Z",
     "shell.execute_reply.started": "2025-01-20T01:28:18.287426Z"
    }
   },
   "outputs": [
    {
     "data": {
      "text/plain": [
       "0.8271107069244198"
      ]
     },
     "execution_count": 25,
     "metadata": {},
     "output_type": "execute_result"
    }
   ],
   "source": [
    "p_value = norm.cdf(z)\n",
    "p_value"
   ]
  },
  {
   "cell_type": "markdown",
   "id": "92fda75e-7245-42ac-a45f-14b4486b9cb7",
   "metadata": {},
   "source": [
    "Como $p_{value} > \\alpha = 0.05$ (la muestra es significativa); Donde $H_0$ no se rechazó"
   ]
  }
 ],
 "metadata": {
  "kernelspec": {
   "display_name": "Python 3 (ipykernel)",
   "language": "python",
   "name": "python3"
  },
  "language_info": {
   "codemirror_mode": {
    "name": "ipython",
    "version": 3
   },
   "file_extension": ".py",
   "mimetype": "text/x-python",
   "name": "python",
   "nbconvert_exporter": "python",
   "pygments_lexer": "ipython3",
   "version": "3.10.12"
  }
 },
 "nbformat": 4,
 "nbformat_minor": 5
}
