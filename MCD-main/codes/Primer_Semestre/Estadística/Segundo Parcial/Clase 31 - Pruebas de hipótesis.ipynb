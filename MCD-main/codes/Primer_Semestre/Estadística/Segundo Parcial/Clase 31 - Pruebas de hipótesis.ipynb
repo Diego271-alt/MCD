{
 "cells": [
  {
   "cell_type": "code",
   "execution_count": 33,
   "id": "ca8c2ecb-9311-4d4c-9a04-bbba94748657",
   "metadata": {
    "execution": {
     "iopub.execute_input": "2025-01-05T21:40:41.801731Z",
     "iopub.status.busy": "2025-01-05T21:40:41.800213Z",
     "iopub.status.idle": "2025-01-05T21:40:41.858573Z",
     "shell.execute_reply": "2025-01-05T21:40:41.857688Z",
     "shell.execute_reply.started": "2025-01-05T21:40:41.801683Z"
    }
   },
   "outputs": [],
   "source": [
    "import math\n",
    "import pandas as pd\n",
    "from scipy.stats import t"
   ]
  },
  {
   "cell_type": "code",
   "execution_count": 2,
   "id": "2713717f-a18d-49f0-8e35-eefcd0b1f473",
   "metadata": {
    "execution": {
     "iopub.execute_input": "2025-01-05T21:09:30.819269Z",
     "iopub.status.busy": "2025-01-05T21:09:30.818074Z",
     "iopub.status.idle": "2025-01-05T21:09:30.894735Z",
     "shell.execute_reply": "2025-01-05T21:09:30.893170Z",
     "shell.execute_reply.started": "2025-01-05T21:09:30.819232Z"
    }
   },
   "outputs": [],
   "source": [
    "df = pd.DataFrame({\n",
    "    \"Pesos RN\": {\n",
    "        0: 2.652552032,\n",
    "        1: 2.761094312,\n",
    "        2: 2.709140337,\n",
    "        3: 3.022067451,\n",
    "        4: 2.576154022,\n",
    "        5: 2.857961865,\n",
    "        6: 2.913367372,\n",
    "        7: 3.382368324,\n",
    "        8: 1.72839582,\n",
    "        9: 2.298327037,\n",
    "        10: 3.031230155,\n",
    "        11: 2.535162186,\n",
    "        12: 3.427837602,\n",
    "        13: 2.49240775,\n",
    "        14: 2.683317054,\n",
    "        15: 2.683240656,\n",
    "        16: 3.287451638,\n",
    "        17: 3.665004717\n",
    "    }\n",
    "})"
   ]
  },
  {
   "cell_type": "code",
   "execution_count": 10,
   "id": "f80b24e1-6ac0-4bc6-bc26-937111f515b2",
   "metadata": {
    "execution": {
     "iopub.execute_input": "2025-01-05T21:22:17.961658Z",
     "iopub.status.busy": "2025-01-05T21:22:17.961394Z",
     "iopub.status.idle": "2025-01-05T21:22:18.004205Z",
     "shell.execute_reply": "2025-01-05T21:22:18.002997Z",
     "shell.execute_reply.started": "2025-01-05T21:22:17.961638Z"
    }
   },
   "outputs": [
    {
     "data": {
      "text/html": [
       "<div>\n",
       "<style scoped>\n",
       "    .dataframe tbody tr th:only-of-type {\n",
       "        vertical-align: middle;\n",
       "    }\n",
       "\n",
       "    .dataframe tbody tr th {\n",
       "        vertical-align: top;\n",
       "    }\n",
       "\n",
       "    .dataframe thead th {\n",
       "        text-align: right;\n",
       "    }\n",
       "</style>\n",
       "<table border=\"1\" class=\"dataframe\">\n",
       "  <thead>\n",
       "    <tr style=\"text-align: right;\">\n",
       "      <th></th>\n",
       "      <th>Pesos RN</th>\n",
       "    </tr>\n",
       "  </thead>\n",
       "  <tbody>\n",
       "    <tr>\n",
       "      <th>count</th>\n",
       "      <td>18.000000</td>\n",
       "    </tr>\n",
       "    <tr>\n",
       "      <th>mean</th>\n",
       "      <td>2.817060</td>\n",
       "    </tr>\n",
       "    <tr>\n",
       "      <th>std</th>\n",
       "      <td>0.454167</td>\n",
       "    </tr>\n",
       "    <tr>\n",
       "      <th>min</th>\n",
       "      <td>1.728396</td>\n",
       "    </tr>\n",
       "    <tr>\n",
       "      <th>25%</th>\n",
       "      <td>2.595254</td>\n",
       "    </tr>\n",
       "    <tr>\n",
       "      <th>50%</th>\n",
       "      <td>2.735117</td>\n",
       "    </tr>\n",
       "    <tr>\n",
       "      <th>75%</th>\n",
       "      <td>3.028939</td>\n",
       "    </tr>\n",
       "    <tr>\n",
       "      <th>max</th>\n",
       "      <td>3.665005</td>\n",
       "    </tr>\n",
       "  </tbody>\n",
       "</table>\n",
       "</div>"
      ],
      "text/plain": [
       "        Pesos RN\n",
       "count  18.000000\n",
       "mean    2.817060\n",
       "std     0.454167\n",
       "min     1.728396\n",
       "25%     2.595254\n",
       "50%     2.735117\n",
       "75%     3.028939\n",
       "max     3.665005"
      ]
     },
     "execution_count": 10,
     "metadata": {},
     "output_type": "execute_result"
    }
   ],
   "source": [
    "df.describe()"
   ]
  },
  {
   "cell_type": "code",
   "execution_count": 26,
   "id": "48813353-c0cc-4d3b-a534-ec841f8780a2",
   "metadata": {
    "execution": {
     "iopub.execute_input": "2025-01-05T21:33:22.552568Z",
     "iopub.status.busy": "2025-01-05T21:33:22.551134Z",
     "iopub.status.idle": "2025-01-05T21:33:22.902782Z",
     "shell.execute_reply": "2025-01-05T21:33:22.898867Z",
     "shell.execute_reply.started": "2025-01-05T21:33:22.552499Z"
    }
   },
   "outputs": [],
   "source": [
    "alpha = 0.05\n",
    "h0 = 2.5"
   ]
  },
  {
   "cell_type": "code",
   "execution_count": 6,
   "id": "16bd2477-1e16-48ac-aa87-b89cdbb2faf6",
   "metadata": {
    "execution": {
     "iopub.execute_input": "2025-01-05T21:20:51.188609Z",
     "iopub.status.busy": "2025-01-05T21:20:51.188194Z",
     "iopub.status.idle": "2025-01-05T21:20:51.588652Z",
     "shell.execute_reply": "2025-01-05T21:20:51.587040Z",
     "shell.execute_reply.started": "2025-01-05T21:20:51.188575Z"
    }
   },
   "outputs": [],
   "source": [
    "pesos_rn = df[\"Pesos RN\"]"
   ]
  },
  {
   "cell_type": "code",
   "execution_count": 25,
   "id": "61de28e2-9734-456b-8c97-dc5ed0e2ecb2",
   "metadata": {
    "execution": {
     "iopub.execute_input": "2025-01-05T21:32:53.589234Z",
     "iopub.status.busy": "2025-01-05T21:32:53.588915Z",
     "iopub.status.idle": "2025-01-05T21:32:54.041657Z",
     "shell.execute_reply": "2025-01-05T21:32:54.038032Z",
     "shell.execute_reply.started": "2025-01-05T21:32:53.589211Z"
    }
   },
   "outputs": [],
   "source": [
    "size_rn = len(pesos_rn)\n",
    "mean_rn = pesos_rn.mean()\n",
    "std_rn = pesos_rn.std()\n",
    "gl = size_rn - 1"
   ]
  },
  {
   "cell_type": "markdown",
   "id": "ed9a4f64-54da-492c-91b0-c59219602ef4",
   "metadata": {},
   "source": [
    "Se cree que los pesos de los recién nacidos son superiores a 2.5 kg en promedio.  \n",
    "#### Pasos:\n",
    "1. Datos  \n",
    "   Los datos provienen de la recolección de los pesos a nacer de bebes. Nosotros queremos estudiar el peso promedio de los recién nacidos con un $\\alpha=0.05$\n",
    "2. Supuestos\n",
    "   Los pesos de los RN siguen una distribución normal. Se desconoce la desviación estándar y se tiene una muestra pequeña ($n=18$)\n",
    "3. Hipótesis\n",
    "   Hipótesis de investigación: El peso promedio de RN es superior a 2.5 kg  \n",
    "   $H_A > 2.5$kg vs $H_0 \\le 2.5$kg\n",
    "4. Estadístico de Prueba\n",
    "   $$T=\\frac{\\bar{x} - \\mu_0}{\\frac{s}{\\sqrt n}}$$\n",
    "   $$s^2 = \\frac{1}{n-1}\\sum_{i=1}^{k}(x_i-\\bar{x})^2$$\n",
    "5. Distribución del estadístico de prueba\n",
    "   $$T \\sim t_{n-1}$$\n",
    "6. Región de rechazo"
   ]
  },
  {
   "cell_type": "code",
   "execution_count": 40,
   "id": "96320ef8-ffd3-41a0-b237-737148c860f5",
   "metadata": {
    "execution": {
     "iopub.execute_input": "2025-01-05T21:49:12.085729Z",
     "iopub.status.busy": "2025-01-05T21:49:12.084991Z",
     "iopub.status.idle": "2025-01-05T21:49:12.445468Z",
     "shell.execute_reply": "2025-01-05T21:49:12.442331Z",
     "shell.execute_reply.started": "2025-01-05T21:49:12.085695Z"
    }
   },
   "outputs": [
    {
     "data": {
      "text/plain": [
       "1.7396067260750672"
      ]
     },
     "execution_count": 40,
     "metadata": {},
     "output_type": "execute_result"
    }
   ],
   "source": [
    "# Valor crítico\n",
    "vc_superior = t.ppf(1 - alpha, gl) # Usa sola cola superior, en caso de dos usar 1 - alpha / 2\n",
    "vc_superior"
   ]
  },
  {
   "cell_type": "markdown",
   "id": "adbda4f0-20e1-4a39-b1e2-381699686e44",
   "metadata": {},
   "source": [
    "7. Evaluar el estadístico"
   ]
  },
  {
   "cell_type": "code",
   "execution_count": 34,
   "id": "50dbca73-a689-4e43-b148-11f50d89a0e0",
   "metadata": {
    "execution": {
     "iopub.execute_input": "2025-01-05T21:40:43.807325Z",
     "iopub.status.busy": "2025-01-05T21:40:43.806741Z",
     "iopub.status.idle": "2025-01-05T21:40:44.072874Z",
     "shell.execute_reply": "2025-01-05T21:40:44.068567Z",
     "shell.execute_reply.started": "2025-01-05T21:40:43.807281Z"
    }
   },
   "outputs": [
    {
     "data": {
      "text/plain": [
       "2.9618407952201258"
      ]
     },
     "execution_count": 34,
     "metadata": {},
     "output_type": "execute_result"
    }
   ],
   "source": [
    "t_val = (mean_rn - h0) / (std_rn / math.sqrt(size_rn))\n",
    "t_val"
   ]
  },
  {
   "cell_type": "markdown",
   "id": "18dfb86e-15cb-4592-8767-8f6af13679fb",
   "metadata": {
    "execution": {
     "iopub.execute_input": "2025-01-05T21:34:25.076533Z",
     "iopub.status.busy": "2025-01-05T21:34:25.075931Z",
     "iopub.status.idle": "2025-01-05T21:34:25.453200Z",
     "shell.execute_reply": "2025-01-05T21:34:25.449077Z",
     "shell.execute_reply.started": "2025-01-05T21:34:25.076486Z"
    }
   },
   "source": [
    "8. Decisión  \n",
    "   Como $t > VC_{Superior}$ este pertenece a la zona de rechazo,  \n",
    "   Por lo que se decide rechazar $H_0$\n",
    "9. Conclusión  \n",
    "    Encontramos que el promedio de los 18 recién nacidos es superior a 2.5 kg\n",
    "10. p-value  \n",
    "    $p_{value} = P(t_{17} > 2.96)$"
   ]
  },
  {
   "cell_type": "code",
   "execution_count": 38,
   "id": "e96e2a25-d0c1-45f8-be1a-97c8c6644b04",
   "metadata": {
    "execution": {
     "iopub.execute_input": "2025-01-05T21:41:02.134160Z",
     "iopub.status.busy": "2025-01-05T21:41:02.133829Z",
     "iopub.status.idle": "2025-01-05T21:41:02.492323Z",
     "shell.execute_reply": "2025-01-05T21:41:02.490372Z",
     "shell.execute_reply.started": "2025-01-05T21:41:02.134137Z"
    }
   },
   "outputs": [
    {
     "data": {
      "text/plain": [
       "0.004368311007374115"
      ]
     },
     "execution_count": 38,
     "metadata": {},
     "output_type": "execute_result"
    }
   ],
   "source": [
    "p_value = 1 - t.cdf(t_val, 17)\n",
    "p_value"
   ]
  },
  {
   "cell_type": "markdown",
   "id": "ecd8e752-c4e5-41ef-9950-bb0ba3444592",
   "metadata": {},
   "source": [
    "$p_{value} < \\alpha = 0.05$"
   ]
  }
 ],
 "metadata": {
  "kernelspec": {
   "display_name": "Python 3 (ipykernel)",
   "language": "python",
   "name": "python3"
  },
  "language_info": {
   "codemirror_mode": {
    "name": "ipython",
    "version": 3
   },
   "file_extension": ".py",
   "mimetype": "text/x-python",
   "name": "python",
   "nbconvert_exporter": "python",
   "pygments_lexer": "ipython3",
   "version": "3.10.12"
  }
 },
 "nbformat": 4,
 "nbformat_minor": 5
}
