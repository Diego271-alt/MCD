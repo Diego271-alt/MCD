{
 "cells": [
  {
   "cell_type": "code",
   "execution_count": 17,
   "id": "6e032155-f927-4ce2-a6b7-5f4bde9c8a83",
   "metadata": {
    "execution": {
     "iopub.execute_input": "2025-01-05T18:51:36.673182Z",
     "iopub.status.busy": "2025-01-05T18:51:36.671381Z",
     "iopub.status.idle": "2025-01-05T18:51:37.029646Z",
     "shell.execute_reply": "2025-01-05T18:51:37.028051Z",
     "shell.execute_reply.started": "2025-01-05T18:51:36.673099Z"
    }
   },
   "outputs": [],
   "source": [
    "import math\n",
    "import numpy as np\n",
    "import pandas as pd\n",
    "from scipy.stats import t"
   ]
  },
  {
   "cell_type": "code",
   "execution_count": 6,
   "id": "6a769779-e09f-4b48-ba39-43fb2bcf517b",
   "metadata": {
    "execution": {
     "iopub.execute_input": "2025-01-05T18:44:20.073014Z",
     "iopub.status.busy": "2025-01-05T18:44:20.071926Z",
     "iopub.status.idle": "2025-01-05T18:44:20.468552Z",
     "shell.execute_reply": "2025-01-05T18:44:20.467683Z",
     "shell.execute_reply.started": "2025-01-05T18:44:20.072962Z"
    }
   },
   "outputs": [],
   "source": [
    "pesos = pd.DataFrame(\n",
    "    {\n",
    "    'Peso RNM': {\n",
    "        0: 3.128179318481125,\n",
    "        1: 3.283106056586257,\n",
    "        2: 3.086730234316201,\n",
    "        3: 3.3823825191924697,\n",
    "        4: 3.743453621098888,\n",
    "        5: 3.700341298498097,\n",
    "        6: 3.1233328485890524,\n",
    "        7: 3.0354131326370406,\n",
    "        8: 3.772365320799872,\n",
    "        9: 3.7121999725408386,\n",
    "        10: 3.4866259597387397,\n",
    "        11: 2.4664628057857043\n",
    "    },\n",
    "    'Peso RNH': {\n",
    "        0: 2.7308948079284163,\n",
    "        1: 3.0050545961334136,\n",
    "        2: 2.6109387095406418,\n",
    "        3: 2.3302954746672184,\n",
    "        4: 3.157391320701572,\n",
    "        5: 3.3101339072803966,\n",
    "        6: 2.582824409319437,\n",
    "        7: 2.957119905250147,\n",
    "        8: 3.3909179551759734,\n",
    "        9: 2.5614911879078135,\n",
    "        10: np.nan,\n",
    "        11: np.nan\n",
    "    }\n",
    "})"
   ]
  },
  {
   "cell_type": "code",
   "execution_count": 9,
   "id": "5f0fd282-a133-4588-95cb-ec608d4247ee",
   "metadata": {
    "execution": {
     "iopub.execute_input": "2025-01-05T18:44:50.019620Z",
     "iopub.status.busy": "2025-01-05T18:44:50.018721Z",
     "iopub.status.idle": "2025-01-05T18:44:50.049616Z",
     "shell.execute_reply": "2025-01-05T18:44:50.048332Z",
     "shell.execute_reply.started": "2025-01-05T18:44:50.019584Z"
    }
   },
   "outputs": [
    {
     "data": {
      "text/html": [
       "<div>\n",
       "<style scoped>\n",
       "    .dataframe tbody tr th:only-of-type {\n",
       "        vertical-align: middle;\n",
       "    }\n",
       "\n",
       "    .dataframe tbody tr th {\n",
       "        vertical-align: top;\n",
       "    }\n",
       "\n",
       "    .dataframe thead th {\n",
       "        text-align: right;\n",
       "    }\n",
       "</style>\n",
       "<table border=\"1\" class=\"dataframe\">\n",
       "  <thead>\n",
       "    <tr style=\"text-align: right;\">\n",
       "      <th></th>\n",
       "      <th>Peso RNM</th>\n",
       "      <th>Peso RNH</th>\n",
       "    </tr>\n",
       "  </thead>\n",
       "  <tbody>\n",
       "    <tr>\n",
       "      <th>count</th>\n",
       "      <td>12.000000</td>\n",
       "      <td>10.000000</td>\n",
       "    </tr>\n",
       "    <tr>\n",
       "      <th>mean</th>\n",
       "      <td>3.326716</td>\n",
       "      <td>2.863706</td>\n",
       "    </tr>\n",
       "    <tr>\n",
       "      <th>std</th>\n",
       "      <td>0.387803</td>\n",
       "      <td>0.354102</td>\n",
       "    </tr>\n",
       "    <tr>\n",
       "      <th>min</th>\n",
       "      <td>2.466463</td>\n",
       "      <td>2.330295</td>\n",
       "    </tr>\n",
       "    <tr>\n",
       "      <th>25%</th>\n",
       "      <td>3.114182</td>\n",
       "      <td>2.589853</td>\n",
       "    </tr>\n",
       "    <tr>\n",
       "      <th>50%</th>\n",
       "      <td>3.332744</td>\n",
       "      <td>2.844007</td>\n",
       "    </tr>\n",
       "    <tr>\n",
       "      <th>75%</th>\n",
       "      <td>3.703306</td>\n",
       "      <td>3.119307</td>\n",
       "    </tr>\n",
       "    <tr>\n",
       "      <th>max</th>\n",
       "      <td>3.772365</td>\n",
       "      <td>3.390918</td>\n",
       "    </tr>\n",
       "  </tbody>\n",
       "</table>\n",
       "</div>"
      ],
      "text/plain": [
       "        Peso RNM   Peso RNH\n",
       "count  12.000000  10.000000\n",
       "mean    3.326716   2.863706\n",
       "std     0.387803   0.354102\n",
       "min     2.466463   2.330295\n",
       "25%     3.114182   2.589853\n",
       "50%     3.332744   2.844007\n",
       "75%     3.703306   3.119307\n",
       "max     3.772365   3.390918"
      ]
     },
     "execution_count": 9,
     "metadata": {},
     "output_type": "execute_result"
    }
   ],
   "source": [
    "pesos.describe()"
   ]
  },
  {
   "cell_type": "code",
   "execution_count": 11,
   "id": "b3912611-5b4c-45da-83bc-440de8e19054",
   "metadata": {
    "execution": {
     "iopub.execute_input": "2025-01-05T18:46:48.663663Z",
     "iopub.status.busy": "2025-01-05T18:46:48.662778Z",
     "iopub.status.idle": "2025-01-05T18:46:48.970456Z",
     "shell.execute_reply": "2025-01-05T18:46:48.968121Z",
     "shell.execute_reply.started": "2025-01-05T18:46:48.663628Z"
    }
   },
   "outputs": [],
   "source": [
    "pesos_hombres = pesos[\"Peso RNH\"][pesos[\"Peso RNH\"].notnull()]\n",
    "pesos_mujeres = pesos[\"Peso RNM\"][pesos[\"Peso RNM\"].notnull()]"
   ]
  },
  {
   "cell_type": "code",
   "execution_count": 12,
   "id": "adc12c0e-fe8f-4428-81f6-6a48dda6d5d2",
   "metadata": {
    "execution": {
     "iopub.execute_input": "2025-01-05T18:46:48.972353Z",
     "iopub.status.busy": "2025-01-05T18:46:48.972058Z",
     "iopub.status.idle": "2025-01-05T18:46:49.392351Z",
     "shell.execute_reply": "2025-01-05T18:46:49.391005Z",
     "shell.execute_reply.started": "2025-01-05T18:46:48.972327Z"
    }
   },
   "outputs": [],
   "source": [
    "mu_hombres = pesos_hombres.mean()\n",
    "mu_mujeres = pesos_mujeres.mean()"
   ]
  },
  {
   "cell_type": "code",
   "execution_count": 14,
   "id": "233a6e93-16d0-4944-a708-459191acc6c2",
   "metadata": {
    "execution": {
     "iopub.execute_input": "2025-01-05T18:47:00.458772Z",
     "iopub.status.busy": "2025-01-05T18:47:00.457949Z",
     "iopub.status.idle": "2025-01-05T18:47:00.752193Z",
     "shell.execute_reply": "2025-01-05T18:47:00.747575Z",
     "shell.execute_reply.started": "2025-01-05T18:47:00.458709Z"
    }
   },
   "outputs": [],
   "source": [
    "size_hombres = len(pesos_hombres)\n",
    "size_mujeres = len(pesos_mujeres)"
   ]
  },
  {
   "cell_type": "code",
   "execution_count": 13,
   "id": "84258573-f351-44b3-96a6-3b29788f7187",
   "metadata": {
    "execution": {
     "iopub.execute_input": "2025-01-05T18:46:49.393315Z",
     "iopub.status.busy": "2025-01-05T18:46:49.393127Z",
     "iopub.status.idle": "2025-01-05T18:46:49.816231Z",
     "shell.execute_reply": "2025-01-05T18:46:49.812178Z",
     "shell.execute_reply.started": "2025-01-05T18:46:49.393298Z"
    }
   },
   "outputs": [],
   "source": [
    "std_hombres = pesos_hombres.std()\n",
    "std_mujeres = pesos_mujeres.std()"
   ]
  },
  {
   "cell_type": "code",
   "execution_count": 26,
   "id": "c2b4eb1a-0098-495b-8cd3-4553152c220a",
   "metadata": {
    "execution": {
     "iopub.execute_input": "2025-01-05T19:07:53.737600Z",
     "iopub.status.busy": "2025-01-05T19:07:53.735272Z",
     "iopub.status.idle": "2025-01-05T19:07:54.161487Z",
     "shell.execute_reply": "2025-01-05T19:07:54.157733Z",
     "shell.execute_reply.started": "2025-01-05T19:07:53.737527Z"
    }
   },
   "outputs": [],
   "source": [
    "std_pool = math.sqrt((\n",
    "    ((size_mujeres - 1) * std_mujeres ** 2) +  ((size_hombres - 1) * std_hombres ** 2)\n",
    ") / (\n",
    "    size_mujeres + size_hombres - 2\n",
    "))"
   ]
  },
  {
   "cell_type": "markdown",
   "id": "f6ba72ab-0ada-4605-ba77-0b510911ef3e",
   "metadata": {},
   "source": [
    "¿Cuál es la probabilidad de que el peso promedio de las mujeres RN supere el 3.2 kg?"
   ]
  },
  {
   "cell_type": "code",
   "execution_count": 21,
   "id": "b0f3d0e1-c23e-467e-8744-69f452f863b8",
   "metadata": {
    "execution": {
     "iopub.execute_input": "2025-01-05T18:53:02.160389Z",
     "iopub.status.busy": "2025-01-05T18:53:02.160108Z",
     "iopub.status.idle": "2025-01-05T18:53:02.475906Z",
     "shell.execute_reply": "2025-01-05T18:53:02.474712Z",
     "shell.execute_reply.started": "2025-01-05T18:53:02.160369Z"
    }
   },
   "outputs": [
    {
     "data": {
      "text/plain": [
       "0.859127224629251"
      ]
     },
     "execution_count": 21,
     "metadata": {},
     "output_type": "execute_result"
    }
   ],
   "source": [
    "# P(X^_ > 3.2) = 1 - P(X^_ <= 3.2)\n",
    "1 - t.cdf(\n",
    "    3.2,\n",
    "    df = size_mujeres - 1,\n",
    "    loc = mu_mujeres,\n",
    "    scale = std_mujeres / math.sqrt(size_mujeres)\n",
    ")"
   ]
  },
  {
   "cell_type": "markdown",
   "id": "20bff377-fb04-446d-a5e2-3e2efb5a41d2",
   "metadata": {},
   "source": [
    "¿Cuál es la probabilidad de que el peso promedio de los hombres RN esté por debajo de 2.9?"
   ]
  },
  {
   "cell_type": "code",
   "execution_count": 22,
   "id": "bd7a3935-1d3c-44c0-8476-cab4570c9785",
   "metadata": {
    "execution": {
     "iopub.execute_input": "2025-01-05T18:54:13.623025Z",
     "iopub.status.busy": "2025-01-05T18:54:13.622338Z",
     "iopub.status.idle": "2025-01-05T18:54:13.682219Z",
     "shell.execute_reply": "2025-01-05T18:54:13.680932Z",
     "shell.execute_reply.started": "2025-01-05T18:54:13.622996Z"
    }
   },
   "outputs": [
    {
     "data": {
      "text/plain": [
       "0.6233730503661126"
      ]
     },
     "execution_count": 22,
     "metadata": {},
     "output_type": "execute_result"
    }
   ],
   "source": [
    "# P(Y^_ < 2.9)\n",
    "t.cdf(\n",
    "    2.9,\n",
    "    df = size_hombres - 1,\n",
    "    loc = mu_hombres,\n",
    "    scale = std_hombres / math.sqrt(size_hombres)\n",
    ")"
   ]
  },
  {
   "cell_type": "markdown",
   "id": "7baebc55-b1c9-433b-bce6-ce2e95044b01",
   "metadata": {},
   "source": [
    "¿Cuál es la probabilidad de que el peso promedio de los hombres sea menor que el peso promedio de las mujeres?"
   ]
  },
  {
   "cell_type": "code",
   "execution_count": 27,
   "id": "ad97ba3f-e643-4170-b321-61c59d7b879d",
   "metadata": {
    "execution": {
     "iopub.execute_input": "2025-01-05T19:08:36.105240Z",
     "iopub.status.busy": "2025-01-05T19:08:36.104424Z",
     "iopub.status.idle": "2025-01-05T19:08:36.348490Z",
     "shell.execute_reply": "2025-01-05T19:08:36.346989Z",
     "shell.execute_reply.started": "2025-01-05T19:08:36.105200Z"
    }
   },
   "outputs": [
    {
     "data": {
      "text/plain": [
       "0.9955627921428032"
      ]
     },
     "execution_count": 27,
     "metadata": {},
     "output_type": "execute_result"
    }
   ],
   "source": [
    "# P(Y^_ < X^_) = P(Y^_ - X^_ < 0)\n",
    "t.cdf(\n",
    "    0,\n",
    "    df = size_hombres + size_mujeres - 2,\n",
    "    loc = mu_hombres - mu_mujeres,\n",
    "    scale = std_pool * math.sqrt(1 / size_hombres + 1 / size_mujeres)\n",
    ")"
   ]
  },
  {
   "attachments": {},
   "cell_type": "markdown",
   "id": "1959a18b-c333-44f2-b9fe-2001bc8152b5",
   "metadata": {},
   "source": [
    "¿Cuál es la probabilidad de que el peso promedio de mujeres menos el peso promedio de los hombres sea menor a 0.3?"
   ]
  },
  {
   "cell_type": "code",
   "execution_count": 29,
   "id": "f2e7b26d-a0b0-41f5-9878-23e074b184b3",
   "metadata": {
    "execution": {
     "iopub.execute_input": "2025-01-05T19:09:51.423105Z",
     "iopub.status.busy": "2025-01-05T19:09:51.422450Z",
     "iopub.status.idle": "2025-01-05T19:09:51.859501Z",
     "shell.execute_reply": "2025-01-05T19:09:51.854741Z",
     "shell.execute_reply.started": "2025-01-05T19:09:51.423055Z"
    }
   },
   "outputs": [
    {
     "data": {
      "text/plain": [
       "0.15980944375383316"
      ]
     },
     "execution_count": 29,
     "metadata": {},
     "output_type": "execute_result"
    }
   ],
   "source": [
    "# P(X^_ - Y^_ < 0.3)\n",
    "t.cdf(\n",
    "    0.3,\n",
    "    df = size_hombres + size_mujeres - 2,\n",
    "    loc = mu_mujeres - mu_hombres,\n",
    "    scale = std_pool * math.sqrt(1 / size_hombres + 1 / size_mujeres)\n",
    ")"
   ]
  }
 ],
 "metadata": {
  "kernelspec": {
   "display_name": "Python 3 (ipykernel)",
   "language": "python",
   "name": "python3"
  },
  "language_info": {
   "codemirror_mode": {
    "name": "ipython",
    "version": 3
   },
   "file_extension": ".py",
   "mimetype": "text/x-python",
   "name": "python",
   "nbconvert_exporter": "python",
   "pygments_lexer": "ipython3",
   "version": "3.10.12"
  }
 },
 "nbformat": 4,
 "nbformat_minor": 5
}
