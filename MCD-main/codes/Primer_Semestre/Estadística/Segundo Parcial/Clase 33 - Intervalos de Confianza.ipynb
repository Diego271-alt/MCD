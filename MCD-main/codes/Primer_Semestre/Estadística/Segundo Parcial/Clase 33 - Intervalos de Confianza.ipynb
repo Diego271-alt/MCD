{
 "cells": [
  {
   "cell_type": "code",
   "execution_count": 16,
   "id": "44457a9c-e459-43d3-bcc4-be483b19f71b",
   "metadata": {
    "execution": {
     "iopub.execute_input": "2025-01-13T04:52:31.538129Z",
     "iopub.status.busy": "2025-01-13T04:52:31.537417Z",
     "iopub.status.idle": "2025-01-13T04:52:31.544403Z",
     "shell.execute_reply": "2025-01-13T04:52:31.542429Z",
     "shell.execute_reply.started": "2025-01-13T04:52:31.538104Z"
    }
   },
   "outputs": [],
   "source": [
    "import math\n",
    "import numpy as np\n",
    "import pandas as pd\n",
    "from scipy.stats import norm"
   ]
  },
  {
   "cell_type": "code",
   "execution_count": 5,
   "id": "e6214dda-4f1d-452e-83f0-b6faaf65aac5",
   "metadata": {
    "execution": {
     "iopub.execute_input": "2025-01-13T04:22:20.053353Z",
     "iopub.status.busy": "2025-01-13T04:22:20.051899Z",
     "iopub.status.idle": "2025-01-13T04:22:20.077396Z",
     "shell.execute_reply": "2025-01-13T04:22:20.075468Z",
     "shell.execute_reply.started": "2025-01-13T04:22:20.053296Z"
    }
   },
   "outputs": [],
   "source": [
    "estaturas = pd.DataFrame({\n",
    "    'mujeres': {\n",
    "        0: 105.23648976814002,\n",
    "        1: 159.9830117505917,\n",
    "        2: 157.8305504302989,\n",
    "        3: 150.83684881246882,\n",
    "        4: 126.27105585706886,\n",
    "        5: 154.9637094434729,\n",
    "        6: 156.78858214087086,\n",
    "        7: 116.20647380041191,\n",
    "        8: 149.52279949866352,\n",
    "        9: 156.15767703493475,\n",
    "        10: 132.98198988777585,\n",
    "        11: 123.7628399998357,\n",
    "        12: 124.49782540570595,\n",
    "        13: 166.8592464433459,\n",
    "        14: 145.43553030889598,\n",
    "        15: 153.10134851133625,\n",
    "        16: 153.98807742385543,\n",
    "        17: 140.58610455904272,\n",
    "        18: 114.38748439686606,\n",
    "        19: 140.80540646900772,\n",
    "        20: 148.08088091413083,\n",
    "        21: 177.61362338787876,\n",
    "        22: 129.99771039758343,\n",
    "        23: 176.59140818650485,\n",
    "        24: 150.7086669029377,\n",
    "        25: 141.0953647486167,\n",
    "        26: 121.73642896086676,\n",
    "        27: 116.42452515516197,\n",
    "        28: 134.15924551409262,\n",
    "        29: 151.51845824802876,\n",
    "        30: 110.26861026621191,\n",
    "        31: 105.2269400737714,\n",
    "        32: 137.1392901695799,\n",
    "        33: 154.14118517255702,\n",
    "        34: 100.49256540369242,\n",
    "        35: np.nan,\n",
    "        36: np.nan\n",
    "    },\n",
    "    'hombres': {\n",
    "        0: 181.4449290423654,\n",
    "        1: 166.2976131074829,\n",
    "        2: 102.27359715197235,\n",
    "        3: 167.90237103402615,\n",
    "        4: 136.90651874919422,\n",
    "        5: 129.52351360861212,\n",
    "        6: 163.08200363989454,\n",
    "        7: 160.46243152511306,\n",
    "        8: 151.1630755731603,\n",
    "        9: 147.4429693944985,\n",
    "        10: 133.9246039452264,\n",
    "        11: 148.28989086078946,\n",
    "        12: 141.9965513224015,\n",
    "        13: 150.3129481380456,\n",
    "        14: 156.39230631047394,\n",
    "        15: 116.63661033078097,\n",
    "        16: 150.26485860568937,\n",
    "        17: 120.95052560023032,\n",
    "        18: 178.2243173539173,\n",
    "        19: 188.32198228035122,\n",
    "        20: 185.21569407591596,\n",
    "        21: 156.1521087597357,\n",
    "        22: 197.0163878314197,\n",
    "        23: 167.79696059809066,\n",
    "        24: 113.88584360526875,\n",
    "        25: 115.3547684981022,\n",
    "        26: 202.31765054911375,\n",
    "        27: 145.54908310226165,\n",
    "        28: 121.76152202580124,\n",
    "        29: 159.06499291583896,\n",
    "        30: 160.2235072669573,\n",
    "        31: 127.93262547627091,\n",
    "        32: 147.4674348019762,\n",
    "        33: 190.9071300206706,\n",
    "        34: 151.02560544898733,\n",
    "        35: 158.13808139052708,\n",
    "        36: 124.12334334210027\n",
    "    }\n",
    "})"
   ]
  },
  {
   "cell_type": "code",
   "execution_count": 10,
   "id": "f8507154-f6fe-49ee-8bc2-870bc245b724",
   "metadata": {
    "execution": {
     "iopub.execute_input": "2025-01-13T04:47:03.365710Z",
     "iopub.status.busy": "2025-01-13T04:47:03.365339Z",
     "iopub.status.idle": "2025-01-13T04:47:03.376400Z",
     "shell.execute_reply": "2025-01-13T04:47:03.375019Z",
     "shell.execute_reply.started": "2025-01-13T04:47:03.365648Z"
    }
   },
   "outputs": [],
   "source": [
    "estaturas_hombres = estaturas[\"hombres\"][estaturas[\"hombres\"].notnull()]"
   ]
  },
  {
   "cell_type": "code",
   "execution_count": 12,
   "id": "43dccd7b-f03f-498a-8593-1ac7b7482299",
   "metadata": {
    "execution": {
     "iopub.execute_input": "2025-01-13T04:47:34.224399Z",
     "iopub.status.busy": "2025-01-13T04:47:34.223930Z",
     "iopub.status.idle": "2025-01-13T04:47:34.233703Z",
     "shell.execute_reply": "2025-01-13T04:47:34.231360Z",
     "shell.execute_reply.started": "2025-01-13T04:47:34.224348Z"
    }
   },
   "outputs": [],
   "source": [
    "alpha = 0.05\n",
    "mu = 168"
   ]
  },
  {
   "cell_type": "markdown",
   "id": "a944232f-248f-4af6-af55-291f60a1b2f0",
   "metadata": {
    "execution": {
     "iopub.execute_input": "2025-01-13T04:22:24.207861Z",
     "iopub.status.busy": "2025-01-13T04:22:24.206960Z",
     "iopub.status.idle": "2025-01-13T04:22:24.233244Z",
     "shell.execute_reply": "2025-01-13T04:22:24.231833Z",
     "shell.execute_reply.started": "2025-01-13T04:22:24.207824Z"
    }
   },
   "source": [
    "El promedio de la estatura de los hombres es mayor a 168 cm  \n",
    "Prueba de hipótesis unilateral superior para el promedio de las estaturas de los hombres"
   ]
  },
  {
   "cell_type": "markdown",
   "id": "f0c0c09a-6f1a-4922-b4c6-3e5745dc1474",
   "metadata": {},
   "source": [
    "### 1. Datos\n",
    "Los datos provienen de una m.a.s.i.i.d de estaturas de hombres donde nos interesa estudiar el promedio de estaturas $\\alpha=0.05$\n",
    "### 2. Supuestos  \n",
    "Las estaturas siguen una distribución normal, donde no conocemos la varianza (pero se puede estudiar) y que tenemos una muestra grande $n=37$ para $n>30$\n",
    "### 3. Hipótesis\n",
    "* Hipótesis de Investigación: El promedio de las estaturas es mayor a 168 cm\n",
    "* $H_a$: $\\mu>168$cm\n",
    "* $H_0$: $\\mu\\leq 168$cm  \n",
    "Planteamos que $H_0$ es verdadera y queremos demostrar que es falsa\n",
    "### 4. Estadístico de prueba\n",
    "$Z = \\frac{\\bar{X}-\\mu}{\\frac{s}{\\sqrt{n}}}$\n",
    "### 5. Distribución del estadístico de prueba\n",
    "$Z$ es $N(0,1)$ cuando $n \\rightarrow \\infty$ utilizando TCL\n",
    "### 6. Región de rechazo\n",
    "Al ser unilateral\n",
    "* $V.C. = Z_{0.95}$"
   ]
  },
  {
   "cell_type": "code",
   "execution_count": 24,
   "id": "78ec8129-46b4-4e50-8bed-1a6d0226fca1",
   "metadata": {
    "execution": {
     "iopub.execute_input": "2025-01-13T05:02:15.914229Z",
     "iopub.status.busy": "2025-01-13T05:02:15.913931Z",
     "iopub.status.idle": "2025-01-13T05:02:15.922036Z",
     "shell.execute_reply": "2025-01-13T05:02:15.920715Z",
     "shell.execute_reply.started": "2025-01-13T05:02:15.914199Z"
    }
   },
   "outputs": [
    {
     "data": {
      "text/plain": [
       "1.6448536269514722"
      ]
     },
     "execution_count": 24,
     "metadata": {},
     "output_type": "execute_result"
    }
   ],
   "source": [
    "# Valor crítico\n",
    "vc_superior = norm.ppf(1 - alpha)\n",
    "vc_superior"
   ]
  },
  {
   "cell_type": "markdown",
   "id": "23774f34-9689-47af-aaa4-377cec3af9bc",
   "metadata": {},
   "source": [
    "Región de rechazo todos los $z$ del recorrdio de la v.a Z por arriba de 165 cm en valor\n",
    "### 8. Decisión"
   ]
  },
  {
   "cell_type": "code",
   "execution_count": 11,
   "id": "96146972-b92f-4b4f-8f0b-36c6e6341888",
   "metadata": {
    "execution": {
     "iopub.execute_input": "2025-01-13T04:47:16.622146Z",
     "iopub.status.busy": "2025-01-13T04:47:16.621025Z",
     "iopub.status.idle": "2025-01-13T04:47:16.636167Z",
     "shell.execute_reply": "2025-01-13T04:47:16.633927Z",
     "shell.execute_reply.started": "2025-01-13T04:47:16.621981Z"
    }
   },
   "outputs": [
    {
     "data": {
      "text/plain": [
       "151.77692857522334"
      ]
     },
     "execution_count": 11,
     "metadata": {},
     "output_type": "execute_result"
    }
   ],
   "source": [
    "x_mean = estaturas_hombres.mean()\n",
    "x_mean"
   ]
  },
  {
   "cell_type": "code",
   "execution_count": 15,
   "id": "ef6d23be-229d-4928-964e-8e51872cbf9e",
   "metadata": {
    "execution": {
     "iopub.execute_input": "2025-01-13T04:52:20.561270Z",
     "iopub.status.busy": "2025-01-13T04:52:20.559813Z",
     "iopub.status.idle": "2025-01-13T04:52:20.568180Z",
     "shell.execute_reply": "2025-01-13T04:52:20.567221Z",
     "shell.execute_reply.started": "2025-01-13T04:52:20.561231Z"
    }
   },
   "outputs": [
    {
     "data": {
      "text/plain": [
       "37"
      ]
     },
     "execution_count": 15,
     "metadata": {},
     "output_type": "execute_result"
    }
   ],
   "source": [
    "n = len(estaturas_hombres)\n",
    "n"
   ]
  },
  {
   "cell_type": "code",
   "execution_count": 14,
   "id": "72e39ee8-3feb-4301-a4dd-0e99bcdda84b",
   "metadata": {
    "execution": {
     "iopub.execute_input": "2025-01-13T04:51:41.605436Z",
     "iopub.status.busy": "2025-01-13T04:51:41.603682Z",
     "iopub.status.idle": "2025-01-13T04:51:41.630413Z",
     "shell.execute_reply": "2025-01-13T04:51:41.626740Z",
     "shell.execute_reply.started": "2025-01-13T04:51:41.605220Z"
    }
   },
   "outputs": [
    {
     "data": {
      "text/plain": [
       "24.8093815712281"
      ]
     },
     "execution_count": 14,
     "metadata": {},
     "output_type": "execute_result"
    }
   ],
   "source": [
    "desv_estandar_estaturas_hombres = estaturas_hombres.std()\n",
    "desv_estandar_estaturas_hombres"
   ]
  },
  {
   "cell_type": "code",
   "execution_count": 18,
   "id": "cb271f58-e7f9-4519-b814-70b1a6a0e7e8",
   "metadata": {
    "execution": {
     "iopub.execute_input": "2025-01-13T04:52:42.983188Z",
     "iopub.status.busy": "2025-01-13T04:52:42.982322Z",
     "iopub.status.idle": "2025-01-13T04:52:42.988599Z",
     "shell.execute_reply": "2025-01-13T04:52:42.987754Z",
     "shell.execute_reply.started": "2025-01-13T04:52:42.983135Z"
    }
   },
   "outputs": [
    {
     "data": {
      "text/plain": [
       "-3.977571577335306"
      ]
     },
     "execution_count": 18,
     "metadata": {},
     "output_type": "execute_result"
    }
   ],
   "source": [
    "z = (x_mean - mu) / (desv_estandar_estaturas_hombres / math.sqrt(n))\n",
    "z"
   ]
  },
  {
   "cell_type": "markdown",
   "id": "7e86bb82-34be-462d-bdfa-107a3f2d19af",
   "metadata": {},
   "source": [
    "Como el valor esperado $(z)$ contra el valor crítico y se observa que el valor crítico es más grande que el valor del estadístico de prueba  \n",
    "por lo tanto la hipótesis nula no es rechazada\n",
    "### 9. Conclusión\n",
    "Después de realizar la prueba de hipótesis para verificar que el promedio de las estaturas de hombres es mayor a 168 cm, encontramos que  \n",
    "por el contrario, parece que bajo esta muestra el promedio de las estaturas está por debajo de 168 cm\n",
    "### 10. P-valor"
   ]
  },
  {
   "cell_type": "code",
   "execution_count": 23,
   "id": "4261dc45-3843-4dc6-8411-18880e3fa270",
   "metadata": {
    "execution": {
     "iopub.execute_input": "2025-01-13T04:58:45.554640Z",
     "iopub.status.busy": "2025-01-13T04:58:45.553963Z",
     "iopub.status.idle": "2025-01-13T04:58:45.563883Z",
     "shell.execute_reply": "2025-01-13T04:58:45.562742Z",
     "shell.execute_reply.started": "2025-01-13T04:58:45.554604Z"
    }
   },
   "outputs": [
    {
     "data": {
      "text/plain": [
       "0.9999651886657668"
      ]
     },
     "execution_count": 23,
     "metadata": {},
     "output_type": "execute_result"
    }
   ],
   "source": [
    "p_value = 1 - norm.cdf(z)\n",
    "p_value"
   ]
  },
  {
   "cell_type": "markdown",
   "id": "de7721fe-6c1b-4678-a6e9-0506d8ed9c64",
   "metadata": {},
   "source": [
    "Como $p_{value} > \\alpha = 0.05$ (la muestra es significativa) y como no se rechazó la $H_0$ "
   ]
  },
  {
   "cell_type": "markdown",
   "id": "e6b8db86-a582-4a8b-add8-ab611efec2d4",
   "metadata": {},
   "source": [
    "### 11. Intervalo de confianza"
   ]
  },
  {
   "cell_type": "code",
   "execution_count": 29,
   "id": "bdd84a3c-3170-4ebe-9943-3cb76bc32eac",
   "metadata": {
    "execution": {
     "iopub.execute_input": "2025-01-13T05:03:57.120331Z",
     "iopub.status.busy": "2025-01-13T05:03:57.119553Z",
     "iopub.status.idle": "2025-01-13T05:03:57.130634Z",
     "shell.execute_reply": "2025-01-13T05:03:57.128796Z",
     "shell.execute_reply.started": "2025-01-13T05:03:57.120301Z"
    }
   },
   "outputs": [
    {
     "data": {
      "text/plain": [
       "(145.06816737394448, 158.4856897765022)"
      ]
     },
     "execution_count": 29,
     "metadata": {},
     "output_type": "execute_result"
    }
   ],
   "source": [
    "(\n",
    "    x_mean - norm.ppf(1 - alpha) * (desv_estandar_estaturas_hombres / math.sqrt(n)), \n",
    "    x_mean + norm.ppf(1 - alpha) * (desv_estandar_estaturas_hombres / math.sqrt(n))\n",
    ")"
   ]
  }
 ],
 "metadata": {
  "kernelspec": {
   "display_name": "Python 3 (ipykernel)",
   "language": "python",
   "name": "python3"
  },
  "language_info": {
   "codemirror_mode": {
    "name": "ipython",
    "version": 3
   },
   "file_extension": ".py",
   "mimetype": "text/x-python",
   "name": "python",
   "nbconvert_exporter": "python",
   "pygments_lexer": "ipython3",
   "version": "3.10.12"
  }
 },
 "nbformat": 4,
 "nbformat_minor": 5
}
