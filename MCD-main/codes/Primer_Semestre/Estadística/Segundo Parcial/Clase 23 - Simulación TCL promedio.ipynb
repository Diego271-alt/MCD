{
 "cells": [
  {
   "cell_type": "code",
   "execution_count": null,
   "id": "9cf5bd60-d00e-4d3f-8021-1c1a3e0cc0b6",
   "metadata": {},
   "outputs": [],
   "source": [
    "import pandas as pd\n",
    "import itertools\n",
    "import matplotlib.pyplot as plt\n",
    "import seaborn as sns"
   ]
  },
  {
   "cell_type": "code",
   "execution_count": null,
   "id": "4f1f4555-09e6-4850-8020-7863eb09d94c",
   "metadata": {},
   "outputs": [],
   "source": [
    "from functools import reduce\n",
    "factorial = lambda x: reduce(lambda a, b: a* b, range(1,x+1))\n",
    "combinaciones = lambda a,b: factorial(a)/(factorial(b)*factorial(a-b))"
   ]
  },
  {
   "cell_type": "code",
   "execution_count": null,
   "id": "c0487716-9801-480a-9c3e-3fd6d9df8f1b",
   "metadata": {},
   "outputs": [],
   "source": [
    "df = pd.DataFrame({\n",
    "    'Nombre': {\n",
    "        0: 'Sarabia López Carlos Alberto',\n",
    "        1: 'Valencia Barrios Aracely Fabiola',\n",
    "        2: 'Unda Lopez Jonathan Said',\n",
    "        3: 'López González Luis Antonio',\n",
    "        4: 'Diaz Yescas Laura Sarahi',\n",
    "        5: 'Velasco Reyes Juan Ramón',\n",
    "        6: 'Rojas Santiago Isaac',\n",
    "        7: 'García Hernández Heber',\n",
    "        8: 'Jeronimo Porras Victor ',\n",
    "        9: 'García Cruz Froylán',\n",
    "        10: 'Osorio Feria Aldair',\n",
    "        11: 'Cortes Cruz Iván de Jesús',\n",
    "        12: 'Cruz Hernandez Sergio Adrian ',\n",
    "        13: 'Lujan Lopez Uziel Isai',\n",
    "        14: 'Oscar Flores Merino',\n",
    "        15: 'Valle Ramírez Ricardo'\n",
    "    },\n",
    "    'Peso(kg)': {\n",
    "        0: 55.0,\n",
    "        1: 60.0,\n",
    "        2: 62.0,\n",
    "        3: 62.0,\n",
    "        4: 63.0,\n",
    "        5: 65.0,\n",
    "        6: 65.0,\n",
    "        7: 65.9,\n",
    "        8: 66.0,\n",
    "        9: 68.0,\n",
    "        10: 68.0,\n",
    "        11: 68.2,\n",
    "        12: 70.0,\n",
    "        13: 70.0,\n",
    "        14: 80.0,\n",
    "        15: 83.0},\n",
    "        'Talla (m)': {0: 1.56,\n",
    "        1: 1.62,\n",
    "        2: 1.69,\n",
    "        3: 1.7,\n",
    "        4: 1.61,\n",
    "        5: 1.69,\n",
    "        6: 1.7,\n",
    "        7: 1.65,\n",
    "        8: 1.68,\n",
    "        9: 1.68,\n",
    "        10: 1.71,\n",
    "        11: 1.69,\n",
    "        12: 1.63,\n",
    "        13: 1.7,\n",
    "        14: 1.72,\n",
    "        15: 1.68\n",
    "    },\n",
    "    'Peso al nacer(kg)': {\n",
    "        0: 3.0,\n",
    "        1: 4.5,\n",
    "        2: 4.5,\n",
    "        3: 3.25,\n",
    "        4: 3.5,\n",
    "        5: 3.5,\n",
    "        6: 3.2,\n",
    "        7: 3.8,\n",
    "        8: 3.65,\n",
    "        9: 3.2,\n",
    "        10: 3.35,\n",
    "        11: 3.0,\n",
    "        12: 3.3,\n",
    "        13: 3.2,\n",
    "        14: 3.8,\n",
    "        15: 3.0\n",
    "    },\n",
    "    'Talla al nacer(cm)': {\n",
    "        0: 50.0,\n",
    "        1: 51.0,\n",
    "        2: 50.2,\n",
    "        3: 51.0,\n",
    "        4: 52.0,\n",
    "        5: 53.0,\n",
    "        6: 51.0,\n",
    "        7: 51.0,\n",
    "        8: 53.0,\n",
    "        9: 48.0,\n",
    "        10: 52.0,\n",
    "        11: 48.0,\n",
    "        12: 50.0,\n",
    "        13: 45.0,\n",
    "        14: 52.0,\n",
    "        15: 50.0\n",
    "    },\n",
    "    'IMC': {\n",
    "        0: 22.6,\n",
    "        1: 22.9,\n",
    "        2: 21.7,\n",
    "        3: 19.3,\n",
    "        4: 24.3,\n",
    "        5: 22.7,\n",
    "        6: 22.5,\n",
    "        7: 24.2,\n",
    "        8: 23.4,\n",
    "        9: 24.09,\n",
    "        10: 23.25,\n",
    "        11: 23.9,\n",
    "        12: 26.34,\n",
    "        13: 24.2,\n",
    "        14: 27.04,\n",
    "        15: 29.4\n",
    "    },\n",
    "    'Helado': {\n",
    "        0: 'Chocolate',\n",
    "        1: 'Limón',\n",
    "        2: 'Chocolate ',\n",
    "        3: 'Vainilla',\n",
    "        4: 'Nuez',\n",
    "        5: 'Nuez',\n",
    "        6: 'Nuez',\n",
    "        7: 'Vainilla',\n",
    "        8: 'Chocolate ',\n",
    "        9: 'Vainilla',\n",
    "        10: 'Leche quemada',\n",
    "        11: 'Chocolate',\n",
    "        12: 'Queso ',\n",
    "        13: 'Limón',\n",
    "        14: 'Chocolate',\n",
    "        15: 'Vainilla'\n",
    "    },\n",
    "    'Fuma': {\n",
    "        0: 'No',\n",
    "        1: 'si ',\n",
    "        2: 'Si',\n",
    "        3: 'No',\n",
    "        4: 'No',\n",
    "        5: 'No',\n",
    "        6: 'No',\n",
    "        7: 'No',\n",
    "        8: 'Si',\n",
    "        9: 'No',\n",
    "        10: 'No',\n",
    "        11: 'No',\n",
    "        12: 'No',\n",
    "        13: 'No',\n",
    "        14: 'No',\n",
    "        15: 'si'\n",
    "    },\n",
    "    'Estado Civil': {\n",
    "        0: 'Soltero',\n",
    "        1: 'soltera',\n",
    "        2: 'Soltero',\n",
    "        3: 'soltero',\n",
    "        4: 'Soltera',\n",
    "        5: 'Soltero',\n",
    "        6: 'Soltero',\n",
    "        7: 'Soltero',\n",
    "        8: 'soltero',\n",
    "        9: 'soltero',\n",
    "        10: 'Soltero',\n",
    "        11: 'Soltero',\n",
    "        12: 'Soltero',\n",
    "        13: 'Soltero',\n",
    "        14: 'Soltero',\n",
    "        15: 'soltero'\n",
    "    }\n",
    "})"
   ]
  },
  {
   "cell_type": "markdown",
   "id": "f1c0f25c-555c-4ee8-8494-ca9d4585f743",
   "metadata": {},
   "source": [
    "# Peso (kg)"
   ]
  },
  {
   "cell_type": "code",
   "execution_count": null,
   "id": "695c70b7-c4d9-421b-b6f0-8cb533da657d",
   "metadata": {},
   "outputs": [],
   "source": [
    "combinaciones(16,3)"
   ]
  },
  {
   "cell_type": "code",
   "execution_count": null,
   "id": "6dc38def-9af1-455d-8e99-6302cf0c5117",
   "metadata": {},
   "outputs": [],
   "source": [
    "pesos_comb = list(itertools.combinations(df['Peso(kg)'], 3))"
   ]
  },
  {
   "cell_type": "code",
   "execution_count": null,
   "id": "dc401e1e-e171-48f9-889d-0e21f8e3bff6",
   "metadata": {},
   "outputs": [],
   "source": [
    "simulacion_peso = pd.DataFrame(pesos_comb, columns=['M1', 'M2', 'M3'])"
   ]
  },
  {
   "cell_type": "code",
   "execution_count": null,
   "id": "a397c177-de1f-4209-8b6c-89fa271a902f",
   "metadata": {},
   "outputs": [],
   "source": [
    "simulacion_peso[\"Promedio\"] = simulacion_peso.mean(axis=1)"
   ]
  },
  {
   "cell_type": "code",
   "execution_count": null,
   "id": "d9d60283-c45b-4ae9-a454-40d86434f6fe",
   "metadata": {},
   "outputs": [],
   "source": [
    "simulacion_peso.head(10)"
   ]
  },
  {
   "cell_type": "code",
   "execution_count": null,
   "id": "3baa78d4-e154-4223-82b0-7fabdbdcdf0e",
   "metadata": {},
   "outputs": [],
   "source": [
    "df['Peso(kg)'].describe()"
   ]
  },
  {
   "cell_type": "code",
   "execution_count": null,
   "id": "f98fc389-4eb3-4646-8b6b-cd93837d0637",
   "metadata": {},
   "outputs": [],
   "source": [
    "simulacion_peso[\"Promedio\"].describe()"
   ]
  },
  {
   "cell_type": "code",
   "execution_count": null,
   "id": "3994a142-4b75-4895-a058-6f93a59e90f9",
   "metadata": {},
   "outputs": [],
   "source": [
    "fig, axs = plt.subplots(nrows=1, ncols=2, figsize=(20,6))\n",
    "\n",
    "ax = axs.flat[0]\n",
    "sns.histplot(simulacion_peso[\"Promedio\"], kde=True, ax=ax)\n",
    "\n",
    "ax = axs.flat[1]\n",
    "sns.histplot(df['Peso(kg)'], kde=True, ax=ax)\n",
    "\n",
    "plt.tight_layout()\n",
    "plt.show()"
   ]
  },
  {
   "attachments": {},
   "cell_type": "markdown",
   "id": "4e493a36-0018-4c96-ae5a-75f686bc5d77",
   "metadata": {},
   "source": [
    "# Talla al nacer(cm)"
   ]
  },
  {
   "cell_type": "code",
   "execution_count": null,
   "id": "5fda8507-4f92-4d09-b8d8-060aed8a6c74",
   "metadata": {},
   "outputs": [],
   "source": [
    "combinaciones(16,5)"
   ]
  },
  {
   "cell_type": "code",
   "execution_count": null,
   "id": "c9b71c47-f020-4329-95cd-4aa59f8b98ad",
   "metadata": {},
   "outputs": [],
   "source": [
    "tallas_nacer_comb = list(itertools.combinations(df['Talla al nacer(cm)'], 5))"
   ]
  },
  {
   "cell_type": "code",
   "execution_count": null,
   "id": "13c90e11-d2ef-4768-9225-c75dff7f9034",
   "metadata": {},
   "outputs": [],
   "source": [
    "simulacion_talla_nacer = pd.DataFrame(tallas_nacer_comb, columns=['M1', 'M2', 'M3', 'M4', 'M5'])"
   ]
  },
  {
   "cell_type": "code",
   "execution_count": null,
   "id": "77f67cbe-6e55-4721-89d6-4b464f04aec2",
   "metadata": {},
   "outputs": [],
   "source": [
    "simulacion_talla_nacer[\"Promedio\"] = simulacion_talla_nacer.mean(axis=1)"
   ]
  },
  {
   "cell_type": "code",
   "execution_count": null,
   "id": "8e7c6bc2-ad30-41f1-b949-bf80ac034e32",
   "metadata": {},
   "outputs": [],
   "source": [
    "simulacion_talla_nacer.head(10)"
   ]
  },
  {
   "cell_type": "code",
   "execution_count": null,
   "id": "e4728d2e-d439-4c64-ac00-404187962631",
   "metadata": {},
   "outputs": [],
   "source": [
    "df['Talla al nacer(cm)'].describe()"
   ]
  },
  {
   "cell_type": "code",
   "execution_count": null,
   "id": "84c13dff-02f6-4297-9493-0a569cf4b44d",
   "metadata": {},
   "outputs": [],
   "source": [
    "simulacion_talla_nacer[\"Promedio\"].describe()"
   ]
  },
  {
   "cell_type": "code",
   "execution_count": null,
   "id": "ef34f597-4372-42e1-b7e2-5019940d97f9",
   "metadata": {},
   "outputs": [],
   "source": [
    "fig, axs = plt.subplots(nrows=1, ncols=2, figsize=(20,6))\n",
    "\n",
    "ax = axs.flat[0]\n",
    "sns.histplot(simulacion_talla_nacer[\"Promedio\"], kde=True, ax=ax, bins=5)\n",
    "\n",
    "ax = axs.flat[1]\n",
    "sns.histplot(df['Talla al nacer(cm)'], kde=True, ax=ax, bins=5)\n",
    "\n",
    "plt.tight_layout()\n",
    "plt.show()"
   ]
  }
 ],
 "metadata": {
  "kernelspec": {
   "display_name": "Python 3 (ipykernel)",
   "language": "python",
   "name": "python3"
  },
  "language_info": {
   "codemirror_mode": {
    "name": "ipython",
    "version": 3
   },
   "file_extension": ".py",
   "mimetype": "text/x-python",
   "name": "python",
   "nbconvert_exporter": "python",
   "pygments_lexer": "ipython3",
   "version": "3.10.12"
  }
 },
 "nbformat": 4,
 "nbformat_minor": 5
}
