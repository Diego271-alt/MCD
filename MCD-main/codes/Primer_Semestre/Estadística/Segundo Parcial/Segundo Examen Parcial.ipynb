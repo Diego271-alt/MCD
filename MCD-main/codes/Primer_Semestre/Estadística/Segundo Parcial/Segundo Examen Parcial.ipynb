{
 "cells": [
  {
   "cell_type": "markdown",
   "id": "06d81f20-d10b-460a-be7d-693055f92a37",
   "metadata": {},
   "source": [
    "**Autor:** Jose Ricardo Mendoza Villar  \n",
    "371013 Probabilidad y Estadística para Ciencia de Datos\n",
    "Segundo Examen Parcial"
   ]
  },
  {
   "cell_type": "code",
   "execution_count": 1,
   "id": "58117b39-6a7b-4cda-8377-1740720dfe9d",
   "metadata": {
    "execution": {
     "iopub.execute_input": "2025-01-31T03:38:14.587524Z",
     "iopub.status.busy": "2025-01-31T03:38:14.586197Z",
     "iopub.status.idle": "2025-01-31T03:38:16.513889Z",
     "shell.execute_reply": "2025-01-31T03:38:16.512461Z",
     "shell.execute_reply.started": "2025-01-31T03:38:14.587282Z"
    }
   },
   "outputs": [],
   "source": [
    "import math\n",
    "import numpy as np\n",
    "import pandas as pd\n",
    "from scipy.stats import norm, t as t_student"
   ]
  },
  {
   "cell_type": "markdown",
   "id": "c4542ae3-2d7a-49ff-a08e-6a1a5715ef51",
   "metadata": {},
   "source": [
    "# Ejercicio 1\n",
    "Se planea en un restaurante eliminar del menú el pollo frito. Se afirma que las ventas habían descendido por debajo de la media histórica de 4500.¿Parece una decisión adecuada si en una muestra de $n = 144$ registros se observa que $\\bar{X} = 4477$, $s = 1128$ con $\\alpha = 0.02$?"
   ]
  },
  {
   "cell_type": "code",
   "execution_count": 2,
   "id": "7177aee1-972d-4083-a018-5688656dfbea",
   "metadata": {
    "execution": {
     "iopub.execute_input": "2025-01-31T03:38:16.515857Z",
     "iopub.status.busy": "2025-01-31T03:38:16.515454Z",
     "iopub.status.idle": "2025-01-31T03:38:16.521871Z",
     "shell.execute_reply": "2025-01-31T03:38:16.520302Z",
     "shell.execute_reply.started": "2025-01-31T03:38:16.515830Z"
    }
   },
   "outputs": [],
   "source": [
    "alpha = 0.02\n",
    "mu0 = 4500\n",
    "n = 144\n",
    "mu_est = 4477\n",
    "s_est = 1128"
   ]
  },
  {
   "cell_type": "code",
   "execution_count": 3,
   "id": "b2390728-89fc-4d29-98c9-77289cb11739",
   "metadata": {
    "execution": {
     "iopub.execute_input": "2025-01-31T03:38:16.523161Z",
     "iopub.status.busy": "2025-01-31T03:38:16.522877Z",
     "iopub.status.idle": "2025-01-31T03:38:16.537760Z",
     "shell.execute_reply": "2025-01-31T03:38:16.536502Z",
     "shell.execute_reply.started": "2025-01-31T03:38:16.523135Z"
    }
   },
   "outputs": [
    {
     "data": {
      "text/plain": [
       "-2.053748910631823"
      ]
     },
     "execution_count": 3,
     "metadata": {},
     "output_type": "execute_result"
    }
   ],
   "source": [
    "vc_superior = norm.ppf(alpha)\n",
    "vc_superior"
   ]
  },
  {
   "cell_type": "code",
   "execution_count": 4,
   "id": "2c160114-926a-44e3-ba07-0db99abd2eb3",
   "metadata": {
    "execution": {
     "iopub.execute_input": "2025-01-31T03:38:16.541197Z",
     "iopub.status.busy": "2025-01-31T03:38:16.540857Z",
     "iopub.status.idle": "2025-01-31T03:38:16.550872Z",
     "shell.execute_reply": "2025-01-31T03:38:16.548923Z",
     "shell.execute_reply.started": "2025-01-31T03:38:16.541170Z"
    }
   },
   "outputs": [
    {
     "data": {
      "text/plain": [
       "-0.24468085106382978"
      ]
     },
     "execution_count": 4,
     "metadata": {},
     "output_type": "execute_result"
    }
   ],
   "source": [
    "z = (mu_est - mu0) / (s_est / math.sqrt(n))\n",
    "z"
   ]
  },
  {
   "cell_type": "code",
   "execution_count": 5,
   "id": "b4196836-1945-4270-8355-1b08d2841da7",
   "metadata": {
    "execution": {
     "iopub.execute_input": "2025-01-31T03:38:16.554208Z",
     "iopub.status.busy": "2025-01-31T03:38:16.552921Z",
     "iopub.status.idle": "2025-01-31T03:38:16.563234Z",
     "shell.execute_reply": "2025-01-31T03:38:16.562165Z",
     "shell.execute_reply.started": "2025-01-31T03:38:16.554175Z"
    }
   },
   "outputs": [
    {
     "data": {
      "text/plain": [
       "0.596648221965925"
      ]
     },
     "execution_count": 5,
     "metadata": {},
     "output_type": "execute_result"
    }
   ],
   "source": [
    "p_value = 1 - norm.cdf(z)\n",
    "p_value"
   ]
  },
  {
   "cell_type": "markdown",
   "id": "47588d4a-303f-4dc0-9f78-9e92ab7f2ea4",
   "metadata": {},
   "source": [
    "# Ejercicio 2\n",
    "Un estudio indicó que el $64\\%$ de los consumidores de supermercado creen en las marcas propias. El fabricante de una salsa de tomate preguntó a 100 compradores donde 52 prefieren marca propia, probar si el porcentaje de preferencias es menor al $64\\%$, para un $4\\%$ de nivel de significancia."
   ]
  },
  {
   "cell_type": "code",
   "execution_count": 6,
   "id": "63553e4a-0dc1-45e9-bbd8-71fb201921f3",
   "metadata": {
    "execution": {
     "iopub.execute_input": "2025-01-31T03:38:16.564622Z",
     "iopub.status.busy": "2025-01-31T03:38:16.564295Z",
     "iopub.status.idle": "2025-01-31T03:38:16.571884Z",
     "shell.execute_reply": "2025-01-31T03:38:16.570614Z",
     "shell.execute_reply.started": "2025-01-31T03:38:16.564594Z"
    }
   },
   "outputs": [],
   "source": [
    "p0 = 0.64\n",
    "q0 = 1 - p0\n",
    "n = 100\n",
    "p_est = 52 / n\n",
    "alpha = 0.04"
   ]
  },
  {
   "cell_type": "code",
   "execution_count": 7,
   "id": "516a2a7f-00dc-4cb1-9e00-1c60e997dfcb",
   "metadata": {
    "execution": {
     "iopub.execute_input": "2025-01-31T03:38:16.573746Z",
     "iopub.status.busy": "2025-01-31T03:38:16.573228Z",
     "iopub.status.idle": "2025-01-31T03:38:16.583990Z",
     "shell.execute_reply": "2025-01-31T03:38:16.582534Z",
     "shell.execute_reply.started": "2025-01-31T03:38:16.573701Z"
    }
   },
   "outputs": [
    {
     "data": {
      "text/plain": [
       "-1.75068607125217"
      ]
     },
     "execution_count": 7,
     "metadata": {},
     "output_type": "execute_result"
    }
   ],
   "source": [
    "vc_inferior = norm.ppf(alpha)\n",
    "vc_inferior"
   ]
  },
  {
   "cell_type": "code",
   "execution_count": 8,
   "id": "81f78bd7-48d5-4073-b787-f918d8443910",
   "metadata": {
    "execution": {
     "iopub.execute_input": "2025-01-31T03:38:16.585299Z",
     "iopub.status.busy": "2025-01-31T03:38:16.585042Z",
     "iopub.status.idle": "2025-01-31T03:38:16.595711Z",
     "shell.execute_reply": "2025-01-31T03:38:16.593976Z",
     "shell.execute_reply.started": "2025-01-31T03:38:16.585276Z"
    }
   },
   "outputs": [
    {
     "data": {
      "text/plain": [
       "-2.5"
      ]
     },
     "execution_count": 8,
     "metadata": {},
     "output_type": "execute_result"
    }
   ],
   "source": [
    "z = (p_est - p0) / math.sqrt(p0 * q0 / n)\n",
    "z"
   ]
  },
  {
   "cell_type": "code",
   "execution_count": 9,
   "id": "2456e51b-3c91-49d2-98dd-63013e3d85e5",
   "metadata": {
    "execution": {
     "iopub.execute_input": "2025-01-31T03:38:16.599254Z",
     "iopub.status.busy": "2025-01-31T03:38:16.597549Z",
     "iopub.status.idle": "2025-01-31T03:38:16.609127Z",
     "shell.execute_reply": "2025-01-31T03:38:16.607464Z",
     "shell.execute_reply.started": "2025-01-31T03:38:16.599197Z"
    }
   },
   "outputs": [
    {
     "data": {
      "text/plain": [
       "0.006209665325776132"
      ]
     },
     "execution_count": 9,
     "metadata": {},
     "output_type": "execute_result"
    }
   ],
   "source": [
    "p_value = (norm.cdf(z))\n",
    "p_value"
   ]
  },
  {
   "cell_type": "markdown",
   "id": "dbc386b9-d95e-4a39-a6ed-1b6a62aa1807",
   "metadata": {},
   "source": [
    "# Ejercicio 3\n",
    "Las ganancias por acción son de más de 3.5 dólares, para probar esta afirmación se tomó una muestra de datos como sigue\n",
    "|     |     |     |     |     |     |     |     |     |     |     |\n",
    "| --- | --- | --- | --- | --- | --- | --- | --- | --- | --- | --- |\n",
    "| 1.92 | 2.16 | 3.63 | 3.16 | 4.02 | 3.14 | 2.2 | 2.34 | 3.05 | 2.38 |\n",
    "\n",
    "¿Podríamos decir que las ganancias en promedio supere 3.5 dólares? Calcule el IC a 95% de confianza para el problema. ¿Qué podría concluir de todo su análisis?"
   ]
  },
  {
   "cell_type": "code",
   "execution_count": 52,
   "id": "52dac803-ff3d-419f-98b6-884b79c8e3ec",
   "metadata": {
    "execution": {
     "iopub.execute_input": "2025-01-31T04:02:20.252319Z",
     "iopub.status.busy": "2025-01-31T04:02:20.252041Z",
     "iopub.status.idle": "2025-01-31T04:02:20.257804Z",
     "shell.execute_reply": "2025-01-31T04:02:20.256459Z",
     "shell.execute_reply.started": "2025-01-31T04:02:20.252298Z"
    }
   },
   "outputs": [],
   "source": [
    "mu0 = 3.5\n",
    "alpha = 0.05"
   ]
  },
  {
   "cell_type": "code",
   "execution_count": 53,
   "id": "a92c1d99-3db9-45ff-9b7a-8778ed28baa6",
   "metadata": {
    "execution": {
     "iopub.execute_input": "2025-01-31T04:02:20.397311Z",
     "iopub.status.busy": "2025-01-31T04:02:20.397053Z",
     "iopub.status.idle": "2025-01-31T04:02:20.403307Z",
     "shell.execute_reply": "2025-01-31T04:02:20.401947Z",
     "shell.execute_reply.started": "2025-01-31T04:02:20.397292Z"
    }
   },
   "outputs": [],
   "source": [
    "ganancias_por_accion = pd.Series([\n",
    "    1.9, 2.16, 3.63, 3.16, 4.02,\n",
    "    3.14, 2.2, 2.34, 3.05, 2.38\n",
    "])"
   ]
  },
  {
   "cell_type": "code",
   "execution_count": 54,
   "id": "7f74417a-2ef8-4eb5-94e0-53dad8a9cd5a",
   "metadata": {
    "execution": {
     "iopub.execute_input": "2025-01-31T04:02:20.548178Z",
     "iopub.status.busy": "2025-01-31T04:02:20.547929Z",
     "iopub.status.idle": "2025-01-31T04:02:20.554464Z",
     "shell.execute_reply": "2025-01-31T04:02:20.553395Z",
     "shell.execute_reply.started": "2025-01-31T04:02:20.548159Z"
    }
   },
   "outputs": [
    {
     "data": {
      "text/plain": [
       "10"
      ]
     },
     "execution_count": 54,
     "metadata": {},
     "output_type": "execute_result"
    }
   ],
   "source": [
    "n = len(ganancias_por_accion)\n",
    "n"
   ]
  },
  {
   "cell_type": "code",
   "execution_count": 55,
   "id": "d48f8092-b079-48dd-a4a6-92726b167d95",
   "metadata": {
    "execution": {
     "iopub.execute_input": "2025-01-31T04:02:20.678708Z",
     "iopub.status.busy": "2025-01-31T04:02:20.678439Z",
     "iopub.status.idle": "2025-01-31T04:02:20.685610Z",
     "shell.execute_reply": "2025-01-31T04:02:20.684750Z",
     "shell.execute_reply.started": "2025-01-31T04:02:20.678679Z"
    }
   },
   "outputs": [
    {
     "data": {
      "text/plain": [
       "1.8331129326536335"
      ]
     },
     "execution_count": 55,
     "metadata": {},
     "output_type": "execute_result"
    }
   ],
   "source": [
    "# Valor crítico\n",
    "vc_superior = t_student.ppf(1 - alpha, n - 1)\n",
    "vc_superior"
   ]
  },
  {
   "cell_type": "code",
   "execution_count": 56,
   "id": "034bc09e-806f-4470-8114-c44a51e1a918",
   "metadata": {
    "execution": {
     "iopub.execute_input": "2025-01-31T04:02:20.834756Z",
     "iopub.status.busy": "2025-01-31T04:02:20.834523Z",
     "iopub.status.idle": "2025-01-31T04:02:20.843503Z",
     "shell.execute_reply": "2025-01-31T04:02:20.842128Z",
     "shell.execute_reply.started": "2025-01-31T04:02:20.834737Z"
    }
   },
   "outputs": [
    {
     "data": {
      "text/plain": [
       "2.798"
      ]
     },
     "execution_count": 56,
     "metadata": {},
     "output_type": "execute_result"
    }
   ],
   "source": [
    "mu_est = ganancias_por_accion.mean()\n",
    "mu_est"
   ]
  },
  {
   "cell_type": "code",
   "execution_count": 57,
   "id": "97249e7f-8357-4ce9-be44-678fc9c019b7",
   "metadata": {
    "execution": {
     "iopub.execute_input": "2025-01-31T04:02:20.990587Z",
     "iopub.status.busy": "2025-01-31T04:02:20.990328Z",
     "iopub.status.idle": "2025-01-31T04:02:21.000415Z",
     "shell.execute_reply": "2025-01-31T04:02:20.997989Z",
     "shell.execute_reply.started": "2025-01-31T04:02:20.990566Z"
    }
   },
   "outputs": [
    {
     "data": {
      "text/plain": [
       "0.7033696673079447"
      ]
     },
     "execution_count": 57,
     "metadata": {},
     "output_type": "execute_result"
    }
   ],
   "source": [
    "std_est = ganancias_por_accion.std()\n",
    "std_est"
   ]
  },
  {
   "cell_type": "code",
   "execution_count": 58,
   "id": "02682b2b-aec1-4af5-a370-e0f371a60df3",
   "metadata": {
    "execution": {
     "iopub.execute_input": "2025-01-31T04:02:21.155869Z",
     "iopub.status.busy": "2025-01-31T04:02:21.155493Z",
     "iopub.status.idle": "2025-01-31T04:02:21.166862Z",
     "shell.execute_reply": "2025-01-31T04:02:21.164422Z",
     "shell.execute_reply.started": "2025-01-31T04:02:21.155841Z"
    }
   },
   "outputs": [
    {
     "data": {
      "text/plain": [
       "-3.1561197768659137"
      ]
     },
     "execution_count": 58,
     "metadata": {},
     "output_type": "execute_result"
    }
   ],
   "source": [
    "t = (mu_est - mu0) / (std_est / math.sqrt(n))\n",
    "t"
   ]
  },
  {
   "cell_type": "code",
   "execution_count": 59,
   "id": "10c3a18c-475b-4d43-a1a2-c4c69a83d26c",
   "metadata": {
    "execution": {
     "iopub.execute_input": "2025-01-31T04:02:21.396951Z",
     "iopub.status.busy": "2025-01-31T04:02:21.396675Z",
     "iopub.status.idle": "2025-01-31T04:02:21.405658Z",
     "shell.execute_reply": "2025-01-31T04:02:21.404117Z",
     "shell.execute_reply.started": "2025-01-31T04:02:21.396928Z"
    }
   },
   "outputs": [
    {
     "data": {
      "text/plain": [
       "0.9941887312041668"
      ]
     },
     "execution_count": 59,
     "metadata": {},
     "output_type": "execute_result"
    }
   ],
   "source": [
    "p_value = 1 - t_student.cdf(t, n - 1)\n",
    "p_value"
   ]
  },
  {
   "cell_type": "code",
   "execution_count": 60,
   "id": "63633ca7-a82b-4f0d-a7fd-2154ba8c0a84",
   "metadata": {
    "execution": {
     "iopub.execute_input": "2025-01-31T04:02:21.568807Z",
     "iopub.status.busy": "2025-01-31T04:02:21.568556Z",
     "iopub.status.idle": "2025-01-31T04:02:21.575862Z",
     "shell.execute_reply": "2025-01-31T04:02:21.574758Z",
     "shell.execute_reply.started": "2025-01-31T04:02:21.568786Z"
    }
   },
   "outputs": [
    {
     "data": {
      "text/plain": [
       "-2.2621571628540997"
      ]
     },
     "execution_count": 60,
     "metadata": {},
     "output_type": "execute_result"
    }
   ],
   "source": [
    "t_student.ppf(alpha/2, n - 1)"
   ]
  },
  {
   "cell_type": "code",
   "execution_count": 61,
   "id": "3554a258-d121-4e16-8c67-2a2a84964f54",
   "metadata": {
    "execution": {
     "iopub.execute_input": "2025-01-31T04:02:22.029615Z",
     "iopub.status.busy": "2025-01-31T04:02:22.029218Z",
     "iopub.status.idle": "2025-01-31T04:02:22.041564Z",
     "shell.execute_reply": "2025-01-31T04:02:22.040577Z",
     "shell.execute_reply.started": "2025-01-31T04:02:22.029585Z"
    }
   },
   "outputs": [
    {
     "data": {
      "text/plain": [
       "0.5031603489714593"
      ]
     },
     "execution_count": 61,
     "metadata": {},
     "output_type": "execute_result"
    }
   ],
   "source": [
    "t_student.ppf(1 - alpha/2, n - 1) * (std_est / math.sqrt(n))"
   ]
  },
  {
   "cell_type": "code",
   "execution_count": 62,
   "id": "90bfdbc3-4f38-4f42-85e3-27a28200e547",
   "metadata": {
    "execution": {
     "iopub.execute_input": "2025-01-31T04:02:22.217854Z",
     "iopub.status.busy": "2025-01-31T04:02:22.216665Z",
     "iopub.status.idle": "2025-01-31T04:02:22.227841Z",
     "shell.execute_reply": "2025-01-31T04:02:22.226135Z",
     "shell.execute_reply.started": "2025-01-31T04:02:22.217809Z"
    }
   },
   "outputs": [
    {
     "data": {
      "text/plain": [
       "(2.2948396510285405, 3.301160348971459)"
      ]
     },
     "execution_count": 62,
     "metadata": {},
     "output_type": "execute_result"
    }
   ],
   "source": [
    "(\n",
    "    mu_est + t_student.ppf(alpha/2, n -1) * (std_est / math.sqrt(n)), \n",
    "    mu_est + t_student.ppf(1 - alpha/2, n-1) * (std_est / math.sqrt(n))\n",
    ")"
   ]
  },
  {
   "cell_type": "markdown",
   "id": "c5088992-457b-460b-8c83-87f2cc2abca4",
   "metadata": {},
   "source": [
    "# Ejercicio 4\n",
    "Armando Romero considera postularse para presidente municipal de Huajuapan de León, Oaxaca. Antes de solicitar la postulación, decide realizar una encuesta entre los electores de Berumen. Una muestra de 400 electores revela que 300 apoyarían en la elecciones de julio de 2024. Romero decide que, si más del $78\\%$ de los votantes, se estima lo apoyarán; el se intentaría ser presidente municipal. Además, construya un IC a $99\\%$ para su parámetro de estudio. ¿Qué le diría usted?"
   ]
  },
  {
   "cell_type": "code",
   "execution_count": 34,
   "id": "fd47d87e-9e24-4717-add3-ad179f261f26",
   "metadata": {
    "execution": {
     "iopub.execute_input": "2025-01-31T03:56:37.430950Z",
     "iopub.status.busy": "2025-01-31T03:56:37.430285Z",
     "iopub.status.idle": "2025-01-31T03:56:37.436360Z",
     "shell.execute_reply": "2025-01-31T03:56:37.434924Z",
     "shell.execute_reply.started": "2025-01-31T03:56:37.430925Z"
    }
   },
   "outputs": [],
   "source": [
    "p0 = 0.78\n",
    "q0 = 1 - p0\n",
    "n = 400\n",
    "p_est = 300 / n\n",
    "alpha = 0.01"
   ]
  },
  {
   "cell_type": "code",
   "execution_count": 35,
   "id": "410aac3d-201b-4d3f-98de-32bf553fef78",
   "metadata": {
    "execution": {
     "iopub.execute_input": "2025-01-31T03:56:37.708112Z",
     "iopub.status.busy": "2025-01-31T03:56:37.707722Z",
     "iopub.status.idle": "2025-01-31T03:56:37.722467Z",
     "shell.execute_reply": "2025-01-31T03:56:37.719034Z",
     "shell.execute_reply.started": "2025-01-31T03:56:37.708086Z"
    }
   },
   "outputs": [
    {
     "data": {
      "text/plain": [
       "2.3263478740408408"
      ]
     },
     "execution_count": 35,
     "metadata": {},
     "output_type": "execute_result"
    }
   ],
   "source": [
    "vc_superior = norm.ppf(1 - alpha)\n",
    "vc_superior"
   ]
  },
  {
   "cell_type": "code",
   "execution_count": 40,
   "id": "479e99cf-cab5-4ee7-9118-3e240436218a",
   "metadata": {
    "execution": {
     "iopub.execute_input": "2025-01-31T04:00:00.755985Z",
     "iopub.status.busy": "2025-01-31T04:00:00.754517Z",
     "iopub.status.idle": "2025-01-31T04:00:00.763641Z",
     "shell.execute_reply": "2025-01-31T04:00:00.762046Z",
     "shell.execute_reply.started": "2025-01-31T04:00:00.755940Z"
    }
   },
   "outputs": [
    {
     "data": {
      "text/plain": [
       "-1.385640646055103"
      ]
     },
     "execution_count": 40,
     "metadata": {},
     "output_type": "execute_result"
    }
   ],
   "source": [
    "z = (p_est - p0) / math.sqrt(p_est * (1-p_est) / n)\n",
    "z"
   ]
  },
  {
   "cell_type": "code",
   "execution_count": 37,
   "id": "73da4736-bd1b-416b-a4e1-c309a0fa4ace",
   "metadata": {
    "execution": {
     "iopub.execute_input": "2025-01-31T03:56:38.745096Z",
     "iopub.status.busy": "2025-01-31T03:56:38.744843Z",
     "iopub.status.idle": "2025-01-31T03:56:38.753902Z",
     "shell.execute_reply": "2025-01-31T03:56:38.751109Z",
     "shell.execute_reply.started": "2025-01-31T03:56:38.745076Z"
    }
   },
   "outputs": [
    {
     "data": {
      "text/plain": [
       "0.75"
      ]
     },
     "execution_count": 37,
     "metadata": {},
     "output_type": "execute_result"
    }
   ],
   "source": [
    "p_est"
   ]
  },
  {
   "cell_type": "code",
   "execution_count": 38,
   "id": "a2818346-eb4c-492c-aef5-993026366205",
   "metadata": {
    "execution": {
     "iopub.execute_input": "2025-01-31T03:56:39.241177Z",
     "iopub.status.busy": "2025-01-31T03:56:39.240663Z",
     "iopub.status.idle": "2025-01-31T03:56:39.248682Z",
     "shell.execute_reply": "2025-01-31T03:56:39.247889Z",
     "shell.execute_reply.started": "2025-01-31T03:56:39.241127Z"
    }
   },
   "outputs": [
    {
     "data": {
      "text/plain": [
       "0.9262493000486838"
      ]
     },
     "execution_count": 38,
     "metadata": {},
     "output_type": "execute_result"
    }
   ],
   "source": [
    "p_value = (1 - norm.cdf(z))\n",
    "p_value"
   ]
  },
  {
   "cell_type": "code",
   "execution_count": 41,
   "id": "4ea08c8c-17b3-4f70-bee5-94413228fa34",
   "metadata": {
    "execution": {
     "iopub.execute_input": "2025-01-31T04:00:10.618497Z",
     "iopub.status.busy": "2025-01-31T04:00:10.618250Z",
     "iopub.status.idle": "2025-01-31T04:00:10.626230Z",
     "shell.execute_reply": "2025-01-31T04:00:10.624882Z",
     "shell.execute_reply.started": "2025-01-31T04:00:10.618476Z"
    }
   },
   "outputs": [
    {
     "data": {
      "text/plain": [
       "(0.6942316596828568, 0.8057683403171432)"
      ]
     },
     "execution_count": 41,
     "metadata": {},
     "output_type": "execute_result"
    }
   ],
   "source": [
    "(\n",
    "    p_est + norm.ppf(alpha / 2) * math.sqrt(p_est * (1-p_est) / n), \n",
    "    p_est + norm.ppf(1 - alpha/2) * math.sqrt(p_est *(1-p_est) / n)\n",
    ")"
   ]
  }
 ],
 "metadata": {
  "kernelspec": {
   "display_name": "Python 3 (ipykernel)",
   "language": "python",
   "name": "python3"
  },
  "language_info": {
   "codemirror_mode": {
    "name": "ipython",
    "version": 3
   },
   "file_extension": ".py",
   "mimetype": "text/x-python",
   "name": "python",
   "nbconvert_exporter": "python",
   "pygments_lexer": "ipython3",
   "version": "3.10.12"
  }
 },
 "nbformat": 4,
 "nbformat_minor": 5
}
