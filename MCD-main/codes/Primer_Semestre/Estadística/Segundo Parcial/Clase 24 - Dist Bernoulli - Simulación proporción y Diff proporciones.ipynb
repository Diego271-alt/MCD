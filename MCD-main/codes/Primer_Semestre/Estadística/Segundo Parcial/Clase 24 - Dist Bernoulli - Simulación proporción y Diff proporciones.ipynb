{
 "cells": [
  {
   "cell_type": "code",
   "execution_count": 22,
   "id": "a9b7b8ac-d0ed-4e70-9d20-d5e000272c9d",
   "metadata": {
    "execution": {
     "iopub.execute_input": "2025-01-05T16:15:09.458979Z",
     "iopub.status.busy": "2025-01-05T16:15:09.458350Z",
     "iopub.status.idle": "2025-01-05T16:15:09.468424Z",
     "shell.execute_reply": "2025-01-05T16:15:09.465307Z",
     "shell.execute_reply.started": "2025-01-05T16:15:09.458931Z"
    }
   },
   "outputs": [],
   "source": [
    "import math\n",
    "import pandas as pd\n",
    "from scipy.stats import norm"
   ]
  },
  {
   "cell_type": "code",
   "execution_count": 6,
   "id": "a072a673-1957-4922-aed4-7f7ab7d9637c",
   "metadata": {
    "execution": {
     "iopub.execute_input": "2025-01-05T16:00:56.893976Z",
     "iopub.status.busy": "2025-01-05T16:00:56.892823Z",
     "iopub.status.idle": "2025-01-05T16:00:56.909589Z",
     "shell.execute_reply": "2025-01-05T16:00:56.907503Z",
     "shell.execute_reply.started": "2025-01-05T16:00:56.893929Z"
    }
   },
   "outputs": [],
   "source": [
    "votos = pd.DataFrame({\n",
    "    'Mujeres': {\n",
    "        0: 0,\n",
    "        1: 1,\n",
    "        2: 1,\n",
    "        3: 0,\n",
    "        4: 0,\n",
    "        5: 0,\n",
    "        6: 1,\n",
    "        7: 0,\n",
    "        8: 0,\n",
    "        9: 1,\n",
    "        10: 1,\n",
    "        11: 1,\n",
    "        12: 1,\n",
    "        13: 0,\n",
    "        14: 1,\n",
    "        15: 1,\n",
    "        16: 1,\n",
    "        17: 0,\n",
    "        18: 0,\n",
    "        19: 0,\n",
    "        20: 0,\n",
    "        21: 0,\n",
    "        22: 1,\n",
    "        23: 1,\n",
    "        24: 1,\n",
    "        25: 0,\n",
    "        26: 0,\n",
    "        27: 0,\n",
    "        28: 1,\n",
    "        29: 1,\n",
    "        30: 1,\n",
    "        31: 1,\n",
    "        32: 0,\n",
    "        33: 0,\n",
    "        34: 1,\n",
    "        35: 1,\n",
    "        36: 1,\n",
    "        37: 1,\n",
    "        38: 1,\n",
    "        39: 0,\n",
    "        40: 1,\n",
    "        41: 0,\n",
    "        42: 1,\n",
    "        43: 1,\n",
    "        44: 0,\n",
    "        45: 1,\n",
    "        46: 1,\n",
    "        47: 1,\n",
    "        48: 0,\n",
    "        49: 0\n",
    "    },\n",
    "    'Hombres': {\n",
    "        0: 1,\n",
    "        1: 0,\n",
    "        2: 0,\n",
    "        3: 0,\n",
    "        4: 1,\n",
    "        5: 0,\n",
    "        6: 1,\n",
    "        7: 1,\n",
    "        8: 0,\n",
    "        9: 0,\n",
    "        10: 0,\n",
    "        11: 0,\n",
    "        12: 0,\n",
    "        13: 0,\n",
    "        14: 1,\n",
    "        15: 0,\n",
    "        16: 0,\n",
    "        17: 0,\n",
    "        18: 0,\n",
    "        19: 1,\n",
    "        20: 0,\n",
    "        21: 0,\n",
    "        22: 0,\n",
    "        23: 1,\n",
    "        24: 1,\n",
    "        25: 0,\n",
    "        26: 0,\n",
    "        27: 0,\n",
    "        28: 0,\n",
    "        29: 1,\n",
    "        30: 1,\n",
    "        31: 1,\n",
    "        32: 0,\n",
    "        33: 0,\n",
    "        34: 1,\n",
    "        35: 1,\n",
    "        36: 0,\n",
    "        37: 0,\n",
    "        38: 0,\n",
    "        39: 0,\n",
    "        40: 1,\n",
    "        41: 1,\n",
    "        42: 0,\n",
    "        43: 1,\n",
    "        44: 0,\n",
    "        45: 0,\n",
    "        46: 0,\n",
    "        47: 0,\n",
    "        48: 1,\n",
    "        49: 0\n",
    "    }\n",
    "})"
   ]
  },
  {
   "cell_type": "markdown",
   "id": "fcecd8b7-423d-4c38-bc39-73dc69cf1beb",
   "metadata": {},
   "source": [
    "Se seleccionan 50 hombres y 50  mujeres. Se les pregunta si votarán o no por un partido determinado  \n",
    "Basándonos en el teorema del límite central, se tiene que la proporción de votos de mujeres y de hombres, ambas siguen una distribución del tipo normal\t\n"
   ]
  },
  {
   "cell_type": "code",
   "execution_count": 19,
   "id": "646128bb-ffb6-4cbf-a0cd-4807203b0afe",
   "metadata": {
    "execution": {
     "iopub.execute_input": "2025-01-05T16:14:51.877981Z",
     "iopub.status.busy": "2025-01-05T16:14:51.877557Z",
     "iopub.status.idle": "2025-01-05T16:14:51.885576Z",
     "shell.execute_reply": "2025-01-05T16:14:51.883402Z",
     "shell.execute_reply.started": "2025-01-05T16:14:51.877952Z"
    }
   },
   "outputs": [],
   "source": [
    "muestra_mujeres = votos[\"Mujeres\"].count()\n",
    "muestra_hombres = votos[\"Hombres\"].count()"
   ]
  },
  {
   "cell_type": "code",
   "execution_count": 27,
   "id": "b9a3b4bf-7ddb-4240-8228-36fc947ee169",
   "metadata": {
    "execution": {
     "iopub.execute_input": "2025-01-05T16:19:51.678322Z",
     "iopub.status.busy": "2025-01-05T16:19:51.676963Z",
     "iopub.status.idle": "2025-01-05T16:19:51.694527Z",
     "shell.execute_reply": "2025-01-05T16:19:51.692393Z",
     "shell.execute_reply.started": "2025-01-05T16:19:51.678251Z"
    }
   },
   "outputs": [
    {
     "data": {
      "text/plain": [
       "(0.56, 0.37)"
      ]
     },
     "execution_count": 27,
     "metadata": {},
     "output_type": "execute_result"
    }
   ],
   "source": [
    "#Para las mujeres, la proporción de votos estimada a favor del partido es de\n",
    "proporcion_votos_mujeres = votos[\"Mujeres\"].mean()\n",
    "#Para los hombres, la proporción de votos estimada a favor del partido es de\n",
    "proporcion_votos_hombres = votos[\"Hombres\"].mean()\n",
    "proporcion_votos_mujeres, proporcion_votos_hombres"
   ]
  },
  {
   "cell_type": "code",
   "execution_count": 28,
   "id": "be382ac3-786a-4b3e-bb7b-c245af206702",
   "metadata": {
    "execution": {
     "iopub.execute_input": "2025-01-05T16:19:52.073511Z",
     "iopub.status.busy": "2025-01-05T16:19:52.072784Z",
     "iopub.status.idle": "2025-01-05T16:19:52.089903Z",
     "shell.execute_reply": "2025-01-05T16:19:52.087069Z",
     "shell.execute_reply.started": "2025-01-05T16:19:52.073461Z"
    }
   },
   "outputs": [
    {
     "data": {
      "text/plain": [
       "(0.43999999999999995, 0.63)"
      ]
     },
     "execution_count": 28,
     "metadata": {},
     "output_type": "execute_result"
    }
   ],
   "source": [
    "#Para las mujeres, la proporción de votos en contra estimada a favor del partido es de\n",
    "proporcion_votos_en_contra_mujeres = 1.0 - proporcion_votos_mujeres\n",
    "#Para los hombres, la proporción de votos en contra estimada a favor del partido es de\n",
    "proporcion_votos_en_contra_hombres = 1.0 - proporcion_votos_hombres\n",
    "(proporcion_votos_en_contra_mujeres, proporcion_votos_en_contra_hombres)"
   ]
  },
  {
   "cell_type": "markdown",
   "id": "ee00757a-9515-4afb-8f31-a499563b80fc",
   "metadata": {},
   "source": [
    "Un candidato determinado dice que se postulará a presidente municipal, por el partido estudiando, si su proporción de votos  a favor es superior al .65"
   ]
  },
  {
   "cell_type": "code",
   "execution_count": 29,
   "id": "a257dd39-3143-4143-9065-27b5fe1a7476",
   "metadata": {
    "execution": {
     "iopub.execute_input": "2025-01-05T16:19:53.432428Z",
     "iopub.status.busy": "2025-01-05T16:19:53.430325Z",
     "iopub.status.idle": "2025-01-05T16:19:53.455570Z",
     "shell.execute_reply": "2025-01-05T16:19:53.451977Z",
     "shell.execute_reply.started": "2025-01-05T16:19:53.432359Z"
    }
   },
   "outputs": [
    {
     "data": {
      "text/plain": [
       "(0.09991141611512921, 2.0583435811016848e-05)"
      ]
     },
     "execution_count": 29,
     "metadata": {},
     "output_type": "execute_result"
    }
   ],
   "source": [
    "#Mujeres\tP(^p>.65) = 1 - P(^p<=.65) \n",
    "p_mujeres = 1 - norm.cdf(0.65, loc = proporcion_votos_mujeres, scale = math.sqrt(proporcion_votos_mujeres * proporcion_votos_en_contra_mujeres / muestra_mujeres))\n",
    "#Hombres\tP(^p>.65)\n",
    "p_hombres = 1 - norm.cdf(0.65, loc = proporcion_votos_hombres, scale = math.sqrt(proporcion_votos_hombres * proporcion_votos_en_contra_hombres / muestra_hombres))\n",
    "(p_mujeres, p_hombres)"
   ]
  },
  {
   "cell_type": "markdown",
   "id": "cdf9da5f-499d-4c08-8f81-148b0a2e4139",
   "metadata": {},
   "source": [
    "¿Cuál es la probabilidad de que la diferencia entre el porcentaje de mujeres y de hombres en cuanto al voto a favor a favor del partido sea superior al 20%?"
   ]
  },
  {
   "cell_type": "code",
   "execution_count": 30,
   "id": "9049d347-deb0-4374-a4e6-a04ea8fd1fd9",
   "metadata": {
    "execution": {
     "iopub.execute_input": "2025-01-05T16:19:55.217863Z",
     "iopub.status.busy": "2025-01-05T16:19:55.217287Z",
     "iopub.status.idle": "2025-01-05T16:19:55.233162Z",
     "shell.execute_reply": "2025-01-05T16:19:55.231147Z",
     "shell.execute_reply.started": "2025-01-05T16:19:55.217820Z"
    }
   },
   "outputs": [
    {
     "data": {
      "text/plain": [
       "0.4593325897336923"
      ]
     },
     "execution_count": 30,
     "metadata": {},
     "output_type": "execute_result"
    }
   ],
   "source": [
    "#Diferencia de proporciones\n",
    "#P(Pm-Ph>.2) = 1-P(Pm-Ph<.20)\n",
    "1 - norm.cdf(\n",
    "    0.2,\n",
    "    loc = proporcion_votos_mujeres - proporcion_votos_hombres,\n",
    "    scale = math.sqrt(\n",
    "        (proporcion_votos_mujeres * proporcion_votos_en_contra_mujeres / muestra_mujeres)\n",
    "        +\n",
    "        (proporcion_votos_hombres * proporcion_votos_en_contra_hombres / muestra_hombres)\n",
    "    )\n",
    ")"
   ]
  }
 ],
 "metadata": {
  "kernelspec": {
   "display_name": "Python 3 (ipykernel)",
   "language": "python",
   "name": "python3"
  },
  "language_info": {
   "codemirror_mode": {
    "name": "ipython",
    "version": 3
   },
   "file_extension": ".py",
   "mimetype": "text/x-python",
   "name": "python",
   "nbconvert_exporter": "python",
   "pygments_lexer": "ipython3",
   "version": "3.10.12"
  }
 },
 "nbformat": 4,
 "nbformat_minor": 5
}
