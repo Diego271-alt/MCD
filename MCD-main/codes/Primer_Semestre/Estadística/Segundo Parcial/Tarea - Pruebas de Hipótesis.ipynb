{
 "cells": [
  {
   "cell_type": "code",
   "execution_count": 1,
   "id": "32dbb8bb-0edb-4f4c-aac7-ed8e49dc3e74",
   "metadata": {
    "execution": {
     "iopub.execute_input": "2025-01-28T19:39:43.729034Z",
     "iopub.status.busy": "2025-01-28T19:39:43.728520Z",
     "iopub.status.idle": "2025-01-28T19:39:46.209818Z",
     "shell.execute_reply": "2025-01-28T19:39:46.207951Z",
     "shell.execute_reply.started": "2025-01-28T19:39:43.728992Z"
    }
   },
   "outputs": [],
   "source": [
    "import math\n",
    "import numpy as np\n",
    "import pandas as pd\n",
    "from scipy.stats import norm, t as t_student"
   ]
  },
  {
   "cell_type": "markdown",
   "id": "18f20d5d-9b6e-4292-98f5-d8064756bd58",
   "metadata": {},
   "source": [
    "# Pruebas de Hipótesis de una muestra"
   ]
  },
  {
   "cell_type": "markdown",
   "id": "7b86a1ab-2a9b-4f16-82d5-867abf10bca1",
   "metadata": {},
   "source": [
    "***\n",
    "## Ejercicio 1\n",
    "Se quiere probar la afirmación de que la distancia viajada por pelotas de golf es mayor a 250 yardas a un 95% de confianza. Se toma una muestra de 36 distancias:\n",
    "|     |     |     |     |     |     |     |     |     |     |     |     |     |     |     |     |\n",
    "| --- | --- | --- | --- | --- | --- | --- | --- | --- | --- | --- | --- | --- | --- | --- | --- |\n",
    "| 269 | 300 | 268 | 278 | 282 | 263 | 301 | 295 | 288 | 278 | 276 | 286 | 296 | 265 | 271 | 279 |\n",
    "| 284 | 260 | 275 | 282 | 260 | 266 | 270 | 293 | 272 | 285 | 293 | 281 | 269 | 291 | 274 | 277 |\n",
    "| 299 | 263 | 264 | 273 |     |     |     |     |     |     |     |     |     |     |     |     |\n"
   ]
  },
  {
   "cell_type": "code",
   "execution_count": 2,
   "id": "3665c00e-c5ce-49f6-b127-5e14c462e794",
   "metadata": {
    "execution": {
     "iopub.execute_input": "2025-01-28T19:39:46.213113Z",
     "iopub.status.busy": "2025-01-28T19:39:46.212466Z",
     "iopub.status.idle": "2025-01-28T19:39:46.223455Z",
     "shell.execute_reply": "2025-01-28T19:39:46.220915Z",
     "shell.execute_reply.started": "2025-01-28T19:39:46.213068Z"
    }
   },
   "outputs": [],
   "source": [
    "alpha = 0.05\n",
    "mu0 = 250"
   ]
  },
  {
   "cell_type": "code",
   "execution_count": 3,
   "id": "817fb7be-0ca2-4d9f-adf0-fe443a620d63",
   "metadata": {
    "execution": {
     "iopub.execute_input": "2025-01-28T19:39:46.232778Z",
     "iopub.status.busy": "2025-01-28T19:39:46.231279Z",
     "iopub.status.idle": "2025-01-28T19:39:46.252103Z",
     "shell.execute_reply": "2025-01-28T19:39:46.249638Z",
     "shell.execute_reply.started": "2025-01-28T19:39:46.232513Z"
    }
   },
   "outputs": [],
   "source": [
    "distancias_pelotas_golf = pd.Series([\n",
    "    269, 300, 268, 278, 282, 263, 301, 295, 288,\n",
    "    278, 276, 286, 296, 265, 271, 279, 284, 260,\n",
    "    275, 282, 260, 266, 270, 293, 272, 285, 293,\n",
    "    281, 269, 291, 274, 277, 299, 263, 264, 273\n",
    "])"
   ]
  },
  {
   "cell_type": "code",
   "execution_count": 4,
   "id": "52561997-36fa-47c2-9ee2-6a06a43a2708",
   "metadata": {
    "execution": {
     "iopub.execute_input": "2025-01-28T19:39:46.256874Z",
     "iopub.status.busy": "2025-01-28T19:39:46.254676Z",
     "iopub.status.idle": "2025-01-28T19:39:46.275116Z",
     "shell.execute_reply": "2025-01-28T19:39:46.272052Z",
     "shell.execute_reply.started": "2025-01-28T19:39:46.256814Z"
    }
   },
   "outputs": [
    {
     "data": {
      "text/plain": [
       "36"
      ]
     },
     "execution_count": 4,
     "metadata": {},
     "output_type": "execute_result"
    }
   ],
   "source": [
    "n = len(distancias_pelotas_golf)\n",
    "n"
   ]
  },
  {
   "cell_type": "markdown",
   "id": "6a479cd9-1fe5-44c0-afe1-eba3a1e02f7a",
   "metadata": {},
   "source": [
    "### 1. Datos\n",
    "Los datos provienen de una m.a.s.i.i.d de distancias viajadas por pelotas de golf expresadas en yardas donde nos interesa estudiar el promedio de las distancias con $\\alpha=0.05$\n",
    "### 2. Supuestos  \n",
    "Las distancias siguen una distribución normal, donde no conocemos la varianza (pero se puede estimar) y que tenemos una muestra grande $n=36$ para $n>30$\n",
    "### 3. Hipótesis\n",
    "* Hipótesis de Investigación: El promedio de las distancias es mayor a 250 yardas\n",
    "* $H_a$: $\\mu > 250$ yardas  \n",
    "* $H_0$: $\\mu \\leq 250$ yardas   \n",
    "Planteamos que $H_0$ es verdadera y queremos demostrar que es falsa\n",
    "### 4. Estadístico de prueba\n",
    "$Z = \\frac{\\bar{X}-\\mu}{\\frac{s}{\\sqrt{n}}}$\n",
    "### 5. Distribución del estadístico de prueba\n",
    "$Z$ es $N(0,1)$ cuando $n \\rightarrow \\infty$ utilizando TCL\n",
    "### 6. Región de rechazo\n",
    "Al ser unilateral superior\n",
    "* $V.C. = Z_{0.95}$"
   ]
  },
  {
   "cell_type": "code",
   "execution_count": 5,
   "id": "4cf64ea2-22f9-416e-a3d8-be9d3ade41e5",
   "metadata": {
    "execution": {
     "iopub.execute_input": "2025-01-28T19:39:46.278711Z",
     "iopub.status.busy": "2025-01-28T19:39:46.278040Z",
     "iopub.status.idle": "2025-01-28T19:39:46.295457Z",
     "shell.execute_reply": "2025-01-28T19:39:46.293188Z",
     "shell.execute_reply.started": "2025-01-28T19:39:46.278659Z"
    }
   },
   "outputs": [
    {
     "data": {
      "text/plain": [
       "1.6448536269514722"
      ]
     },
     "execution_count": 5,
     "metadata": {},
     "output_type": "execute_result"
    }
   ],
   "source": [
    "# Valor crítico\n",
    "vc_superior = norm.ppf(1 - alpha)\n",
    "vc_superior"
   ]
  },
  {
   "cell_type": "markdown",
   "id": "cab33374-6f3b-46a7-b37f-f0555a98f779",
   "metadata": {},
   "source": [
    "Región de Rechazo $= \\{ x | x  \t\\in [1.6448536, \\infty)\\} $"
   ]
  },
  {
   "cell_type": "markdown",
   "id": "474c84e5-5c8f-43dd-ba40-8be81f1d61b6",
   "metadata": {},
   "source": [
    "### 7. Cálculo del valor del estadístico de prueba"
   ]
  },
  {
   "cell_type": "code",
   "execution_count": 6,
   "id": "bec97260-3c27-4339-a7c1-ee34e19247ff",
   "metadata": {
    "execution": {
     "iopub.execute_input": "2025-01-28T19:39:46.298924Z",
     "iopub.status.busy": "2025-01-28T19:39:46.298290Z",
     "iopub.status.idle": "2025-01-28T19:39:46.313334Z",
     "shell.execute_reply": "2025-01-28T19:39:46.310921Z",
     "shell.execute_reply.started": "2025-01-28T19:39:46.298875Z"
    }
   },
   "outputs": [
    {
     "data": {
      "text/plain": [
       "278.5"
      ]
     },
     "execution_count": 6,
     "metadata": {},
     "output_type": "execute_result"
    }
   ],
   "source": [
    "mu_est = distancias_pelotas_golf.mean()\n",
    "mu_est"
   ]
  },
  {
   "cell_type": "code",
   "execution_count": 7,
   "id": "948e1f91-8dc0-40bb-843e-8baece2261d9",
   "metadata": {
    "execution": {
     "iopub.execute_input": "2025-01-28T19:39:46.316474Z",
     "iopub.status.busy": "2025-01-28T19:39:46.315841Z",
     "iopub.status.idle": "2025-01-28T19:39:46.328604Z",
     "shell.execute_reply": "2025-01-28T19:39:46.326932Z",
     "shell.execute_reply.started": "2025-01-28T19:39:46.316430Z"
    }
   },
   "outputs": [
    {
     "data": {
      "text/plain": [
       "12.001190417144937"
      ]
     },
     "execution_count": 7,
     "metadata": {},
     "output_type": "execute_result"
    }
   ],
   "source": [
    "std_est = distancias_pelotas_golf.std()\n",
    "std_est"
   ]
  },
  {
   "cell_type": "code",
   "execution_count": 8,
   "id": "e984944b-81bd-4867-9e4c-12cd05c4f767",
   "metadata": {
    "execution": {
     "iopub.execute_input": "2025-01-28T19:39:46.332087Z",
     "iopub.status.busy": "2025-01-28T19:39:46.330902Z",
     "iopub.status.idle": "2025-01-28T19:39:46.344998Z",
     "shell.execute_reply": "2025-01-28T19:39:46.342577Z",
     "shell.execute_reply.started": "2025-01-28T19:39:46.332027Z"
    }
   },
   "outputs": [
    {
     "data": {
      "text/plain": [
       "14.248586519859638"
      ]
     },
     "execution_count": 8,
     "metadata": {},
     "output_type": "execute_result"
    }
   ],
   "source": [
    "z = (mu_est - mu0) / (std_est / math.sqrt(n))\n",
    "z"
   ]
  },
  {
   "cell_type": "markdown",
   "id": "e2c38fb7-8723-4e85-b5f7-f922287dbbfd",
   "metadata": {
    "execution": {
     "iopub.execute_input": "2025-01-22T15:14:05.165658Z",
     "iopub.status.busy": "2025-01-22T15:14:05.165006Z",
     "iopub.status.idle": "2025-01-22T15:14:05.174346Z",
     "shell.execute_reply": "2025-01-22T15:14:05.172645Z",
     "shell.execute_reply.started": "2025-01-22T15:14:05.165618Z"
    }
   },
   "source": [
    "### 8. Decisión  \n",
    "Debido a que el valor del estadístico de prueba $(z)$ del paso anterior se encuentra en la región de rechazo (6), por lo tanto la hipótesis nula es rechazada\n",
    "### 9. Conclusión\n",
    "Después de realizar el estudio pertinente encontramos que la distancia promedio recorrida por las pelotas de golf quizá es mayor a 250 yardas tal como se propuso  \n",
    "### 10. P-valor"
   ]
  },
  {
   "cell_type": "code",
   "execution_count": 9,
   "id": "5b3f78d0-1287-45cc-9c5e-188d8bc84a36",
   "metadata": {
    "execution": {
     "iopub.execute_input": "2025-01-28T19:39:46.346929Z",
     "iopub.status.busy": "2025-01-28T19:39:46.346582Z",
     "iopub.status.idle": "2025-01-28T19:39:46.360152Z",
     "shell.execute_reply": "2025-01-28T19:39:46.358144Z",
     "shell.execute_reply.started": "2025-01-28T19:39:46.346899Z"
    }
   },
   "outputs": [
    {
     "data": {
      "text/plain": [
       "0.0"
      ]
     },
     "execution_count": 9,
     "metadata": {},
     "output_type": "execute_result"
    }
   ],
   "source": [
    "p_value = 1 - norm.cdf(z)\n",
    "p_value"
   ]
  },
  {
   "cell_type": "markdown",
   "id": "c2bfe6c4-1555-486d-97db-e36cdde39e26",
   "metadata": {},
   "source": [
    "Como $p_{value} < \\alpha = 0.05$ (la muestra no significativa) y como se rechazó la $H_0$ :)"
   ]
  },
  {
   "cell_type": "markdown",
   "id": "fa2ac6b8-d4d1-4bd9-a3da-c49427403f4f",
   "metadata": {},
   "source": [
    "***\n",
    "## Ejercicio 2\n",
    "Las ganancias por acción son de más de 3 dólares para un 95% de confianza, para probar esta afirmación se tomó una muestra de datos que arrojó los resultados siguientes:\n",
    "\n",
    "|     |     |     |     |     |     |     |     |     |     |\n",
    "| --- | --- | --- | --- | --- | --- | --- | --- | --- | --- |\n",
    "| 1.9 | 2.1 | 3.6 | 3.1 | 4.0 | 3.1 |     | 2.3 | 3.0 | 2.3 |\n",
    "|  2  |  6  |  3  |  6  |  2  |  4  | 2.2 |  4  |  5  |  8  |\n"
   ]
  },
  {
   "cell_type": "code",
   "execution_count": 10,
   "id": "77b5d0c7-dda0-4589-bb41-a7e467eb7c16",
   "metadata": {
    "execution": {
     "iopub.execute_input": "2025-01-28T19:39:46.363108Z",
     "iopub.status.busy": "2025-01-28T19:39:46.362454Z",
     "iopub.status.idle": "2025-01-28T19:39:46.376213Z",
     "shell.execute_reply": "2025-01-28T19:39:46.373813Z",
     "shell.execute_reply.started": "2025-01-28T19:39:46.363074Z"
    }
   },
   "outputs": [],
   "source": [
    "mu0 = 3\n",
    "alpha = 0.05"
   ]
  },
  {
   "cell_type": "code",
   "execution_count": 11,
   "id": "26fbe393-d9e0-4e7c-bf0f-7d83c324ad47",
   "metadata": {
    "execution": {
     "iopub.execute_input": "2025-01-28T19:39:46.380853Z",
     "iopub.status.busy": "2025-01-28T19:39:46.379157Z",
     "iopub.status.idle": "2025-01-28T19:39:46.387849Z",
     "shell.execute_reply": "2025-01-28T19:39:46.385743Z",
     "shell.execute_reply.started": "2025-01-28T19:39:46.380793Z"
    }
   },
   "outputs": [],
   "source": [
    "ganancias_por_accion = pd.Series([\n",
    "    1.9, 2.1, 3.6, 3.1, 4.0,\n",
    "    3.1, 2.3, 3.0, 2.3, 2, 6,\n",
    "    3, 6, 2, 4, 2.2, 4, 5, 8\n",
    "])"
   ]
  },
  {
   "cell_type": "code",
   "execution_count": 12,
   "id": "acbc71c3-8f2d-4c55-96a8-798413a75406",
   "metadata": {
    "execution": {
     "iopub.execute_input": "2025-01-28T19:39:46.398203Z",
     "iopub.status.busy": "2025-01-28T19:39:46.397833Z",
     "iopub.status.idle": "2025-01-28T19:39:46.409517Z",
     "shell.execute_reply": "2025-01-28T19:39:46.406847Z",
     "shell.execute_reply.started": "2025-01-28T19:39:46.398174Z"
    }
   },
   "outputs": [
    {
     "data": {
      "text/plain": [
       "19"
      ]
     },
     "execution_count": 12,
     "metadata": {},
     "output_type": "execute_result"
    }
   ],
   "source": [
    "n = len(ganancias_por_accion)\n",
    "n"
   ]
  },
  {
   "cell_type": "markdown",
   "id": "fbd746a1-5ef3-43c9-bf56-9b8347e12aca",
   "metadata": {},
   "source": [
    "### 1. Datos\n",
    "Los datos provienen de una m.a.s.i.i.d de las ganacias por acción expresadas en dólares donde nos interesa estudiar el promedio de las ganancias con $\\alpha=0.05$\n",
    "### 2. Supuestos  \n",
    "Las ganancias por acción siguen una distribución normal, donde no conocemos la varianza (pero se puede estimar) y que tenemos una muestra pequeña $n=19$ para $n<30$\n",
    "### 3. Hipótesis\n",
    "* Hipótesis de Investigación: El promedio de las ganancias por acción son mayores a 3 dólares.\n",
    "* $H_a$: $\\mu > 3$ USD  \n",
    "* $H_0$: $\\mu \\leq 3$ USD  \n",
    "Planteamos que $H_0$ es verdadera y queremos demostrar que es falsa\n",
    "### 4. Estadístico de prueba\n",
    "$t = \\frac{\\bar{X}-\\mu}{\\frac{s}{\\sqrt{n}}}$\n",
    "### 5. Distribución del estadístico de prueba\n",
    "$t$ es $t_{n-1}$\n",
    "### 6. Región de rechazo\n",
    "Al ser unilateral superior\n",
    "* $V.C. = t_{n-1, 1 - \\alpha}$"
   ]
  },
  {
   "cell_type": "code",
   "execution_count": 13,
   "id": "31aab02b-2553-48e2-98df-ac1964f843c0",
   "metadata": {
    "execution": {
     "iopub.execute_input": "2025-01-28T19:39:46.412302Z",
     "iopub.status.busy": "2025-01-28T19:39:46.411575Z",
     "iopub.status.idle": "2025-01-28T19:39:46.427472Z",
     "shell.execute_reply": "2025-01-28T19:39:46.425759Z",
     "shell.execute_reply.started": "2025-01-28T19:39:46.412238Z"
    }
   },
   "outputs": [
    {
     "data": {
      "text/plain": [
       "1.7340636066175354"
      ]
     },
     "execution_count": 13,
     "metadata": {},
     "output_type": "execute_result"
    }
   ],
   "source": [
    "# Valor crítico\n",
    "vc_superior = t_student.ppf(1 - alpha, n - 1)\n",
    "vc_superior"
   ]
  },
  {
   "cell_type": "markdown",
   "id": "02693223-0bde-48e8-aaa7-46dbe00afff3",
   "metadata": {},
   "source": [
    "Región de Rechazo $= \\{ x | x  \t\\in [1.7340636066175354, \\infty)\\} $"
   ]
  },
  {
   "cell_type": "markdown",
   "id": "5b743cff-2e84-426f-a1d2-641de5f6527e",
   "metadata": {
    "execution": {
     "iopub.execute_input": "2025-01-28T07:02:37.844742Z",
     "iopub.status.busy": "2025-01-28T07:02:37.844438Z",
     "iopub.status.idle": "2025-01-28T07:02:37.851974Z",
     "shell.execute_reply": "2025-01-28T07:02:37.850524Z",
     "shell.execute_reply.started": "2025-01-28T07:02:37.844719Z"
    }
   },
   "source": [
    "### 7. Cálculo del valor del estadístico de prueba"
   ]
  },
  {
   "cell_type": "code",
   "execution_count": 14,
   "id": "94647e15-4262-4a38-9cda-d611e98884d6",
   "metadata": {
    "execution": {
     "iopub.execute_input": "2025-01-28T19:39:46.432328Z",
     "iopub.status.busy": "2025-01-28T19:39:46.430305Z",
     "iopub.status.idle": "2025-01-28T19:39:46.445583Z",
     "shell.execute_reply": "2025-01-28T19:39:46.442136Z",
     "shell.execute_reply.started": "2025-01-28T19:39:46.432258Z"
    }
   },
   "outputs": [
    {
     "data": {
      "text/plain": [
       "3.5578947368421048"
      ]
     },
     "execution_count": 14,
     "metadata": {},
     "output_type": "execute_result"
    }
   ],
   "source": [
    "mu_est = ganancias_por_accion.mean()\n",
    "mu_est"
   ]
  },
  {
   "cell_type": "code",
   "execution_count": 15,
   "id": "3f01cfc3-01da-4b0c-a7c5-6067e21f0021",
   "metadata": {
    "execution": {
     "iopub.execute_input": "2025-01-28T19:39:46.449835Z",
     "iopub.status.busy": "2025-01-28T19:39:46.448378Z",
     "iopub.status.idle": "2025-01-28T19:39:46.462095Z",
     "shell.execute_reply": "2025-01-28T19:39:46.459294Z",
     "shell.execute_reply.started": "2025-01-28T19:39:46.449760Z"
    }
   },
   "outputs": [
    {
     "data": {
      "text/plain": [
       "1.6684376555707185"
      ]
     },
     "execution_count": 15,
     "metadata": {},
     "output_type": "execute_result"
    }
   ],
   "source": [
    "std_est = ganancias_por_accion.std()\n",
    "std_est"
   ]
  },
  {
   "cell_type": "code",
   "execution_count": 16,
   "id": "a6affc79-0989-4c44-a268-889f148d5a96",
   "metadata": {
    "execution": {
     "iopub.execute_input": "2025-01-28T19:39:46.466309Z",
     "iopub.status.busy": "2025-01-28T19:39:46.465626Z",
     "iopub.status.idle": "2025-01-28T19:39:46.480021Z",
     "shell.execute_reply": "2025-01-28T19:39:46.477781Z",
     "shell.execute_reply.started": "2025-01-28T19:39:46.466260Z"
    }
   },
   "outputs": [
    {
     "data": {
      "text/plain": [
       "1.457535300110516"
      ]
     },
     "execution_count": 16,
     "metadata": {},
     "output_type": "execute_result"
    }
   ],
   "source": [
    "t = (mu_est - mu0) / (std_est / math.sqrt(n))\n",
    "t"
   ]
  },
  {
   "cell_type": "markdown",
   "id": "a542647b-1368-45b0-8ae1-cc363edc7cd7",
   "metadata": {},
   "source": [
    "### 8. Decisión  \n",
    "Debido a que el valor del estadístico de prueba $(t)$ del paso anterior no se encuentra en la región de rechazo (6), por lo tanto la hipótesis nula no es rechazada\n",
    "### 9. Conclusión\n",
    "Después de realizar el estudio pertinente encontramos que las ganancias promedio por acción quizá no son mayores a 3 USD tal como se propuso  \n",
    "### 10. P-valor"
   ]
  },
  {
   "cell_type": "code",
   "execution_count": 17,
   "id": "3283bb68-d9fc-458f-82dd-47312411e0f6",
   "metadata": {
    "execution": {
     "iopub.execute_input": "2025-01-28T19:39:46.483679Z",
     "iopub.status.busy": "2025-01-28T19:39:46.482699Z",
     "iopub.status.idle": "2025-01-28T19:39:46.497712Z",
     "shell.execute_reply": "2025-01-28T19:39:46.494903Z",
     "shell.execute_reply.started": "2025-01-28T19:39:46.483625Z"
    }
   },
   "outputs": [
    {
     "data": {
      "text/plain": [
       "0.08109741822049177"
      ]
     },
     "execution_count": 17,
     "metadata": {},
     "output_type": "execute_result"
    }
   ],
   "source": [
    "p_value = 1 - t_student.cdf(t, n - 1)\n",
    "p_value"
   ]
  },
  {
   "cell_type": "markdown",
   "id": "5294235c-996f-4296-b418-dd6d9d13cb9e",
   "metadata": {
    "execution": {
     "iopub.execute_input": "2025-01-28T06:45:14.940924Z",
     "iopub.status.busy": "2025-01-28T06:45:14.940113Z",
     "iopub.status.idle": "2025-01-28T06:45:15.052624Z",
     "shell.execute_reply": "2025-01-28T06:45:15.046266Z",
     "shell.execute_reply.started": "2025-01-28T06:45:14.940870Z"
    }
   },
   "source": [
    "Como $p_{value} > \\alpha = 0.05$ (la muestra es significativa) y como no se rechazó la $H_0$ :)"
   ]
  },
  {
   "cell_type": "markdown",
   "id": "33e38ea3-e5df-48cc-9cf8-dacfb7bb1378",
   "metadata": {},
   "source": [
    "***\n",
    "## Ejercicio 3\n",
    "Se midió la temperatura de fusión de un aceite vegetal hidrogenado en $n=16$ muestras y se encontró una media de $94.32$. Si la temperatura de fusión sigue una distribución normal con $\\sigma = 1.20$.  \n",
    "a) Probar a un 95% de nivel de confianza de que la media se ha mantenido en 95."
   ]
  },
  {
   "cell_type": "code",
   "execution_count": 18,
   "id": "2b5ffb22-57b5-4889-b238-4f65396b1657",
   "metadata": {
    "execution": {
     "iopub.execute_input": "2025-01-28T19:39:46.501880Z",
     "iopub.status.busy": "2025-01-28T19:39:46.500258Z",
     "iopub.status.idle": "2025-01-28T19:39:46.516584Z",
     "shell.execute_reply": "2025-01-28T19:39:46.514408Z",
     "shell.execute_reply.started": "2025-01-28T19:39:46.501814Z"
    }
   },
   "outputs": [],
   "source": [
    "alpha = 0.05\n",
    "mu0 = 95\n",
    "n = 16\n",
    "mu_est = 94.32\n",
    "sigma = 1.2"
   ]
  },
  {
   "cell_type": "markdown",
   "id": "7e96c1e0-a7e1-4579-830e-f20dce316439",
   "metadata": {},
   "source": [
    "### 1. Datos\n",
    "Los datos provienen de una m.a.s.i.i.d de temperaturas de fusión de un aceite vegetal hidrogenado donde nos interesa estudiar el promedio de las temperaturas de fusión con $\\alpha=0.05$\n",
    "### 2. Supuestos  \n",
    "Las temperaturas de fusión siguen una distribución normal, donde conocemos la varianza.  \n",
    "### 3. Hipótesis\n",
    "* Hipótesis de Investigación: El promedio de las temperaturas de fusión no es igual a 95 unidades.\n",
    "* $H_a$: $\\mu \\neq 95u$  \n",
    "* $H_0$: $\\mu = 95u$  \n",
    "Planteamos que $H_0$ es verdadera y queremos demostrar que es falsa\n",
    "### 4. Estadístico de prueba\n",
    "$Z = \\frac{\\bar{X}-\\mu}{\\frac{\\sigma}{\\sqrt{n}}}$\n",
    "### 5. Distribución del estadístico de prueba\n",
    "$Z$ es $N(0, 1)$\n",
    "### 6. Región de rechazo\n",
    "Al ser bilateral\n",
    "* $V.C.I = Z_{\\frac{\\alpha}{2}}$\n",
    "* $V.C.S = Z_{1-\\frac{\\alpha}{2}}$"
   ]
  },
  {
   "cell_type": "code",
   "execution_count": 19,
   "id": "dcd141f1-1bd6-4741-b484-e561504340c2",
   "metadata": {
    "execution": {
     "iopub.execute_input": "2025-01-28T19:39:46.518947Z",
     "iopub.status.busy": "2025-01-28T19:39:46.518464Z",
     "iopub.status.idle": "2025-01-28T19:39:46.536515Z",
     "shell.execute_reply": "2025-01-28T19:39:46.533858Z",
     "shell.execute_reply.started": "2025-01-28T19:39:46.518865Z"
    }
   },
   "outputs": [
    {
     "data": {
      "text/plain": [
       "(-1.9599639845400545, 1.959963984540054)"
      ]
     },
     "execution_count": 19,
     "metadata": {},
     "output_type": "execute_result"
    }
   ],
   "source": [
    "# Valores críticos\n",
    "vc_inferior = norm.ppf(alpha/2)\n",
    "vc_superior = norm.ppf(1 - alpha/2)\n",
    "vc_inferior, vc_superior"
   ]
  },
  {
   "cell_type": "markdown",
   "id": "e02ef6de-56e7-4906-8abe-9432fcc464fe",
   "metadata": {},
   "source": [
    "Región de Rechazo $= \\{ x | x  \t\\in (-\\infty, -1.9599639845400545] \\cup [1.9599639845400545, \\infty)  \\} $"
   ]
  },
  {
   "cell_type": "markdown",
   "id": "f1fd73bc-7ad5-4a05-a732-a864974e72fc",
   "metadata": {},
   "source": [
    "### 7. Cálculo del valor del estadístico de prueba"
   ]
  },
  {
   "cell_type": "code",
   "execution_count": 20,
   "id": "5b6dfd1b-a77a-400f-98ad-0219c4944896",
   "metadata": {
    "execution": {
     "iopub.execute_input": "2025-01-28T19:39:46.540508Z",
     "iopub.status.busy": "2025-01-28T19:39:46.539842Z",
     "iopub.status.idle": "2025-01-28T19:39:46.555151Z",
     "shell.execute_reply": "2025-01-28T19:39:46.552198Z",
     "shell.execute_reply.started": "2025-01-28T19:39:46.540457Z"
    }
   },
   "outputs": [
    {
     "data": {
      "text/plain": [
       "-2.2666666666666897"
      ]
     },
     "execution_count": 20,
     "metadata": {},
     "output_type": "execute_result"
    }
   ],
   "source": [
    "z = (mu_est - mu0) / (sigma / math.sqrt(n))\n",
    "z"
   ]
  },
  {
   "cell_type": "markdown",
   "id": "b118f5e4-c0da-4526-9705-e28ec475569f",
   "metadata": {},
   "source": [
    "### 8. Decisión  \n",
    "Debido a que el valor del estadístico de prueba $(Z)$ del paso anterior se encuentra en la región de rechazo (6), por lo tanto la hipótesis nula es rechazada\n",
    "### 9. Conclusión\n",
    "Después de realizar el estudio pertinente encontramos que el promedio de las temperaturas de fusión quizá no son iguales a 95 unidades tal como se propuso.\n",
    "### 10. P-valor"
   ]
  },
  {
   "cell_type": "code",
   "execution_count": 21,
   "id": "248a210c-bc4c-4be7-aa75-d57bd10c727e",
   "metadata": {
    "execution": {
     "iopub.execute_input": "2025-01-28T19:39:46.557307Z",
     "iopub.status.busy": "2025-01-28T19:39:46.556830Z",
     "iopub.status.idle": "2025-01-28T19:39:46.571040Z",
     "shell.execute_reply": "2025-01-28T19:39:46.568929Z",
     "shell.execute_reply.started": "2025-01-28T19:39:46.557238Z"
    }
   },
   "outputs": [
    {
     "data": {
      "text/plain": [
       "0.023410596161115287"
      ]
     },
     "execution_count": 21,
     "metadata": {},
     "output_type": "execute_result"
    }
   ],
   "source": [
    "p_value = (1 - norm.cdf(z * -1)) + (norm.cdf(z))\n",
    "p_value"
   ]
  },
  {
   "cell_type": "markdown",
   "id": "9c3be357-0491-4cc3-9428-16cc63b56610",
   "metadata": {
    "execution": {
     "iopub.execute_input": "2025-01-28T07:08:40.898073Z",
     "iopub.status.busy": "2025-01-28T07:08:40.897838Z",
     "iopub.status.idle": "2025-01-28T07:08:40.905228Z",
     "shell.execute_reply": "2025-01-28T07:08:40.903335Z",
     "shell.execute_reply.started": "2025-01-28T07:08:40.898054Z"
    }
   },
   "source": [
    "Como $p_{value} < \\alpha = 0.05$ (la muestra no es significativa) y como se rechazó la $H_0$ :)"
   ]
  },
  {
   "cell_type": "markdown",
   "id": "04a564ed-6fec-48be-b9d4-68002bf213f7",
   "metadata": {},
   "source": [
    "***  \n",
    "## Ejercicio 4\n",
    "Un estudio encontró que 40% de los usuarios de Internet recibieron más de 10 mensajes diarios Si de 420 usuarios 188 recibieron estos mensajes, a un nivel de 5% ¿Cuál es la conclusión?"
   ]
  },
  {
   "cell_type": "code",
   "execution_count": 22,
   "id": "6c9a4314-2809-4777-b5b6-59fcb3c2359e",
   "metadata": {
    "execution": {
     "iopub.execute_input": "2025-01-28T19:39:46.574624Z",
     "iopub.status.busy": "2025-01-28T19:39:46.573461Z",
     "iopub.status.idle": "2025-01-28T19:39:46.583501Z",
     "shell.execute_reply": "2025-01-28T19:39:46.581445Z",
     "shell.execute_reply.started": "2025-01-28T19:39:46.574572Z"
    }
   },
   "outputs": [],
   "source": [
    "p0 = 0.4\n",
    "q0 = 1 - p0\n",
    "n = 420\n",
    "p_est = 188 / n\n",
    "alpha = 0.05"
   ]
  },
  {
   "cell_type": "markdown",
   "id": "b008481e-f78c-4848-9e34-e1a8c538c3d9",
   "metadata": {},
   "source": [
    "### 1. Datos\n",
    "Los datos provienen de una m.a.s.i.i.d de usuarios que reciben más de 10 mensajes diarios donde nos interesa estudiar la proporción de usuarios que reciben más de 10 mensajes con $\\alpha=0.05$\n",
    "### 2. Supuestos  \n",
    "Los usuarios que reciben más de 10 mensajes siguen una distribución Bernoulli, donde no conocemos la varianza (pero se puede estimar) y que tenemos una muestra suficientemente grande $n=420$ para $n>30$ \n",
    "### 3. Hipótesis\n",
    "* Hipótesis de Investigación: La proporción de usuarios que reciben más de 10 mensajes no es igual al 40%\n",
    "* $H_a$: $p \\neq 0.4$  \n",
    "* $H_0$: $p = 0.4$  \n",
    "Planteamos que $H_0$ es verdadera y queremos demostrar que es falsa\n",
    "### 4. Estadístico de prueba\n",
    "$Z = \\frac{\\hat{p}-p_0}{\\sqrt{\\frac{p_0*q_0}{n}}}$\n",
    "### 5. Distribución del estadístico de prueba\n",
    "$Z$ es $N(0,1)$ cuando $n \\rightarrow \\infty$ utilizando TCL\n",
    "### 6. Región de rechazo\n",
    "Al ser bilateral\n",
    "* $V.C.I = Z_{\\frac{\\alpha}{2}}$\n",
    "* $V.C.S = Z_{1 -\\frac{\\alpha}{2}}$"
   ]
  },
  {
   "cell_type": "code",
   "execution_count": 23,
   "id": "633a17a1-51fe-4bc8-af71-fb3158131073",
   "metadata": {
    "execution": {
     "iopub.execute_input": "2025-01-28T19:39:46.586602Z",
     "iopub.status.busy": "2025-01-28T19:39:46.585915Z",
     "iopub.status.idle": "2025-01-28T19:39:46.602907Z",
     "shell.execute_reply": "2025-01-28T19:39:46.600896Z",
     "shell.execute_reply.started": "2025-01-28T19:39:46.586492Z"
    }
   },
   "outputs": [
    {
     "data": {
      "text/plain": [
       "(-1.9599639845400545, 1.959963984540054)"
      ]
     },
     "execution_count": 23,
     "metadata": {},
     "output_type": "execute_result"
    }
   ],
   "source": [
    "# Valores críticos\n",
    "vc_inferior = norm.ppf(alpha / 2)\n",
    "vc_superior = norm.ppf(1 - alpha / 2)\n",
    "vc_inferior, vc_superior"
   ]
  },
  {
   "cell_type": "markdown",
   "id": "e9c7c871-da74-44da-9bd6-727fdf55fc6f",
   "metadata": {},
   "source": [
    "Región de Rechazo $= \\{ x | x  \t\\in (-\\infty, -1.9599639845400545] \\cup [1.9599639845400545, \\infty)  \\} $"
   ]
  },
  {
   "cell_type": "markdown",
   "id": "abd2b3aa-edf0-4cee-9571-a388618a444f",
   "metadata": {},
   "source": [
    "### 7. Cálculo del valor del estadístico de prueba"
   ]
  },
  {
   "cell_type": "code",
   "execution_count": 24,
   "id": "83718e24-2279-420d-a799-59694295c33b",
   "metadata": {
    "execution": {
     "iopub.execute_input": "2025-01-28T19:39:46.605967Z",
     "iopub.status.busy": "2025-01-28T19:39:46.604852Z",
     "iopub.status.idle": "2025-01-28T19:39:46.629111Z",
     "shell.execute_reply": "2025-01-28T19:39:46.626183Z",
     "shell.execute_reply.started": "2025-01-28T19:39:46.605909Z"
    }
   },
   "outputs": [
    {
     "data": {
      "text/plain": [
       "1.9920476822239894"
      ]
     },
     "execution_count": 24,
     "metadata": {},
     "output_type": "execute_result"
    }
   ],
   "source": [
    "z = (p_est - p0) / math.sqrt(p0 * q0 / n)\n",
    "z"
   ]
  },
  {
   "cell_type": "markdown",
   "id": "0f100794-e37b-4361-92e2-a566f14f25a4",
   "metadata": {},
   "source": [
    "### 8. Decisión  \n",
    "Debido a que el valor del estadístico de prueba $(Z)$ del paso anterior se encuentra en la región de rechazo (6), por lo tanto la hipótesis nula es rechazada.\n",
    "### 9. Conclusión\n",
    "Después de realizar el estudio pertinente encontramos que la proporción de usuarios que reciben más de 10 mensajes diarios quizá no son iguales al 40% tal como se propuso.\n",
    "### 10. P-valor"
   ]
  },
  {
   "cell_type": "code",
   "execution_count": 25,
   "id": "77a4530d-4d18-47bb-b721-bda8e8fa355d",
   "metadata": {
    "execution": {
     "iopub.execute_input": "2025-01-28T19:39:46.633525Z",
     "iopub.status.busy": "2025-01-28T19:39:46.631817Z",
     "iopub.status.idle": "2025-01-28T19:39:46.650141Z",
     "shell.execute_reply": "2025-01-28T19:39:46.647404Z",
     "shell.execute_reply.started": "2025-01-28T19:39:46.633455Z"
    }
   },
   "outputs": [
    {
     "data": {
      "text/plain": [
       "0.04636582643784502"
      ]
     },
     "execution_count": 25,
     "metadata": {},
     "output_type": "execute_result"
    }
   ],
   "source": [
    "p_value = (1 - norm.cdf(z)) + (norm.cdf(z * -1))\n",
    "p_value"
   ]
  },
  {
   "cell_type": "markdown",
   "id": "fd7e5be0-26c5-4c89-89f6-d49d6eea8a00",
   "metadata": {},
   "source": [
    "Como $p_{value} < \\alpha = 0.05$ (la muestra no es significativa) y como se rechazó la $H_0$ :)"
   ]
  },
  {
   "cell_type": "markdown",
   "id": "93202861-b114-49cf-8945-69c79eaed946",
   "metadata": {},
   "source": [
    "***\n",
    "## Ejercicio 5\n",
    "Las lecturas de radiación de Radón tomadas en 12 lugares fueron como sigue:  \n",
    "$105.6, 90.9, 91.2, 96.9, 96.5, 91.3, 100.1, 105, 99.6, 107.7, 103.3$ y $92.4$\n",
    "\n",
    "a) A un alfa de 5% ¿Indican las lecturas que difieren de 100?"
   ]
  },
  {
   "cell_type": "code",
   "execution_count": 26,
   "id": "e41da273-e8ba-4413-8ebc-8d80f3c1ef9e",
   "metadata": {
    "execution": {
     "iopub.execute_input": "2025-01-28T19:39:46.654557Z",
     "iopub.status.busy": "2025-01-28T19:39:46.652471Z",
     "iopub.status.idle": "2025-01-28T19:39:46.662640Z",
     "shell.execute_reply": "2025-01-28T19:39:46.660123Z",
     "shell.execute_reply.started": "2025-01-28T19:39:46.654489Z"
    }
   },
   "outputs": [],
   "source": [
    "mu0 = 100\n",
    "alpha = 0.05"
   ]
  },
  {
   "cell_type": "code",
   "execution_count": 27,
   "id": "c7c6ee80-f795-47d6-81aa-602e6e3852dd",
   "metadata": {
    "execution": {
     "iopub.execute_input": "2025-01-28T19:39:46.666162Z",
     "iopub.status.busy": "2025-01-28T19:39:46.665615Z",
     "iopub.status.idle": "2025-01-28T19:39:46.674777Z",
     "shell.execute_reply": "2025-01-28T19:39:46.672669Z",
     "shell.execute_reply.started": "2025-01-28T19:39:46.666125Z"
    }
   },
   "outputs": [],
   "source": [
    "lecturas_radiacion_radon = pd.Series([\n",
    "    105.6, 90.9, 91.2, 96.9, 96.5, 91.3,\n",
    "    100.1, 105, 99.6, 107.7, 103.3, 92.4\n",
    "])"
   ]
  },
  {
   "cell_type": "code",
   "execution_count": 28,
   "id": "cedc6373-e138-4eff-ad69-d31b41fd7de3",
   "metadata": {
    "execution": {
     "iopub.execute_input": "2025-01-28T19:39:46.679879Z",
     "iopub.status.busy": "2025-01-28T19:39:46.677685Z",
     "iopub.status.idle": "2025-01-28T19:39:46.693292Z",
     "shell.execute_reply": "2025-01-28T19:39:46.690475Z",
     "shell.execute_reply.started": "2025-01-28T19:39:46.679805Z"
    }
   },
   "outputs": [
    {
     "data": {
      "text/plain": [
       "12"
      ]
     },
     "execution_count": 28,
     "metadata": {},
     "output_type": "execute_result"
    }
   ],
   "source": [
    "n = len(lecturas_radiacion_radon)\n",
    "n"
   ]
  },
  {
   "cell_type": "markdown",
   "id": "86f89fbc-dd7f-4088-b168-8d345f0cd395",
   "metadata": {},
   "source": [
    "### 1. Datos\n",
    "Los datos provienen de una m.a.s.i.i.d de lecturas de radiación de Radón donde nos interesa estudiar el promedio de lecturas de radiación con $\\alpha=0.05$\n",
    "### 2. Supuestos  \n",
    "Las lecturas de radiación siguen una distribución Normal, donde no conocemos la varianza (pero se puede estimar) y que tenemos una muestra pequeña $n=12$ para $n<30$ \n",
    "### 3. Hipótesis\n",
    "* Hipótesis de Investigación: Las lecturas de radiación difieren de 100\n",
    "* $H_a$: $\\mu \\neq 100$  \n",
    "* $H_0$: $\\mu = 100$  \n",
    "Planteamos que $H_0$ es verdadera y queremos demostrar que es falsa\n",
    "### 4. Estadístico de prueba\n",
    "$t = \\frac{\\bar{X}-\\mu}{\\frac{s}{\\sqrt{n}}}$\n",
    "### 5. Distribución del estadístico de prueba\n",
    "$t$ es $t_{n-1}$\n",
    "### 6. Región de rechazo\n",
    "Al ser bilateral\n",
    "* $V.C.I = t_{n-1,\\frac{\\alpha}{2}}$\n",
    "* $V.C.S = t_{n-1,1-\\frac{\\alpha}{2}}$"
   ]
  },
  {
   "cell_type": "code",
   "execution_count": 29,
   "id": "4eb1c92e-c66b-48bb-87f7-8617a7a4a10e",
   "metadata": {
    "execution": {
     "iopub.execute_input": "2025-01-28T19:39:46.696605Z",
     "iopub.status.busy": "2025-01-28T19:39:46.695947Z",
     "iopub.status.idle": "2025-01-28T19:39:46.717241Z",
     "shell.execute_reply": "2025-01-28T19:39:46.714445Z",
     "shell.execute_reply.started": "2025-01-28T19:39:46.696544Z"
    }
   },
   "outputs": [
    {
     "data": {
      "text/plain": [
       "(-2.200985160082949, 2.200985160082949)"
      ]
     },
     "execution_count": 29,
     "metadata": {},
     "output_type": "execute_result"
    }
   ],
   "source": [
    "# Valores críticos\n",
    "vc_inferior = t_student.ppf(alpha / 2, n - 1)\n",
    "vc_superior = t_student.ppf(1 - alpha / 2, n - 1)\n",
    "vc_inferior, vc_superior"
   ]
  },
  {
   "cell_type": "markdown",
   "id": "bebd2654-30c2-4b1d-984d-b987bb27b720",
   "metadata": {},
   "source": [
    "Región de Rechazo $= \\{ x | x  \t\\in (-\\infty, -2.200985160082949] \\cup [2.200985160082949, \\infty)  \\} $"
   ]
  },
  {
   "cell_type": "markdown",
   "id": "929dd74b-93a8-433c-9f28-5d02aad624d0",
   "metadata": {},
   "source": [
    "### 7. Cálculo del valor del estadístico de prueba"
   ]
  },
  {
   "cell_type": "code",
   "execution_count": 30,
   "id": "3446c9e1-2151-440f-92ac-6a11982ebc70",
   "metadata": {
    "execution": {
     "iopub.execute_input": "2025-01-28T19:39:46.721308Z",
     "iopub.status.busy": "2025-01-28T19:39:46.720051Z",
     "iopub.status.idle": "2025-01-28T19:39:46.742754Z",
     "shell.execute_reply": "2025-01-28T19:39:46.740152Z",
     "shell.execute_reply.started": "2025-01-28T19:39:46.721229Z"
    }
   },
   "outputs": [
    {
     "data": {
      "text/plain": [
       "98.37500000000001"
      ]
     },
     "execution_count": 30,
     "metadata": {},
     "output_type": "execute_result"
    }
   ],
   "source": [
    "mu_est = lecturas_radiacion_radon.mean()\n",
    "mu_est"
   ]
  },
  {
   "cell_type": "code",
   "execution_count": 31,
   "id": "f365a830-3858-4209-80e9-9d6621080a59",
   "metadata": {
    "execution": {
     "iopub.execute_input": "2025-01-28T19:39:46.744376Z",
     "iopub.status.busy": "2025-01-28T19:39:46.743999Z",
     "iopub.status.idle": "2025-01-28T19:39:46.757742Z",
     "shell.execute_reply": "2025-01-28T19:39:46.755706Z",
     "shell.execute_reply.started": "2025-01-28T19:39:46.744342Z"
    }
   },
   "outputs": [
    {
     "data": {
      "text/plain": [
       "6.10947475796257"
      ]
     },
     "execution_count": 31,
     "metadata": {},
     "output_type": "execute_result"
    }
   ],
   "source": [
    "std_est = lecturas_radiacion_radon.std()\n",
    "std_est"
   ]
  },
  {
   "cell_type": "code",
   "execution_count": 32,
   "id": "bf4649c2-b9d0-49f0-8ef6-48f2a53ae61a",
   "metadata": {
    "execution": {
     "iopub.execute_input": "2025-01-28T19:39:46.760154Z",
     "iopub.status.busy": "2025-01-28T19:39:46.759570Z",
     "iopub.status.idle": "2025-01-28T19:39:46.778301Z",
     "shell.execute_reply": "2025-01-28T19:39:46.773351Z",
     "shell.execute_reply.started": "2025-01-28T19:39:46.760100Z"
    }
   },
   "outputs": [
    {
     "data": {
      "text/plain": [
       "-0.9213828271018268"
      ]
     },
     "execution_count": 32,
     "metadata": {},
     "output_type": "execute_result"
    }
   ],
   "source": [
    "t = (mu_est - mu0) / (std_est / math.sqrt(n))\n",
    "t"
   ]
  },
  {
   "cell_type": "markdown",
   "id": "6ab72e5b-4d95-44fe-ac12-89e3527d89ce",
   "metadata": {},
   "source": [
    "### 8. Decisión  \n",
    "Debido a que el valor del estadístico de prueba $(t)$ del paso anterior no se encuentra en la región de rechazo (6), por lo tanto la hipótesis nula no es rechazada.\n",
    "### 9. Conclusión\n",
    "Después de realizar el estudio pertinente encontramos que el promedio de las lecturas de radición de Radón quizá es igual a 100 tal como se propuso.\n",
    "### 10. P-valor"
   ]
  },
  {
   "cell_type": "code",
   "execution_count": 33,
   "id": "5fc4371b-4927-43a9-b80b-e149e6fa936a",
   "metadata": {
    "execution": {
     "iopub.execute_input": "2025-01-28T19:39:46.784493Z",
     "iopub.status.busy": "2025-01-28T19:39:46.782167Z",
     "iopub.status.idle": "2025-01-28T19:39:46.807343Z",
     "shell.execute_reply": "2025-01-28T19:39:46.803895Z",
     "shell.execute_reply.started": "2025-01-28T19:39:46.784404Z"
    }
   },
   "outputs": [
    {
     "data": {
      "text/plain": [
       "0.37661608746499975"
      ]
     },
     "execution_count": 33,
     "metadata": {},
     "output_type": "execute_result"
    }
   ],
   "source": [
    "p_value = (1 - t_student.cdf(t * -1, n - 1)) + (t_student.cdf(t, n - 1))\n",
    "p_value"
   ]
  },
  {
   "cell_type": "markdown",
   "id": "aa68a6c8-4657-4164-a850-ee7585632d27",
   "metadata": {},
   "source": [
    "Como $p_{value} > \\alpha = 0.05$ (la muestra es significativa) y como no se rechazó la $H_0$ :)"
   ]
  },
  {
   "cell_type": "markdown",
   "id": "5e069530-cddf-448f-9bb7-eadb5af24c69",
   "metadata": {},
   "source": [
    "***\n",
    "# Pruebas de Hipótesis de dos muestras"
   ]
  },
  {
   "cell_type": "markdown",
   "id": "7ac0a0fd-cf80-45f8-af4f-bf85746c7a23",
   "metadata": {},
   "source": [
    "## Ejercicio 1\n",
    "Los pesos en gramos de 10 machos y 10 hembras jóvenes de faisanes de cuello anillado atrapados en enero en el Jardín Botánico de la Universidad de Wisconsin, fueron:  \n",
    "MACHOS: 1293-1380-1614-1497-1340-1643-1466-1627-1383-1711  \n",
    "HEMBRAS:1061-1065-1092-1017-1021-1138-1143-1094-1270-1028  \n",
    "Verifique la hipótesis de que la diferencia $\\mu_{M} - \\mu_{H} = 350$g, con la alternativa de que la diferencia es mayor de $350$g ($\\alpha = 0.01$)"
   ]
  },
  {
   "cell_type": "code",
   "execution_count": 34,
   "id": "cb582f1b-7ea9-4908-bb34-1ae9172295f0",
   "metadata": {
    "execution": {
     "iopub.execute_input": "2025-01-28T19:39:46.812235Z",
     "iopub.status.busy": "2025-01-28T19:39:46.810852Z",
     "iopub.status.idle": "2025-01-28T19:39:46.821867Z",
     "shell.execute_reply": "2025-01-28T19:39:46.818756Z",
     "shell.execute_reply.started": "2025-01-28T19:39:46.812171Z"
    }
   },
   "outputs": [],
   "source": [
    "diff_mu0 = 350\n",
    "alpha = 0.01"
   ]
  },
  {
   "cell_type": "code",
   "execution_count": 35,
   "id": "b7fc42ce-bca9-4275-ac82-81b3e58046f5",
   "metadata": {
    "execution": {
     "iopub.execute_input": "2025-01-28T19:39:46.829139Z",
     "iopub.status.busy": "2025-01-28T19:39:46.826357Z",
     "iopub.status.idle": "2025-01-28T19:39:46.846442Z",
     "shell.execute_reply": "2025-01-28T19:39:46.843248Z",
     "shell.execute_reply.started": "2025-01-28T19:39:46.829061Z"
    }
   },
   "outputs": [],
   "source": [
    "pesos_faisanes = pd.DataFrame([\n",
    "    [1293, 1061],\n",
    "    [1380, 1065],\n",
    "    [1614, 1092],\n",
    "    [1497, 1017],\n",
    "    [1340, 1021],\n",
    "    [1643, 1138],\n",
    "    [1466, 1143],\n",
    "    [1627, 1094],\n",
    "    [1383, 1270],\n",
    "    [1711, 1028],\n",
    "], columns = [\"MACHOS\", \"HEMBRAS\"])"
   ]
  },
  {
   "cell_type": "code",
   "execution_count": 36,
   "id": "7ed7d0f0-155d-4fc7-92df-7f9074bbaf5c",
   "metadata": {
    "execution": {
     "iopub.execute_input": "2025-01-28T19:39:46.849146Z",
     "iopub.status.busy": "2025-01-28T19:39:46.848664Z",
     "iopub.status.idle": "2025-01-28T19:39:46.873736Z",
     "shell.execute_reply": "2025-01-28T19:39:46.871800Z",
     "shell.execute_reply.started": "2025-01-28T19:39:46.849092Z"
    }
   },
   "outputs": [
    {
     "data": {
      "text/plain": [
       "(10, 10)"
      ]
     },
     "execution_count": 36,
     "metadata": {},
     "output_type": "execute_result"
    }
   ],
   "source": [
    "n = len(pesos_faisanes[\"MACHOS\"])\n",
    "m = len(pesos_faisanes[\"HEMBRAS\"])\n",
    "n, m"
   ]
  },
  {
   "cell_type": "markdown",
   "id": "94a53a9c-473c-4d70-90db-88b302cc82ae",
   "metadata": {
    "execution": {
     "iopub.execute_input": "2025-01-28T08:02:33.883558Z",
     "iopub.status.busy": "2025-01-28T08:02:33.883103Z",
     "iopub.status.idle": "2025-01-28T08:02:33.893510Z",
     "shell.execute_reply": "2025-01-28T08:02:33.891669Z",
     "shell.execute_reply.started": "2025-01-28T08:02:33.883530Z"
    }
   },
   "source": [
    "### 1. Datos\n",
    "Los datos provienen de una m.a.s.i.i.d de los pesos en gramos de 10 machos y 10 hembras jóvenes de faisanes de cuello anillado atrapados en enero en el Jardín Botánico de la Universidad de Wisconsin donde nos interesa estudiar la diferencia de medias con un $\\alpha=0.01$\n",
    "### 2. Supuestos  \n",
    "Las muestras son independientes entre sí y siguen una distribución Normal, donde no conocemos las varianzas (pero se pueden estimar) y que tenemos una muestra pequeña $n,m=10$ para $n,m<10$ \n",
    "### 3. Hipótesis\n",
    "* Hipótesis de Investigación: La diferencia de las medias de los pesos en gramos es mayor que 350 g\n",
    "* $H_a$: $\\mu_{M} - \\mu_{H} > 350$  \n",
    "* $H_0$: $\\mu_{M} - \\mu_{H} \\leq 350$  \n",
    "Planteamos que $H_0$ es verdadera y queremos demostrar que es falsa\n",
    "### 4. Estadístico de prueba\n",
    "$t = \\frac{(\\bar{x} - \\bar{y}) - (\\mu_{x} - \\mu_{y})}{S_p\\sqrt{\\frac{1}{m} + \\frac{1}{n}}}$\n",
    "### 5. Distribución del estadístico de prueba\n",
    "$t$ es $t_{m+n-2}$\n",
    "### 6. Región de rechazo\n",
    "Al ser unilateral superior\n",
    "* $V.C = t_{m+n-2, 1 - \\alpha}$"
   ]
  },
  {
   "cell_type": "code",
   "execution_count": 37,
   "id": "7f69e3aa-afcd-43b0-98b3-0979aee2248d",
   "metadata": {
    "execution": {
     "iopub.execute_input": "2025-01-28T19:39:46.878936Z",
     "iopub.status.busy": "2025-01-28T19:39:46.878080Z",
     "iopub.status.idle": "2025-01-28T19:39:46.898767Z",
     "shell.execute_reply": "2025-01-28T19:39:46.895808Z",
     "shell.execute_reply.started": "2025-01-28T19:39:46.878886Z"
    }
   },
   "outputs": [
    {
     "data": {
      "text/plain": [
       "2.552379630179453"
      ]
     },
     "execution_count": 37,
     "metadata": {},
     "output_type": "execute_result"
    }
   ],
   "source": [
    "# Valor crítico\n",
    "vc_superior = t_student.ppf(1 - alpha, m + n - 2)\n",
    "vc_superior"
   ]
  },
  {
   "cell_type": "markdown",
   "id": "692e7c84-bc8b-4130-89b6-bdc0765f3137",
   "metadata": {
    "execution": {
     "iopub.execute_input": "2025-01-28T16:32:31.594844Z",
     "iopub.status.busy": "2025-01-28T16:32:31.594156Z",
     "iopub.status.idle": "2025-01-28T16:32:31.631870Z",
     "shell.execute_reply": "2025-01-28T16:32:31.627156Z",
     "shell.execute_reply.started": "2025-01-28T16:32:31.594799Z"
    }
   },
   "source": [
    "Región de Rechazo $= \\{ x | x  \t\\in [2.552379630179453, \\infty)  \\} $"
   ]
  },
  {
   "cell_type": "markdown",
   "id": "c8db696d-9db9-41b4-a3b5-03f259f991cd",
   "metadata": {
    "execution": {
     "iopub.execute_input": "2025-01-28T15:10:25.153464Z",
     "iopub.status.busy": "2025-01-28T15:10:25.151401Z",
     "iopub.status.idle": "2025-01-28T15:10:25.164417Z",
     "shell.execute_reply": "2025-01-28T15:10:25.160958Z",
     "shell.execute_reply.started": "2025-01-28T15:10:25.153419Z"
    }
   },
   "source": [
    "### 7. Cálculo del valor del estadístico de prueba"
   ]
  },
  {
   "cell_type": "code",
   "execution_count": 38,
   "id": "937d0ebd-1cb0-40f3-beb5-90956ab85f88",
   "metadata": {
    "execution": {
     "iopub.execute_input": "2025-01-28T19:39:46.902197Z",
     "iopub.status.busy": "2025-01-28T19:39:46.901557Z",
     "iopub.status.idle": "2025-01-28T19:39:46.920051Z",
     "shell.execute_reply": "2025-01-28T19:39:46.916182Z",
     "shell.execute_reply.started": "2025-01-28T19:39:46.902115Z"
    }
   },
   "outputs": [
    {
     "data": {
      "text/plain": [
       "(1495.4, 1092.9, 402.5)"
      ]
     },
     "execution_count": 38,
     "metadata": {},
     "output_type": "execute_result"
    }
   ],
   "source": [
    "x_mean = pesos_faisanes[\"MACHOS\"].mean()\n",
    "y_mean = pesos_faisanes[\"HEMBRAS\"].mean()\n",
    "diff_mu_est = x_mean - y_mean\n",
    "x_mean, y_mean, diff_mu_est"
   ]
  },
  {
   "cell_type": "code",
   "execution_count": 39,
   "id": "915041d3-5236-4126-bf75-3caf78a337d3",
   "metadata": {
    "execution": {
     "iopub.execute_input": "2025-01-28T19:39:46.933479Z",
     "iopub.status.busy": "2025-01-28T19:39:46.932967Z",
     "iopub.status.idle": "2025-01-28T19:39:46.950254Z",
     "shell.execute_reply": "2025-01-28T19:39:46.947271Z",
     "shell.execute_reply.started": "2025-01-28T19:39:46.933440Z"
    }
   },
   "outputs": [
    {
     "data": {
      "text/plain": [
       "116.53213672154514"
      ]
     },
     "execution_count": 39,
     "metadata": {},
     "output_type": "execute_result"
    }
   ],
   "source": [
    "s_x = pesos_faisanes[\"MACHOS\"].std()\n",
    "s_y = pesos_faisanes[\"HEMBRAS\"].std()\n",
    "s_pool = math.sqrt((((n - 1) * s_x ** 2) + ((m - 1) * s_y** 2)) / (n + m - 2))\n",
    "s_pool"
   ]
  },
  {
   "cell_type": "code",
   "execution_count": 40,
   "id": "4a26e185-bafe-412a-9de6-f0b30c926ebc",
   "metadata": {
    "execution": {
     "iopub.execute_input": "2025-01-28T19:39:46.953488Z",
     "iopub.status.busy": "2025-01-28T19:39:46.952772Z",
     "iopub.status.idle": "2025-01-28T19:39:46.971531Z",
     "shell.execute_reply": "2025-01-28T19:39:46.969170Z",
     "shell.execute_reply.started": "2025-01-28T19:39:46.953436Z"
    }
   },
   "outputs": [
    {
     "data": {
      "text/plain": [
       "1.0073922277702005"
      ]
     },
     "execution_count": 40,
     "metadata": {},
     "output_type": "execute_result"
    }
   ],
   "source": [
    "t = (diff_mu_est - diff_mu0) / (s_pool * math.sqrt(1/n + 1/m))\n",
    "t"
   ]
  },
  {
   "cell_type": "markdown",
   "id": "a263a81e-acba-4d84-8d09-d89a885c936c",
   "metadata": {},
   "source": [
    "### 8. Decisión  \n",
    "Debido a que el valor del estadístico de prueba $(t)$ del paso anterior no se encuentra en la región de rechazo (6), por lo tanto la hipótesis nula no es rechazada.\n",
    "### 9. Conclusión\n",
    "Después de realizar el estudio pertinente encontramos que la diferencia de promedios de los pesos en gramos de jóvenes faisanes de cuello anillado quizá es menor o igual a 350 tal como se propuso.\n",
    "### 10. P-valor"
   ]
  },
  {
   "cell_type": "code",
   "execution_count": 41,
   "id": "3335fc18-3d8f-4f23-b374-75eede22d254",
   "metadata": {
    "execution": {
     "iopub.execute_input": "2025-01-28T19:39:46.976659Z",
     "iopub.status.busy": "2025-01-28T19:39:46.974546Z",
     "iopub.status.idle": "2025-01-28T19:39:46.992496Z",
     "shell.execute_reply": "2025-01-28T19:39:46.989523Z",
     "shell.execute_reply.started": "2025-01-28T19:39:46.976572Z"
    }
   },
   "outputs": [
    {
     "data": {
      "text/plain": [
       "0.1635487475699905"
      ]
     },
     "execution_count": 41,
     "metadata": {},
     "output_type": "execute_result"
    }
   ],
   "source": [
    "p_value = 1 - t_student.cdf(t, n + m - 2)\n",
    "p_value"
   ]
  },
  {
   "cell_type": "markdown",
   "id": "1c4aacdd-7df3-4df0-8f6d-41ff4ff2b84a",
   "metadata": {},
   "source": [
    "Como $p_{value} > \\alpha = 0.05$ (la muestra es significativa) y como no se rechazó la $H_0$ :)"
   ]
  },
  {
   "cell_type": "markdown",
   "id": "763d3c81-09b2-46b4-a8b3-87b77298cc47",
   "metadata": {},
   "source": [
    "***\n",
    "## Ejercicio 2\n",
    "De una muestra de 450 votantes hombres, 105 se declararon simpatizantes del candidato A. De una muestra de 550 votantes mujeres 120 se declararon simpatizantes del mismo candidato. ¿Proporcionan estos datos evidencia suficiente como para considera que las proporciones de los simpatizantes hombres y mujeres son iguales? $ \\alpha = 0.05$"
   ]
  },
  {
   "cell_type": "code",
   "execution_count": 42,
   "id": "9948a50f-7b00-43c1-b347-8e987f55346c",
   "metadata": {
    "execution": {
     "iopub.execute_input": "2025-01-28T19:39:46.996516Z",
     "iopub.status.busy": "2025-01-28T19:39:46.995865Z",
     "iopub.status.idle": "2025-01-28T19:39:47.008519Z",
     "shell.execute_reply": "2025-01-28T19:39:47.004750Z",
     "shell.execute_reply.started": "2025-01-28T19:39:46.996428Z"
    }
   },
   "outputs": [],
   "source": [
    "diff_p0 = 0\n",
    "alpha = 0.05\n",
    "n = 450\n",
    "m = 550\n",
    "p_x = 105 / n\n",
    "q_x = 1 - p_x\n",
    "p_y = 120 / m\n",
    "q_y = 1 - p_y"
   ]
  },
  {
   "cell_type": "markdown",
   "id": "d96e1eeb-87b2-4f45-868e-83a3786440b7",
   "metadata": {},
   "source": [
    "### 1. Datos\n",
    "Los datos provienen de una m.a.s.i.i.d de los votantes simpatizantes del mismo candidato donde nos interesa estudiar la diferencia de proporciones con un $\\alpha=0.05$\n",
    "### 2. Supuestos  \n",
    "Las muestras son independientes entre sí y siguen una distribución Bernoulli, donde no conocemos las varianzas (pero se pueden estimar) y que tenemos una muestra suficientemente grande $n = 450, m=550$ para $n,m>30$ \n",
    "### 3. Hipótesis\n",
    "* Hipótesis de Investigación: La proporción de simpatizantes hombres y mujeres no son iguales\n",
    "* $H_a$: $p_{M} \\neq p_{H}$  \n",
    "* $H_0$: $p_{M} = p_{H}$  \n",
    "Planteamos que $H_0$ es verdadera y queremos demostrar que es falsa\n",
    "### 4. Estadístico de prueba\n",
    "$Z = \\frac{(\\hat{p_x} - \\hat{p_y}) - (p_{x} -p_{y})}{\\sqrt{\\frac{p_xq_x}{n} + \\frac{p_yq_y}{m}}}$\n",
    "### 5. Distribución del estadístico de prueba\n",
    "$Z$ es $N(0,1)$ cuando $n,m \\rightarrow \\infty$ utilizando TCL\n",
    "### 6. Región de rechazo\n",
    "Al ser bilateral\n",
    "* $V.C.I = Z_{\\frac{\\alpha}{2}}$\n",
    "* $V.C.S = Z_{1 - \\frac{\\alpha}{2}}$"
   ]
  },
  {
   "cell_type": "code",
   "execution_count": 43,
   "id": "a9d429c3-8536-4e5a-b828-05fb23363734",
   "metadata": {
    "execution": {
     "iopub.execute_input": "2025-01-28T19:39:47.012989Z",
     "iopub.status.busy": "2025-01-28T19:39:47.012382Z",
     "iopub.status.idle": "2025-01-28T19:39:47.029629Z",
     "shell.execute_reply": "2025-01-28T19:39:47.027781Z",
     "shell.execute_reply.started": "2025-01-28T19:39:47.012936Z"
    }
   },
   "outputs": [
    {
     "data": {
      "text/plain": [
       "(-1.9599639845400545, 1.959963984540054)"
      ]
     },
     "execution_count": 43,
     "metadata": {},
     "output_type": "execute_result"
    }
   ],
   "source": [
    "# Valores críticos\n",
    "vc_inferior = norm.ppf(alpha / 2)\n",
    "vc_superior = norm.ppf(1 - alpha / 2)\n",
    "vc_inferior, vc_superior"
   ]
  },
  {
   "cell_type": "markdown",
   "id": "d01e5fc6-6da2-4124-991a-6fc9c6b7618c",
   "metadata": {
    "execution": {
     "iopub.execute_input": "2025-01-28T16:49:18.337130Z",
     "iopub.status.busy": "2025-01-28T16:49:18.336403Z",
     "iopub.status.idle": "2025-01-28T16:49:18.372057Z",
     "shell.execute_reply": "2025-01-28T16:49:18.365389Z",
     "shell.execute_reply.started": "2025-01-28T16:49:18.337094Z"
    }
   },
   "source": [
    "Región de Rechazo $= \\{ x | x  \t\\in (-\\infty, -1.9599639845400545] \\cup [1.959963984540054, \\infty)  \\} $"
   ]
  },
  {
   "cell_type": "markdown",
   "id": "190628a4-f8fa-4f02-b4ec-fdc1cbd34bda",
   "metadata": {},
   "source": [
    "### 7. Cálculo del valor del estadístico de prueba"
   ]
  },
  {
   "cell_type": "code",
   "execution_count": 44,
   "id": "1bfb36e2-3d54-4068-a10b-1562c1a15149",
   "metadata": {
    "execution": {
     "iopub.execute_input": "2025-01-28T19:39:47.031958Z",
     "iopub.status.busy": "2025-01-28T19:39:47.031520Z",
     "iopub.status.idle": "2025-01-28T19:39:47.046419Z",
     "shell.execute_reply": "2025-01-28T19:39:47.043529Z",
     "shell.execute_reply.started": "2025-01-28T19:39:47.031921Z"
    }
   },
   "outputs": [
    {
     "data": {
      "text/plain": [
       "0.015151515151515166"
      ]
     },
     "execution_count": 44,
     "metadata": {},
     "output_type": "execute_result"
    }
   ],
   "source": [
    "diff_p_est = p_x - p_y\n",
    "diff_p_est"
   ]
  },
  {
   "cell_type": "code",
   "execution_count": 45,
   "id": "f3f60d5c-ea87-49b5-a07f-c0c1d2a59478",
   "metadata": {
    "execution": {
     "iopub.execute_input": "2025-01-28T19:39:47.050892Z",
     "iopub.status.busy": "2025-01-28T19:39:47.049396Z",
     "iopub.status.idle": "2025-01-28T19:39:47.068269Z",
     "shell.execute_reply": "2025-01-28T19:39:47.065605Z",
     "shell.execute_reply.started": "2025-01-28T19:39:47.050778Z"
    }
   },
   "outputs": [
    {
     "data": {
      "text/plain": [
       "0.5695601070230932"
      ]
     },
     "execution_count": 45,
     "metadata": {},
     "output_type": "execute_result"
    }
   ],
   "source": [
    "z = (diff_p_est - diff_p0) / math.sqrt((p_x*q_x)/n + (p_y*q_y)/m)\n",
    "z"
   ]
  },
  {
   "cell_type": "markdown",
   "id": "b3e586ba-4c0c-45d4-996e-88c3e13a5e84",
   "metadata": {},
   "source": [
    "### 8. Decisión  \n",
    "Debido a que el valor del estadístico de prueba $(z)$ del paso anterior no se encuentra en la región de rechazo (6), por lo tanto la hipótesis nula no es rechazada.\n",
    "### 9. Conclusión\n",
    "Después de realizar el estudio pertinente encontramos que las proporciones de simpatizantes de hombres y mujeres quizá son iguales, tal como se propuso.\n",
    "### 10. P-valor"
   ]
  },
  {
   "cell_type": "code",
   "execution_count": 46,
   "id": "e70038bc-c246-43bb-ae0c-492583a753ca",
   "metadata": {
    "execution": {
     "iopub.execute_input": "2025-01-28T19:39:47.071689Z",
     "iopub.status.busy": "2025-01-28T19:39:47.070900Z",
     "iopub.status.idle": "2025-01-28T19:39:47.089417Z",
     "shell.execute_reply": "2025-01-28T19:39:47.086705Z",
     "shell.execute_reply.started": "2025-01-28T19:39:47.071649Z"
    }
   },
   "outputs": [
    {
     "data": {
      "text/plain": [
       "0.5689760922983478"
      ]
     },
     "execution_count": 46,
     "metadata": {},
     "output_type": "execute_result"
    }
   ],
   "source": [
    "p_value = (1 - norm.cdf(z)) + (norm.cdf(z * -1))\n",
    "p_value"
   ]
  },
  {
   "cell_type": "markdown",
   "id": "c20b8552-b315-43fd-854b-0c6488f17b5e",
   "metadata": {},
   "source": [
    "Como $p_{value} > \\alpha = 0.05$ (la muestra es significativa) y como no se rechazó la $H_0$ :)"
   ]
  },
  {
   "cell_type": "markdown",
   "id": "1c55bb72-7c58-4559-8802-a66978b6eb1b",
   "metadata": {},
   "source": [
    "***\n",
    "## Ejercicio 3\n",
    "Mediante dos procesos se fabrican alambres galvanizados lisos para alambrados rurales. Los técnicos de la\n",
    "fábrica desean determinar si los dos procesos poseen diferentes efectos en la resistencia de la media de\n",
    "ruptura del alambre. Se someten varias muestras a los dos procesos dando los siguientes resultados:\n",
    "  \n",
    "Proceso 1 = 9 4 10 7 9 10  \n",
    "  \n",
    "Proceso 2 = 14 9 13 12 13 8 10  \n",
    "\n",
    "Suponiendo conocidas las varianzas $\\sigma_1^2 = 5.4$ y $\\sigma_2^2 = 5.25$ y considerando $\\alpha = 0.05$. Probar la\n",
    "hipótesis de que las medias de resistencia a la ruptura son iguales."
   ]
  },
  {
   "cell_type": "code",
   "execution_count": 47,
   "id": "35d65a4d-468e-4864-9340-1864e58c2830",
   "metadata": {
    "execution": {
     "iopub.execute_input": "2025-01-28T19:39:47.094119Z",
     "iopub.status.busy": "2025-01-28T19:39:47.092343Z",
     "iopub.status.idle": "2025-01-28T19:39:47.107291Z",
     "shell.execute_reply": "2025-01-28T19:39:47.104420Z",
     "shell.execute_reply.started": "2025-01-28T19:39:47.094035Z"
    }
   },
   "outputs": [],
   "source": [
    "diff_mu0 = 0\n",
    "sigma_x_2 = 5.4\n",
    "sigma_y_2 = 5.25\n",
    "alpha = 0.05"
   ]
  },
  {
   "cell_type": "code",
   "execution_count": 48,
   "id": "a43ffd0c-20be-4ff5-9d19-943c913b2aec",
   "metadata": {
    "execution": {
     "iopub.execute_input": "2025-01-28T19:39:47.111294Z",
     "iopub.status.busy": "2025-01-28T19:39:47.110825Z",
     "iopub.status.idle": "2025-01-28T19:39:47.122130Z",
     "shell.execute_reply": "2025-01-28T19:39:47.119866Z",
     "shell.execute_reply.started": "2025-01-28T19:39:47.111258Z"
    }
   },
   "outputs": [],
   "source": [
    "procesos_alambre = pd.DataFrame([\n",
    "    [9, 14],\n",
    "    [4, 9],\n",
    "    [10, 13],\n",
    "    [7, 12],\n",
    "    [9, 13],\n",
    "    [10, 8],\n",
    "    [np.nan, 10]\n",
    "], columns = [\"Proceso 1\", \"Proceso 2\"])"
   ]
  },
  {
   "cell_type": "code",
   "execution_count": 49,
   "id": "99e78525-9253-4d49-a4d7-e82011344c86",
   "metadata": {
    "execution": {
     "iopub.execute_input": "2025-01-28T19:39:47.125114Z",
     "iopub.status.busy": "2025-01-28T19:39:47.124591Z",
     "iopub.status.idle": "2025-01-28T19:39:47.143865Z",
     "shell.execute_reply": "2025-01-28T19:39:47.140080Z",
     "shell.execute_reply.started": "2025-01-28T19:39:47.125060Z"
    }
   },
   "outputs": [
    {
     "data": {
      "text/plain": [
       "(6, 7)"
      ]
     },
     "execution_count": 49,
     "metadata": {},
     "output_type": "execute_result"
    }
   ],
   "source": [
    "n = len(procesos_alambre[\"Proceso 1\"][procesos_alambre[\"Proceso 1\"].notnull()])\n",
    "m = len(procesos_alambre[\"Proceso 2\"][procesos_alambre[\"Proceso 2\"].notnull()])\n",
    "n, m"
   ]
  },
  {
   "cell_type": "markdown",
   "id": "2ea846e4-66d6-4df6-8d29-3967c5527a83",
   "metadata": {},
   "source": [
    "### 1. Datos\n",
    "Los datos provienen de una m.a.s.i.i.d de las resistencias de ruptura de alambre galvanizado liso mediante dos procesos de fabricación donde nos interesa estudiar la diferencia de la resistencia media con un $\\alpha=0.05$\n",
    "### 2. Supuestos  \n",
    "Las muestras son independientes entre sí y siguen una distribución Normal, donde conocemos las varianzas.\n",
    "### 3. Hipótesis\n",
    "* Hipótesis de Investigación: La diferencia de la resistencia media de los alambres fabricados mediante el proceso 1 vs proceso 2 no son iguales\n",
    "* $H_a$: $\\mu_{1} \\neq \\mu_{2}$  \n",
    "* $H_0$: $\\mu_{1} = \\mu_{2}$  \n",
    "Planteamos que $H_0$ es verdadera y queremos demostrar que es falsa\n",
    "### 4. Estadístico de prueba\n",
    "$Z = \\frac{(\\bar{x} - \\bar{y}) - (\\mu_{x} - \\mu_{y})}{\\sqrt{\\frac{\\sigma_x^2}{n} + \\frac{\\sigma_y^2}{m}}}$\n",
    "### 5. Distribución del estadístico de prueba\n",
    "$Z$ es $N(0,1)$\n",
    "### 6. Región de rechazo\n",
    "Al ser bilateral\n",
    "* $V.C.I = Z_{\\frac{\\alpha}{2}}$\n",
    "* $V.C.S = Z_{1 - \\frac{\\alpha}{2}}$"
   ]
  },
  {
   "cell_type": "code",
   "execution_count": 50,
   "id": "b053ab03-7eaa-44d3-917d-dcc6aa1caea2",
   "metadata": {
    "execution": {
     "iopub.execute_input": "2025-01-28T19:39:47.147212Z",
     "iopub.status.busy": "2025-01-28T19:39:47.146501Z",
     "iopub.status.idle": "2025-01-28T19:39:47.165479Z",
     "shell.execute_reply": "2025-01-28T19:39:47.163203Z",
     "shell.execute_reply.started": "2025-01-28T19:39:47.147157Z"
    }
   },
   "outputs": [
    {
     "data": {
      "text/plain": [
       "(-1.9599639845400545, 1.959963984540054)"
      ]
     },
     "execution_count": 50,
     "metadata": {},
     "output_type": "execute_result"
    }
   ],
   "source": [
    "# Valores críticos\n",
    "vc_inferior = norm.ppf(alpha / 2)\n",
    "vc_superior = norm.ppf(1 - alpha / 2)\n",
    "vc_inferior, vc_superior"
   ]
  },
  {
   "cell_type": "markdown",
   "id": "460f7189-575c-48d9-8c7e-bc57ac9a69de",
   "metadata": {},
   "source": [
    "Región de Rechazo $= \\{ x | x  \t\\in (-\\infty, -1.9599639845400545] \\cup [1.959963984540054, \\infty)  \\} $"
   ]
  },
  {
   "cell_type": "markdown",
   "id": "2633e90d-b014-4f81-8146-94d81c05f20e",
   "metadata": {
    "execution": {
     "iopub.execute_input": "2025-01-28T18:41:06.716512Z",
     "iopub.status.busy": "2025-01-28T18:41:06.715856Z",
     "iopub.status.idle": "2025-01-28T18:41:06.722195Z",
     "shell.execute_reply": "2025-01-28T18:41:06.719987Z",
     "shell.execute_reply.started": "2025-01-28T18:41:06.716484Z"
    }
   },
   "source": [
    "### 7. Cálculo del valor del estadístico de prueba"
   ]
  },
  {
   "cell_type": "code",
   "execution_count": 51,
   "id": "45e46c91-2f10-480d-8779-27bdee8d2a17",
   "metadata": {
    "execution": {
     "iopub.execute_input": "2025-01-28T19:39:47.168548Z",
     "iopub.status.busy": "2025-01-28T19:39:47.167825Z",
     "iopub.status.idle": "2025-01-28T19:39:47.187037Z",
     "shell.execute_reply": "2025-01-28T19:39:47.184085Z",
     "shell.execute_reply.started": "2025-01-28T19:39:47.168493Z"
    }
   },
   "outputs": [
    {
     "data": {
      "text/plain": [
       "(8.166666666666666, 11.285714285714286, -3.1190476190476204)"
      ]
     },
     "execution_count": 51,
     "metadata": {},
     "output_type": "execute_result"
    }
   ],
   "source": [
    "x_mean = procesos_alambre[\"Proceso 1\"][procesos_alambre[\"Proceso 1\"].notnull()].mean()\n",
    "y_mean = procesos_alambre[\"Proceso 2\"][procesos_alambre[\"Proceso 2\"].notnull()].mean()\n",
    "diff_mu_est = x_mean - y_mean\n",
    "x_mean, y_mean, diff_mu_est"
   ]
  },
  {
   "cell_type": "code",
   "execution_count": 52,
   "id": "20ad791c-a000-4206-a7ec-2eebe6b39372",
   "metadata": {
    "execution": {
     "iopub.execute_input": "2025-01-28T19:39:47.191453Z",
     "iopub.status.busy": "2025-01-28T19:39:47.189920Z",
     "iopub.status.idle": "2025-01-28T19:39:47.208555Z",
     "shell.execute_reply": "2025-01-28T19:39:47.205283Z",
     "shell.execute_reply.started": "2025-01-28T19:39:47.191256Z"
    }
   },
   "outputs": [
    {
     "data": {
      "text/plain": [
       "-2.4281752782180845"
      ]
     },
     "execution_count": 52,
     "metadata": {},
     "output_type": "execute_result"
    }
   ],
   "source": [
    "z = (diff_mu_est - diff_mu0) / math.sqrt(sigma_x_2 / n + sigma_y_2 / m)\n",
    "z"
   ]
  },
  {
   "cell_type": "markdown",
   "id": "65ae17e5-0be1-4238-af77-e7726cf2b077",
   "metadata": {},
   "source": [
    "### 8. Decisión  \n",
    "Debido a que el valor del estadístico de prueba $(z)$ del paso anterior se encuentra en la región de rechazo (6), por lo tanto la hipótesis nula es rechazada.\n",
    "### 9. Conclusión\n",
    "Después de realizar el estudio pertinente encontramos que la diferencia de la resistencia media de los alambres fabricados mediante el proceso 1 vs proceso 2 quizá no son iguales\n",
    "### 10. P-valor"
   ]
  },
  {
   "cell_type": "code",
   "execution_count": 53,
   "id": "b036ba91-7862-40ba-a77e-089bd308dc8b",
   "metadata": {
    "execution": {
     "iopub.execute_input": "2025-01-28T19:39:47.213393Z",
     "iopub.status.busy": "2025-01-28T19:39:47.211695Z",
     "iopub.status.idle": "2025-01-28T19:39:47.229156Z",
     "shell.execute_reply": "2025-01-28T19:39:47.225916Z",
     "shell.execute_reply.started": "2025-01-28T19:39:47.213325Z"
    }
   },
   "outputs": [
    {
     "data": {
      "text/plain": [
       "0.015175007387789704"
      ]
     },
     "execution_count": 53,
     "metadata": {},
     "output_type": "execute_result"
    }
   ],
   "source": [
    "p_value = (1 - norm.cdf(z * -1)) + (norm.cdf(z))\n",
    "p_value"
   ]
  },
  {
   "cell_type": "markdown",
   "id": "aac37f86-4f4b-4f4a-8c28-bfd961eca29d",
   "metadata": {},
   "source": [
    "Como $p_{value} < \\alpha = 0.05$ (la muestra no es significativa) y como se rechazó la $H_0$ :)"
   ]
  },
  {
   "cell_type": "markdown",
   "id": "9905984c-b73c-460f-ac4d-6654a72fa73e",
   "metadata": {},
   "source": [
    "***\n",
    "## Ejercicio 4\n",
    "En un ensayo de engorde de novillos se utilizaron dos raciones (A y B) en dos lotes de 10 animales cada uno. La variable respuesta fue ganancia de peso por animal por día. Por información previa se consideró que las variancias poblacionales eran iguales, con un valor de $0.0064$. La ganancia de peso diarias y la suma de cuadrados.  \n",
    "\n",
    "Lote A = $\\Sigma X_a = 6.900$kg  \n",
    "Lote B = $\\Sigma X_b = 5.915$kg\n",
    "\n",
    "Se desea docimar al $5\\%$ la $H_0$: $\\mu_A = \\mu_B$"
   ]
  },
  {
   "cell_type": "code",
   "execution_count": 54,
   "id": "3c3b451e-88d5-4ed5-9ba1-375b3c6dd6f5",
   "metadata": {
    "execution": {
     "iopub.execute_input": "2025-01-28T19:39:47.234414Z",
     "iopub.status.busy": "2025-01-28T19:39:47.232096Z",
     "iopub.status.idle": "2025-01-28T19:39:47.245366Z",
     "shell.execute_reply": "2025-01-28T19:39:47.243118Z",
     "shell.execute_reply.started": "2025-01-28T19:39:47.234337Z"
    }
   },
   "outputs": [],
   "source": [
    "diff_mu0 = 0\n",
    "n = 10\n",
    "m = n\n",
    "sigma_x_2 = 0.0064\n",
    "sigma_y_2 = sigma_x_2\n",
    "x_mean =  6.9 / n\n",
    "y_mean = 5.915 / m\n",
    "alpha = 0.05"
   ]
  },
  {
   "cell_type": "markdown",
   "id": "fdd1a871-2c04-4add-8fb3-ad269819a95a",
   "metadata": {},
   "source": [
    "### 1. Datos\n",
    "Los datos provienen de una m.a.s.i.i.d de la ganacia de peso por animal por día para dos raciones A y B donde nos interesa estudiar la diferencia de la ganacia de peso media con un $\\alpha=0.05$\n",
    "### 2. Supuestos  \n",
    "Las muestras son independientes entre sí y siguen una distribución Normal, donde conocemos las varianzas.\n",
    "### 3. Hipótesis\n",
    "* Hipótesis de Investigación: La diferencia de la ganancia de peso media por animal con las raciones A y B no son iguales\n",
    "* $H_a$: $\\mu_{A} \\neq \\mu_{B}$  \n",
    "* $H_0$: $\\mu_{A} = \\mu_{B}$  \n",
    "Planteamos que $H_0$ es verdadera y queremos demostrar que es falsa\n",
    "### 4. Estadístico de prueba\n",
    "$Z = \\frac{(\\bar{x} - \\bar{y}) - (\\mu_{x} - \\mu_{y})}{\\sqrt{\\frac{\\sigma_x^2}{n} + \\frac{\\sigma_y^2}{m}}}$\n",
    "### 5. Distribución del estadístico de prueba\n",
    "$Z$ es $N(0,1)$\n",
    "### 6. Región de rechazo\n",
    "Al ser bilateral\n",
    "* $V.C.I = Z_{\\frac{\\alpha}{2}}$\n",
    "* $V.C.S = Z_{1 - \\frac{\\alpha}{2}}$"
   ]
  },
  {
   "cell_type": "code",
   "execution_count": 55,
   "id": "794a609d-0869-4cb4-b7f1-493c07341fd7",
   "metadata": {
    "execution": {
     "iopub.execute_input": "2025-01-28T19:39:47.250101Z",
     "iopub.status.busy": "2025-01-28T19:39:47.247832Z",
     "iopub.status.idle": "2025-01-28T19:39:47.266972Z",
     "shell.execute_reply": "2025-01-28T19:39:47.263939Z",
     "shell.execute_reply.started": "2025-01-28T19:39:47.249962Z"
    }
   },
   "outputs": [
    {
     "data": {
      "text/plain": [
       "(-1.9599639845400545, 1.959963984540054)"
      ]
     },
     "execution_count": 55,
     "metadata": {},
     "output_type": "execute_result"
    }
   ],
   "source": [
    "# Valores críticos\n",
    "vc_inferior = norm.ppf(alpha / 2)\n",
    "vc_superior = norm.ppf(1 - alpha / 2)\n",
    "vc_inferior, vc_superior"
   ]
  },
  {
   "cell_type": "markdown",
   "id": "0c2d9e0b-dd89-4556-a5da-62cc96bf0161",
   "metadata": {},
   "source": [
    "Región de Rechazo $= \\{ x | x  \t\\in (-\\infty, -1.9599639845400545] \\cup [1.959963984540054, \\infty)  \\} $"
   ]
  },
  {
   "cell_type": "markdown",
   "id": "ccf78411-b3ea-469e-984b-919cfea152f6",
   "metadata": {},
   "source": [
    "### 7. Cálculo del valor del estadístico de prueba"
   ]
  },
  {
   "cell_type": "code",
   "execution_count": 56,
   "id": "59a2e18e-9d7c-4b22-a9f4-47ae1b5a21a1",
   "metadata": {
    "execution": {
     "iopub.execute_input": "2025-01-28T19:39:47.271007Z",
     "iopub.status.busy": "2025-01-28T19:39:47.270292Z",
     "iopub.status.idle": "2025-01-28T19:39:47.283823Z",
     "shell.execute_reply": "2025-01-28T19:39:47.281955Z",
     "shell.execute_reply.started": "2025-01-28T19:39:47.270950Z"
    }
   },
   "outputs": [
    {
     "data": {
      "text/plain": [
       "(0.6900000000000001, 0.5915, 0.09850000000000003)"
      ]
     },
     "execution_count": 56,
     "metadata": {},
     "output_type": "execute_result"
    }
   ],
   "source": [
    "diff_mu_est = x_mean - y_mean\n",
    "x_mean, y_mean, diff_mu_est"
   ]
  },
  {
   "cell_type": "code",
   "execution_count": 57,
   "id": "4b1a4f58-ed8e-4bc2-ba5d-a73fd3cbac52",
   "metadata": {
    "execution": {
     "iopub.execute_input": "2025-01-28T19:39:47.287180Z",
     "iopub.status.busy": "2025-01-28T19:39:47.286460Z",
     "iopub.status.idle": "2025-01-28T19:39:47.300520Z",
     "shell.execute_reply": "2025-01-28T19:39:47.298921Z",
     "shell.execute_reply.started": "2025-01-28T19:39:47.287123Z"
    }
   },
   "outputs": [
    {
     "data": {
      "text/plain": [
       "2.753158697296617"
      ]
     },
     "execution_count": 57,
     "metadata": {},
     "output_type": "execute_result"
    }
   ],
   "source": [
    "z = (diff_mu_est - diff_mu0) / math.sqrt(sigma_x_2 / n + sigma_y_2 / m)\n",
    "z"
   ]
  },
  {
   "cell_type": "markdown",
   "id": "a9f1d9f1-cb19-415e-84d8-ce1f84a10156",
   "metadata": {},
   "source": [
    "### 8. Decisión  \n",
    "Debido a que el valor del estadístico de prueba $(z)$ del paso anterior se encuentra en la región de rechazo (6), por lo tanto la hipótesis nula es rechazada.\n",
    "### 9. Conclusión\n",
    "Después de realizar el estudio pertinente encontramos que la diferencia de la diferencia de la ganancia de peso media por animal con las raciones A y B quizá no son iguales\n",
    "### 10. P-valor"
   ]
  },
  {
   "cell_type": "code",
   "execution_count": 58,
   "id": "b314e20e-4177-4d9b-a864-81de3302eca8",
   "metadata": {
    "execution": {
     "iopub.execute_input": "2025-01-28T19:39:47.304084Z",
     "iopub.status.busy": "2025-01-28T19:39:47.303616Z",
     "iopub.status.idle": "2025-01-28T19:39:47.319368Z",
     "shell.execute_reply": "2025-01-28T19:39:47.316638Z",
     "shell.execute_reply.started": "2025-01-28T19:39:47.304044Z"
    }
   },
   "outputs": [
    {
     "data": {
      "text/plain": [
       "0.005902327728581689"
      ]
     },
     "execution_count": 58,
     "metadata": {},
     "output_type": "execute_result"
    }
   ],
   "source": [
    "p_value = (1 - norm.cdf(z)) + (norm.cdf(z * -1))\n",
    "p_value"
   ]
  },
  {
   "cell_type": "markdown",
   "id": "8fd6b90d-5e62-4924-81d2-69b4aeab96e5",
   "metadata": {
    "execution": {
     "iopub.execute_input": "2025-01-28T19:16:10.823390Z",
     "iopub.status.busy": "2025-01-28T19:16:10.820234Z",
     "iopub.status.idle": "2025-01-28T19:16:10.849386Z",
     "shell.execute_reply": "2025-01-28T19:16:10.836362Z",
     "shell.execute_reply.started": "2025-01-28T19:16:10.823296Z"
    }
   },
   "source": [
    "Como $p_{value} < \\alpha = 0.05$ (la muestra no es significativa) y como se rechazó la $H_0$ :)"
   ]
  },
  {
   "cell_type": "markdown",
   "id": "5d46ef12-dca2-4669-bf7e-5c8c5839a6a8",
   "metadata": {},
   "source": [
    "***\n",
    "## Ejercicio 5\n",
    "Una Cooperativa Agrícola debe decidir cuál de dos tipos de neumáticos (A y B) va a comprar para sus camiones. Los neumáticos se prueban bajo condiciones semejantes hasta que se desgastan. Se emplean 16 de cada marca. Si $\\bar{X}(A) = 26000$ km y $\\bar{X}(B) = 23500 $km y $S(A) = S(B) = 340$ km, ¿existen diferencias significativas entre las medias al nivel de significación del 5%?"
   ]
  },
  {
   "cell_type": "code",
   "execution_count": 59,
   "id": "2170a151-dbb7-4ee3-b26f-a2471d7e62a9",
   "metadata": {
    "execution": {
     "iopub.execute_input": "2025-01-28T19:39:47.322309Z",
     "iopub.status.busy": "2025-01-28T19:39:47.321853Z",
     "iopub.status.idle": "2025-01-28T19:39:47.331005Z",
     "shell.execute_reply": "2025-01-28T19:39:47.329372Z",
     "shell.execute_reply.started": "2025-01-28T19:39:47.322271Z"
    }
   },
   "outputs": [],
   "source": [
    "diff_mu0 = 0\n",
    "n = 16\n",
    "m = n\n",
    "sigma_x_2 = 340 ** 2\n",
    "sigma_y_2 = sigma_x_2\n",
    "x_mean =  26000 / n\n",
    "y_mean = 23500 / m\n",
    "alpha = 0.05"
   ]
  },
  {
   "cell_type": "markdown",
   "id": "ce0cc7b4-0f84-4963-b96e-39828bba8f43",
   "metadata": {},
   "source": [
    "### 1. Datos\n",
    "Los datos provienen de una m.a.s.i.i.d de los kms necesarios para desgastar neumáticos de dos tipos A y B donde nos interesa estudiar la diferencia del desgaste medio con un $\\alpha=0.05$\n",
    "### 2. Supuestos  \n",
    "Las muestras son independientes entre sí y siguen una distribución Normal, donde conocemos las varianzas.\n",
    "### 3. Hipótesis\n",
    "* Hipótesis de Investigación: La diferencia de desgaste medio en km de los neumáticos de los tipos A y B no son iguales\n",
    "* $H_a$: $\\mu_{A} \\neq \\mu_{B}$  \n",
    "* $H_0$: $\\mu_{A} = \\mu_{B}$  \n",
    "Planteamos que $H_0$ es verdadera y queremos demostrar que es falsa\n",
    "### 4. Estadístico de prueba\n",
    "$Z = \\frac{(\\bar{x} - \\bar{y}) - (\\mu_{x} - \\mu_{y})}{\\sqrt{\\frac{\\sigma_x^2}{n} + \\frac{\\sigma_y^2}{m}}}$\n",
    "### 5. Distribución del estadístico de prueba\n",
    "$Z$ es $N(0,1)$\n",
    "### 6. Región de rechazo\n",
    "Al ser bilateral\n",
    "* $V.C.I = Z_{\\frac{\\alpha}{2}}$\n",
    "* $V.C.S = Z_{1 - \\frac{\\alpha}{2}}$"
   ]
  },
  {
   "cell_type": "code",
   "execution_count": 60,
   "id": "43992913-f549-453c-88f2-66eaa0b40db3",
   "metadata": {
    "execution": {
     "iopub.execute_input": "2025-01-28T19:39:47.334511Z",
     "iopub.status.busy": "2025-01-28T19:39:47.333537Z",
     "iopub.status.idle": "2025-01-28T19:39:47.350332Z",
     "shell.execute_reply": "2025-01-28T19:39:47.348568Z",
     "shell.execute_reply.started": "2025-01-28T19:39:47.334425Z"
    }
   },
   "outputs": [
    {
     "data": {
      "text/plain": [
       "(-1.9599639845400545, 1.959963984540054)"
      ]
     },
     "execution_count": 60,
     "metadata": {},
     "output_type": "execute_result"
    }
   ],
   "source": [
    "# Valores críticos\n",
    "vc_inferior = norm.ppf(alpha / 2)\n",
    "vc_superior = norm.ppf(1 - alpha / 2)\n",
    "vc_inferior, vc_superior"
   ]
  },
  {
   "cell_type": "markdown",
   "id": "de016727-698f-465d-a05c-bd3e9003c8e3",
   "metadata": {},
   "source": [
    "Región de Rechazo $= \\{ x | x  \t\\in (-\\infty, -1.9599639845400545] \\cup [1.959963984540054, \\infty)  \\} $"
   ]
  },
  {
   "cell_type": "markdown",
   "id": "80e55fc9-d946-4c60-884e-457a0c672b4b",
   "metadata": {},
   "source": [
    "### 7. Cálculo del valor del estadístico de prueba"
   ]
  },
  {
   "cell_type": "code",
   "execution_count": 61,
   "id": "aba50a1c-c000-4b50-af87-e6623a0b6194",
   "metadata": {
    "execution": {
     "iopub.execute_input": "2025-01-28T19:39:47.353870Z",
     "iopub.status.busy": "2025-01-28T19:39:47.352691Z",
     "iopub.status.idle": "2025-01-28T19:39:47.371582Z",
     "shell.execute_reply": "2025-01-28T19:39:47.368708Z",
     "shell.execute_reply.started": "2025-01-28T19:39:47.353807Z"
    }
   },
   "outputs": [
    {
     "data": {
      "text/plain": [
       "(1625.0, 1468.75, 156.25)"
      ]
     },
     "execution_count": 61,
     "metadata": {},
     "output_type": "execute_result"
    }
   ],
   "source": [
    "diff_mu_est = x_mean - y_mean\n",
    "x_mean, y_mean, diff_mu_est"
   ]
  },
  {
   "cell_type": "code",
   "execution_count": 62,
   "id": "975a5e57-9495-4431-a440-fb106547c8c3",
   "metadata": {
    "execution": {
     "iopub.execute_input": "2025-01-28T19:39:47.374875Z",
     "iopub.status.busy": "2025-01-28T19:39:47.374286Z",
     "iopub.status.idle": "2025-01-28T19:39:47.389548Z",
     "shell.execute_reply": "2025-01-28T19:39:47.387112Z",
     "shell.execute_reply.started": "2025-01-28T19:39:47.374835Z"
    }
   },
   "outputs": [
    {
     "data": {
      "text/plain": [
       "1.299828641887036"
      ]
     },
     "execution_count": 62,
     "metadata": {},
     "output_type": "execute_result"
    }
   ],
   "source": [
    "z = (diff_mu_est - diff_mu0) / math.sqrt(sigma_x_2 / n + sigma_y_2 / m)\n",
    "z"
   ]
  },
  {
   "cell_type": "markdown",
   "id": "8fbd7744-4d6f-458e-92cc-364bf0ccde26",
   "metadata": {},
   "source": [
    "### 8. Decisión  \n",
    "Debido a que el valor del estadístico de prueba $(z)$ del paso anterior no se encuentra en la región de rechazo (6), por lo tanto la hipótesis nula no es rechazada.\n",
    "### 9. Conclusión\n",
    "Después de realizar el estudio pertinente encontramos que la diferencia de la diferencia de la diferencia de desgaste medio en km de los neumáticos de los tipos A y B quizá son iguales\n",
    "### 10. P-valor"
   ]
  },
  {
   "cell_type": "code",
   "execution_count": 63,
   "id": "e4799e8d-2ae8-47ad-aaf0-f5345ec4c388",
   "metadata": {
    "execution": {
     "iopub.execute_input": "2025-01-28T19:39:47.391845Z",
     "iopub.status.busy": "2025-01-28T19:39:47.391367Z",
     "iopub.status.idle": "2025-01-28T19:39:47.405189Z",
     "shell.execute_reply": "2025-01-28T19:39:47.403262Z",
     "shell.execute_reply.started": "2025-01-28T19:39:47.391803Z"
    }
   },
   "outputs": [
    {
     "data": {
      "text/plain": [
       "0.19365970651012732"
      ]
     },
     "execution_count": 63,
     "metadata": {},
     "output_type": "execute_result"
    }
   ],
   "source": [
    "p_value = (1 - norm.cdf(z)) + (norm.cdf(z * -1))\n",
    "p_value"
   ]
  },
  {
   "cell_type": "markdown",
   "id": "c905ca72-72d3-4014-835b-b6118a8fe3c9",
   "metadata": {
    "execution": {
     "iopub.execute_input": "2025-01-28T19:31:04.910551Z",
     "iopub.status.busy": "2025-01-28T19:31:04.910167Z",
     "iopub.status.idle": "2025-01-28T19:31:04.924916Z",
     "shell.execute_reply": "2025-01-28T19:31:04.922107Z",
     "shell.execute_reply.started": "2025-01-28T19:31:04.910521Z"
    }
   },
   "source": [
    "Como $p_{value} > \\alpha = 0.05$ (la muestra es significativa) y como no se rechazó la $H_0$ :)"
   ]
  }
 ],
 "metadata": {
  "kernelspec": {
   "display_name": "Python 3 (ipykernel)",
   "language": "python",
   "name": "python3"
  },
  "language_info": {
   "codemirror_mode": {
    "name": "ipython",
    "version": 3
   },
   "file_extension": ".py",
   "mimetype": "text/x-python",
   "name": "python",
   "nbconvert_exporter": "python",
   "pygments_lexer": "ipython3",
   "version": "3.10.12"
  }
 },
 "nbformat": 4,
 "nbformat_minor": 5
}
