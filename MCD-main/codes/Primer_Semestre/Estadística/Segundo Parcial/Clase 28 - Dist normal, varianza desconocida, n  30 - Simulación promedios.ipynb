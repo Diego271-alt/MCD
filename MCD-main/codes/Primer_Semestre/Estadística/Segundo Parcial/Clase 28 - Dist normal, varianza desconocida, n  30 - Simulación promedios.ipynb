{
 "cells": [
  {
   "cell_type": "code",
   "execution_count": 24,
   "id": "2bdac121-5392-47fd-9391-b665e8a7d858",
   "metadata": {
    "execution": {
     "iopub.execute_input": "2025-01-05T19:32:49.657828Z",
     "iopub.status.busy": "2025-01-05T19:32:49.655969Z",
     "iopub.status.idle": "2025-01-05T19:32:50.292189Z",
     "shell.execute_reply": "2025-01-05T19:32:50.291136Z",
     "shell.execute_reply.started": "2025-01-05T19:32:49.657741Z"
    }
   },
   "outputs": [],
   "source": [
    "import math\n",
    "import numpy as np\n",
    "import pandas as pd\n",
    "from scipy.stats import norm"
   ]
  },
  {
   "cell_type": "code",
   "execution_count": 7,
   "id": "e0228fe1-50be-481b-9165-e65d1b15b0be",
   "metadata": {
    "execution": {
     "iopub.execute_input": "2025-01-05T19:25:20.754315Z",
     "iopub.status.busy": "2025-01-05T19:25:20.754068Z",
     "iopub.status.idle": "2025-01-05T19:25:21.172749Z",
     "shell.execute_reply": "2025-01-05T19:25:21.168768Z",
     "shell.execute_reply.started": "2025-01-05T19:25:20.754297Z"
    }
   },
   "outputs": [],
   "source": [
    "llamadas_hora = pd.DataFrame({\n",
    "    'PJA': {\n",
    "        0: 10.0,\n",
    "        1: 13.0,\n",
    "        2: 10.0,\n",
    "        3: 9.0,\n",
    "        4: 8.0,\n",
    "        5: 9.0,\n",
    "        6: 7.0,\n",
    "        7: 10.0,\n",
    "        8: 17.0,\n",
    "        9: 13.0,\n",
    "        10: 9.0,\n",
    "        11: 8.0,\n",
    "        12: 6.0,\n",
    "        13: 9.0,\n",
    "        14: 11.0,\n",
    "        15: 8.0,\n",
    "        16: 8.0,\n",
    "        17: 12.0,\n",
    "        18: 8.0,\n",
    "        19: 12.0,\n",
    "        20: 6.0,\n",
    "        21: 7.0,\n",
    "        22: 12.0,\n",
    "        23: 9.0,\n",
    "        24: 9.0,\n",
    "        25: 12.0,\n",
    "        26: 5.0,\n",
    "        27: 7.0,\n",
    "        28: 12.0,\n",
    "        29: 7.0,\n",
    "        30: 7.0,\n",
    "        31: 15.0,\n",
    "        32: 11.0,\n",
    "        33: 11.0,\n",
    "        34: 7.0,\n",
    "        35: 8.0,\n",
    "        36: 7.0,\n",
    "        37: 9.0,\n",
    "        38: 8.0,\n",
    "        39: 10.0,\n",
    "        40: 6.0,\n",
    "        41: 10.0,\n",
    "        42: 13.0,\n",
    "        43: 4.0,\n",
    "        44: 12.0,\n",
    "        45: 15.0,\n",
    "        46: 8.0,\n",
    "        47: 11.0,\n",
    "        48: 5.0,\n",
    "        49: 8.0,\n",
    "        50: np.nan,\n",
    "        51: np.nan,\n",
    "        52: np.nan,\n",
    "        53: np.nan\n",
    "    },\n",
    "    'PJB': {\n",
    "        0: 6,\n",
    "        1: 6,\n",
    "        2: 8,\n",
    "        3: 5,\n",
    "        4: 5,\n",
    "        5: 7,\n",
    "        6: 7,\n",
    "        7: 11,\n",
    "        8: 11,\n",
    "        9: 6,\n",
    "        10: 4,\n",
    "        11: 6,\n",
    "        12: 11,\n",
    "        13: 2,\n",
    "        14: 3,\n",
    "        15: 5,\n",
    "        16: 6,\n",
    "        17: 5,\n",
    "        18: 5,\n",
    "        19: 3,\n",
    "        20: 6,\n",
    "        21: 4,\n",
    "        22: 10,\n",
    "        23: 7,\n",
    "        24: 6,\n",
    "        25: 10,\n",
    "        26: 5,\n",
    "        27: 5,\n",
    "        28: 7,\n",
    "        29: 11,\n",
    "        30: 3,\n",
    "        31: 8,\n",
    "        32: 6,\n",
    "        33: 6,\n",
    "        34: 6,\n",
    "        35: 6,\n",
    "        36: 9,\n",
    "        37: 9,\n",
    "        38: 3,\n",
    "        39: 7,\n",
    "        40: 5,\n",
    "        41: 5,\n",
    "        42: 1,\n",
    "        43: 4,\n",
    "        44: 11,\n",
    "        45: 5,\n",
    "        46: 5,\n",
    "        47: 3,\n",
    "        48: 8,\n",
    "        49: 3,\n",
    "        50: 3,\n",
    "        51: 3,\n",
    "        52: 5,\n",
    "        53: 5\n",
    "    }\n",
    "})"
   ]
  },
  {
   "cell_type": "code",
   "execution_count": 8,
   "id": "98829750-560d-429d-b01a-6a9859956940",
   "metadata": {
    "execution": {
     "iopub.execute_input": "2025-01-05T19:26:56.870999Z",
     "iopub.status.busy": "2025-01-05T19:26:56.868992Z",
     "iopub.status.idle": "2025-01-05T19:26:56.977451Z",
     "shell.execute_reply": "2025-01-05T19:26:56.974737Z",
     "shell.execute_reply.started": "2025-01-05T19:26:56.870900Z"
    }
   },
   "outputs": [
    {
     "data": {
      "text/html": [
       "<div>\n",
       "<style scoped>\n",
       "    .dataframe tbody tr th:only-of-type {\n",
       "        vertical-align: middle;\n",
       "    }\n",
       "\n",
       "    .dataframe tbody tr th {\n",
       "        vertical-align: top;\n",
       "    }\n",
       "\n",
       "    .dataframe thead th {\n",
       "        text-align: right;\n",
       "    }\n",
       "</style>\n",
       "<table border=\"1\" class=\"dataframe\">\n",
       "  <thead>\n",
       "    <tr style=\"text-align: right;\">\n",
       "      <th></th>\n",
       "      <th>PJA</th>\n",
       "      <th>PJB</th>\n",
       "    </tr>\n",
       "  </thead>\n",
       "  <tbody>\n",
       "    <tr>\n",
       "      <th>count</th>\n",
       "      <td>50.000000</td>\n",
       "      <td>54.000000</td>\n",
       "    </tr>\n",
       "    <tr>\n",
       "      <th>mean</th>\n",
       "      <td>9.360000</td>\n",
       "      <td>5.962963</td>\n",
       "    </tr>\n",
       "    <tr>\n",
       "      <th>std</th>\n",
       "      <td>2.760952</td>\n",
       "      <td>2.494998</td>\n",
       "    </tr>\n",
       "    <tr>\n",
       "      <th>min</th>\n",
       "      <td>4.000000</td>\n",
       "      <td>1.000000</td>\n",
       "    </tr>\n",
       "    <tr>\n",
       "      <th>25%</th>\n",
       "      <td>7.250000</td>\n",
       "      <td>5.000000</td>\n",
       "    </tr>\n",
       "    <tr>\n",
       "      <th>50%</th>\n",
       "      <td>9.000000</td>\n",
       "      <td>6.000000</td>\n",
       "    </tr>\n",
       "    <tr>\n",
       "      <th>75%</th>\n",
       "      <td>11.000000</td>\n",
       "      <td>7.000000</td>\n",
       "    </tr>\n",
       "    <tr>\n",
       "      <th>max</th>\n",
       "      <td>17.000000</td>\n",
       "      <td>11.000000</td>\n",
       "    </tr>\n",
       "  </tbody>\n",
       "</table>\n",
       "</div>"
      ],
      "text/plain": [
       "             PJA        PJB\n",
       "count  50.000000  54.000000\n",
       "mean    9.360000   5.962963\n",
       "std     2.760952   2.494998\n",
       "min     4.000000   1.000000\n",
       "25%     7.250000   5.000000\n",
       "50%     9.000000   6.000000\n",
       "75%    11.000000   7.000000\n",
       "max    17.000000  11.000000"
      ]
     },
     "execution_count": 8,
     "metadata": {},
     "output_type": "execute_result"
    }
   ],
   "source": [
    "llamadas_hora.describe()"
   ]
  },
  {
   "cell_type": "code",
   "execution_count": 14,
   "id": "bba1f899-ab3f-4c4f-a720-b9042aa25d77",
   "metadata": {
    "execution": {
     "iopub.execute_input": "2025-01-05T19:28:46.894216Z",
     "iopub.status.busy": "2025-01-05T19:28:46.893251Z",
     "iopub.status.idle": "2025-01-05T19:28:46.983928Z",
     "shell.execute_reply": "2025-01-05T19:28:46.981201Z",
     "shell.execute_reply.started": "2025-01-05T19:28:46.894151Z"
    }
   },
   "outputs": [],
   "source": [
    "llamadas_hora_sec_a = llamadas_hora[\"PJA\"][llamadas_hora[\"PJA\"].notnull()]\n",
    "llamadas_hora_sec_b = llamadas_hora[\"PJB\"][llamadas_hora[\"PJB\"].notnull()]"
   ]
  },
  {
   "cell_type": "code",
   "execution_count": 15,
   "id": "8f839f3a-76e7-462b-adf3-5b12409365e1",
   "metadata": {
    "execution": {
     "iopub.execute_input": "2025-01-05T19:28:47.469079Z",
     "iopub.status.busy": "2025-01-05T19:28:47.468352Z",
     "iopub.status.idle": "2025-01-05T19:28:47.842361Z",
     "shell.execute_reply": "2025-01-05T19:28:47.840742Z",
     "shell.execute_reply.started": "2025-01-05T19:28:47.469027Z"
    }
   },
   "outputs": [],
   "source": [
    "size_sec_a = len(llamadas_hora_sec_a)\n",
    "size_sec_b = len(llamadas_hora_sec_b)"
   ]
  },
  {
   "cell_type": "code",
   "execution_count": 16,
   "id": "b882172a-e03c-4dc8-b4bb-d66103891d2b",
   "metadata": {
    "execution": {
     "iopub.execute_input": "2025-01-05T19:28:49.642002Z",
     "iopub.status.busy": "2025-01-05T19:28:49.640036Z",
     "iopub.status.idle": "2025-01-05T19:28:49.852806Z",
     "shell.execute_reply": "2025-01-05T19:28:49.851542Z",
     "shell.execute_reply.started": "2025-01-05T19:28:49.641919Z"
    }
   },
   "outputs": [],
   "source": [
    "mu_sec_a = llamadas_hora_sec_a.mean()\n",
    "mu_sec_b = llamadas_hora_sec_b.mean()"
   ]
  },
  {
   "cell_type": "code",
   "execution_count": 23,
   "id": "7b3a31e2-8af5-4cb9-8476-bad577d3ba5f",
   "metadata": {
    "execution": {
     "iopub.execute_input": "2025-01-05T19:30:08.253083Z",
     "iopub.status.busy": "2025-01-05T19:30:08.250821Z",
     "iopub.status.idle": "2025-01-05T19:30:08.477616Z",
     "shell.execute_reply": "2025-01-05T19:30:08.474247Z",
     "shell.execute_reply.started": "2025-01-05T19:30:08.252835Z"
    }
   },
   "outputs": [],
   "source": [
    "# Por TCL\n",
    "std_sec_a = llamadas_hora_sec_a.std() / math.sqrt(size_sec_a)\n",
    "std_sec_b = llamadas_hora_sec_b.std() / math.sqrt(size_sec_b)"
   ]
  },
  {
   "attachments": {},
   "cell_type": "markdown",
   "id": "a5afbc20-5d31-4e83-b97e-85eaf708d215",
   "metadata": {},
   "source": [
    "¿Cuál es la probabilidad de que en una hora determinada la secretaria A reciba más de 10 llamadas?"
   ]
  },
  {
   "cell_type": "code",
   "execution_count": 26,
   "id": "52d03a00-5d43-4931-8dbd-73d6093858ee",
   "metadata": {
    "execution": {
     "iopub.execute_input": "2025-01-05T19:33:23.132402Z",
     "iopub.status.busy": "2025-01-05T19:33:23.131347Z",
     "iopub.status.idle": "2025-01-05T19:33:23.404601Z",
     "shell.execute_reply": "2025-01-05T19:33:23.398861Z",
     "shell.execute_reply.started": "2025-01-05T19:33:23.132284Z"
    }
   },
   "outputs": [
    {
     "data": {
      "text/plain": [
       "0.05059596784886233"
      ]
     },
     "execution_count": 26,
     "metadata": {},
     "output_type": "execute_result"
    }
   ],
   "source": [
    "# P(A > 10) = 1 - P(A <= 10)\n",
    "1 - norm.cdf(10, mu_sec_a, std_sec_a)"
   ]
  },
  {
   "attachments": {},
   "cell_type": "markdown",
   "id": "c9b749a5-99ea-4c38-8e6c-e0b902bdf595",
   "metadata": {},
   "source": [
    "¿Cuál es la probabilidad de que en una hora derterminada la secretaria B reciba más de 10 llamadas?"
   ]
  },
  {
   "cell_type": "code",
   "execution_count": 27,
   "id": "975ea237-265d-4005-8928-dbcf119d0cf8",
   "metadata": {
    "execution": {
     "iopub.execute_input": "2025-01-05T19:33:54.079828Z",
     "iopub.status.busy": "2025-01-05T19:33:54.077911Z",
     "iopub.status.idle": "2025-01-05T19:33:54.149808Z",
     "shell.execute_reply": "2025-01-05T19:33:54.148285Z",
     "shell.execute_reply.started": "2025-01-05T19:33:54.079795Z"
    }
   },
   "outputs": [
    {
     "data": {
      "text/plain": [
       "0.0"
      ]
     },
     "execution_count": 27,
     "metadata": {},
     "output_type": "execute_result"
    }
   ],
   "source": [
    "# P(B > 10) = 1 - P(B <= 10)\n",
    "1 - norm.cdf(10, mu_sec_b, std_sec_b)"
   ]
  },
  {
   "attachments": {},
   "cell_type": "markdown",
   "id": "20c4d0b8-4841-4803-afe8-0dd8169ba4a2",
   "metadata": {},
   "source": [
    "¿Será cierto que la secretaria A recibe más llamadas que la secretaria B, en promedio?"
   ]
  },
  {
   "cell_type": "code",
   "execution_count": 28,
   "id": "dd047702-f960-44eb-8d96-0ead733ec15b",
   "metadata": {
    "execution": {
     "iopub.execute_input": "2025-01-05T19:39:55.317429Z",
     "iopub.status.busy": "2025-01-05T19:39:55.316440Z",
     "iopub.status.idle": "2025-01-05T19:39:55.409180Z",
     "shell.execute_reply": "2025-01-05T19:39:55.406259Z",
     "shell.execute_reply.started": "2025-01-05T19:39:55.317364Z"
    }
   },
   "outputs": [
    {
     "data": {
      "text/plain": [
       "1.0"
      ]
     },
     "execution_count": 28,
     "metadata": {},
     "output_type": "execute_result"
    }
   ],
   "source": [
    "#P(A > B) = P(A - B > 0) = 1 - P(A - B <= 0)\n",
    "1 - norm.cdf(0, mu_sec_a - mu_sec_b, math.sqrt(std_sec_b ** 2 / size_sec_b + std_sec_a ** 2 / size_sec_a))"
   ]
  }
 ],
 "metadata": {
  "kernelspec": {
   "display_name": "Python 3 (ipykernel)",
   "language": "python",
   "name": "python3"
  },
  "language_info": {
   "codemirror_mode": {
    "name": "ipython",
    "version": 3
   },
   "file_extension": ".py",
   "mimetype": "text/x-python",
   "name": "python",
   "nbconvert_exporter": "python",
   "pygments_lexer": "ipython3",
   "version": "3.10.12"
  }
 },
 "nbformat": 4,
 "nbformat_minor": 5
}
