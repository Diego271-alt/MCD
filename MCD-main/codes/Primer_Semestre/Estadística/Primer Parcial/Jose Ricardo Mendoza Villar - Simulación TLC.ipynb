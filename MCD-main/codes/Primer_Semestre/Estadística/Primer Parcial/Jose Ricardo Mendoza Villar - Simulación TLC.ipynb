{
 "cells": [
  {
   "cell_type": "code",
   "execution_count": null,
   "id": "96dc08e8-2381-4387-bdfb-e4930d4dda9a",
   "metadata": {},
   "outputs": [],
   "source": [
    "import random\n",
    "import numpy as np\n",
    "import pandas as pd\n",
    "import seaborn as sns\n",
    "import matplotlib.pyplot as plt"
   ]
  },
  {
   "cell_type": "code",
   "execution_count": null,
   "id": "df52792d-72c9-483e-b361-74b1cc7883a4",
   "metadata": {},
   "outputs": [],
   "source": [
    "np.random.seed(20241129)"
   ]
  },
  {
   "cell_type": "code",
   "execution_count": null,
   "id": "ea811048-3c95-40e1-9786-261488d35a97",
   "metadata": {},
   "outputs": [],
   "source": [
    "data = pd.DataFrame(np.array([np.random.binomial(20, 0.16, size=20) for i in range(50)]).T)\n",
    "data.columns = [f\"X_{i}\" for i in range(1,51)]"
   ]
  },
  {
   "cell_type": "code",
   "execution_count": null,
   "id": "bf3abcb8-9998-4560-9710-7fe1c42be546",
   "metadata": {},
   "outputs": [],
   "source": [
    "select_cols = [[f\"X_{i}\" for i in random.sample(range(1,51),number)] for number in range(5,51,5)]"
   ]
  },
  {
   "cell_type": "code",
   "execution_count": null,
   "id": "4820ac50-0084-4859-b71b-83986b45511d",
   "metadata": {},
   "outputs": [],
   "source": [
    "data"
   ]
  },
  {
   "cell_type": "code",
   "execution_count": null,
   "id": "8754f822-c383-46ab-a3b0-bcdc6163d887",
   "metadata": {
    "scrolled": true
   },
   "outputs": [],
   "source": [
    "fig, axs = plt.subplots(nrows=2, ncols=5, figsize=(20,6))\n",
    "for index, columns in enumerate(select_cols):\n",
    "    ax = axs.flat[index]\n",
    "    sns.histplot(data[columns].mean(axis=0), kde=True, ax=ax)\n",
    "    ax.set_title(f'{len(columns)} variables aletorias')\n",
    "\n",
    "plt.tight_layout()\n",
    "plt.show()"
   ]
  },
  {
   "cell_type": "code",
   "execution_count": null,
   "id": "58433aae-e150-4d96-9dd4-b42252e26978",
   "metadata": {},
   "outputs": [],
   "source": [
    "for idx, columns in enumerate(select_cols):\n",
    "    print(f\"{(idx+1)*5}:\" + str(columns))\n",
    "    print()"
   ]
  },
  {
   "cell_type": "code",
   "execution_count": null,
   "id": "b651fb16-2002-4d3e-b8f6-1ecbd8194781",
   "metadata": {},
   "outputs": [],
   "source": []
  }
 ],
 "metadata": {
  "kernelspec": {
   "display_name": "Python 3 (ipykernel)",
   "language": "python",
   "name": "python3"
  },
  "language_info": {
   "codemirror_mode": {
    "name": "ipython",
    "version": 3
   },
   "file_extension": ".py",
   "mimetype": "text/x-python",
   "name": "python",
   "nbconvert_exporter": "python",
   "pygments_lexer": "ipython3",
   "version": "3.10.12"
  }
 },
 "nbformat": 4,
 "nbformat_minor": 5
}
