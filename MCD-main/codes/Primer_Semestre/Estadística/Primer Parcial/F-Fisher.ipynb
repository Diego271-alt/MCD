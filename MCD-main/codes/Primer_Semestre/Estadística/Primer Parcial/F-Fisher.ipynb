{
 "cells": [
  {
   "cell_type": "code",
   "execution_count": null,
   "id": "6f10beb0-156b-4a18-ab22-1aced915285a",
   "metadata": {},
   "outputs": [],
   "source": [
    "import numpy as np"
   ]
  },
  {
   "cell_type": "code",
   "execution_count": null,
   "id": "5553392e-f349-4398-a656-c0cdb70dd095",
   "metadata": {},
   "outputs": [],
   "source": [
    "A = np.array([4.44, 4.77, 6.56, 5.07, 5.13, 6.72, 5.46, 3.73, 4.31, 4.55])\n",
    "B = np.array([6.22, 5.36, 5.40, 5.11, 4.44, 6.79, 5.50, 3.03, 5.70, 4.53])\n",
    "C = np.array([3.93, 4.78, 3.97, 4.27, 4.37, 3.31, 5.84, 5.15, 3.86, 6.25])"
   ]
  },
  {
   "cell_type": "code",
   "execution_count": null,
   "id": "015a5bdd-fb87-4565-a5ed-4bde80460013",
   "metadata": {},
   "outputs": [],
   "source": [
    "A.mean()"
   ]
  },
  {
   "cell_type": "code",
   "execution_count": null,
   "id": "94b7b02c-32a4-4970-8f4e-2c0c1d600a82",
   "metadata": {},
   "outputs": [],
   "source": [
    "B.mean()"
   ]
  },
  {
   "cell_type": "code",
   "execution_count": null,
   "id": "6050bad5-d3fc-42c0-b2df-ab070eeecd19",
   "metadata": {},
   "outputs": [],
   "source": [
    "C.mean()"
   ]
  },
  {
   "cell_type": "code",
   "execution_count": null,
   "id": "3b26db26-ffb4-417d-a522-61554773f087",
   "metadata": {},
   "outputs": [],
   "source": [
    "import pandas as pd\n",
    "import matplotlib.pyplot as plt"
   ]
  },
  {
   "cell_type": "code",
   "execution_count": null,
   "id": "401057ad-0c6b-4e86-b574-b8473cfebca9",
   "metadata": {},
   "outputs": [],
   "source": [
    "df = pd.DataFrame({\n",
    "    \"Juan\": A,\n",
    "    \"Pedro\": B,\n",
    "    \"Toño\": C\n",
    "})"
   ]
  },
  {
   "cell_type": "code",
   "execution_count": null,
   "id": "f48226c1-3b78-472b-ad5b-6921bb5d912e",
   "metadata": {},
   "outputs": [],
   "source": [
    "fig = plt.figure(figsize =(4, 3))\n",
    "plt.title(\"Tiempos promedio de los trabajadores\")\n",
    "plt.boxplot(df)\n",
    "plt.xticks([*range(1,len(df.columns)+1)],[*df.columns])\n",
    "plt.show()"
   ]
  },
  {
   "cell_type": "code",
   "execution_count": null,
   "id": "cca71034-3bab-4c5e-91fa-7a36ab838ad1",
   "metadata": {},
   "outputs": [],
   "source": [
    "A = np.array([5.01, 5.04, 5.22, 5.07, 5.08, 5.24, 5.11, 4.94, 5.00, 5.02])\n",
    "B = np.array([5.18, 5.09, 5.09, 5.06, 5.00, 5.23, 5.10, 4.86, 5.12, 5.01])\n",
    "C = np.array([4.51, 4.59, 4.51, 4.54, 4.55, 4.45, 4.70, 4.63, 4.50, 4.74])"
   ]
  },
  {
   "cell_type": "code",
   "execution_count": null,
   "id": "dd89c118-a275-452c-9fa7-1bde7e0ffc0e",
   "metadata": {},
   "outputs": [],
   "source": [
    "A.mean(), B.mean(), C.mean()"
   ]
  },
  {
   "cell_type": "code",
   "execution_count": null,
   "id": "29b6a72a-3c1e-4f4c-bc87-83c742f50034",
   "metadata": {},
   "outputs": [],
   "source": [
    "df2 = pd.DataFrame({\n",
    "    \"Trabajador\": [1] * 10 + [2] * 10 + [3] * 10,\n",
    "    \"Eficiencia\": np.concatenate((A,B,C))\n",
    "})"
   ]
  },
  {
   "cell_type": "code",
   "execution_count": null,
   "id": "96bbcc1c-c1c7-4f72-be7d-90418cf38e47",
   "metadata": {},
   "outputs": [],
   "source": [
    "# Test ANOVA de un factor\n",
    "pg.welch_anova(\n",
    "    data     = df2,\n",
    "    dv       = 'Trabajador',\n",
    "    between  = \"Eficiencia\"\n",
    ")"
   ]
  },
  {
   "cell_type": "code",
   "execution_count": null,
   "id": "f49d8479-5ace-4d4f-8c9e-69713dfdcd3d",
   "metadata": {},
   "outputs": [],
   "source": [
    "np.random.seed(123)"
   ]
  },
  {
   "cell_type": "code",
   "execution_count": null,
   "id": "b8f05dfc-00de-4169-aca2-1376caa9d3a9",
   "metadata": {},
   "outputs": [],
   "source": [
    "y1 = np.random.normal(5,1,100)\n",
    "y2 = np.random.normal(5,1,100)\n",
    "y3 = np.random.normal(5,1,100)"
   ]
  },
  {
   "cell_type": "code",
   "execution_count": null,
   "id": "85c86d3f-6393-4972-aca2-800f42cb4fa9",
   "metadata": {},
   "outputs": [],
   "source": [
    "data = pd.DataFrame({\n",
    "    \"Horario\": np.hstack([\"Mañana\"]*100 + [\"Tarde\"]*100 + [\"Noche\"]*100),\n",
    "    \"Tiempos\": np.concatenate((y1,y2,y3))\n",
    "})"
   ]
  },
  {
   "cell_type": "code",
   "execution_count": null,
   "id": "bb623483-296d-4348-a7e2-821508609a96",
   "metadata": {},
   "outputs": [],
   "source": [
    "import seaborn as sns\n",
    "from pypalettes import get_hex"
   ]
  },
  {
   "cell_type": "code",
   "execution_count": null,
   "id": "57090481-2568-40f3-8eee-e855d911a13a",
   "metadata": {},
   "outputs": [],
   "source": [
    "fig, ax = plt.subplots(1, 1, figsize=(8, 4))\n",
    "pallete = {name: color for name, color in zip([*data[\"Horario\"].drop_duplicates()],get_hex(\"Acadia\"))}\n",
    "sns.boxplot(x=\"Horario\", y=\"Tiempos\", data=data, ax=ax, palette=pallete)\n",
    "sns.swarmplot(x=\"Horario\", y=\"Tiempos\", data=data, color='black', alpha = 0.5, ax=ax)\n",
    "plt.show()"
   ]
  },
  {
   "cell_type": "code",
   "execution_count": null,
   "id": "11c9b65b-c65a-4b8e-af75-8146a97cf3a8",
   "metadata": {},
   "outputs": [],
   "source": [
    "import pandas as pd\n",
    "import numpy as np\n",
    "import matplotlib.pyplot as plt\n",
    "import seaborn as sns\n",
    "import pingouin as pg"
   ]
  },
  {
   "cell_type": "code",
   "execution_count": null,
   "id": "5bb5bb83-804b-4e6e-95e5-a4e68a0da1da",
   "metadata": {},
   "outputs": [],
   "source": [
    "resistencia = [15.29, 15.89, 16.02, 16.56, 15.46, 16.91, 16.99, 17.27, 16.85, 16.35, 17.23, 17.81, 17.74, 18.02, 18.37,\n",
    "               12.07, 12.42, 12.73, 13.02, 12.05, 12.92, 13.01, 12.21, 13.49, 14.01, 13.30, 12.82, 12.49, 13.55, 14.53]\n",
    "\n",
    "datos = pd.DataFrame({\n",
    "    'templado': [\"rapido\"] * 15 + [\"lento\"] * 15,\n",
    "    'grosor': ([8] * 5 + [16] * 5 + [24] * 5) * 2,\n",
    "    'resistencia': resistencia\n",
    "})\n",
    "\n",
    "datos.head()"
   ]
  },
  {
   "cell_type": "code",
   "execution_count": null,
   "id": "60f59a0c-00e6-47ef-bed4-89308d3618ed",
   "metadata": {},
   "outputs": [],
   "source": [
    "fig, axs = plt.subplots(1, 2, figsize=(10, 4))\n",
    "axs[0].set_title('Resistencia vs templado')\n",
    "sns.boxplot(x=\"templado\", y=\"resistencia\", data=datos, ax=axs[0])\n",
    "sns.swarmplot(x=\"templado\", y=\"resistencia\", data=datos, color='black',\n",
    "              alpha = 0.5, ax=axs[0])\n",
    "\n",
    "axs[1].set_title('Resistencia vs grosor')\n",
    "sns.boxplot(x=\"grosor\", y=\"resistencia\", data=datos, ax=axs[1])\n",
    "sns.swarmplot(x=\"grosor\", y=\"resistencia\", data=datos, color='black',\n",
    "              alpha = 0.5, ax=axs[1]);"
   ]
  },
  {
   "cell_type": "code",
   "execution_count": null,
   "id": "07a1c888-7668-491a-b3e6-14c433e26590",
   "metadata": {},
   "outputs": [],
   "source": [
    "fig, ax = plt.subplots(1, 1, figsize=(8, 4))\n",
    "ax.set_title('Resistencia vs templado y grosor')\n",
    "sns.boxplot(x=\"templado\", y=\"resistencia\", hue='grosor', data=datos, ax=ax)\n",
    "plt.show()"
   ]
  },
  {
   "cell_type": "code",
   "execution_count": null,
   "id": "bf4ae4b3-25eb-4e4b-ac4c-6f69275a0c2b",
   "metadata": {},
   "outputs": [],
   "source": [
    "print('Resistencia media y desviación típica por templado')\n",
    "datos.groupby('templado')['resistencia'].agg(['mean', 'std'])"
   ]
  },
  {
   "cell_type": "code",
   "execution_count": null,
   "id": "b6949482-d21b-4d51-bbce-26fe9cb40765",
   "metadata": {},
   "outputs": [],
   "source": [
    "print('Resistencia media y desviación típica por grosor')\n",
    "datos.groupby('grosor')['resistencia'].agg(['mean', 'std'])"
   ]
  },
  {
   "cell_type": "code",
   "execution_count": null,
   "id": "3316856f-f83e-4b93-aeb7-6d7f0326e545",
   "metadata": {},
   "outputs": [],
   "source": [
    "print('Resistencia media y desviación típica por templado y grosor')\n",
    "datos.groupby(['templado', 'grosor'])['resistencia'].agg(['mean', 'std'])"
   ]
  },
  {
   "cell_type": "code",
   "execution_count": null,
   "id": "c1b8aebc-af64-4afe-94ec-bf35ac659f6e",
   "metadata": {},
   "outputs": [],
   "source": [
    "from statsmodels.graphics.factorplots import interaction_plot"
   ]
  },
  {
   "cell_type": "code",
   "execution_count": null,
   "id": "ced145e3-cf21-45e8-ad03-f248fd93bfb9",
   "metadata": {},
   "outputs": [],
   "source": [
    "fig, ax = plt.subplots(figsize=(6, 4))\n",
    "fig = interaction_plot(\n",
    "    x        = datos.templado,\n",
    "    trace    = datos.grosor,\n",
    "    response = datos.resistencia,\n",
    "    ax       = ax,\n",
    ")"
   ]
  },
  {
   "cell_type": "code",
   "execution_count": null,
   "id": "2b0838cf-aa5f-4e0e-a53a-54d0d22dda2b",
   "metadata": {},
   "outputs": [],
   "source": [
    "fig, ax = plt.subplots(figsize=(6, 4))\n",
    "fig = interaction_plot(\n",
    "    x        = datos.grosor,\n",
    "    trace    = datos.templado,\n",
    "    response = datos.resistencia,\n",
    "    ax       = ax,\n",
    ")"
   ]
  },
  {
   "cell_type": "code",
   "execution_count": null,
   "id": "0ad6640c-fb06-4f05-8b38-ab0ea36cb653",
   "metadata": {},
   "outputs": [],
   "source": [
    "# Test ANOVA de dos vías (Two-way ANOVA)\n",
    "# ==============================================================================\n",
    "pg.anova(\n",
    "    data     = datos,\n",
    "    dv       = 'resistencia',\n",
    "    between  = ['templado', 'grosor'],\n",
    "    detailed = True\n",
    ").round(4)"
   ]
  }
 ],
 "metadata": {
  "kernelspec": {
   "display_name": "Python 3 (ipykernel)",
   "language": "python",
   "name": "python3"
  },
  "language_info": {
   "codemirror_mode": {
    "name": "ipython",
    "version": 3
   },
   "file_extension": ".py",
   "mimetype": "text/x-python",
   "name": "python",
   "nbconvert_exporter": "python",
   "pygments_lexer": "ipython3",
   "version": "3.10.12"
  }
 },
 "nbformat": 4,
 "nbformat_minor": 5
}
