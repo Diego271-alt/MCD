{
 "cells": [
  {
   "cell_type": "code",
   "execution_count": null,
   "metadata": {
    "id": "On-ix739DPhk"
   },
   "outputs": [],
   "source": [
    "#Librerias\n",
    "import pandas as pd\n",
    "from sklearn.linear_model import LinearRegression\n",
    "import numpy as np\n",
    "from sklearn.metrics import r2_score\n",
    "from mpl_toolkits.mplot3d import Axes3D\n",
    "import matplotlib.pyplot as plt "
   ]
  },
  {
   "cell_type": "code",
   "execution_count": null,
   "metadata": {
    "id": "NkkrYVeEHnBi"
   },
   "outputs": [],
   "source": [
    "#Importar datos\n",
    "df = pd.read_excel(\"datos_producción.xlsx\")\n",
    "df.head(2)"
   ]
  },
  {
   "cell_type": "code",
   "execution_count": null,
   "metadata": {
    "id": "deeBi8mtHmDa"
   },
   "outputs": [],
   "source": [
    "#Seleccionar variables\n",
    "x1 = \"Horas Trabajadas\"\n",
    "x2 = \"Horas Descanso\"\n",
    "y = \"Productos Terminados\""
   ]
  },
  {
   "cell_type": "code",
   "execution_count": null,
   "metadata": {
    "id": "1hUJERtLDQWZ"
   },
   "outputs": [],
   "source": [
    "#Crear resultados\n",
    "variables_x = [x1, x2]\n",
    "variable_y = y\n",
    "modelo = LinearRegression()# generamos la regresión lineal\n",
    "modelo.fit(df[variables_x], df[variable_y])# entrenamos el modelo\n",
    "print ('Coeficientes: ', modelo.coef_) #obtenemos los coeficientes de las variables independientes\n",
    "print ('Intercepción: ', modelo.intercept_) #obtenemos la intercepción\n",
    "# Imprimir la ecuación del plano\n",
    "print('Ecuación del plano: y = {} * Horas Trabajadas + {} * Horas de Descanso + {}'.format(round(modelo.coef_[0], 3), round(modelo.coef_[1], 3), round(modelo.intercept_, 3)))\n",
    "print ('Coeficiente de determinación: ', round(r2_score(df[variable_y], modelo.predict(df[variables_x])), 3))\n",
    "\n",
    "# Gráfica en 3D\n",
    "fig = plt.figure()\n",
    "ax = fig.add_subplot(111, projection='3d')\n",
    "ax.scatter(df[x1], df[x2], df[y], color='blue')\n",
    "# Crear un meshgrid para el plano\n",
    "x = np.linspace(df[x1].min(), df[x1].max(), num=10)\n",
    "y = np.linspace(df[x2].min(), df[x2].max(), num=10)\n",
    "x, y = np.meshgrid(x, y)\n",
    "# Calcular los valores z (Autos Producidos) del plano\n",
    "z = modelo.intercept_ + modelo.coef_[0] * x + modelo.coef_[1] * y\n",
    "# Graficar el plano\n",
    "ax.plot_surface(x, y, z, alpha=0.5)\n",
    "ax.set_xlabel(x1)\n",
    "ax.set_ylabel(x2)\n",
    "ax.set_zlabel(\"Autos\")\n",
    "plt.show()"
   ]
  },
  {
   "cell_type": "code",
   "execution_count": null,
   "metadata": {
    "colab": {
     "base_uri": "https://localhost:8080/"
    },
    "id": "IEQLEpqdKI-W",
    "outputId": "5b4e4985-b270-4977-edb4-31d6bc97f2a8"
   },
   "outputs": [],
   "source": [
    "# Generar predicción \n",
    "\n",
    "horas_trabajadas_nuevas = 15 \n",
    "horas_descanso_nuevas = 3\n",
    "\n",
    "prediccion_nueva = pd.DataFrame({x1: [horas_trabajadas_nuevas], x2: [horas_descanso_nuevas]})\n",
    "autos_producidos_prediccion = modelo.predict(prediccion_nueva)\n",
    "print('La predicción de productos producidos para', horas_trabajadas_nuevas, 'horas trabajadas y', horas_descanso_nuevas, 'horas de descanso es', round(autos_producidos_prediccion[0], 3))"
   ]
  }
 ],
 "metadata": {
  "colab": {
   "provenance": []
  },
  "kernelspec": {
   "display_name": "Python 3 (ipykernel)",
   "language": "python",
   "name": "python3"
  },
  "language_info": {
   "codemirror_mode": {
    "name": "ipython",
    "version": 3
   },
   "file_extension": ".py",
   "mimetype": "text/x-python",
   "name": "python",
   "nbconvert_exporter": "python",
   "pygments_lexer": "ipython3",
   "version": "3.10.12"
  }
 },
 "nbformat": 4,
 "nbformat_minor": 4
}
