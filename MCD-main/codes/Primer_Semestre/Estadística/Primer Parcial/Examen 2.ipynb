{
 "cells": [
  {
   "cell_type": "code",
   "execution_count": null,
   "id": "f68b3bf8-57cb-4dce-9132-c81d340a4bed",
   "metadata": {},
   "outputs": [],
   "source": [
    "import pandas as pd"
   ]
  },
  {
   "cell_type": "markdown",
   "id": "810085b8-fe14-47b0-bde5-fed5a5de651e",
   "metadata": {},
   "source": [
    "# Ejercicio 1 y 2"
   ]
  },
  {
   "cell_type": "code",
   "execution_count": null,
   "id": "7c3f8d82-5dc0-4af7-8b9b-ed08cc8e016d",
   "metadata": {},
   "outputs": [],
   "source": [
    "consumo_diario_petroleo = [320,200,785,376,2405,893,1930,8010,1540]\n",
    "numero_horas_maquinas = [20,10,50,22,120,40,93,380,75]\n",
    "distancia_transporte = [630,398,1395,720,4230,1752,4000,15780,3080]\n",
    "rendimiento_promedio = [2.4,4.0,1.8,2.6,0.6,0.1,0.05,0.01,0.04]"
   ]
  },
  {
   "cell_type": "code",
   "execution_count": null,
   "id": "a80ee0a9-f00c-47e0-a738-96c82eb042f5",
   "metadata": {},
   "outputs": [],
   "source": [
    "df = pd.DataFrame({\n",
    "    \"Consumo diario de petróleo\": consumo_diario_petroleo,\n",
    "    \"Número de horas maquinas\": numero_horas_maquinas,\n",
    "    \"Distancia de transporte\": distancia_transporte,\n",
    "    \"Rendimiento promedio de motores\": rendimiento_promedio\n",
    "})"
   ]
  },
  {
   "cell_type": "markdown",
   "id": "a0e3f08b-2f0c-4451-b93b-cdc64e7a51bf",
   "metadata": {},
   "source": [
    "***\n",
    "Realice la estadística descriptiva de las variables que se presentan.  \n",
    "Agregue gráficos y un breve reporte de lo que observa.\n",
    "***"
   ]
  },
  {
   "cell_type": "code",
   "execution_count": null,
   "id": "e44ef34f-a8d2-4976-bef7-794ed68eff1a",
   "metadata": {},
   "outputs": [],
   "source": [
    "import seaborn as sns\n",
    "import matplotlib.pyplot as plt\n",
    "from pypalettes import get_hex"
   ]
  },
  {
   "cell_type": "code",
   "execution_count": null,
   "id": "1a9121ce-2402-4f87-be02-21cadeca4b8e",
   "metadata": {},
   "outputs": [],
   "source": [
    "for column in df.columns:\n",
    "    fig = plt.figure(figsize =(4, 3))\n",
    "    plt.boxplot(df[column])\n",
    "    plt.title(column)\n",
    "    plt.show()"
   ]
  },
  {
   "cell_type": "code",
   "execution_count": null,
   "id": "aadfa0b8-46a1-4f10-9aff-482ad1e9bd1e",
   "metadata": {},
   "outputs": [],
   "source": [
    "correlation_matrix = df.corr()\n",
    "plt.figure(figsize=(8, 6))\n",
    "sns.heatmap(correlation_matrix, annot=True, cmap='coolwarm', fmt='.2f', linewidths=0.5)\n",
    "plt.title('Mapa de Calor de la Correlación')\n",
    "plt.show()"
   ]
  },
  {
   "cell_type": "code",
   "execution_count": null,
   "id": "ca66e452-0103-45b1-9b2f-f48a2881e8b3",
   "metadata": {},
   "outputs": [],
   "source": [
    "for column in df.columns:\n",
    "    fig = plt.figure(figsize =(4, 3))\n",
    "    plt.hist(df[column])\n",
    "    plt.title(column)\n",
    "plt.show()"
   ]
  },
  {
   "cell_type": "markdown",
   "id": "a471868a-b013-4eb7-aec3-97a8b84438ea",
   "metadata": {},
   "source": [
    "Se puede apreciar que las variables tienen una correlación bastante elevada entre ellos, de hecho las parejas: **Consumo diario de petróleo** con **Número de horas maquinas**, **Consumo diario de petróleo** con **Distancia de transporte** y **Distancia de transporte** con **Número de horas maquinas** tienen una relación lineal perfecta, por otro lado también se visualiza la presencia de datos muy atípicos en las variables, por lo que en los diagramas de caja y brazos tenemos un valores superiores al brazo derecho en la mayoria de los casos, además ninguna de las variables se distribuye de forma normal"
   ]
  },
  {
   "cell_type": "markdown",
   "id": "f690c897-0236-48dc-9112-542569c541a8",
   "metadata": {
    "execution": {
     "iopub.execute_input": "2024-09-17T23:26:17.132618Z",
     "iopub.status.busy": "2024-09-17T23:26:17.129730Z",
     "iopub.status.idle": "2024-09-17T23:26:17.152457Z",
     "shell.execute_reply": "2024-09-17T23:26:17.147820Z",
     "shell.execute_reply.started": "2024-09-17T23:26:17.132562Z"
    }
   },
   "source": [
    "***\n",
    "Ajuste la función de regresión múltiple que permite predecir el consumo de petróleo e indique si utilizarla para dicho fin,  \n",
    "es adecuado o no, justifique su respuesta.\n",
    "***"
   ]
  },
  {
   "cell_type": "code",
   "execution_count": null,
   "id": "de1a6183-1251-479d-9973-21cd9239fbac",
   "metadata": {},
   "outputs": [],
   "source": [
    "import statsmodels.api as sm"
   ]
  },
  {
   "cell_type": "code",
   "execution_count": null,
   "id": "3a91a4c8-4160-40ab-83b2-0d5b4afd3a91",
   "metadata": {},
   "outputs": [],
   "source": [
    "X = [\"Número de horas maquinas\", \"Distancia de transporte\", \"Rendimiento promedio de motores\"]\n",
    "Y = [\"Consumo diario de petróleo\"]"
   ]
  },
  {
   "cell_type": "code",
   "execution_count": null,
   "id": "abef44a9-7b4a-43cb-9e6e-6ae200976aac",
   "metadata": {},
   "outputs": [],
   "source": [
    "x = sm.add_constant(df[X])\n",
    "model = sm.OLS(df[Y], x).fit()"
   ]
  },
  {
   "cell_type": "code",
   "execution_count": null,
   "id": "992329a2-2f0b-4a1a-a5a1-984f182acd85",
   "metadata": {},
   "outputs": [],
   "source": [
    "print(model.summary())"
   ]
  },
  {
   "cell_type": "markdown",
   "id": "298fbfe3-d4aa-4151-8f88-974f71d588b3",
   "metadata": {},
   "source": [
    "Para este resultado se obtiene que el predictor **Rendimiento promedio de motores** no es estadísticamente diferente de 0, además la $R^2=1$ y la ajustada a $0.99$, el modelo tiene claras señales de sobreajuste"
   ]
  },
  {
   "cell_type": "markdown",
   "id": "0b456b6f-ec5e-46c2-b9a8-fb61d6d0e16f",
   "metadata": {
    "execution": {
     "iopub.execute_input": "2024-09-17T23:33:59.424744Z",
     "iopub.status.busy": "2024-09-17T23:33:59.423909Z",
     "iopub.status.idle": "2024-09-17T23:33:59.442234Z",
     "shell.execute_reply": "2024-09-17T23:33:59.438691Z",
     "shell.execute_reply.started": "2024-09-17T23:33:59.424693Z"
    }
   },
   "source": [
    "***\n",
    "¿Cuál de las tres variables independientes aporta más a la explicación \n",
    "del consumo de petróleo? Justifique su respuesta.\n",
    "***"
   ]
  },
  {
   "cell_type": "markdown",
   "id": "466486ce-c950-4df7-96ef-923e25a84873",
   "metadata": {},
   "source": [
    "El **Número de horas maquinas** ya que tiene el coeficiente $B_i$ más alto, indicando su importancia para el modelo además de tener un $p_valor < 0.05$ estadísticamente significativo para el modelo"
   ]
  },
  {
   "cell_type": "markdown",
   "id": "bdd70012-2665-4db5-9e20-28c341896a60",
   "metadata": {},
   "source": [
    "***\n",
    "Explique el significado de los coeficientes de las variables: números de horas-  \n",
    "máquinas y rendimiento de los motores, en el contexto del problema.\n",
    "***"
   ]
  },
  {
   "cell_type": "markdown",
   "id": "2b7c52a0-530b-490f-b44e-48eee55bd8dc",
   "metadata": {},
   "source": [
    "El número de horas-maquinas tienen un coefieciente de 11.2995 por lo que cada unidad hora-máquina esto contribuye en 11.2995 unidades en el consumo diario de gasolina, mientras que con rendimiento de los motores al tener un coeficiente de -4.7077 se puede inferir, que a medida que el rendimiento es mayor, menos gasolina se requerirá ára el proceso"
   ]
  },
  {
   "cell_type": "markdown",
   "id": "a5377cb9-f3b7-4761-8409-b0cd67156b14",
   "metadata": {},
   "source": [
    "***\n",
    "Si sabe que en un día determinado las máquinas trabajarán durante 40 horas y\n",
    "la distancia total a recorrer por los camiones será de 1000 km., ¿cuál debe ser\n",
    "el rendimiento promedio de los motores de modo que el consumo de petróleo\n",
    "no supere los 800 litros con un 95% de seguridad, sabiendo que el error\n",
    "poblacional es sólo un 5% mayor que el error muestral de estimación?\n",
    "***"
   ]
  },
  {
   "cell_type": "code",
   "execution_count": null,
   "id": "406d363f-e378-479f-8ebc-619ca5ddbd0e",
   "metadata": {},
   "outputs": [],
   "source": [
    "df = pd.DataFrame({\n",
    "    \"Consumo diario de petróleo\": consumo_diario_petroleo,\n",
    "    \"Número de horas maquinas\": numero_horas_maquinas,\n",
    "    \"Distancia de transporte\": distancia_transporte,\n",
    "    \"Rendimiento promedio de motores\": rendimiento_promedio\n",
    "})"
   ]
  },
  {
   "cell_type": "code",
   "execution_count": null,
   "id": "79d4dbe9-a1ec-412b-842c-49956cae0ec9",
   "metadata": {},
   "outputs": [],
   "source": [
    "coef = model.params\n",
    "\n",
    "# Valores conocidos\n",
    "horas_maquina = 40\n",
    "distancia = 1000\n",
    "consumo_maximo = 800\n",
    "\n",
    "# Despejar el rendimiento\n",
    "rendimiento = (consumo_maximo - coef['const'] - coef[\"Número de horas maquinas\"] * horas_maquina - coef[\"Distancia de transporte\"] * distancia) / coef[\"Rendimiento promedio de motores\"]"
   ]
  },
  {
   "cell_type": "code",
   "execution_count": null,
   "id": "c1f44a45-a500-4484-9b5f-d871f4203258",
   "metadata": {},
   "outputs": [],
   "source": [
    "print(f'Rendimiento necesario para que el consumo no supere los 800 litros: {rendimiento:.2f} horas por litro')"
   ]
  },
  {
   "cell_type": "markdown",
   "id": "47e7c6d7-7a01-4f71-8766-e793018b4d5f",
   "metadata": {
    "execution": {
     "iopub.execute_input": "2024-09-17T23:44:28.671494Z",
     "iopub.status.busy": "2024-09-17T23:44:28.670589Z",
     "iopub.status.idle": "2024-09-17T23:44:28.693017Z",
     "shell.execute_reply": "2024-09-17T23:44:28.689509Z",
     "shell.execute_reply.started": "2024-09-17T23:44:28.671438Z"
    }
   },
   "source": [
    "***\n",
    "Calcule los coeficientes estándares de las tres variables independientes e\n",
    "indique si a través de los resultados obtenidos puede llegare a la misma\n",
    "conclusión de a.\n",
    "***"
   ]
  },
  {
   "cell_type": "code",
   "execution_count": null,
   "id": "2d885292-8b5a-4e8f-8304-18abef21f956",
   "metadata": {},
   "outputs": [],
   "source": [
    "from sklearn.preprocessing import StandardScaler"
   ]
  },
  {
   "cell_type": "code",
   "execution_count": null,
   "id": "14bd22bb-4374-4cac-91dd-ec1a395fccc4",
   "metadata": {},
   "outputs": [],
   "source": [
    "scaler = StandardScaler()\n",
    "X_scaled = scaler.fit_transform(df[X])"
   ]
  },
  {
   "cell_type": "code",
   "execution_count": null,
   "id": "a29e9cd8-24da-44b0-a307-0316e80c71fd",
   "metadata": {},
   "outputs": [],
   "source": [
    "X_scaled = sm.add_constant(X_scaled)"
   ]
  },
  {
   "cell_type": "code",
   "execution_count": null,
   "id": "e48291fd-f9be-4485-b337-236c3abc180c",
   "metadata": {},
   "outputs": [],
   "source": [
    "model_scaled = sm.OLS(df[Y], X_scaled).fit()\n",
    "\n",
    "# Obtener el resumen del modelo\n",
    "print(model_scaled.summary())"
   ]
  },
  {
   "cell_type": "markdown",
   "id": "d00a41ce-7c37-4f54-bd9f-87eb0d834a22",
   "metadata": {},
   "source": [
    "El coeficiente independiente pasa a ser singificativo, sin embargo, el **Rendimiento promedio de motores** se mantiene igual, además se sigue con un $R^2$ demasiado alto, llego a unas conclusiones muy similares que con el inciso a)"
   ]
  },
  {
   "cell_type": "markdown",
   "id": "199ebda7-6582-4063-ad85-03e1780bfbf8",
   "metadata": {},
   "source": [
    "# Ejercicio 3\n",
    "Los siguientes datos representa el costo de colegiaturas ( en miles de pesos) de  \n",
    "una muestra de universidades privadas en diversas regiones de México. A nivel de  \n",
    "significancia .05, ¿ Puede concluirse que existe alguna diferencia en el costo  \n",
    "promedio de las colegiaturas?"
   ]
  },
  {
   "cell_type": "code",
   "execution_count": null,
   "id": "66e4df2b-ad0b-4a51-a1ba-cc1db31046ff",
   "metadata": {},
   "outputs": [],
   "source": [
    "df2 = pd.DataFrame({\n",
    "    \"Region\": [\"Noreste\"]*5 + [\"Sureste\"]*4 + [\"Oeste\"] * 5,\n",
    "    \"Costo\": [10,11,12,10,12] + [8,9,10,8] + [7,8,6,7,6]\n",
    "})"
   ]
  },
  {
   "cell_type": "code",
   "execution_count": null,
   "id": "f9a010f6-c452-4e20-b1b7-b3b29a5386f6",
   "metadata": {},
   "outputs": [],
   "source": [
    "import pingouin as pg"
   ]
  },
  {
   "cell_type": "code",
   "execution_count": null,
   "id": "857c5655-a0f9-484c-96af-076efdf6f349",
   "metadata": {},
   "outputs": [],
   "source": [
    "# Test ANOVA de un factor\n",
    "pg.welch_anova(\n",
    "    data     = df2,\n",
    "    dv       = 'Costo',\n",
    "    between  = \"Region\"\n",
    ")"
   ]
  },
  {
   "cell_type": "markdown",
   "id": "0a975f3f-69df-4768-a1c4-e1256a79c5ba",
   "metadata": {},
   "source": [
    "Como `p-unc` es menor a 0.05 se concluye que existe una diferencia significativa entre el precio de las colegiaturas"
   ]
  }
 ],
 "metadata": {
  "kernelspec": {
   "display_name": "Python 3 (ipykernel)",
   "language": "python",
   "name": "python3"
  },
  "language_info": {
   "codemirror_mode": {
    "name": "ipython",
    "version": 3
   },
   "file_extension": ".py",
   "mimetype": "text/x-python",
   "name": "python",
   "nbconvert_exporter": "python",
   "pygments_lexer": "ipython3",
   "version": "3.10.12"
  }
 },
 "nbformat": 4,
 "nbformat_minor": 5
}
