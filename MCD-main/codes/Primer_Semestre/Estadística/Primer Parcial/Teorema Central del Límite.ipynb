{
 "cells": [
  {
   "cell_type": "code",
   "execution_count": null,
   "id": "8c31bff2-dd45-4867-abaf-6fb2021beeea",
   "metadata": {},
   "outputs": [],
   "source": [
    "import numpy as np\n",
    "import matplotlib.pyplot as pltS"
   ]
  },
  {
   "cell_type": "code",
   "execution_count": null,
   "id": "a9012af1-9cc9-4485-86be-e634b38811db",
   "metadata": {},
   "outputs": [],
   "source": [
    "np.random.seed(0)"
   ]
  },
  {
   "cell_type": "code",
   "execution_count": null,
   "id": "c22761cc-de77-4a20-8094-d9481b8b33ad",
   "metadata": {},
   "outputs": [],
   "source": [
    "media = 5\n",
    "muestras = np.random.exponential(scale=media, size=(100,40))\n",
    "medias_muestrales = np.mean(muestras, axis=1)\n",
    "media_teorica = media\n",
    "desv_standar = media / np.sqrt(40)"
   ]
  },
  {
   "cell_type": "code",
   "execution_count": null,
   "id": "13cc1d2a-4320-43e2-b815-cc8e7fdda0d7",
   "metadata": {},
   "outputs": [],
   "source": [
    "x = np.linspace(\n",
    "    media_teorica - 3 * desv_standar,\n",
    "    media_teorica + 3 * desv_standar,\n",
    "    100\n",
    ")\n",
    "y = 1 / (desv_standar * np.sqrt(2*np.pi)) * np.exp((-(x-media_teorica) ** 2) / (2 * desv_standar ** 2))"
   ]
  },
  {
   "cell_type": "code",
   "execution_count": null,
   "id": "40d158d7-f7c0-4523-9f35-58fb1e72256f",
   "metadata": {},
   "outputs": [],
   "source": [
    "plt.figure(figsize=(10,6))\n",
    "# Gráfica del histograma\n",
    "plt.hist(\n",
    "    medias_muestrales,\n",
    "    bins = 30,\n",
    "    density = True,\n",
    "    alpha = 0.5,\n",
    "    label = 'Distribución de las medias muestrales'\n",
    ")\n",
    "#Gráfica teoríca\n",
    "plt.plot(\n",
    "    x, y,\n",
    "    color = 'red',\n",
    "    label = 'Distribución teórica'\n",
    ")\n",
    "plt.xlabel('Media')\n",
    "plt.ylabel('Densidad')\n",
    "plt.title('Teorema Central del Límite')\n",
    "plt.legend()\n",
    "plt.show()"
   ]
  },
  {
   "cell_type": "code",
   "execution_count": null,
   "id": "cec9c00f-2595-4d62-8362-ceb164ff4b22",
   "metadata": {},
   "outputs": [],
   "source": [
    "print(f\"Media muestral: {np.mean(medias_muestrales):.10f}\")\n",
    "print(f\"Media teórica: {media:.10f}\")"
   ]
  }
 ],
 "metadata": {
  "kernelspec": {
   "display_name": "Python 3 (ipykernel)",
   "language": "python",
   "name": "python3"
  },
  "language_info": {
   "codemirror_mode": {
    "name": "ipython",
    "version": 3
   },
   "file_extension": ".py",
   "mimetype": "text/x-python",
   "name": "python",
   "nbconvert_exporter": "python",
   "pygments_lexer": "ipython3",
   "version": "3.10.12"
  }
 },
 "nbformat": 4,
 "nbformat_minor": 5
}
