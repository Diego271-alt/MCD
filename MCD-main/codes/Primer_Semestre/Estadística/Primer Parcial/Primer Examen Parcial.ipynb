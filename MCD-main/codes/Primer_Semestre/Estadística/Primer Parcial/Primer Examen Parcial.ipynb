{
 "cells": [
  {
   "cell_type": "markdown",
   "id": "f32578ab-2d20-4433-ac62-531d33298211",
   "metadata": {},
   "source": [
    "# Ejercicio 1"
   ]
  },
  {
   "cell_type": "code",
   "execution_count": null,
   "id": "014106da-08f8-4463-9661-9c97e69058a0",
   "metadata": {},
   "outputs": [],
   "source": [
    "bolas_rojas = 5\n",
    "bolas_azules = 3\n",
    "bolas_verdes = 2\n",
    "Ω = bolas_rojas + bolas_azules + bolas_verdes"
   ]
  },
  {
   "cell_type": "code",
   "execution_count": null,
   "id": "d1fc2ca4-cb0f-4c1c-85c2-65c47cde5e1c",
   "metadata": {},
   "outputs": [],
   "source": [
    "# a)\n",
    "probabilidad_roja = bolas_rojas / Ω\n",
    "probabilidad_roja"
   ]
  },
  {
   "cell_type": "code",
   "execution_count": null,
   "id": "970fafd0-213c-4925-a8a7-d4e42c7481dc",
   "metadata": {},
   "outputs": [],
   "source": [
    "# b)\n",
    "probabilidad_verde = bolas_verdes / Ω\n",
    "probabilidad_no_verde = 1 - probabilidad_verde\n",
    "probabilidad_no_verde2 = (bolas_rojas + bolas_azules) / Ω\n",
    "probabilidad_no_verde, probabilidad_no_verde2"
   ]
  },
  {
   "cell_type": "code",
   "execution_count": null,
   "id": "3cf5fbf2-4494-46e9-b977-bcd8e0f7a88e",
   "metadata": {},
   "outputs": [],
   "source": [
    "# c)\n",
    "probabilidad_roja_o_verde = probabilidad_verde + probabilidad_roja # La intersección es vacia al ser disjunta\n",
    "probabilidad_roja_o_verde"
   ]
  },
  {
   "cell_type": "markdown",
   "id": "34a16dfd-d1ba-4699-9335-52d7fb818455",
   "metadata": {},
   "source": [
    "# Ejercicio 2\n",
    "* $P(A|S)$ Probabilidad de que el componente $A$ haya fallado dado que el sistema ha fallado\n",
    "$$P(A|S)=\\frac{P(A∩S)}{P(S)}$$\n",
    "* $P(A∩S)$ Probabilidad de que el componente $A$ haya fallado y el sistema halla fallado (Como el sistema falla cuando al menos un componente falla $P(A∩S) = P(A)$, ya que si A falla entonces el sistema falla sin importar B)\n",
    "* $P(S)$ Probabilidad de que el sistema halla fallado"
   ]
  },
  {
   "cell_type": "code",
   "execution_count": null,
   "id": "c7a9ba6b-6741-4bbe-b63a-985c71423862",
   "metadata": {},
   "outputs": [],
   "source": [
    "probabilidad_componente_A_fallo = 0.2\n",
    "probabilidad_componente_B_fallo = 0.3\n",
    "probabilidad_componente_A_y_B_fallaron = probabilidad_componente_A_fallo * probabilidad_componente_B_fallo #Independientes\n",
    "probalidad_sistema_fallo = probabilidad_componente_A_fallo + probabilidad_componente_B_fallo - probabilidad_componente_A_y_B_fallaron\n",
    "probalidad_sistema_fallo"
   ]
  },
  {
   "cell_type": "code",
   "execution_count": null,
   "id": "9dd18eb7-936b-4db8-b4de-1b600df762d5",
   "metadata": {},
   "outputs": [],
   "source": [
    "probabilidad_componente_A_y_sistema_fallaron = probabilidad_componente_A_fallo\n",
    "probabilidad_componente_A_y_sistema_fallaron"
   ]
  },
  {
   "cell_type": "code",
   "execution_count": null,
   "id": "67a4f96b-9501-4775-a2de-9a25aec221cc",
   "metadata": {},
   "outputs": [],
   "source": [
    "probabilidad_componente_A_fallo_dado_sistema_fallo = probabilidad_componente_A_y_sistema_fallaron / probalidad_sistema_fallo\n",
    "probabilidad_componente_A_fallo_dado_sistema_fallo"
   ]
  },
  {
   "cell_type": "markdown",
   "id": "9dc9021b-b96f-458d-bb83-3b779495e206",
   "metadata": {},
   "source": [
    "# Ejercicio 3\n",
    "$X$~$Ber(p=\\frac{2}{6})$"
   ]
  },
  {
   "cell_type": "code",
   "execution_count": null,
   "id": "731fd40c-a5df-4e37-9f04-31be9cc4ab24",
   "metadata": {},
   "outputs": [],
   "source": [
    "p = 2/6\n",
    "q = 1 - p\n",
    "x = 1\n",
    "probabildad_exito = (p ** (x)) * (q ** (1-x))\n",
    "probabildad_exito"
   ]
  },
  {
   "cell_type": "code",
   "execution_count": null,
   "id": "094a679f-3f4c-444a-b08a-fd21fe60eb74",
   "metadata": {},
   "outputs": [],
   "source": [
    "x = 0\n",
    "probabildad_fracaso = (p ** (x)) * (q ** (1-x))\n",
    "probabildad_fracaso"
   ]
  },
  {
   "cell_type": "code",
   "execution_count": null,
   "id": "11ee905e-0a7d-4186-a43f-bf3cdea14cb7",
   "metadata": {},
   "outputs": [],
   "source": [
    "import numpy as np\n",
    "np.random.seed(0)\n",
    "data = np.random.binomial(1, p, size=10) #usando una simulación de binomiales"
   ]
  },
  {
   "cell_type": "code",
   "execution_count": null,
   "id": "17b6d389-196c-4839-a699-9314198da370",
   "metadata": {},
   "outputs": [],
   "source": [
    "print(\"Promedio:\", data.mean())\n",
    "print(\"Varianza:\", data.var())"
   ]
  },
  {
   "cell_type": "code",
   "execution_count": null,
   "id": "4cb5103f-cb06-4840-a857-2d199502a5f2",
   "metadata": {},
   "outputs": [],
   "source": [
    "# Realizando simulación de lanzamiento de datos\n",
    "data = np.random.choice(6, 10) + 1 # El más 1 es porque comienza en 0\n",
    "data = (data>=5).astype(int) # Se convierten a éxitos o fracasos"
   ]
  },
  {
   "cell_type": "code",
   "execution_count": null,
   "id": "32a64b05-9d1c-4ec5-bbe0-3e6b2cbca3e8",
   "metadata": {},
   "outputs": [],
   "source": [
    "print(\"Promedio:\", data.mean())\n",
    "print(\"Varianza:\", data.var())"
   ]
  },
  {
   "cell_type": "markdown",
   "id": "4a6be6b2-4f2a-44f1-94f6-c0338d2ab05e",
   "metadata": {},
   "source": [
    "# Ejercicio 4\n",
    "$X$~$Bin(n=20,p=\\frac{1}{5})$"
   ]
  },
  {
   "cell_type": "code",
   "execution_count": null,
   "id": "8acb4496-f86e-4d32-8c9b-899ea5a7b044",
   "metadata": {},
   "outputs": [],
   "source": [
    "from functools import reduce\n",
    "factorial = lambda x: reduce(lambda a, b: a* b, range(1,x+1))\n",
    "combinaciones = lambda a,b: factorial(a)/(factorial(b)*factorial(a-b))"
   ]
  },
  {
   "cell_type": "code",
   "execution_count": null,
   "id": "f46697d5-9a3f-40b1-b158-df435d710fe2",
   "metadata": {},
   "outputs": [],
   "source": [
    "# a)\n",
    "n = 20\n",
    "x = 5\n",
    "p = 1 / 5\n",
    "q = 1 - p\n",
    "probabilidad_x_5 = combinaciones(n, x) * (p ** (x)) * (q ** (n-x))\n",
    "probabilidad_x_5"
   ]
  },
  {
   "cell_type": "code",
   "execution_count": null,
   "id": "02c9b29a-c1e1-455a-a2bd-8c840dbae717",
   "metadata": {},
   "outputs": [],
   "source": [
    "# b)\n",
    "from scipy.stats import binom\n",
    "probabilidad_x_mayor_igual_3 = 1 - (binom.pmf(0, n, p) + binom.pmf(1, n, p) + binom.pmf(2, n, p))\n",
    "probabilidad_x_mayor_igual_3"
   ]
  },
  {
   "cell_type": "code",
   "execution_count": null,
   "id": "5e95bd59-3884-4055-abe9-14b0521510ff",
   "metadata": {},
   "outputs": [],
   "source": [
    "#c)\n",
    "preguntas_esperadas = n * p\n",
    "preguntas_esperadas"
   ]
  },
  {
   "cell_type": "code",
   "execution_count": null,
   "id": "dcd6755b-d560-4388-9e97-1898cc98d662",
   "metadata": {},
   "outputs": [],
   "source": [
    "probabilidad_valor_esperado = binom.pmf(int(preguntas_esperadas), n, p)\n",
    "probabilidad_valor_esperado"
   ]
  },
  {
   "cell_type": "code",
   "execution_count": null,
   "id": "2b916539-ef8e-42f9-a3b3-809b9d92ecc0",
   "metadata": {},
   "outputs": [],
   "source": [
    "# d)\n",
    "varianza = n * p * q\n",
    "desv_estandar = varianza ** (1/2)\n",
    "desv_estandar"
   ]
  },
  {
   "cell_type": "markdown",
   "id": "fe712632-6372-49a0-9b7c-8284b6febf38",
   "metadata": {
    "execution": {
     "iopub.execute_input": "2024-11-21T23:03:55.283729Z",
     "iopub.status.busy": "2024-11-21T23:03:55.283291Z",
     "iopub.status.idle": "2024-11-21T23:03:55.294607Z",
     "shell.execute_reply": "2024-11-21T23:03:55.292911Z",
     "shell.execute_reply.started": "2024-11-21T23:03:55.283693Z"
    }
   },
   "source": [
    "# Ejercicio 5"
   ]
  },
  {
   "cell_type": "code",
   "execution_count": null,
   "id": "494125cd-06e7-438b-9e90-9eae1ba31572",
   "metadata": {},
   "outputs": [],
   "source": [
    "# a)\n",
    "# X ~ Geometrica(p=0.1)\n",
    "p = 0.1\n",
    "from scipy.stats import geom\n",
    "geom.pmf(5, p)"
   ]
  },
  {
   "cell_type": "code",
   "execution_count": null,
   "id": "e69d3ee4-14bb-47b5-a3ee-db8ac1ef0194",
   "metadata": {},
   "outputs": [],
   "source": [
    "# b)\n",
    "# X ~ Binomial(n=10, p=0.1)\n",
    "n = 10\n",
    "p = 0.1\n",
    "binom.pmf(3, n, p)"
   ]
  },
  {
   "cell_type": "markdown",
   "id": "f5d10fa8-d7da-44dc-8135-61d913034122",
   "metadata": {},
   "source": [
    "# Ejercicio 6"
   ]
  },
  {
   "cell_type": "code",
   "execution_count": null,
   "id": "b19a9e3b-c7e6-4f68-933e-47a6cbac7608",
   "metadata": {},
   "outputs": [],
   "source": [
    "# a)\n",
    "# X ~ Poisson(λ=6)\n",
    "from scipy.stats import poisson\n",
    "λ=6\n",
    "poisson.pmf(3, λ)"
   ]
  },
  {
   "cell_type": "code",
   "execution_count": null,
   "id": "987823d6-0856-488d-b9ce-22ff9767c0fa",
   "metadata": {},
   "outputs": [],
   "source": [
    "# b)\n",
    "λ=6\n",
    "1 - poisson.cdf(6, λ)"
   ]
  }
 ],
 "metadata": {
  "kernelspec": {
   "display_name": "Python 3 (ipykernel)",
   "language": "python",
   "name": "python3"
  },
  "language_info": {
   "codemirror_mode": {
    "name": "ipython",
    "version": 3
   },
   "file_extension": ".py",
   "mimetype": "text/x-python",
   "name": "python",
   "nbconvert_exporter": "python",
   "pygments_lexer": "ipython3",
   "version": "3.10.12"
  }
 },
 "nbformat": 4,
 "nbformat_minor": 5
}
