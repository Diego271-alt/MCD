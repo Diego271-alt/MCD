{
 "cells": [
  {
   "cell_type": "code",
   "execution_count": null,
   "id": "fb6113f2-e1d6-4ffe-bbe3-25dd9ea860a6",
   "metadata": {},
   "outputs": [],
   "source": [
    "import scipy.stats as stats"
   ]
  },
  {
   "cell_type": "code",
   "execution_count": null,
   "id": "2e3f697f-fef5-4812-8dd1-acd6ef02f701",
   "metadata": {},
   "outputs": [],
   "source": [
    "grupo_a = [85, 90, 92, 88, 87, 84, 91, 89, 86, 87]\n",
    "grupo_b = [78, 82, 80, 88, 86, 79, 83, 81, 85, 84]"
   ]
  },
  {
   "cell_type": "code",
   "execution_count": null,
   "id": "b9e84b7d-758c-4190-8580-45970f3ace3c",
   "metadata": {},
   "outputs": [],
   "source": [
    "t_stat, p_valor = stats.ttest_ind(grupo_a,grupo_b)"
   ]
  },
  {
   "cell_type": "code",
   "execution_count": null,
   "id": "c408229d-a483-4095-8609-262eeb05b81c",
   "metadata": {},
   "outputs": [],
   "source": [
    "alfa = 0.05"
   ]
  },
  {
   "cell_type": "code",
   "execution_count": null,
   "id": "6ab5ae58-c8b6-494d-96c7-9428c610a6bf",
   "metadata": {},
   "outputs": [],
   "source": [
    "p_valor"
   ]
  },
  {
   "cell_type": "code",
   "execution_count": null,
   "id": "8eb746d4-4b15-4efa-9987-cc58a06b9be5",
   "metadata": {},
   "outputs": [],
   "source": [
    "import numpy as np"
   ]
  },
  {
   "cell_type": "code",
   "execution_count": null,
   "id": "36585ce8-6fd6-4dc9-80ce-a69d7dc76692",
   "metadata": {},
   "outputs": [],
   "source": [
    "calificaciones = [85, 90, 92, 88, 87, 84, 91, 89, 86, 87]"
   ]
  },
  {
   "cell_type": "code",
   "execution_count": null,
   "id": "7bc5ac33-eafd-4974-9a07-0fa8cccc35b2",
   "metadata": {},
   "outputs": [],
   "source": [
    "confianza  = 0.98"
   ]
  },
  {
   "cell_type": "code",
   "execution_count": null,
   "id": "cad2da94-316c-4c54-96b5-5c94102a5979",
   "metadata": {},
   "outputs": [],
   "source": [
    "df = len(calificaciones) - 1"
   ]
  },
  {
   "cell_type": "code",
   "execution_count": null,
   "id": "9a0da21a-8930-446f-a79b-c4d2ea6c3566",
   "metadata": {},
   "outputs": [],
   "source": [
    "media_muestral = np.mean(calificaciones)\n",
    "desviacion_muestra = np.std(calificaciones, ddof = 1)"
   ]
  },
  {
   "cell_type": "code",
   "execution_count": null,
   "id": "8a927184-9b5c-4912-b306-7296c7ca0af9",
   "metadata": {},
   "outputs": [],
   "source": [
    "valor_critico = stats.t.ppf((1+confianza)/2, df)"
   ]
  },
  {
   "cell_type": "code",
   "execution_count": null,
   "id": "ade91fa4-55c8-4200-88ec-e284683fe0c1",
   "metadata": {},
   "outputs": [],
   "source": [
    "error_estandar = desviacion_muestra / np.sqrt(len(calificaciones))"
   ]
  },
  {
   "cell_type": "code",
   "execution_count": null,
   "id": "5b5c864e-6b47-44aa-b3c2-16caf6ca1c2d",
   "metadata": {},
   "outputs": [],
   "source": [
    "intervalo_inferior = media_muestral - valor_critico * error_estandar\n",
    "intervalo_superior = media_muestral + valor_critico * error_estandar"
   ]
  },
  {
   "cell_type": "code",
   "execution_count": null,
   "id": "d71f6fe9-4c35-4e08-9e94-7ecdf92a8ba2",
   "metadata": {},
   "outputs": [],
   "source": [
    "f\"{intervalo_inferior:.2f}, {intervalo_superior:.2f}\""
   ]
  }
 ],
 "metadata": {
  "kernelspec": {
   "display_name": "Python 3 (ipykernel)",
   "language": "python",
   "name": "python3"
  },
  "language_info": {
   "codemirror_mode": {
    "name": "ipython",
    "version": 3
   },
   "file_extension": ".py",
   "mimetype": "text/x-python",
   "name": "python",
   "nbconvert_exporter": "python",
   "pygments_lexer": "ipython3",
   "version": "3.10.12"
  }
 },
 "nbformat": 4,
 "nbformat_minor": 5
}
