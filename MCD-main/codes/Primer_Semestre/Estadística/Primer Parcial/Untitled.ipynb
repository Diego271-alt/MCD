{
 "cells": [
  {
   "cell_type": "code",
   "execution_count": null,
   "id": "ebfb0af1-ef72-4ad2-870e-c33164186213",
   "metadata": {},
   "outputs": [],
   "source": [
    "# DATOS DE PUNTUACIONES DE MATEMATICAS, CIENCIAS Y ESPAÑOL\n",
    "# NUMERO DE HORAS ESTUDIADAS"
   ]
  },
  {
   "cell_type": "code",
   "execution_count": null,
   "id": "a2726013-4686-42ae-b114-c7cb33ff4f4f",
   "metadata": {},
   "outputs": [],
   "source": [
    "import numpy as np\n",
    "import pandas as pd"
   ]
  },
  {
   "cell_type": "code",
   "execution_count": null,
   "id": "1478ffb6-376b-43da-b11f-f1ec05b987c4",
   "metadata": {},
   "outputs": [],
   "source": [
    "np.random.seed(42)"
   ]
  },
  {
   "cell_type": "code",
   "execution_count": null,
   "id": "375597ce-377e-4362-8b48-4321ad4ea4c6",
   "metadata": {},
   "outputs": [],
   "source": [
    "num_estudiantes = 50\n",
    "puntuaciones_mate = np.random.normal(75,10,num_estudiantes)\n",
    "puntuciones_ciencias = np.random.normal(70,12,num_estudiantes)\n",
    "puntuaciones_esp = np.random.normal(78,8,num_estudiantes)\n",
    "horas_estudio_mate = np.random.normal(5,1.5,num_estudiantes)\n",
    "horas_estudio_cien = np.random.normal(4,1.2,num_estudiantes)\n",
    "horas_estudio_esp = np.random.normal(4.5,1.3,num_estudiantes)"
   ]
  },
  {
   "cell_type": "code",
   "execution_count": null,
   "id": "e87893a7-cedc-4d41-9568-efcc9c118b38",
   "metadata": {},
   "outputs": [],
   "source": [
    "datos = np.vstack(\n",
    "    (\n",
    "        puntuaciones_mate, puntuciones_ciencias, puntuaciones_esp,\n",
    "        horas_estudio_mate, horas_estudio_cien, horas_estudio_esp\n",
    "    ),\n",
    ")"
   ]
  },
  {
   "cell_type": "code",
   "execution_count": null,
   "id": "0f60cc10-dd55-41b6-a1e8-feb0e81ada3d",
   "metadata": {},
   "outputs": [],
   "source": [
    "puntuaciones_mate"
   ]
  },
  {
   "cell_type": "code",
   "execution_count": null,
   "id": "26fb1d90-e957-4550-a638-02ee4e91cd54",
   "metadata": {},
   "outputs": [],
   "source": [
    "matriz_cov = np.cov(datos)"
   ]
  },
  {
   "cell_type": "code",
   "execution_count": null,
   "id": "ffba4280-6f7a-4ff9-9185-dd9b65742849",
   "metadata": {},
   "outputs": [],
   "source": [
    "pd.DataFrame(np.corrcoef(datos))"
   ]
  },
  {
   "cell_type": "code",
   "execution_count": null,
   "id": "61b36120-d0e0-41f4-bdc8-95f32f36aa24",
   "metadata": {},
   "outputs": [],
   "source": [
    "pd.DataFrame(matriz_cov)"
   ]
  },
  {
   "cell_type": "code",
   "execution_count": null,
   "id": "98673b62-201b-4483-9d71-c4880aa4b2b0",
   "metadata": {},
   "outputs": [],
   "source": [
    "import numpy as np\n",
    "import matplotlib.pyplot as plt\n",
    "from scipy.stats import linregress, pearsonr"
   ]
  },
  {
   "cell_type": "code",
   "execution_count": null,
   "id": "538a66d5-f3a2-4f30-988a-9c6729605f4d",
   "metadata": {},
   "outputs": [],
   "source": [
    "num_estudiantes = 100"
   ]
  },
  {
   "cell_type": "code",
   "execution_count": null,
   "id": "b0faa693-04e9-401d-bc2f-117e92f1b551",
   "metadata": {},
   "outputs": [],
   "source": [
    "np.random.seed(0)"
   ]
  },
  {
   "cell_type": "code",
   "execution_count": null,
   "id": "53d57f2e-fb76-485d-a88d-180bfb2bb406",
   "metadata": {},
   "outputs": [],
   "source": [
    "puntuacion_rendimiento = np.random.normal(70,10,num_estudiantes)\n",
    "niveles_autoestima = np.random.normal(50,15,num_estudiantes)"
   ]
  },
  {
   "cell_type": "code",
   "execution_count": null,
   "id": "1fbc61e5-342e-4b0d-977f-f535e80af61b",
   "metadata": {},
   "outputs": [],
   "source": [
    "df = pd.DataFrame({\n",
    "    \"COL1\": puntuacion_rendimiento,\n",
    "    \"COL2\": niveles_autoestima}\n",
    ")"
   ]
  },
  {
   "cell_type": "code",
   "execution_count": null,
   "id": "5d39c0a6-822f-4713-9c0c-e1e24eda1a73",
   "metadata": {},
   "outputs": [],
   "source": [
    "df['COL1'].std() / df['COL1'].mean(), df['COL2'].std() / df['COL2'].mean(),"
   ]
  },
  {
   "cell_type": "code",
   "execution_count": null,
   "id": "3dae75d8-4367-49c4-93e0-1c7b722982b7",
   "metadata": {},
   "outputs": [],
   "source": [
    "coef_pearson, p_value = pearsonr(puntuacion_rendimiento, niveles_autoestima)"
   ]
  },
  {
   "cell_type": "code",
   "execution_count": null,
   "id": "13854dfd-6f0f-4b97-a4e5-d0886ff1da7f",
   "metadata": {},
   "outputs": [],
   "source": [
    "slope, intercepto, r_value, p_value_reg, std_err = linregress(puntuacion_rendimiento, niveles_autoestima)"
   ]
  },
  {
   "cell_type": "code",
   "execution_count": null,
   "id": "f34d1fbd-6974-4170-93ed-bd1590ba5b35",
   "metadata": {},
   "outputs": [],
   "source": [
    "plt.figure(figsize=(10,6))\n",
    "plt.scatter(puntuacion_rendimiento, niveles_autoestima, color='blue', alpha=0.6, edgecolor='k',label='Datos')\n",
    "plt.plot(puntuacion_rendimiento, intercepto + slope * puntuacion_rendimiento, color='red', label=f'Línea de regresión (r={coef_pearson:.2f})')\n",
    "plt.title('Correlación entre rendimiento académico y autoestima')\n",
    "plt.xlabel('Puntuaciones de rendimiento académico')\n",
    "plt.ylabel('Niveles de autoestima')\n",
    "plt.legend()\n",
    "plt.grid(True)\n",
    "plt.show()"
   ]
  },
  {
   "cell_type": "code",
   "execution_count": null,
   "id": "1d02c713-cb0b-4c21-8555-547ac6c06da9",
   "metadata": {},
   "outputs": [],
   "source": [
    "print(f\"Valor p asociado a la correlación {p_value}\")"
   ]
  },
  {
   "cell_type": "code",
   "execution_count": null,
   "id": "b0a652be-0ff4-4960-a977-16ee68ec25b4",
   "metadata": {},
   "outputs": [],
   "source": [
    "p_value_reg"
   ]
  },
  {
   "cell_type": "code",
   "execution_count": null,
   "id": "ed6b40a9-a2f8-4e8a-8ea4-01acbc5bc7c1",
   "metadata": {},
   "outputs": [],
   "source": []
  },
  {
   "cell_type": "code",
   "execution_count": null,
   "id": "a6496f5c-f68d-4b4c-a74f-2c2d5c49cf42",
   "metadata": {},
   "outputs": [],
   "source": [
    "import numpy as np\n",
    "from scipy.stats import spearmanr, kendalltau"
   ]
  },
  {
   "cell_type": "code",
   "execution_count": null,
   "id": "a6138d47-417e-47bc-9b38-728495601935",
   "metadata": {},
   "outputs": [],
   "source": [
    "np.random.seed(0)\n",
    "n = 100"
   ]
  },
  {
   "cell_type": "code",
   "execution_count": null,
   "id": "21285eef-5244-45ee-be72-82761755d186",
   "metadata": {},
   "outputs": [],
   "source": [
    "rend = np.random.normal(70,10,n)\n",
    "auto = np.random.normal(50,15,n)"
   ]
  },
  {
   "cell_type": "code",
   "execution_count": null,
   "id": "0bd4360f-5bbd-4e00-a74b-1a2497fc72d1",
   "metadata": {},
   "outputs": [],
   "source": [
    "coef_spearman, p_val_spear = spearmanr(rend,auto)\n",
    "coef_spearman, p_val_spear"
   ]
  },
  {
   "cell_type": "code",
   "execution_count": null,
   "id": "16851eba-abd9-4827-a809-1dcceac433c3",
   "metadata": {},
   "outputs": [],
   "source": [
    "coef_k, p_val_k = kendalltau(rend,auto)\n",
    "coef_k, p_val_k"
   ]
  },
  {
   "cell_type": "code",
   "execution_count": null,
   "id": "b4cb0ef9-77aa-4382-aa20-b2e0ee160919",
   "metadata": {},
   "outputs": [],
   "source": []
  },
  {
   "cell_type": "code",
   "execution_count": null,
   "id": "28313ec7-dba2-438b-9c78-94ba69f32fd4",
   "metadata": {},
   "outputs": [],
   "source": []
  }
 ],
 "metadata": {
  "kernelspec": {
   "display_name": "Python 3 (ipykernel)",
   "language": "python",
   "name": "python3"
  },
  "language_info": {
   "codemirror_mode": {
    "name": "ipython",
    "version": 3
   },
   "file_extension": ".py",
   "mimetype": "text/x-python",
   "name": "python",
   "nbconvert_exporter": "python",
   "pygments_lexer": "ipython3",
   "version": "3.10.12"
  }
 },
 "nbformat": 4,
 "nbformat_minor": 5
}
