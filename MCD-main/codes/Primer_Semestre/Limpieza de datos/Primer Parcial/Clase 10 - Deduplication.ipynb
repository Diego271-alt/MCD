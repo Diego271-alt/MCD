{
 "cells": [
  {
   "cell_type": "code",
   "execution_count": null,
   "id": "d844dce4-d959-4f17-8783-8b407e90a2e8",
   "metadata": {},
   "outputs": [],
   "source": [
    "import pandas as pd\n",
    "import dedupe.variables\n",
    "import dedupe\n",
    "import os"
   ]
  },
  {
   "cell_type": "code",
   "execution_count": null,
   "id": "89a9498f-9639-4f5f-b34f-36217aade061",
   "metadata": {},
   "outputs": [],
   "source": [
    "customers = pd.read_csv(\n",
    "    \"https://raw.githubusercontent.com/kjam/data-cleaning-101/refs/heads/master/data/customer_data_duped.csv\",\n",
    "    encoding=\"utf-8\"\n",
    ")"
   ]
  },
  {
   "cell_type": "code",
   "execution_count": null,
   "id": "39a8acae-aea6-486e-802b-63f247166e7a",
   "metadata": {},
   "outputs": [],
   "source": [
    "customers.dtypes"
   ]
  },
  {
   "cell_type": "code",
   "execution_count": null,
   "id": "9d2d9e03-b0b2-4855-a550-48133793c4e9",
   "metadata": {},
   "outputs": [],
   "source": [
    "for col in customers.columns:\n",
    "    print(col, customers[col].isnull().sum())"
   ]
  },
  {
   "cell_type": "code",
   "execution_count": null,
   "id": "7f4bb535-a594-4380-8d08-d66ad62987b7",
   "metadata": {},
   "outputs": [],
   "source": [
    "customers[customers.duplicated()]"
   ]
  },
  {
   "cell_type": "code",
   "execution_count": null,
   "id": "ff635a5e-c883-49fb-b7c6-f228501505d4",
   "metadata": {},
   "outputs": [],
   "source": [
    "features = [\n",
    "    dedupe.variables.String(\"name\"),\n",
    "    dedupe.variables.String(\"job\"),\n",
    "    dedupe.variables.String(\"company\"),\n",
    "    dedupe.variables.String(\"street_address\"),\n",
    "    dedupe.variables.String(\"city\"),\n",
    "    dedupe.variables.String(\"state\", has_missing=True),\n",
    "    dedupe.variables.String(\"email\", has_missing=True),\n",
    "    dedupe.variables.String(\"user_name\"),\n",
    "]"
   ]
  },
  {
   "cell_type": "code",
   "execution_count": null,
   "id": "184ef005-d2ed-4030-ac39-9f4cd5b6fd66",
   "metadata": {},
   "outputs": [],
   "source": [
    "deduper = dedupe.Dedupe(features)"
   ]
  },
  {
   "cell_type": "code",
   "execution_count": null,
   "id": "95ab9aa6-7134-4e70-8d46-e15310458443",
   "metadata": {},
   "outputs": [],
   "source": [
    "deduper.prepare_training(customers.T.to_dict())"
   ]
  },
  {
   "cell_type": "code",
   "execution_count": null,
   "id": "5e29b2cc-046f-4a12-98a8-e6deffb0ac26",
   "metadata": {},
   "outputs": [],
   "source": [
    "dedupe.console_label(deduper)"
   ]
  },
  {
   "cell_type": "code",
   "execution_count": null,
   "id": "d27213ba-9c2b-4ff6-8afa-96acfe1e0490",
   "metadata": {},
   "outputs": [],
   "source": [
    "settings_file = \"data/train/learning_settings\"\n",
    "if os.path.exists(settings_file):\n",
    "    with open(settings_file, \"rb\") as f:\n",
    "        deduper = dedupe.StaticDedupe(f)\n",
    "else:\n",
    "    deduper.train(index_predicates=True)\n",
    "    with open(settings_file, \"wb\") as sf:\n",
    "        deduper.write_settings(sf)"
   ]
  },
  {
   "cell_type": "code",
   "execution_count": null,
   "id": "48af2a82-f3cb-4213-b83a-3364c5925d5d",
   "metadata": {},
   "outputs": [],
   "source": [
    "dupes = deduper.partition(customers.T.to_dict())\n",
    "dupes"
   ]
  },
  {
   "cell_type": "code",
   "execution_count": null,
   "id": "6f14a584-bd7b-44d2-a04a-8e8185275022",
   "metadata": {},
   "outputs": [],
   "source": [
    "customers.iloc[[136,1360]]"
   ]
  },
  {
   "cell_type": "code",
   "execution_count": null,
   "id": "c541e8eb-e9bd-451c-bec9-40259f0f37e4",
   "metadata": {},
   "outputs": [],
   "source": []
  }
 ],
 "metadata": {
  "kernelspec": {
   "display_name": "Python 3 (ipykernel)",
   "language": "python",
   "name": "python3"
  },
  "language_info": {
   "codemirror_mode": {
    "name": "ipython",
    "version": 3
   },
   "file_extension": ".py",
   "mimetype": "text/x-python",
   "name": "python",
   "nbconvert_exporter": "python",
   "pygments_lexer": "ipython3",
   "version": "3.10.12"
  }
 },
 "nbformat": 4,
 "nbformat_minor": 5
}
