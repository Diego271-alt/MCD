{
 "cells": [
  {
   "cell_type": "code",
   "execution_count": null,
   "id": "7f645cb0-67df-4649-aa1f-48ea1d12fd89",
   "metadata": {},
   "outputs": [],
   "source": [
    "import pandas as pd\n",
    "import numpy as np\n",
    "import seaborn as sns\n",
    "import matplotlib.pyplot as plt\n",
    "from statsmodels.graphics.gofplots import qqplot\n",
    "import dedupe.variables\n",
    "import dedupe\n",
    "import os"
   ]
  },
  {
   "cell_type": "code",
   "execution_count": null,
   "id": "4bbad31e-47f6-4736-a457-fbd15dd9947b",
   "metadata": {},
   "outputs": [],
   "source": [
    "df = pd.read_csv(\n",
    "    \"https://raw.githubusercontent.com/justmarkham/DAT8/refs/heads/master/data/chipotle.tsv\",\n",
    "    delimiter = '\\t',\n",
    "    encoding = 'utf-8',\n",
    "    dtype=str\n",
    ")"
   ]
  },
  {
   "cell_type": "code",
   "execution_count": null,
   "id": "b3455696-7951-4942-8e55-64de0d92b243",
   "metadata": {},
   "outputs": [],
   "source": [
    "for col in df.columns:\n",
    "    print(col, df[col].isnull().sum())"
   ]
  },
  {
   "cell_type": "code",
   "execution_count": null,
   "id": "749829f9-5e36-4402-a69d-e8aede55d597",
   "metadata": {},
   "outputs": [],
   "source": [
    "df['item_price'] = df['item_price'].replace({'\\$': ''}, regex=True).replace({'\\.': ','}, regex=True).astype(str)"
   ]
  },
  {
   "cell_type": "code",
   "execution_count": null,
   "id": "22b2967d-5feb-40ad-8c8b-9fd07f373bfc",
   "metadata": {},
   "outputs": [],
   "source": [
    "df"
   ]
  },
  {
   "cell_type": "code",
   "execution_count": null,
   "id": "e4e4e8f1-e0f1-46b6-97a5-ff3a40824ebe",
   "metadata": {},
   "outputs": [],
   "source": [
    "features = [\n",
    "    dedupe.variables.String(\"order_id\"),\n",
    "    dedupe.variables.String(\"quantity\"),\n",
    "    dedupe.variables.String(\"item_name\"),\n",
    "    dedupe.variables.String(\"choice_description\", has_missing=True),\n",
    "    dedupe.variables.String(\"item_price\")\n",
    "]"
   ]
  },
  {
   "cell_type": "code",
   "execution_count": null,
   "id": "4d7072ad-282c-4805-ac17-72c74a98e0d4",
   "metadata": {},
   "outputs": [],
   "source": [
    "deduper = dedupe.Dedupe(features)"
   ]
  },
  {
   "cell_type": "code",
   "execution_count": null,
   "id": "8dc0e59a-5389-4746-81cd-63a0dc9b0090",
   "metadata": {},
   "outputs": [],
   "source": [
    "df[df.duplicated()].sort_values(\"item_name\")"
   ]
  },
  {
   "cell_type": "code",
   "execution_count": null,
   "id": "51c30df4-cefa-4468-8702-7fb866b229e5",
   "metadata": {},
   "outputs": [],
   "source": [
    "df"
   ]
  },
  {
   "cell_type": "code",
   "execution_count": null,
   "id": "387a7a5b-2087-45c9-acae-421f0e69e0d6",
   "metadata": {},
   "outputs": [],
   "source": [
    "df[\"quantity\"].mean()"
   ]
  },
  {
   "cell_type": "code",
   "execution_count": null,
   "id": "cbb93923-3118-4151-943c-db2f0ced8654",
   "metadata": {},
   "outputs": [],
   "source": [
    "fig, axs = plt.subplots(nrows=1, ncols=2, figsize=(20,6))\n",
    "fig.suptitle(\"Features vs Class\\n\", size = 18)\n",
    "\n",
    "axs[0].hist(df[\"quantity\"], bins=60, linewidth = 0.5, edgecolor=\"White\")\n",
    "axs[0].set_title(\"quantity Dist\")\n",
    "\n",
    "axs[1].hist(df[\"item_price\"], bins=60, linewidth = 0.5, edgecolor=\"White\")\n",
    "axs[1].set_title(\"item_price Dist\")"
   ]
  },
  {
   "cell_type": "markdown",
   "id": "88608360-4f07-479e-8da9-34a84ada5a60",
   "metadata": {},
   "source": [
    "## Outliers"
   ]
  },
  {
   "cell_type": "code",
   "execution_count": null,
   "id": "6561c795-9306-44a5-9d9f-d966d0dac0e4",
   "metadata": {},
   "outputs": [],
   "source": [
    "def Zcore_outlier(df):\n",
    "    outliers = []\n",
    "    mean = np.mean(df)\n",
    "    sd = np.std(df)\n",
    "    for i in df:\n",
    "        z = (i - mean) / sd\n",
    "        if np.abs(z) > 3:\n",
    "            outliers.append(i)\n",
    "    return outliers"
   ]
  },
  {
   "cell_type": "code",
   "execution_count": null,
   "id": "0b46efe5-d186-45a5-a427-e36395f65ded",
   "metadata": {},
   "outputs": [],
   "source": [
    "def box_plot(df):\n",
    "    plt.title(\"Box plot\")\n",
    "    sns.boxplot(df)\n",
    "    plt.show()"
   ]
  },
  {
   "cell_type": "code",
   "execution_count": null,
   "id": "c7df1592-fd92-4137-ac6c-2882eec9ee58",
   "metadata": {},
   "outputs": [],
   "source": [
    "def qqplots(df):\n",
    "    qqplot(df, line='s')\n",
    "    plt.title(\"Normal QQPlot\")\n",
    "    plt.show()"
   ]
  },
  {
   "cell_type": "code",
   "execution_count": null,
   "id": "2860abe8-f9d1-4107-bca2-73e8125347c7",
   "metadata": {},
   "outputs": [],
   "source": [
    "def dist_plot(df):\n",
    "    sns.histplot(df, kde=True, linewidth=0)\n",
    "    plt.title(\"Distribution Plot\")\n",
    "    sns.despine()\n",
    "    plt.show()"
   ]
  },
  {
   "cell_type": "code",
   "execution_count": null,
   "id": "59f011f3-cee8-4ba1-9277-31b68229257f",
   "metadata": {},
   "outputs": [],
   "source": [
    "max(Zcore_outlier(df[\"item_price\"])), df[\"item_price\"].mean()"
   ]
  },
  {
   "cell_type": "code",
   "execution_count": null,
   "id": "269571dc-b83b-4663-a521-fd2fb92e5045",
   "metadata": {},
   "outputs": [],
   "source": [
    "box_plot(df[\"item_price\"])"
   ]
  },
  {
   "cell_type": "code",
   "execution_count": null,
   "id": "4dd26fdb-0eb6-4329-9c8f-0b40287d6bdb",
   "metadata": {},
   "outputs": [],
   "source": [
    "qqplots(df[\"item_price\"])"
   ]
  },
  {
   "cell_type": "code",
   "execution_count": null,
   "id": "754e6203-7976-4809-85f3-1b26252549b9",
   "metadata": {},
   "outputs": [],
   "source": [
    "print(Zcore_outlier(df[\"quantity\"]))"
   ]
  },
  {
   "cell_type": "code",
   "execution_count": null,
   "id": "eee0a4d1-b705-4454-b0d2-1c16fdfe27e6",
   "metadata": {},
   "outputs": [],
   "source": [
    "dist_plot(df[\"quantity\"])"
   ]
  },
  {
   "cell_type": "code",
   "execution_count": null,
   "id": "ec2e7504-208d-4997-bce7-783ad138fedd",
   "metadata": {},
   "outputs": [],
   "source": [
    "dummies = pd.get_dummies(df.item_name)"
   ]
  },
  {
   "cell_type": "code",
   "execution_count": null,
   "id": "408a9cba-5b4e-42c7-a453-661c4aa38a02",
   "metadata": {},
   "outputs": [],
   "source": [
    "merged = pd.concat([df,dummies],axis=1)"
   ]
  },
  {
   "cell_type": "code",
   "execution_count": null,
   "id": "83ebeb58-85b1-4d6d-80e4-4e874b1e4b13",
   "metadata": {},
   "outputs": [],
   "source": [
    "merged"
   ]
  },
  {
   "cell_type": "code",
   "execution_count": null,
   "id": "d0e33d60-5dab-4917-a31a-85a39ea12f45",
   "metadata": {},
   "outputs": [],
   "source": []
  }
 ],
 "metadata": {
  "kernelspec": {
   "display_name": "Python 3 (ipykernel)",
   "language": "python",
   "name": "python3"
  },
  "language_info": {
   "codemirror_mode": {
    "name": "ipython",
    "version": 3
   },
   "file_extension": ".py",
   "mimetype": "text/x-python",
   "name": "python",
   "nbconvert_exporter": "python",
   "pygments_lexer": "ipython3",
   "version": "3.10.12"
  }
 },
 "nbformat": 4,
 "nbformat_minor": 5
}
