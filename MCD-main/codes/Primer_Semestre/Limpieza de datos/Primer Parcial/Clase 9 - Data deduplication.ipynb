{
 "cells": [
  {
   "cell_type": "code",
   "execution_count": null,
   "id": "ea4a2f87-6acb-4bdd-a3bd-af896e02c136",
   "metadata": {},
   "outputs": [],
   "source": [
    "import numpy as np"
   ]
  },
  {
   "cell_type": "code",
   "execution_count": null,
   "id": "7362c964-bf2a-42a9-bc61-6e16e753a0e2",
   "metadata": {},
   "outputs": [],
   "source": [
    "def printDistances(distances, token1_length, token2_length):\n",
    "    for t1 in range(token1_length + 1):\n",
    "        for t2 in range(token2_length + 1):\n",
    "            print(int(distances[t1][t2]), end = \" \")\n",
    "        print()"
   ]
  },
  {
   "cell_type": "code",
   "execution_count": null,
   "id": "8830ce2c-b994-4e77-8c48-008d28441a22",
   "metadata": {},
   "outputs": [],
   "source": [
    "def levenshteinDistance(token1, token2):\n",
    "    distances = np.zeros([len(token1) + 1, len(token2) + 1])\n",
    "\n",
    "    for t1 in range(len(token1) + 1):\n",
    "        distances[t1][0] = t1\n",
    "    for t2 in range(len(token2) + 1):\n",
    "        distances[0][t2] = t2\n",
    "\n",
    "    a = 0\n",
    "    b = 0\n",
    "    c = 0\n",
    "    for t1 in range(1, len(token1) + 1):\n",
    "        for t2 in range(1, len(token2) + 1):\n",
    "            if (token1[t1 - 1] == token2[t2 - 1]):\n",
    "                distances[t1][t2] = distances[t1 - 1][t2 - 1]\n",
    "            else:\n",
    "                a = distances[t1][t2 - 1]\n",
    "                b = distances[t1 - 1][t2]\n",
    "                c = distances[t1 - 1][t2 - 1]\n",
    "                if (a <= b and a <= c):\n",
    "                    distances[t1][t2] = a + 1\n",
    "                elif (b <= a and b <= c):\n",
    "                    distances[t1][t2] = b + 1\n",
    "                else:\n",
    "                    distances[t1][t2] = c + 1\n",
    "\n",
    "    printDistances(distances, len(token1), len(token2))\n",
    "    return distances[len(token1)][len(token2)]"
   ]
  },
  {
   "cell_type": "code",
   "execution_count": null,
   "id": "cd1d6db6-03ee-48fd-8a12-3c1c2e306f41",
   "metadata": {},
   "outputs": [],
   "source": [
    "levenshteinDistance(\"Hola a todos\",\"ola a todxs\")"
   ]
  },
  {
   "cell_type": "code",
   "execution_count": null,
   "id": "afe5011f-58dc-4b44-894c-8a8a1e57d307",
   "metadata": {},
   "outputs": [],
   "source": [
    "import nltk"
   ]
  },
  {
   "cell_type": "code",
   "execution_count": null,
   "id": "5a1a3658-aa3d-49cd-a85a-f3187d1afc4e",
   "metadata": {},
   "outputs": [],
   "source": [
    "s1 = \"Hola a todos\"\n",
    "s2 = \"ola a todxs\""
   ]
  },
  {
   "cell_type": "code",
   "execution_count": null,
   "id": "48e2728a-b185-4fdd-afb2-5b1063396226",
   "metadata": {},
   "outputs": [],
   "source": [
    "nltk.edit_distance(s1,s2)"
   ]
  },
  {
   "cell_type": "code",
   "execution_count": null,
   "id": "1614e324-ef19-4dc2-8f83-50a780fd4ec8",
   "metadata": {},
   "outputs": [],
   "source": []
  }
 ],
 "metadata": {
  "kernelspec": {
   "display_name": "Python 3 (ipykernel)",
   "language": "python",
   "name": "python3"
  },
  "language_info": {
   "codemirror_mode": {
    "name": "ipython",
    "version": 3
   },
   "file_extension": ".py",
   "mimetype": "text/x-python",
   "name": "python",
   "nbconvert_exporter": "python",
   "pygments_lexer": "ipython3",
   "version": "3.10.12"
  }
 },
 "nbformat": 4,
 "nbformat_minor": 5
}
