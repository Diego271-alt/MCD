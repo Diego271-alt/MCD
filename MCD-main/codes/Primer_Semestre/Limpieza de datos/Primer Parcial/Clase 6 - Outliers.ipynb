{
 "cells": [
  {
   "cell_type": "markdown",
   "id": "2a8d479d-765e-455e-95e0-1d1b5aa99fca",
   "metadata": {},
   "source": [
    "> José Ricardo Mendoza Villar"
   ]
  },
  {
   "cell_type": "code",
   "execution_count": null,
   "id": "33d4118f-eee6-4424-9fa7-3cb983aeed4e",
   "metadata": {},
   "outputs": [],
   "source": [
    "import numpy as np\n",
    "import pandas as pd\n",
    "import seaborn as sns\n",
    "import matplotlib.pyplot as plt"
   ]
  },
  {
   "cell_type": "code",
   "execution_count": null,
   "id": "7547cfd2-9da5-4188-ae8b-1b8cda7f4542",
   "metadata": {},
   "outputs": [],
   "source": [
    "df = pd.read_csv(\"data/Clase_6/creditcard.csv\")"
   ]
  },
  {
   "cell_type": "code",
   "execution_count": null,
   "id": "96360980-da69-44e1-8934-ad5b4620c677",
   "metadata": {},
   "outputs": [],
   "source": [
    "feature_list = [f'V{i}'for i in range(1,28)] + [\"Amount\"]"
   ]
  },
  {
   "cell_type": "code",
   "execution_count": null,
   "id": "0b05ecab-1df1-45b3-9393-93d0e342989f",
   "metadata": {},
   "outputs": [],
   "source": [
    "fig, axs = plt.subplots(nrows=1, ncols=3, figsize=(11,8))\n",
    "fig.suptitle(\"Features vs Class\\n\", size = 18)\n",
    " \n",
    "sns.boxplot(ax=axs[0], data=df, x='Class', y='V1')\n",
    "axs[0].set_title(\"V1 Distribution\")\n",
    "\n",
    "sns.boxplot(ax=axs[1], data=df, x='Class', y='V2')\n",
    "axs[1].set_title(\"V2 Distribution\")\n",
    "\n",
    "sns.boxplot(ax=axs[2], data=df, x='Class', y='V17')\n",
    "axs[2].set_title(\"V17 Distribution\")\n"
   ]
  },
  {
   "cell_type": "code",
   "execution_count": null,
   "id": "0812c0d5-6806-4700-bf98-4e747ede7465",
   "metadata": {},
   "outputs": [],
   "source": [
    "fig, axs = plt.subplots(nrows=1, ncols=3, figsize=(20,6))\n",
    "fig.suptitle(\"Features vs Class\\n\", size = 18)\n",
    "\n",
    "axs[0].hist(df[\"V1\"], bins=60, linewidth = 0.5, edgecolor=\"White\")\n",
    "axs[0].set_title(\"V1 Dist\")\n",
    "\n",
    "axs[1].hist(df[\"V17\"], bins=60, linewidth = 0.5, edgecolor=\"White\")\n",
    "axs[1].set_title(\"V17 Dist\")\n",
    "\n",
    "axs[2].hist(df[\"V22\"], bins=60, linewidth = 0.5, edgecolor=\"White\")\n",
    "axs[2].set_title(\"V22 Dist\")"
   ]
  },
  {
   "cell_type": "code",
   "execution_count": null,
   "id": "67906b57-d881-4d2a-8a9c-9b90417e9ec0",
   "metadata": {},
   "outputs": [],
   "source": [
    "from collections import Counter\n",
    "def IQR_method(df, n, features):\n",
    "    outliers_list = []\n",
    "    for column in features:\n",
    "        Q1 = np.percentile(df[column], 25)\n",
    "        Q3 = np.percentile(df[column], 75)\n",
    "        IQR = Q3 - Q1\n",
    "        outlier_step = 1.5 * IQR\n",
    "        outlier_list_column = df[(df[column] < Q1 - outlier_step) | (df[column] > Q3 + outlier_step)].index\n",
    "        outliers_list.extend(outlier_list_column)\n",
    "    outliers_list = Counter(outliers_list)\n",
    "    multiple_outliers = [k for k,v in outliers_list.items() if v > n]\n",
    "    return multiple_outliers"
   ]
  },
  {
   "cell_type": "code",
   "execution_count": null,
   "id": "edcfb059-544a-48f5-b780-28f1b613e446",
   "metadata": {},
   "outputs": [],
   "source": [
    "outliers = IQR_method(df, 1, feature_list)"
   ]
  },
  {
   "cell_type": "code",
   "execution_count": null,
   "id": "0393bfd4-dff3-4622-ba43-c78cd6961577",
   "metadata": {},
   "outputs": [],
   "source": [
    "df_out = df.drop(outliers, axis = 0).reset_index(drop=True)"
   ]
  },
  {
   "cell_type": "code",
   "execution_count": null,
   "id": "9c16821c-73a7-4d4e-95b6-fafa16b80d9c",
   "metadata": {},
   "outputs": [],
   "source": [
    "fig, axs = plt.subplots(nrows=1, ncols=3, figsize=(20,6))\n",
    "fig.suptitle(\"Features vs Class\\n\", size = 18)\n",
    "\n",
    "axs[0].hist(df_out[\"V1\"], bins=60, linewidth = 0.5, edgecolor=\"White\")\n",
    "axs[0].set_title(\"V1 Dist\")\n",
    "\n",
    "axs[1].hist(df_out[\"V17\"], bins=60, linewidth = 0.5, edgecolor=\"White\")\n",
    "axs[1].set_title(\"V17 Dist\")\n",
    "\n",
    "axs[2].hist(df_out[\"V22\"], bins=60, linewidth = 0.5, edgecolor=\"White\")\n",
    "axs[2].set_title(\"V22 Dist\")"
   ]
  },
  {
   "cell_type": "code",
   "execution_count": null,
   "id": "2e57e35f-930d-45fb-84d4-f1b3fa45f894",
   "metadata": {},
   "outputs": [],
   "source": []
  }
 ],
 "metadata": {
  "kernelspec": {
   "display_name": "Python 3 (ipykernel)",
   "language": "python",
   "name": "python3"
  },
  "language_info": {
   "codemirror_mode": {
    "name": "ipython",
    "version": 3
   },
   "file_extension": ".py",
   "mimetype": "text/x-python",
   "name": "python",
   "nbconvert_exporter": "python",
   "pygments_lexer": "ipython3",
   "version": "3.10.12"
  }
 },
 "nbformat": 4,
 "nbformat_minor": 5
}
