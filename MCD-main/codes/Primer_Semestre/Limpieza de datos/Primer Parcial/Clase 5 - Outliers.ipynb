{
 "cells": [
  {
   "cell_type": "markdown",
   "id": "2a8d479d-765e-455e-95e0-1d1b5aa99fca",
   "metadata": {},
   "source": [
    "> José Ricardo Mendoza Villar"
   ]
  },
  {
   "cell_type": "code",
   "execution_count": null,
   "id": "33d4118f-eee6-4424-9fa7-3cb983aeed4e",
   "metadata": {},
   "outputs": [],
   "source": [
    "import numpy as np\n",
    "import pandas as pd\n",
    "import seaborn as sns\n",
    "import matplotlib.pyplot as plt\n",
    "from statsmodels.graphics.gofplots import qqplot"
   ]
  },
  {
   "cell_type": "code",
   "execution_count": null,
   "id": "22d03109-11d4-48a8-98b1-8cc1ed7e3644",
   "metadata": {},
   "outputs": [],
   "source": [
    "plt.figure(figsize=(10,4))"
   ]
  },
  {
   "cell_type": "code",
   "execution_count": null,
   "id": "642be8ff-85ce-4369-af72-a115eaf2baa9",
   "metadata": {},
   "outputs": [],
   "source": [
    "def Zcore_outlier(df):\n",
    "    outliers = []\n",
    "    mean = np.mean(df)\n",
    "    sd = np.std(df)\n",
    "    for i in df:\n",
    "        z = (i - mean) / sd\n",
    "        if np.abs(z) > 3:\n",
    "            outliers.append(i)\n",
    "    return outliers"
   ]
  },
  {
   "cell_type": "code",
   "execution_count": null,
   "id": "89c4e85a-9bb5-43ce-a055-f27047bc5981",
   "metadata": {},
   "outputs": [],
   "source": [
    "def box_plot(df):\n",
    "    plt.title(\"Box plot\")\n",
    "    sns.boxplot(df)\n",
    "    plt.show()"
   ]
  },
  {
   "cell_type": "code",
   "execution_count": null,
   "id": "00dfc24f-0d72-4ba7-b33d-0d59056cc1ee",
   "metadata": {},
   "outputs": [],
   "source": [
    "def hist_plot(df):\n",
    "    plt.hist(df)\n",
    "    plt.title(\"Histrogram Plot\")\n",
    "    plt.show()"
   ]
  },
  {
   "cell_type": "code",
   "execution_count": null,
   "id": "1aa97505-78a4-4b1d-987e-7fc559ae22a2",
   "metadata": {},
   "outputs": [],
   "source": [
    "def dist_plot(df):\n",
    "    sns.histplot(df, kde=True, linewidth=0)\n",
    "    plt.title(\"Distribution Plot\")\n",
    "    sns.despine()\n",
    "    plt.show()"
   ]
  },
  {
   "cell_type": "code",
   "execution_count": null,
   "id": "91492ac9-ec27-4ad7-89b4-e7f3d82c3437",
   "metadata": {},
   "outputs": [],
   "source": [
    "def qqplots(df):\n",
    "    qqplot(df, line='s')\n",
    "    plt.title(\"Normal QQPlot\")\n",
    "    plt.show()"
   ]
  },
  {
   "cell_type": "code",
   "execution_count": null,
   "id": "7547cfd2-9da5-4188-ae8b-1b8cda7f4542",
   "metadata": {},
   "outputs": [],
   "source": [
    "df = pd.read_csv(\"data/Clase_5/train.csv\")"
   ]
  },
  {
   "cell_type": "markdown",
   "id": "05b54307-61ce-4253-a027-9d511458360a",
   "metadata": {},
   "source": [
    "***\n",
    "# Variable 1\n",
    "#### GrLivArea"
   ]
  },
  {
   "cell_type": "code",
   "execution_count": null,
   "id": "423ab679-651c-4f1c-b105-1dcb07ee3d51",
   "metadata": {},
   "outputs": [],
   "source": [
    "print(Zcore_outlier(df[\"GrLivArea\"]))"
   ]
  },
  {
   "cell_type": "code",
   "execution_count": null,
   "id": "66053676-8785-4607-82c3-33c14f96b3fd",
   "metadata": {},
   "outputs": [],
   "source": [
    "box_plot(df[\"GrLivArea\"])"
   ]
  },
  {
   "cell_type": "code",
   "execution_count": null,
   "id": "76dfaf89-9a7f-49cd-9e05-93b89f75764b",
   "metadata": {},
   "outputs": [],
   "source": [
    "hist_plot(df[\"GrLivArea\"])"
   ]
  },
  {
   "cell_type": "code",
   "execution_count": null,
   "id": "f26e9c64-8717-4e41-b650-7ed6de4028c0",
   "metadata": {},
   "outputs": [],
   "source": [
    "dist_plot(df[\"GrLivArea\"])"
   ]
  },
  {
   "cell_type": "code",
   "execution_count": null,
   "id": "1f6a3a84-1487-4513-9b14-862536d2bc9e",
   "metadata": {},
   "outputs": [],
   "source": [
    "qqplots(df[\"GrLivArea\"])"
   ]
  },
  {
   "cell_type": "markdown",
   "id": "4de3ce22-2e88-44c7-bd61-8f26e44a7e6c",
   "metadata": {
    "execution": {
     "iopub.execute_input": "2024-10-18T05:48:59.005212Z",
     "iopub.status.busy": "2024-10-18T05:48:59.001769Z",
     "iopub.status.idle": "2024-10-18T05:48:59.025269Z",
     "shell.execute_reply": "2024-10-18T05:48:59.023334Z",
     "shell.execute_reply.started": "2024-10-18T05:48:59.005091Z"
    }
   },
   "source": [
    "***\n",
    "# Variable 2\n",
    "#### OverallQual"
   ]
  },
  {
   "cell_type": "code",
   "execution_count": null,
   "id": "a0898e69-53bd-4ae6-8e5b-df04fede556a",
   "metadata": {},
   "outputs": [],
   "source": [
    "print(Zcore_outlier(df[\"OverallQual\"]))"
   ]
  },
  {
   "cell_type": "code",
   "execution_count": null,
   "id": "fb6b2532-5c8d-4fbc-bfb3-4bb81e25a30b",
   "metadata": {},
   "outputs": [],
   "source": [
    "box_plot(df[\"OverallQual\"])"
   ]
  },
  {
   "cell_type": "code",
   "execution_count": null,
   "id": "73e8126b-c717-4457-80bd-a5c0f15f7e2e",
   "metadata": {},
   "outputs": [],
   "source": [
    "hist_plot(df[\"OverallQual\"])"
   ]
  },
  {
   "cell_type": "code",
   "execution_count": null,
   "id": "95125f4b-d457-472a-88a4-3019af9d2576",
   "metadata": {},
   "outputs": [],
   "source": [
    "dist_plot(df[\"OverallQual\"])"
   ]
  },
  {
   "cell_type": "code",
   "execution_count": null,
   "id": "b18fe3ac-4a03-4a3f-86fb-eebb75790b92",
   "metadata": {},
   "outputs": [],
   "source": [
    "qqplots(df[\"OverallQual\"])"
   ]
  },
  {
   "cell_type": "markdown",
   "id": "45a619d9-5d3d-4c55-8576-1a95e9e8abde",
   "metadata": {
    "execution": {
     "iopub.execute_input": "2024-10-18T05:52:58.465838Z",
     "iopub.status.busy": "2024-10-18T05:52:58.462704Z",
     "iopub.status.idle": "2024-10-18T05:52:58.490981Z",
     "shell.execute_reply": "2024-10-18T05:52:58.482061Z",
     "shell.execute_reply.started": "2024-10-18T05:52:58.465716Z"
    }
   },
   "source": [
    "***\n",
    "# Variable 3\n",
    "#### GarageCars"
   ]
  },
  {
   "cell_type": "code",
   "execution_count": null,
   "id": "b9a0f909-f2f0-426e-aff2-80a07a9937a3",
   "metadata": {},
   "outputs": [],
   "source": [
    "print(Zcore_outlier(df[\"GarageCars\"]))"
   ]
  },
  {
   "cell_type": "code",
   "execution_count": null,
   "id": "64a14d98-4f48-4c65-b324-306a74ff482e",
   "metadata": {},
   "outputs": [],
   "source": [
    "box_plot(df[\"GarageCars\"])"
   ]
  },
  {
   "cell_type": "code",
   "execution_count": null,
   "id": "79d13dba-cc80-40e9-abad-d39d6aa23461",
   "metadata": {},
   "outputs": [],
   "source": [
    "hist_plot(df[\"GarageCars\"])"
   ]
  },
  {
   "cell_type": "code",
   "execution_count": null,
   "id": "2a5246ca-1245-4d1e-b49a-3a80a6352240",
   "metadata": {},
   "outputs": [],
   "source": [
    "dist_plot(df[\"GarageCars\"])"
   ]
  },
  {
   "cell_type": "code",
   "execution_count": null,
   "id": "2a011e7c-0520-4167-bdc3-6def558c9680",
   "metadata": {},
   "outputs": [],
   "source": [
    "qqplots(df[\"GarageCars\"])"
   ]
  },
  {
   "cell_type": "markdown",
   "id": "ad56c45d-fc7e-469c-b9dd-359a83fd1c25",
   "metadata": {},
   "source": [
    "***\n",
    "## Conclusión\n",
    "En general todos estos mecanimos de detección de atípicos representan un buen punto de partida para buscar soluciones a este interesante problema, particularmente con estas 3 variables seleccionadas se puede notar con el diagrama de caja y brazos, la métrica de zcore, el qqplot y los histogramas tanto téoricos como estimaciones una cierta tendencia a que todos coinciden con que los valores se encuentran fuera de cierto umbral, la última variable **GarageCars** se me hizo enriquecedora porque pese a que el zcore no presentó ningún atípico en su cálculo el resto de métodos mostraban cierta tendencia a valores atípicos para las cifras cercanas al 4, que al ser una cola pequeña por el lado derecho esto genera cierta asímitría haciendo que el cálculo se vea un poco sesgado por la característica de los datos"
   ]
  },
  {
   "cell_type": "code",
   "execution_count": null,
   "id": "96360980-da69-44e1-8934-ad5b4620c677",
   "metadata": {},
   "outputs": [],
   "source": []
  }
 ],
 "metadata": {
  "kernelspec": {
   "display_name": "Python 3 (ipykernel)",
   "language": "python",
   "name": "python3"
  },
  "language_info": {
   "codemirror_mode": {
    "name": "ipython",
    "version": 3
   },
   "file_extension": ".py",
   "mimetype": "text/x-python",
   "name": "python",
   "nbconvert_exporter": "python",
   "pygments_lexer": "ipython3",
   "version": "3.10.12"
  }
 },
 "nbformat": 4,
 "nbformat_minor": 5
}
