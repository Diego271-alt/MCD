{
 "cells": [
  {
   "cell_type": "markdown",
   "id": "fd5d2226-ab92-4870-9bfb-21414682bee4",
   "metadata": {},
   "source": [
    "**Autor:** Jose Ricardo Mendoza Villar  \n",
    "371014 Limpieza y Manipulación de Datos  \n",
    "Primer examen parcial"
   ]
  },
  {
   "cell_type": "markdown",
   "id": "159bde02-31fa-4ea2-afe0-48123c272e18",
   "metadata": {},
   "source": [
    "***\n",
    "# General"
   ]
  },
  {
   "cell_type": "code",
   "execution_count": null,
   "id": "04d970df-4763-49f9-ac6e-6d9dd8a117ff",
   "metadata": {},
   "outputs": [],
   "source": [
    "HOME_PATH = \"data/Examen\""
   ]
  },
  {
   "cell_type": "code",
   "execution_count": null,
   "id": "9a5fb381-bab2-4d3c-aa5f-59c892d1d78c",
   "metadata": {},
   "outputs": [],
   "source": [
    "import nltk\n",
    "import numpy as np\n",
    "import pandas as pd\n",
    "import matplotlib.pyplot as plt\n",
    "import seaborn as sns\n",
    "from statsmodels.graphics.gofplots import qqplot"
   ]
  },
  {
   "cell_type": "code",
   "execution_count": null,
   "id": "2be4d901-326e-4e95-b44d-c4a61862b485",
   "metadata": {},
   "outputs": [],
   "source": [
    "def Zcore_outlier(df):\n",
    "    outliers = []\n",
    "    mean = np.mean(df)\n",
    "    sd = np.std(df)\n",
    "    for i in df:\n",
    "        z = (i - mean) / sd\n",
    "        if np.abs(z) > 3:\n",
    "            outliers.append(i)\n",
    "    return outliers"
   ]
  },
  {
   "cell_type": "code",
   "execution_count": null,
   "id": "9dc9fa1f-eff2-45ac-b4eb-a2b57cc57a6d",
   "metadata": {},
   "outputs": [],
   "source": [
    "def box_plot(df):\n",
    "    plt.title(\"Box plot\")\n",
    "    sns.boxplot(df)\n",
    "    plt.show()"
   ]
  },
  {
   "cell_type": "code",
   "execution_count": null,
   "id": "ae827893-f8d2-4c50-bb1c-f0d6b42c05ce",
   "metadata": {},
   "outputs": [],
   "source": [
    "def qqplots(df):\n",
    "    qqplot(df, line='s')\n",
    "    plt.title(\"Normal QQPlot\")\n",
    "    plt.show()"
   ]
  },
  {
   "cell_type": "code",
   "execution_count": null,
   "id": "effceb8f-d96e-44c5-af77-02479bd7aa3b",
   "metadata": {},
   "outputs": [],
   "source": [
    "def levenshteinDistance(token1, token2):\n",
    "    distances = np.zeros([len(token1) + 1, len(token2) + 1])\n",
    "\n",
    "    for t1 in range(len(token1) + 1):\n",
    "        distances[t1][0] = t1\n",
    "    for t2 in range(len(token2) + 1):\n",
    "        distances[0][t2] = t2\n",
    "\n",
    "    a = 0\n",
    "    b = 0\n",
    "    c = 0\n",
    "    for t1 in range(1, len(token1) + 1):\n",
    "        for t2 in range(1, len(token2) + 1):\n",
    "            if (token1[t1 - 1] == token2[t2 - 1]):\n",
    "                distances[t1][t2] = distances[t1 - 1][t2 - 1]\n",
    "            else:\n",
    "                a = distances[t1][t2 - 1]\n",
    "                b = distances[t1 - 1][t2]\n",
    "                c = distances[t1 - 1][t2 - 1]\n",
    "                if (a <= b and a <= c):\n",
    "                    distances[t1][t2] = a + 1\n",
    "                elif (b <= a and b <= c):\n",
    "                    distances[t1][t2] = b + 1\n",
    "                else:\n",
    "                    distances[t1][t2] = c + 1\n",
    "    return distances[len(token1)][len(token2)]"
   ]
  },
  {
   "cell_type": "markdown",
   "id": "c9b414bf-b51a-4925-8099-2ccc9b422f9a",
   "metadata": {},
   "source": [
    "***\n",
    "# Hipertensión arterial de población en México"
   ]
  },
  {
   "cell_type": "code",
   "execution_count": null,
   "id": "9f56a2e3-9754-4184-ae23-7498cff99ea3",
   "metadata": {},
   "outputs": [],
   "source": [
    "df = pd.read_csv(f\"{HOME_PATH}/Hipertension_Arterial_Mexico.csv\")"
   ]
  },
  {
   "cell_type": "code",
   "execution_count": null,
   "id": "3318ed97-2748-4ca9-8bdc-a1ff289dc169",
   "metadata": {},
   "outputs": [],
   "source": [
    "# ¿Cuántas variables contiene la base?\n",
    "len(df.columns)"
   ]
  },
  {
   "cell_type": "code",
   "execution_count": null,
   "id": "ce48d0e4-4533-4f3b-a044-984e57aeb9ea",
   "metadata": {},
   "outputs": [],
   "source": [
    "# ¿Cuántos registros contiene la base?\n",
    "len(df)"
   ]
  },
  {
   "cell_type": "code",
   "execution_count": null,
   "id": "1651217e-3c6a-4661-b707-8c4fc01b88f9",
   "metadata": {},
   "outputs": [],
   "source": [
    "# Realiza el histograma de la concentración de triglicéridos y sube la imagen o captura de pantalla.\n",
    "plt.hist(df[\"valor_trigliceridos\"], bins=15, linewidth = 0.5, edgecolor=\"White\")\n",
    "plt.title('Concentración de triglicéridos')\n",
    "plt.xlabel('Concentración de triglicéridos')\n",
    "plt.ylabel('Frecuencia')\n",
    "plt.show()"
   ]
  },
  {
   "cell_type": "code",
   "execution_count": null,
   "id": "817be6a1-b772-46cd-b507-bb2ba645ef5a",
   "metadata": {},
   "outputs": [],
   "source": [
    "# Respecto a la pregunta anterior, ¿existen datos atípicos? ¿cuáles son y por qué?\n",
    "print(Zcore_outlier(df[\"valor_trigliceridos\"]))\n",
    "print()\n",
    "print(min(Zcore_outlier(df[\"valor_trigliceridos\"])))"
   ]
  },
  {
   "cell_type": "code",
   "execution_count": null,
   "id": "f039cbae-f8eb-45c2-8868-45fc2a5cfba0",
   "metadata": {},
   "outputs": [],
   "source": [
    "box_plot(df[\"valor_trigliceridos\"])"
   ]
  },
  {
   "cell_type": "code",
   "execution_count": null,
   "id": "90dc4592-38c2-4986-b9c4-e92d762342ac",
   "metadata": {},
   "outputs": [],
   "source": [
    "qqplots(df[\"valor_trigliceridos\"])"
   ]
  },
  {
   "cell_type": "code",
   "execution_count": null,
   "id": "18c9054f-d4de-47e1-8a16-e43831636b7b",
   "metadata": {},
   "outputs": [],
   "source": [
    "# Selecciona la variable \"Tensión arterial\" y busca aquellos datos menores de 75, ¿son datos atípicos? ¿por qué?\n",
    "atipicos = np.array(Zcore_outlier(df[\"tension_arterial\"]))\n",
    "atipicos[atipicos < 75]"
   ]
  },
  {
   "cell_type": "code",
   "execution_count": null,
   "id": "03a72d40-946e-40e4-900f-4c26341a848b",
   "metadata": {},
   "outputs": [],
   "source": [
    "box_plot(df[\"tension_arterial\"])"
   ]
  },
  {
   "cell_type": "markdown",
   "id": "ab356598-d4c8-4e90-979c-1bf133ea817e",
   "metadata": {
    "execution": {
     "iopub.execute_input": "2024-11-26T04:20:14.553029Z",
     "iopub.status.busy": "2024-11-26T04:20:14.552717Z",
     "iopub.status.idle": "2024-11-26T04:20:14.561794Z",
     "shell.execute_reply": "2024-11-26T04:20:14.560311Z",
     "shell.execute_reply.started": "2024-11-26T04:20:14.553008Z"
    }
   },
   "source": [
    "***\n",
    "# COVID en Brazil"
   ]
  },
  {
   "cell_type": "code",
   "execution_count": null,
   "id": "e571ed1d-0703-4dd3-aef4-41dd4b107b2d",
   "metadata": {},
   "outputs": [],
   "source": [
    "covid_brazil = pd.read_csv(f\"{HOME_PATH}/brazil_covid19_old.csv\")"
   ]
  },
  {
   "cell_type": "code",
   "execution_count": null,
   "id": "5cc06ce6-ce49-48ac-8953-8e1691ec270f",
   "metadata": {},
   "outputs": [],
   "source": [
    "covid_brazil.shape, covid_brazil[covid_brazil.duplicated([\"date\", \"hour\", \"state\"],keep=False)].sort_values(by=[\"date\", \"hour\", \"state\"]).shape"
   ]
  },
  {
   "cell_type": "code",
   "execution_count": null,
   "id": "74c6884a-eab7-4d73-a4c3-3781fab43039",
   "metadata": {},
   "outputs": [],
   "source": [
    "# Busca datos duplicados respecto a las variables fecha y hora y comparte una captura de pantalla de ellos.\n",
    "covid_brazil[covid_brazil.duplicated([\"date\", \"hour\", \"state\"],keep=False)].sort_values(by=[\"date\", \"hour\", \"state\"])"
   ]
  },
  {
   "cell_type": "code",
   "execution_count": null,
   "id": "df19a59f-50c3-4889-8b58-60f3f62d944e",
   "metadata": {},
   "outputs": [],
   "source": [
    "# ¿Cuál es la distancia de Levenstein entre las frases 'Laura McGille rivestein' y 'Loura MCGile Levenstein'?\n",
    "s1 = 'Laura McGille rivestein'\n",
    "s2 = 'Loura MCGile Levenstein'\n",
    "nltk.edit_distance(s1,s2), levenshteinDistance(s1,s2)"
   ]
  },
  {
   "cell_type": "markdown",
   "id": "ab3f169c-ac7f-472f-9341-298e5f212279",
   "metadata": {},
   "source": [
    "***\n",
    "# Terrorismo global "
   ]
  },
  {
   "cell_type": "code",
   "execution_count": null,
   "id": "f175b923-1767-4e6a-9428-ec2d10771b82",
   "metadata": {},
   "outputs": [],
   "source": [
    "terrorismo_global = pd.read_csv(f\"{HOME_PATH}/globalterrorismdb_0718dist.csv\", encoding=\"ISO-8859-1\", low_memory=False)"
   ]
  },
  {
   "cell_type": "code",
   "execution_count": null,
   "id": "472a636f-d2d4-4be1-9cd0-ba24f5f28e69",
   "metadata": {},
   "outputs": [],
   "source": [
    "# ¿Cuál de las siguientes variables tiene más del 25% de valores faltantes?\n",
    "for col in [\"INT_ANY\", \"approxdate\", \"INT_MISC\", \"INT_LOG\"]:\n",
    "    print(col, terrorismo_global[col].isnull().sum() / terrorismo_global.shape[0] * 100)"
   ]
  },
  {
   "cell_type": "code",
   "execution_count": null,
   "id": "00395517-c04c-4510-b6cd-d1b324d4c958",
   "metadata": {},
   "outputs": [],
   "source": [
    "#Elimina las columnas que tienen más del 25% de valores perdidos, \n",
    "# luego crea un mapa de calor para datos perdidos\n",
    "mas_25_porciento = [col for col in terrorismo_global.columns if (terrorismo_global[col].isnull().sum() / terrorismo_global.shape[0]) > 0.25]\n",
    "terrorismo_global_reduce = terrorismo_global.drop(mas_25_porciento, axis=1)\n",
    "\n",
    "plt.figure(figsize=(16, 6))\n",
    "sns.heatmap(terrorismo_global_reduce.isnull(), cbar=False, cmap='viridis')\n",
    "plt.show()"
   ]
  },
  {
   "cell_type": "code",
   "execution_count": null,
   "id": "191a4f15-be44-41d6-8184-a41b8a68d82d",
   "metadata": {},
   "outputs": [],
   "source": [
    "# Elimina todos los registros que tienen datos faltantes de la base original, ¿cuántos registros quedan en total?\n",
    "terrorismo_global.dropna().shape[0]"
   ]
  },
  {
   "cell_type": "code",
   "execution_count": null,
   "id": "26e99204-2c70-4852-813c-a29e923ea0d2",
   "metadata": {},
   "outputs": [],
   "source": []
  }
 ],
 "metadata": {
  "kernelspec": {
   "display_name": "Python 3 (ipykernel)",
   "language": "python",
   "name": "python3"
  },
  "language_info": {
   "codemirror_mode": {
    "name": "ipython",
    "version": 3
   },
   "file_extension": ".py",
   "mimetype": "text/x-python",
   "name": "python",
   "nbconvert_exporter": "python",
   "pygments_lexer": "ipython3",
   "version": "3.10.12"
  }
 },
 "nbformat": 4,
 "nbformat_minor": 5
}
