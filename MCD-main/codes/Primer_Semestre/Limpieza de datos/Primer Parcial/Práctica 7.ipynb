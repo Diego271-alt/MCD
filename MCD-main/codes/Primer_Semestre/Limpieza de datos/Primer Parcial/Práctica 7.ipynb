{
 "cells": [
  {
   "cell_type": "code",
   "execution_count": null,
   "id": "ed06be78-6584-4063-a161-1464fdf3e2f0",
   "metadata": {},
   "outputs": [],
   "source": [
    "import pandas as pd\n",
    "import matplotlib.pyplot as plt"
   ]
  },
  {
   "cell_type": "code",
   "execution_count": null,
   "id": "83d02382-9cc9-4e8f-a90b-3ada6ea2bb2f",
   "metadata": {},
   "outputs": [],
   "source": [
    "surveys_df = pd.read_csv(\"data/Practica_7/surveys.csv\")"
   ]
  },
  {
   "cell_type": "code",
   "execution_count": null,
   "id": "0b8526e9-baa9-4e39-b1fe-6a2a545a222d",
   "metadata": {},
   "outputs": [],
   "source": [
    "surveys_df.columns"
   ]
  },
  {
   "cell_type": "code",
   "execution_count": null,
   "id": "3e4f0bc6-ceeb-40bf-85b3-9d81a6b6afd5",
   "metadata": {},
   "outputs": [],
   "source": [
    "surveys_df.shape"
   ]
  },
  {
   "cell_type": "code",
   "execution_count": null,
   "id": "1b0885f7-a9d4-443a-812d-7f963a7aab70",
   "metadata": {},
   "outputs": [],
   "source": [
    "surveys_df.head()"
   ]
  },
  {
   "cell_type": "code",
   "execution_count": null,
   "id": "8bd227d0-2b47-442a-ad70-e840e161ec2f",
   "metadata": {},
   "outputs": [],
   "source": [
    "surveys_df.tail()"
   ]
  },
  {
   "cell_type": "code",
   "execution_count": null,
   "id": "b7a78c37-1919-4075-b5c7-4a9210144626",
   "metadata": {},
   "outputs": [],
   "source": [
    "len(surveys_df.groupby(\"species_id\").count().index)"
   ]
  },
  {
   "cell_type": "code",
   "execution_count": null,
   "id": "fd70547d-5801-4f12-a332-3f32bfaf6f8f",
   "metadata": {},
   "outputs": [],
   "source": [
    "surveys_df[\"weight\"].mean()"
   ]
  },
  {
   "cell_type": "code",
   "execution_count": null,
   "id": "fa8f2715-8701-4e16-b6c6-2f82a66ed6b6",
   "metadata": {},
   "outputs": [],
   "source": [
    "surveys_df_sex = surveys_df[[\"sex\"]]\n",
    "surveys_df_sex[\"num\"] = 1\n",
    "surveys_df_sex.groupby(\"sex\").count()"
   ]
  },
  {
   "cell_type": "code",
   "execution_count": null,
   "id": "0be2a3ad-247a-4e37-b2f8-658613da2c0d",
   "metadata": {},
   "outputs": [],
   "source": [
    "grouped_data2 = surveys_df.groupby(['plot_id','sex'])"
   ]
  },
  {
   "cell_type": "code",
   "execution_count": null,
   "id": "a49b15e0-d28f-4dba-b59f-35a178b593cf",
   "metadata": {},
   "outputs": [],
   "source": [
    "surveys_df.groupby(['plot_id','sex']).mean()"
   ]
  },
  {
   "cell_type": "code",
   "execution_count": null,
   "id": "3c134825-8c3a-4ada-bd4f-14b189a8ab3b",
   "metadata": {},
   "outputs": [],
   "source": [
    "surveys_df.drop(\"species_id\", axis=1).groupby(['plot_id','sex']).mean()"
   ]
  },
  {
   "cell_type": "code",
   "execution_count": null,
   "id": "c801346e-f204-4dfd-8f2d-86a7a90f8b0f",
   "metadata": {},
   "outputs": [],
   "source": [
    "species_counts = surveys_df['species_id'].value_counts()"
   ]
  },
  {
   "cell_type": "code",
   "execution_count": null,
   "id": "4f36397b-574f-4dfb-931d-4e8e3d09021c",
   "metadata": {},
   "outputs": [],
   "source": [
    "plt.figure(figsize=(10,6))\n",
    "species_counts.plot(kind='bar')\n",
    "plt.title('Frecuencia por especie')\n",
    "plt.xlabel('Especie')\n",
    "plt.ylabel('Frecuencia')\n",
    "plt.show()"
   ]
  },
  {
   "cell_type": "code",
   "execution_count": null,
   "id": "e59f3b8a-e5e8-4aed-91cd-01c0852b2900",
   "metadata": {},
   "outputs": [],
   "source": [
    "promedio_peso_especies_x_sitio = surveys_df.groupby('plot_id')['weight'].mean()"
   ]
  },
  {
   "cell_type": "code",
   "execution_count": null,
   "id": "c68db584-3ccb-477a-a58d-036bc98de9f5",
   "metadata": {},
   "outputs": [],
   "source": [
    "plt.figure(figsize=(10,6))\n",
    "promedio_peso_especies_x_sitio.plot(kind='bar')\n",
    "plt.title('Promedio de peso de las especies por sitio')\n",
    "plt.xlabel('Sitio (plot_id)')\n",
    "plt.ylabel('Promedio de peso')\n",
    "plt.xticks(rotation=45)\n",
    "plt.show()"
   ]
  },
  {
   "cell_type": "code",
   "execution_count": null,
   "id": "a3deed1f-3458-49d0-968d-141be9077fb2",
   "metadata": {},
   "outputs": [],
   "source": [
    "conteo_sexo = surveys_df['sex'].value_counts()"
   ]
  },
  {
   "cell_type": "code",
   "execution_count": null,
   "id": "a5e753ff-1607-41b5-925d-ad9e2e68325e",
   "metadata": {},
   "outputs": [],
   "source": [
    "plt.figure(figsize=(8,6))\n",
    "conteo_sexo.plot(kind='bar', color=['lightblue', 'lightcoral'])\n",
    "plt.title('Total de machos y hembras')\n",
    "plt.xlabel('Sexo')\n",
    "plt.ylabel('Total')\n",
    "plt.show()"
   ]
  },
  {
   "cell_type": "code",
   "execution_count": null,
   "id": "da55cd09-43a4-42f5-9913-ab8ab8df25f6",
   "metadata": {},
   "outputs": [],
   "source": [
    "surveys_df.groupby(['plot_id', 'sex'])['weight'].sum().unstack(fill_value=0)"
   ]
  },
  {
   "cell_type": "code",
   "execution_count": null,
   "id": "68df0a03-fd8b-4327-855d-4ea9dd26cea7",
   "metadata": {},
   "outputs": [],
   "source": [
    "peso_total_sitio_sexo = surveys_df.groupby(['plot_id', 'sex'])['weight'].sum().unstack(fill_value=0)\n",
    "plt.figure(figsize=(8,6))\n",
    "peso_total_sitio_sexo.plot(kind='bar', stacked=True, color=['lightblue', 'lightcoral'])\n",
    "plt.title('Peso total por sexo para cada sitio')\n",
    "plt.xlabel('Sitio')\n",
    "plt.ylabel('Peso')\n",
    "plt.xticks(rotation=45)\n",
    "plt.legend(title='Sexo', labels=['Hembras', 'Machos'])\n",
    "plt.show()"
   ]
  },
  {
   "cell_type": "code",
   "execution_count": null,
   "id": "292ba66e-7fbc-4eb3-afbb-84ea69f58971",
   "metadata": {},
   "outputs": [],
   "source": [
    "surveys_df[0:1]"
   ]
  },
  {
   "cell_type": "code",
   "execution_count": null,
   "id": "52d2dd57-55ef-4cb8-8c4f-e55ac538aba1",
   "metadata": {},
   "outputs": [],
   "source": [
    "surveys_df[:4]"
   ]
  },
  {
   "cell_type": "code",
   "execution_count": null,
   "id": "5f774234-27c2-4a8a-81bc-8b5fea25098c",
   "metadata": {},
   "outputs": [],
   "source": [
    "surveys_df[:-1]"
   ]
  },
  {
   "cell_type": "code",
   "execution_count": null,
   "id": "28f2097f-a928-49a8-9bc0-1d380eaa2526",
   "metadata": {},
   "outputs": [],
   "source": [
    "surveys_df.iloc[0:4, 1:4]"
   ]
  },
  {
   "cell_type": "code",
   "execution_count": null,
   "id": "b20a9f5b-0a7b-46d4-a544-1cb62fd5909a",
   "metadata": {},
   "outputs": [],
   "source": [
    "surveys_df.loc[0:4]"
   ]
  }
 ],
 "metadata": {
  "kernelspec": {
   "display_name": "Python 3 (ipykernel)",
   "language": "python",
   "name": "python3"
  },
  "language_info": {
   "codemirror_mode": {
    "name": "ipython",
    "version": 3
   },
   "file_extension": ".py",
   "mimetype": "text/x-python",
   "name": "python",
   "nbconvert_exporter": "python",
   "pygments_lexer": "ipython3",
   "version": "3.10.12"
  }
 },
 "nbformat": 4,
 "nbformat_minor": 5
}
