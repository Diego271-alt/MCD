{
 "cells": [
  {
   "cell_type": "code",
   "execution_count": 4,
   "id": "8d822498-7f07-47ab-9ea3-5500f699a15b",
   "metadata": {
    "execution": {
     "iopub.execute_input": "2025-01-13T05:19:36.421236Z",
     "iopub.status.busy": "2025-01-13T05:19:36.419994Z",
     "iopub.status.idle": "2025-01-13T05:19:37.216497Z",
     "shell.execute_reply": "2025-01-13T05:19:37.215567Z",
     "shell.execute_reply.started": "2025-01-13T05:19:36.421193Z"
    }
   },
   "outputs": [],
   "source": [
    "import numpy as np\n",
    "from sklearn.linear_model import LinearRegression"
   ]
  },
  {
   "cell_type": "code",
   "execution_count": 2,
   "id": "fcaba92f-fa3d-4639-bfe0-3ae65a027c10",
   "metadata": {
    "execution": {
     "iopub.execute_input": "2025-01-13T05:18:50.076681Z",
     "iopub.status.busy": "2025-01-13T05:18:50.073859Z",
     "iopub.status.idle": "2025-01-13T05:18:50.088203Z",
     "shell.execute_reply": "2025-01-13T05:18:50.086073Z",
     "shell.execute_reply.started": "2025-01-13T05:18:50.076598Z"
    }
   },
   "outputs": [],
   "source": [
    "X = np.array([\n",
    "    [1, 1],\n",
    "    [3, 2],\n",
    "    [2, 3]\n",
    "])"
   ]
  },
  {
   "cell_type": "code",
   "execution_count": 3,
   "id": "de03f7ef-837c-4131-b0a3-4c0c10ef7456",
   "metadata": {
    "execution": {
     "iopub.execute_input": "2025-01-13T05:19:13.803831Z",
     "iopub.status.busy": "2025-01-13T05:19:13.802441Z",
     "iopub.status.idle": "2025-01-13T05:19:13.820346Z",
     "shell.execute_reply": "2025-01-13T05:19:13.816730Z",
     "shell.execute_reply.started": "2025-01-13T05:19:13.803767Z"
    }
   },
   "outputs": [],
   "source": [
    "y = np.dot(X, np.array([1,2])) + 3"
   ]
  },
  {
   "cell_type": "code",
   "execution_count": 5,
   "id": "981deb4e-dc68-4711-9de8-08cee9d20445",
   "metadata": {
    "execution": {
     "iopub.execute_input": "2025-01-13T05:19:45.432237Z",
     "iopub.status.busy": "2025-01-13T05:19:45.431880Z",
     "iopub.status.idle": "2025-01-13T05:19:45.442384Z",
     "shell.execute_reply": "2025-01-13T05:19:45.441438Z",
     "shell.execute_reply.started": "2025-01-13T05:19:45.432216Z"
    }
   },
   "outputs": [],
   "source": [
    "reg = LinearRegression().fit(X, y)"
   ]
  },
  {
   "cell_type": "code",
   "execution_count": 6,
   "id": "9107fd17-2f36-44de-a8e5-86175b2d31fb",
   "metadata": {
    "execution": {
     "iopub.execute_input": "2025-01-13T05:20:02.592440Z",
     "iopub.status.busy": "2025-01-13T05:20:02.591916Z",
     "iopub.status.idle": "2025-01-13T05:20:02.608408Z",
     "shell.execute_reply": "2025-01-13T05:20:02.606731Z",
     "shell.execute_reply.started": "2025-01-13T05:20:02.592362Z"
    }
   },
   "outputs": [
    {
     "data": {
      "text/plain": [
       "1.0"
      ]
     },
     "execution_count": 6,
     "metadata": {},
     "output_type": "execute_result"
    }
   ],
   "source": [
    "reg.score(X, y)"
   ]
  },
  {
   "cell_type": "code",
   "execution_count": 7,
   "id": "5e87bf73-18a6-4249-9ce9-aa3008377951",
   "metadata": {
    "execution": {
     "iopub.execute_input": "2025-01-13T05:20:08.004232Z",
     "iopub.status.busy": "2025-01-13T05:20:08.002736Z",
     "iopub.status.idle": "2025-01-13T05:20:08.021555Z",
     "shell.execute_reply": "2025-01-13T05:20:08.017990Z",
     "shell.execute_reply.started": "2025-01-13T05:20:08.004165Z"
    }
   },
   "outputs": [
    {
     "data": {
      "text/plain": [
       "array([1., 2.])"
      ]
     },
     "execution_count": 7,
     "metadata": {},
     "output_type": "execute_result"
    }
   ],
   "source": [
    "reg.coef_"
   ]
  },
  {
   "cell_type": "code",
   "execution_count": 8,
   "id": "09eef972-3a9f-4f6f-8590-dfeb5688722c",
   "metadata": {
    "execution": {
     "iopub.execute_input": "2025-01-13T05:20:14.755486Z",
     "iopub.status.busy": "2025-01-13T05:20:14.753489Z",
     "iopub.status.idle": "2025-01-13T05:20:14.774411Z",
     "shell.execute_reply": "2025-01-13T05:20:14.770171Z",
     "shell.execute_reply.started": "2025-01-13T05:20:14.755411Z"
    }
   },
   "outputs": [
    {
     "data": {
      "text/plain": [
       "3.0"
      ]
     },
     "execution_count": 8,
     "metadata": {},
     "output_type": "execute_result"
    }
   ],
   "source": [
    "reg.intercept_"
   ]
  },
  {
   "cell_type": "code",
   "execution_count": 10,
   "id": "9416c7c7-628f-4f3f-9ac9-2630c92f45d4",
   "metadata": {
    "execution": {
     "iopub.execute_input": "2025-01-13T05:20:57.419304Z",
     "iopub.status.busy": "2025-01-13T05:20:57.419005Z",
     "iopub.status.idle": "2025-01-13T05:20:57.426596Z",
     "shell.execute_reply": "2025-01-13T05:20:57.424146Z",
     "shell.execute_reply.started": "2025-01-13T05:20:57.419284Z"
    }
   },
   "outputs": [
    {
     "data": {
      "text/plain": [
       "array([16.])"
      ]
     },
     "execution_count": 10,
     "metadata": {},
     "output_type": "execute_result"
    }
   ],
   "source": [
    "# Suponiendo que necesito imputar un valor con x1 = 3 y x2 = 5\n",
    "reg.predict(np.array([[3,5]]))"
   ]
  }
 ],
 "metadata": {
  "kernelspec": {
   "display_name": "Python 3 (ipykernel)",
   "language": "python",
   "name": "python3"
  },
  "language_info": {
   "codemirror_mode": {
    "name": "ipython",
    "version": 3
   },
   "file_extension": ".py",
   "mimetype": "text/x-python",
   "name": "python",
   "nbconvert_exporter": "python",
   "pygments_lexer": "ipython3",
   "version": "3.10.12"
  }
 },
 "nbformat": 4,
 "nbformat_minor": 5
}
