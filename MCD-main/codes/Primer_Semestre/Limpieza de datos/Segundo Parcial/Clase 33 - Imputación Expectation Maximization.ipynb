{
 "cells": [
  {
   "cell_type": "code",
   "execution_count": 1,
   "id": "6500a6a8-f2ef-41f4-821c-606b12e401e9",
   "metadata": {
    "execution": {
     "iopub.execute_input": "2025-01-13T06:04:46.664826Z",
     "iopub.status.busy": "2025-01-13T06:04:46.662881Z",
     "iopub.status.idle": "2025-01-13T06:04:48.120685Z",
     "shell.execute_reply": "2025-01-13T06:04:48.118731Z",
     "shell.execute_reply.started": "2025-01-13T06:04:46.664770Z"
    }
   },
   "outputs": [],
   "source": [
    "import numpy as np\n",
    "import impyute as impy"
   ]
  },
  {
   "cell_type": "code",
   "execution_count": 2,
   "id": "63df16b6-8809-4688-a34b-cbc5bfd4ad7b",
   "metadata": {
    "execution": {
     "iopub.execute_input": "2025-01-13T06:04:48.124061Z",
     "iopub.status.busy": "2025-01-13T06:04:48.122715Z",
     "iopub.status.idle": "2025-01-13T06:04:48.136614Z",
     "shell.execute_reply": "2025-01-13T06:04:48.134033Z",
     "shell.execute_reply.started": "2025-01-13T06:04:48.124005Z"
    }
   },
   "outputs": [],
   "source": [
    "n = 5\n",
    "arr = np.random.uniform(high = 6, size = (n, n))\n",
    "for _ in range(3):\n",
    "    arr[np.random.randint(n), np.random.randint(n)] = np.nan"
   ]
  },
  {
   "cell_type": "code",
   "execution_count": 4,
   "id": "21cc261f-3ead-409a-bd59-b1b43ddc2b81",
   "metadata": {
    "execution": {
     "iopub.execute_input": "2025-01-13T06:04:57.085204Z",
     "iopub.status.busy": "2025-01-13T06:04:57.084400Z",
     "iopub.status.idle": "2025-01-13T06:04:57.095131Z",
     "shell.execute_reply": "2025-01-13T06:04:57.092977Z",
     "shell.execute_reply.started": "2025-01-13T06:04:57.085168Z"
    }
   },
   "outputs": [
    {
     "name": "stdout",
     "output_type": "stream",
     "text": [
      "[[1.97860952 4.15253034 4.03488185 2.38174183 3.54909957]\n",
      " [5.30015613 3.79080059 2.51822614        nan 1.66449031]\n",
      " [5.28799321 1.4315766  1.91238727 3.97139427 0.96457251]\n",
      " [1.85237651 1.39289569        nan 3.82835395 1.24835015]\n",
      " [4.50877579 5.83016326        nan 3.36832302 3.80344375]]\n"
     ]
    }
   ],
   "source": [
    "print(arr)"
   ]
  },
  {
   "cell_type": "code",
   "execution_count": 3,
   "id": "2b459736-f16a-4dff-8666-ea7848c71896",
   "metadata": {
    "execution": {
     "iopub.execute_input": "2025-01-13T06:04:48.143815Z",
     "iopub.status.busy": "2025-01-13T06:04:48.141897Z",
     "iopub.status.idle": "2025-01-13T06:04:48.170025Z",
     "shell.execute_reply": "2025-01-13T06:04:48.166645Z",
     "shell.execute_reply.started": "2025-01-13T06:04:48.143750Z"
    }
   },
   "outputs": [
    {
     "data": {
      "text/plain": [
       "array([[1.97860952, 4.15253034, 4.03488185, 2.38174183, 3.54909957],\n",
       "       [5.30015613, 3.79080059, 2.51822614, 2.7846796 , 1.66449031],\n",
       "       [5.28799321, 1.4315766 , 1.91238727, 3.97139427, 0.96457251],\n",
       "       [1.85237651, 1.39289569, 2.69049145, 3.82835395, 1.24835015],\n",
       "       [4.50877579, 5.83016326, 2.27062925, 3.36832302, 3.80344375]])"
      ]
     },
     "execution_count": 3,
     "metadata": {},
     "output_type": "execute_result"
    }
   ],
   "source": [
    "impy.em(arr)"
   ]
  }
 ],
 "metadata": {
  "kernelspec": {
   "display_name": "Python 3 (ipykernel)",
   "language": "python",
   "name": "python3"
  },
  "language_info": {
   "codemirror_mode": {
    "name": "ipython",
    "version": 3
   },
   "file_extension": ".py",
   "mimetype": "text/x-python",
   "name": "python",
   "nbconvert_exporter": "python",
   "pygments_lexer": "ipython3",
   "version": "3.10.12"
  }
 },
 "nbformat": 4,
 "nbformat_minor": 5
}
