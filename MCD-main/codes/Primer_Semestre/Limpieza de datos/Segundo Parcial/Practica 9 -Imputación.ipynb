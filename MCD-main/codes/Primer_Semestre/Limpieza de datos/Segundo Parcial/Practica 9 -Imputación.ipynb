{
 "cells": [
  {
   "cell_type": "code",
   "execution_count": 81,
   "id": "5c42b33b-60bb-43d1-a3d8-52ea3ba66e15",
   "metadata": {
    "execution": {
     "iopub.execute_input": "2025-01-23T03:04:59.109610Z",
     "iopub.status.busy": "2025-01-23T03:04:59.105851Z",
     "iopub.status.idle": "2025-01-23T03:04:59.160968Z",
     "shell.execute_reply": "2025-01-23T03:04:59.158820Z",
     "shell.execute_reply.started": "2025-01-23T03:04:59.109485Z"
    }
   },
   "outputs": [],
   "source": [
    "import pandas as pd"
   ]
  },
  {
   "cell_type": "code",
   "execution_count": 100,
   "id": "d179325b-995f-4d1f-91b0-ce34d58fad57",
   "metadata": {
    "execution": {
     "iopub.execute_input": "2025-01-23T03:05:58.277637Z",
     "iopub.status.busy": "2025-01-23T03:05:58.276732Z",
     "iopub.status.idle": "2025-01-23T03:05:59.128265Z",
     "shell.execute_reply": "2025-01-23T03:05:59.127065Z",
     "shell.execute_reply.started": "2025-01-23T03:05:58.277590Z"
    }
   },
   "outputs": [],
   "source": [
    "df = pd.read_csv(\"data/TrafficAccidents.csv\")"
   ]
  },
  {
   "cell_type": "code",
   "execution_count": 101,
   "id": "53f5e8c9-d596-4fd6-a4b1-7674eb1c0543",
   "metadata": {
    "execution": {
     "iopub.execute_input": "2025-01-23T03:05:59.130712Z",
     "iopub.status.busy": "2025-01-23T03:05:59.130415Z",
     "iopub.status.idle": "2025-01-23T03:05:59.150940Z",
     "shell.execute_reply": "2025-01-23T03:05:59.149399Z",
     "shell.execute_reply.started": "2025-01-23T03:05:59.130689Z"
    }
   },
   "outputs": [],
   "source": [
    "df = df.drop(\"Unnamed: 0\", axis= 1)"
   ]
  },
  {
   "cell_type": "code",
   "execution_count": 102,
   "id": "92368e6e-7729-449c-aeae-3e7039b99a63",
   "metadata": {
    "execution": {
     "iopub.execute_input": "2025-01-23T03:05:59.154010Z",
     "iopub.status.busy": "2025-01-23T03:05:59.153624Z",
     "iopub.status.idle": "2025-01-23T03:05:59.166326Z",
     "shell.execute_reply": "2025-01-23T03:05:59.165212Z",
     "shell.execute_reply.started": "2025-01-23T03:05:59.153977Z"
    }
   },
   "outputs": [
    {
     "data": {
      "text/plain": [
       "(145222, 33)"
      ]
     },
     "execution_count": 102,
     "metadata": {},
     "output_type": "execute_result"
    }
   ],
   "source": [
    "df.shape"
   ]
  },
  {
   "cell_type": "code",
   "execution_count": 103,
   "id": "9ad2aa5a-1de3-4e03-99b3-bb3220f006ab",
   "metadata": {
    "execution": {
     "iopub.execute_input": "2025-01-23T03:05:59.344594Z",
     "iopub.status.busy": "2025-01-23T03:05:59.344319Z",
     "iopub.status.idle": "2025-01-23T03:05:59.408761Z",
     "shell.execute_reply": "2025-01-23T03:05:59.407087Z",
     "shell.execute_reply.started": "2025-01-23T03:05:59.344572Z"
    }
   },
   "outputs": [],
   "source": [
    "df_cp = df[df[\"LSOA_of_Accident_Location\"].notnull()]"
   ]
  },
  {
   "cell_type": "code",
   "execution_count": 104,
   "id": "b2783532-140b-49aa-bad1-a803efd84aff",
   "metadata": {
    "execution": {
     "iopub.execute_input": "2025-01-23T03:05:59.787150Z",
     "iopub.status.busy": "2025-01-23T03:05:59.786825Z",
     "iopub.status.idle": "2025-01-23T03:05:59.796039Z",
     "shell.execute_reply": "2025-01-23T03:05:59.792698Z",
     "shell.execute_reply.started": "2025-01-23T03:05:59.787123Z"
    }
   },
   "outputs": [],
   "source": [
    "from sklearn.preprocessing import LabelEncoder"
   ]
  },
  {
   "cell_type": "code",
   "execution_count": 105,
   "id": "36e41782-1408-44d2-9432-cd521b4d1a9b",
   "metadata": {
    "execution": {
     "iopub.execute_input": "2025-01-23T03:06:00.177774Z",
     "iopub.status.busy": "2025-01-23T03:06:00.177486Z",
     "iopub.status.idle": "2025-01-23T03:06:00.183880Z",
     "shell.execute_reply": "2025-01-23T03:06:00.182227Z",
     "shell.execute_reply.started": "2025-01-23T03:06:00.177749Z"
    }
   },
   "outputs": [],
   "source": [
    "le = LabelEncoder()"
   ]
  },
  {
   "cell_type": "code",
   "execution_count": 106,
   "id": "4c169c93-9c0b-4e78-a205-e26937cc7be6",
   "metadata": {
    "execution": {
     "iopub.execute_input": "2025-01-23T03:06:00.523941Z",
     "iopub.status.busy": "2025-01-23T03:06:00.523510Z",
     "iopub.status.idle": "2025-01-23T03:06:00.548903Z",
     "shell.execute_reply": "2025-01-23T03:06:00.547040Z",
     "shell.execute_reply.started": "2025-01-23T03:06:00.523881Z"
    }
   },
   "outputs": [
    {
     "data": {
      "text/html": [
       "<style>#sk-container-id-6 {\n",
       "  /* Definition of color scheme common for light and dark mode */\n",
       "  --sklearn-color-text: #000;\n",
       "  --sklearn-color-text-muted: #666;\n",
       "  --sklearn-color-line: gray;\n",
       "  /* Definition of color scheme for unfitted estimators */\n",
       "  --sklearn-color-unfitted-level-0: #fff5e6;\n",
       "  --sklearn-color-unfitted-level-1: #f6e4d2;\n",
       "  --sklearn-color-unfitted-level-2: #ffe0b3;\n",
       "  --sklearn-color-unfitted-level-3: chocolate;\n",
       "  /* Definition of color scheme for fitted estimators */\n",
       "  --sklearn-color-fitted-level-0: #f0f8ff;\n",
       "  --sklearn-color-fitted-level-1: #d4ebff;\n",
       "  --sklearn-color-fitted-level-2: #b3dbfd;\n",
       "  --sklearn-color-fitted-level-3: cornflowerblue;\n",
       "\n",
       "  /* Specific color for light theme */\n",
       "  --sklearn-color-text-on-default-background: var(--sg-text-color, var(--theme-code-foreground, var(--jp-content-font-color1, black)));\n",
       "  --sklearn-color-background: var(--sg-background-color, var(--theme-background, var(--jp-layout-color0, white)));\n",
       "  --sklearn-color-border-box: var(--sg-text-color, var(--theme-code-foreground, var(--jp-content-font-color1, black)));\n",
       "  --sklearn-color-icon: #696969;\n",
       "\n",
       "  @media (prefers-color-scheme: dark) {\n",
       "    /* Redefinition of color scheme for dark theme */\n",
       "    --sklearn-color-text-on-default-background: var(--sg-text-color, var(--theme-code-foreground, var(--jp-content-font-color1, white)));\n",
       "    --sklearn-color-background: var(--sg-background-color, var(--theme-background, var(--jp-layout-color0, #111)));\n",
       "    --sklearn-color-border-box: var(--sg-text-color, var(--theme-code-foreground, var(--jp-content-font-color1, white)));\n",
       "    --sklearn-color-icon: #878787;\n",
       "  }\n",
       "}\n",
       "\n",
       "#sk-container-id-6 {\n",
       "  color: var(--sklearn-color-text);\n",
       "}\n",
       "\n",
       "#sk-container-id-6 pre {\n",
       "  padding: 0;\n",
       "}\n",
       "\n",
       "#sk-container-id-6 input.sk-hidden--visually {\n",
       "  border: 0;\n",
       "  clip: rect(1px 1px 1px 1px);\n",
       "  clip: rect(1px, 1px, 1px, 1px);\n",
       "  height: 1px;\n",
       "  margin: -1px;\n",
       "  overflow: hidden;\n",
       "  padding: 0;\n",
       "  position: absolute;\n",
       "  width: 1px;\n",
       "}\n",
       "\n",
       "#sk-container-id-6 div.sk-dashed-wrapped {\n",
       "  border: 1px dashed var(--sklearn-color-line);\n",
       "  margin: 0 0.4em 0.5em 0.4em;\n",
       "  box-sizing: border-box;\n",
       "  padding-bottom: 0.4em;\n",
       "  background-color: var(--sklearn-color-background);\n",
       "}\n",
       "\n",
       "#sk-container-id-6 div.sk-container {\n",
       "  /* jupyter's `normalize.less` sets `[hidden] { display: none; }`\n",
       "     but bootstrap.min.css set `[hidden] { display: none !important; }`\n",
       "     so we also need the `!important` here to be able to override the\n",
       "     default hidden behavior on the sphinx rendered scikit-learn.org.\n",
       "     See: https://github.com/scikit-learn/scikit-learn/issues/21755 */\n",
       "  display: inline-block !important;\n",
       "  position: relative;\n",
       "}\n",
       "\n",
       "#sk-container-id-6 div.sk-text-repr-fallback {\n",
       "  display: none;\n",
       "}\n",
       "\n",
       "div.sk-parallel-item,\n",
       "div.sk-serial,\n",
       "div.sk-item {\n",
       "  /* draw centered vertical line to link estimators */\n",
       "  background-image: linear-gradient(var(--sklearn-color-text-on-default-background), var(--sklearn-color-text-on-default-background));\n",
       "  background-size: 2px 100%;\n",
       "  background-repeat: no-repeat;\n",
       "  background-position: center center;\n",
       "}\n",
       "\n",
       "/* Parallel-specific style estimator block */\n",
       "\n",
       "#sk-container-id-6 div.sk-parallel-item::after {\n",
       "  content: \"\";\n",
       "  width: 100%;\n",
       "  border-bottom: 2px solid var(--sklearn-color-text-on-default-background);\n",
       "  flex-grow: 1;\n",
       "}\n",
       "\n",
       "#sk-container-id-6 div.sk-parallel {\n",
       "  display: flex;\n",
       "  align-items: stretch;\n",
       "  justify-content: center;\n",
       "  background-color: var(--sklearn-color-background);\n",
       "  position: relative;\n",
       "}\n",
       "\n",
       "#sk-container-id-6 div.sk-parallel-item {\n",
       "  display: flex;\n",
       "  flex-direction: column;\n",
       "}\n",
       "\n",
       "#sk-container-id-6 div.sk-parallel-item:first-child::after {\n",
       "  align-self: flex-end;\n",
       "  width: 50%;\n",
       "}\n",
       "\n",
       "#sk-container-id-6 div.sk-parallel-item:last-child::after {\n",
       "  align-self: flex-start;\n",
       "  width: 50%;\n",
       "}\n",
       "\n",
       "#sk-container-id-6 div.sk-parallel-item:only-child::after {\n",
       "  width: 0;\n",
       "}\n",
       "\n",
       "/* Serial-specific style estimator block */\n",
       "\n",
       "#sk-container-id-6 div.sk-serial {\n",
       "  display: flex;\n",
       "  flex-direction: column;\n",
       "  align-items: center;\n",
       "  background-color: var(--sklearn-color-background);\n",
       "  padding-right: 1em;\n",
       "  padding-left: 1em;\n",
       "}\n",
       "\n",
       "\n",
       "/* Toggleable style: style used for estimator/Pipeline/ColumnTransformer box that is\n",
       "clickable and can be expanded/collapsed.\n",
       "- Pipeline and ColumnTransformer use this feature and define the default style\n",
       "- Estimators will overwrite some part of the style using the `sk-estimator` class\n",
       "*/\n",
       "\n",
       "/* Pipeline and ColumnTransformer style (default) */\n",
       "\n",
       "#sk-container-id-6 div.sk-toggleable {\n",
       "  /* Default theme specific background. It is overwritten whether we have a\n",
       "  specific estimator or a Pipeline/ColumnTransformer */\n",
       "  background-color: var(--sklearn-color-background);\n",
       "}\n",
       "\n",
       "/* Toggleable label */\n",
       "#sk-container-id-6 label.sk-toggleable__label {\n",
       "  cursor: pointer;\n",
       "  display: flex;\n",
       "  width: 100%;\n",
       "  margin-bottom: 0;\n",
       "  padding: 0.5em;\n",
       "  box-sizing: border-box;\n",
       "  text-align: center;\n",
       "  align-items: start;\n",
       "  justify-content: space-between;\n",
       "  gap: 0.5em;\n",
       "}\n",
       "\n",
       "#sk-container-id-6 label.sk-toggleable__label .caption {\n",
       "  font-size: 0.6rem;\n",
       "  font-weight: lighter;\n",
       "  color: var(--sklearn-color-text-muted);\n",
       "}\n",
       "\n",
       "#sk-container-id-6 label.sk-toggleable__label-arrow:before {\n",
       "  /* Arrow on the left of the label */\n",
       "  content: \"▸\";\n",
       "  float: left;\n",
       "  margin-right: 0.25em;\n",
       "  color: var(--sklearn-color-icon);\n",
       "}\n",
       "\n",
       "#sk-container-id-6 label.sk-toggleable__label-arrow:hover:before {\n",
       "  color: var(--sklearn-color-text);\n",
       "}\n",
       "\n",
       "/* Toggleable content - dropdown */\n",
       "\n",
       "#sk-container-id-6 div.sk-toggleable__content {\n",
       "  max-height: 0;\n",
       "  max-width: 0;\n",
       "  overflow: hidden;\n",
       "  text-align: left;\n",
       "  /* unfitted */\n",
       "  background-color: var(--sklearn-color-unfitted-level-0);\n",
       "}\n",
       "\n",
       "#sk-container-id-6 div.sk-toggleable__content.fitted {\n",
       "  /* fitted */\n",
       "  background-color: var(--sklearn-color-fitted-level-0);\n",
       "}\n",
       "\n",
       "#sk-container-id-6 div.sk-toggleable__content pre {\n",
       "  margin: 0.2em;\n",
       "  border-radius: 0.25em;\n",
       "  color: var(--sklearn-color-text);\n",
       "  /* unfitted */\n",
       "  background-color: var(--sklearn-color-unfitted-level-0);\n",
       "}\n",
       "\n",
       "#sk-container-id-6 div.sk-toggleable__content.fitted pre {\n",
       "  /* unfitted */\n",
       "  background-color: var(--sklearn-color-fitted-level-0);\n",
       "}\n",
       "\n",
       "#sk-container-id-6 input.sk-toggleable__control:checked~div.sk-toggleable__content {\n",
       "  /* Expand drop-down */\n",
       "  max-height: 200px;\n",
       "  max-width: 100%;\n",
       "  overflow: auto;\n",
       "}\n",
       "\n",
       "#sk-container-id-6 input.sk-toggleable__control:checked~label.sk-toggleable__label-arrow:before {\n",
       "  content: \"▾\";\n",
       "}\n",
       "\n",
       "/* Pipeline/ColumnTransformer-specific style */\n",
       "\n",
       "#sk-container-id-6 div.sk-label input.sk-toggleable__control:checked~label.sk-toggleable__label {\n",
       "  color: var(--sklearn-color-text);\n",
       "  background-color: var(--sklearn-color-unfitted-level-2);\n",
       "}\n",
       "\n",
       "#sk-container-id-6 div.sk-label.fitted input.sk-toggleable__control:checked~label.sk-toggleable__label {\n",
       "  background-color: var(--sklearn-color-fitted-level-2);\n",
       "}\n",
       "\n",
       "/* Estimator-specific style */\n",
       "\n",
       "/* Colorize estimator box */\n",
       "#sk-container-id-6 div.sk-estimator input.sk-toggleable__control:checked~label.sk-toggleable__label {\n",
       "  /* unfitted */\n",
       "  background-color: var(--sklearn-color-unfitted-level-2);\n",
       "}\n",
       "\n",
       "#sk-container-id-6 div.sk-estimator.fitted input.sk-toggleable__control:checked~label.sk-toggleable__label {\n",
       "  /* fitted */\n",
       "  background-color: var(--sklearn-color-fitted-level-2);\n",
       "}\n",
       "\n",
       "#sk-container-id-6 div.sk-label label.sk-toggleable__label,\n",
       "#sk-container-id-6 div.sk-label label {\n",
       "  /* The background is the default theme color */\n",
       "  color: var(--sklearn-color-text-on-default-background);\n",
       "}\n",
       "\n",
       "/* On hover, darken the color of the background */\n",
       "#sk-container-id-6 div.sk-label:hover label.sk-toggleable__label {\n",
       "  color: var(--sklearn-color-text);\n",
       "  background-color: var(--sklearn-color-unfitted-level-2);\n",
       "}\n",
       "\n",
       "/* Label box, darken color on hover, fitted */\n",
       "#sk-container-id-6 div.sk-label.fitted:hover label.sk-toggleable__label.fitted {\n",
       "  color: var(--sklearn-color-text);\n",
       "  background-color: var(--sklearn-color-fitted-level-2);\n",
       "}\n",
       "\n",
       "/* Estimator label */\n",
       "\n",
       "#sk-container-id-6 div.sk-label label {\n",
       "  font-family: monospace;\n",
       "  font-weight: bold;\n",
       "  display: inline-block;\n",
       "  line-height: 1.2em;\n",
       "}\n",
       "\n",
       "#sk-container-id-6 div.sk-label-container {\n",
       "  text-align: center;\n",
       "}\n",
       "\n",
       "/* Estimator-specific */\n",
       "#sk-container-id-6 div.sk-estimator {\n",
       "  font-family: monospace;\n",
       "  border: 1px dotted var(--sklearn-color-border-box);\n",
       "  border-radius: 0.25em;\n",
       "  box-sizing: border-box;\n",
       "  margin-bottom: 0.5em;\n",
       "  /* unfitted */\n",
       "  background-color: var(--sklearn-color-unfitted-level-0);\n",
       "}\n",
       "\n",
       "#sk-container-id-6 div.sk-estimator.fitted {\n",
       "  /* fitted */\n",
       "  background-color: var(--sklearn-color-fitted-level-0);\n",
       "}\n",
       "\n",
       "/* on hover */\n",
       "#sk-container-id-6 div.sk-estimator:hover {\n",
       "  /* unfitted */\n",
       "  background-color: var(--sklearn-color-unfitted-level-2);\n",
       "}\n",
       "\n",
       "#sk-container-id-6 div.sk-estimator.fitted:hover {\n",
       "  /* fitted */\n",
       "  background-color: var(--sklearn-color-fitted-level-2);\n",
       "}\n",
       "\n",
       "/* Specification for estimator info (e.g. \"i\" and \"?\") */\n",
       "\n",
       "/* Common style for \"i\" and \"?\" */\n",
       "\n",
       ".sk-estimator-doc-link,\n",
       "a:link.sk-estimator-doc-link,\n",
       "a:visited.sk-estimator-doc-link {\n",
       "  float: right;\n",
       "  font-size: smaller;\n",
       "  line-height: 1em;\n",
       "  font-family: monospace;\n",
       "  background-color: var(--sklearn-color-background);\n",
       "  border-radius: 1em;\n",
       "  height: 1em;\n",
       "  width: 1em;\n",
       "  text-decoration: none !important;\n",
       "  margin-left: 0.5em;\n",
       "  text-align: center;\n",
       "  /* unfitted */\n",
       "  border: var(--sklearn-color-unfitted-level-1) 1pt solid;\n",
       "  color: var(--sklearn-color-unfitted-level-1);\n",
       "}\n",
       "\n",
       ".sk-estimator-doc-link.fitted,\n",
       "a:link.sk-estimator-doc-link.fitted,\n",
       "a:visited.sk-estimator-doc-link.fitted {\n",
       "  /* fitted */\n",
       "  border: var(--sklearn-color-fitted-level-1) 1pt solid;\n",
       "  color: var(--sklearn-color-fitted-level-1);\n",
       "}\n",
       "\n",
       "/* On hover */\n",
       "div.sk-estimator:hover .sk-estimator-doc-link:hover,\n",
       ".sk-estimator-doc-link:hover,\n",
       "div.sk-label-container:hover .sk-estimator-doc-link:hover,\n",
       ".sk-estimator-doc-link:hover {\n",
       "  /* unfitted */\n",
       "  background-color: var(--sklearn-color-unfitted-level-3);\n",
       "  color: var(--sklearn-color-background);\n",
       "  text-decoration: none;\n",
       "}\n",
       "\n",
       "div.sk-estimator.fitted:hover .sk-estimator-doc-link.fitted:hover,\n",
       ".sk-estimator-doc-link.fitted:hover,\n",
       "div.sk-label-container:hover .sk-estimator-doc-link.fitted:hover,\n",
       ".sk-estimator-doc-link.fitted:hover {\n",
       "  /* fitted */\n",
       "  background-color: var(--sklearn-color-fitted-level-3);\n",
       "  color: var(--sklearn-color-background);\n",
       "  text-decoration: none;\n",
       "}\n",
       "\n",
       "/* Span, style for the box shown on hovering the info icon */\n",
       ".sk-estimator-doc-link span {\n",
       "  display: none;\n",
       "  z-index: 9999;\n",
       "  position: relative;\n",
       "  font-weight: normal;\n",
       "  right: .2ex;\n",
       "  padding: .5ex;\n",
       "  margin: .5ex;\n",
       "  width: min-content;\n",
       "  min-width: 20ex;\n",
       "  max-width: 50ex;\n",
       "  color: var(--sklearn-color-text);\n",
       "  box-shadow: 2pt 2pt 4pt #999;\n",
       "  /* unfitted */\n",
       "  background: var(--sklearn-color-unfitted-level-0);\n",
       "  border: .5pt solid var(--sklearn-color-unfitted-level-3);\n",
       "}\n",
       "\n",
       ".sk-estimator-doc-link.fitted span {\n",
       "  /* fitted */\n",
       "  background: var(--sklearn-color-fitted-level-0);\n",
       "  border: var(--sklearn-color-fitted-level-3);\n",
       "}\n",
       "\n",
       ".sk-estimator-doc-link:hover span {\n",
       "  display: block;\n",
       "}\n",
       "\n",
       "/* \"?\"-specific style due to the `<a>` HTML tag */\n",
       "\n",
       "#sk-container-id-6 a.estimator_doc_link {\n",
       "  float: right;\n",
       "  font-size: 1rem;\n",
       "  line-height: 1em;\n",
       "  font-family: monospace;\n",
       "  background-color: var(--sklearn-color-background);\n",
       "  border-radius: 1rem;\n",
       "  height: 1rem;\n",
       "  width: 1rem;\n",
       "  text-decoration: none;\n",
       "  /* unfitted */\n",
       "  color: var(--sklearn-color-unfitted-level-1);\n",
       "  border: var(--sklearn-color-unfitted-level-1) 1pt solid;\n",
       "}\n",
       "\n",
       "#sk-container-id-6 a.estimator_doc_link.fitted {\n",
       "  /* fitted */\n",
       "  border: var(--sklearn-color-fitted-level-1) 1pt solid;\n",
       "  color: var(--sklearn-color-fitted-level-1);\n",
       "}\n",
       "\n",
       "/* On hover */\n",
       "#sk-container-id-6 a.estimator_doc_link:hover {\n",
       "  /* unfitted */\n",
       "  background-color: var(--sklearn-color-unfitted-level-3);\n",
       "  color: var(--sklearn-color-background);\n",
       "  text-decoration: none;\n",
       "}\n",
       "\n",
       "#sk-container-id-6 a.estimator_doc_link.fitted:hover {\n",
       "  /* fitted */\n",
       "  background-color: var(--sklearn-color-fitted-level-3);\n",
       "}\n",
       "</style><div id=\"sk-container-id-6\" class=\"sk-top-container\"><div class=\"sk-text-repr-fallback\"><pre>LabelEncoder()</pre><b>In a Jupyter environment, please rerun this cell to show the HTML representation or trust the notebook. <br />On GitHub, the HTML representation is unable to render, please try loading this page with nbviewer.org.</b></div><div class=\"sk-container\" hidden><div class=\"sk-item\"><div class=\"sk-estimator fitted sk-toggleable\"><input class=\"sk-toggleable__control sk-hidden--visually\" id=\"sk-estimator-id-6\" type=\"checkbox\" checked><label for=\"sk-estimator-id-6\" class=\"sk-toggleable__label fitted sk-toggleable__label-arrow\"><div><div>LabelEncoder</div></div><div><a class=\"sk-estimator-doc-link fitted\" rel=\"noreferrer\" target=\"_blank\" href=\"https://scikit-learn.org/1.6/modules/generated/sklearn.preprocessing.LabelEncoder.html\">?<span>Documentation for LabelEncoder</span></a><span class=\"sk-estimator-doc-link fitted\">i<span>Fitted</span></span></div></label><div class=\"sk-toggleable__content fitted\"><pre>LabelEncoder()</pre></div> </div></div></div></div>"
      ],
      "text/plain": [
       "LabelEncoder()"
      ]
     },
     "execution_count": 106,
     "metadata": {},
     "output_type": "execute_result"
    }
   ],
   "source": [
    "le.fit(df_cp[\"LSOA_of_Accident_Location\"])"
   ]
  },
  {
   "cell_type": "code",
   "execution_count": 107,
   "id": "61a8c0c6-e869-4e6f-8193-9aa2e7605dda",
   "metadata": {
    "execution": {
     "iopub.execute_input": "2025-01-23T03:06:00.956097Z",
     "iopub.status.busy": "2025-01-23T03:06:00.955652Z",
     "iopub.status.idle": "2025-01-23T03:06:00.995624Z",
     "shell.execute_reply": "2025-01-23T03:06:00.994767Z",
     "shell.execute_reply.started": "2025-01-23T03:06:00.956061Z"
    }
   },
   "outputs": [
    {
     "name": "stderr",
     "output_type": "stream",
     "text": [
      "/tmp/ipykernel_107/3761654219.py:1: SettingWithCopyWarning: \n",
      "A value is trying to be set on a copy of a slice from a DataFrame.\n",
      "Try using .loc[row_indexer,col_indexer] = value instead\n",
      "\n",
      "See the caveats in the documentation: https://pandas.pydata.org/pandas-docs/stable/user_guide/indexing.html#returning-a-view-versus-a-copy\n",
      "  df_cp[\"LSOA_of_Accident_Location_transform\"] = le.transform(df_cp[\"LSOA_of_Accident_Location\"])\n"
     ]
    }
   ],
   "source": [
    "df_cp[\"LSOA_of_Accident_Location_transform\"] = le.transform(df_cp[\"LSOA_of_Accident_Location\"])"
   ]
  },
  {
   "cell_type": "code",
   "execution_count": 108,
   "id": "a1e3c562-dad6-426d-8102-710463cdd383",
   "metadata": {
    "execution": {
     "iopub.execute_input": "2025-01-23T03:06:01.666514Z",
     "iopub.status.busy": "2025-01-23T03:06:01.666104Z",
     "iopub.status.idle": "2025-01-23T03:06:01.679244Z",
     "shell.execute_reply": "2025-01-23T03:06:01.677890Z",
     "shell.execute_reply.started": "2025-01-23T03:06:01.666481Z"
    }
   },
   "outputs": [],
   "source": [
    "dic = dict(zip(le.classes_, le.transform(le.classes_)))"
   ]
  },
  {
   "cell_type": "code",
   "execution_count": 109,
   "id": "d11cb925-37de-4337-b332-25bebc7806e4",
   "metadata": {
    "execution": {
     "iopub.execute_input": "2025-01-23T03:06:02.262962Z",
     "iopub.status.busy": "2025-01-23T03:06:02.262193Z",
     "iopub.status.idle": "2025-01-23T03:06:02.312989Z",
     "shell.execute_reply": "2025-01-23T03:06:02.311486Z",
     "shell.execute_reply.started": "2025-01-23T03:06:02.262906Z"
    }
   },
   "outputs": [],
   "source": [
    "df[\"LSOA_of_Accident_Location_transform\"] = df[\"LSOA_of_Accident_Location\"].map(dic)"
   ]
  },
  {
   "cell_type": "code",
   "execution_count": 110,
   "id": "85654452-bfa2-4ce2-a2dc-8b719d027775",
   "metadata": {
    "execution": {
     "iopub.execute_input": "2025-01-23T03:06:02.752538Z",
     "iopub.status.busy": "2025-01-23T03:06:02.752189Z",
     "iopub.status.idle": "2025-01-23T03:06:02.757559Z",
     "shell.execute_reply": "2025-01-23T03:06:02.756561Z",
     "shell.execute_reply.started": "2025-01-23T03:06:02.752512Z"
    }
   },
   "outputs": [],
   "source": [
    "import impyute as impy"
   ]
  },
  {
   "cell_type": "code",
   "execution_count": 111,
   "id": "b5878994-5b3a-4d7e-852c-22c2911e0457",
   "metadata": {
    "execution": {
     "iopub.execute_input": "2025-01-23T03:06:03.043015Z",
     "iopub.status.busy": "2025-01-23T03:06:03.042418Z",
     "iopub.status.idle": "2025-01-23T03:06:03.811303Z",
     "shell.execute_reply": "2025-01-23T03:06:03.810588Z",
     "shell.execute_reply.started": "2025-01-23T03:06:03.042970Z"
    }
   },
   "outputs": [],
   "source": [
    "df[\"LSOA_of_Accident_Location_transform\"] = impy.em(df[[\"LSOA_of_Accident_Location_transform\"]].to_numpy()).astype(int)"
   ]
  },
  {
   "cell_type": "code",
   "execution_count": 113,
   "id": "23037c0e-ca23-4456-8aba-1b970eaef5f9",
   "metadata": {
    "execution": {
     "iopub.execute_input": "2025-01-23T03:06:43.528354Z",
     "iopub.status.busy": "2025-01-23T03:06:43.527209Z",
     "iopub.status.idle": "2025-01-23T03:06:43.554988Z",
     "shell.execute_reply": "2025-01-23T03:06:43.550429Z",
     "shell.execute_reply.started": "2025-01-23T03:06:43.528316Z"
    }
   },
   "outputs": [
    {
     "data": {
      "text/plain": [
       "2466.231493850794"
      ]
     },
     "execution_count": 113,
     "metadata": {},
     "output_type": "execute_result"
    }
   ],
   "source": [
    "df[\"LSOA_of_Accident_Location_transform\"].mean()"
   ]
  },
  {
   "cell_type": "code",
   "execution_count": 112,
   "id": "6069e829-4cf2-4c4c-b847-05aa10d9f2d7",
   "metadata": {
    "execution": {
     "iopub.execute_input": "2025-01-23T03:06:04.339287Z",
     "iopub.status.busy": "2025-01-23T03:06:04.338665Z",
     "iopub.status.idle": "2025-01-23T03:06:05.963083Z",
     "shell.execute_reply": "2025-01-23T03:06:05.961163Z",
     "shell.execute_reply.started": "2025-01-23T03:06:04.339238Z"
    }
   },
   "outputs": [],
   "source": [
    "df.to_csv(\"data/TrafficAccidents.csv\", index = False)"
   ]
  },
  {
   "cell_type": "code",
   "execution_count": 25,
   "id": "2f99936b-63f6-49fe-a02c-69d73154419a",
   "metadata": {
    "execution": {
     "iopub.execute_input": "2025-01-23T02:39:05.034561Z",
     "iopub.status.busy": "2025-01-23T02:39:05.034263Z",
     "iopub.status.idle": "2025-01-23T02:39:05.041893Z",
     "shell.execute_reply": "2025-01-23T02:39:05.039984Z",
     "shell.execute_reply.started": "2025-01-23T02:39:05.034541Z"
    }
   },
   "outputs": [
    {
     "data": {
      "text/plain": [
       "2466.894139221918"
      ]
     },
     "execution_count": 25,
     "metadata": {},
     "output_type": "execute_result"
    }
   ],
   "source": [
    "df[\"LSOA_of_Accident_Location_transform\"].mean()"
   ]
  },
  {
   "cell_type": "code",
   "execution_count": 7,
   "id": "3b19c591-5e15-4fb2-9c23-101bd9803d33",
   "metadata": {
    "execution": {
     "iopub.execute_input": "2025-01-23T02:31:40.094848Z",
     "iopub.status.busy": "2025-01-23T02:31:40.094566Z",
     "iopub.status.idle": "2025-01-23T02:31:40.101644Z",
     "shell.execute_reply": "2025-01-23T02:31:40.100902Z",
     "shell.execute_reply.started": "2025-01-23T02:31:40.094828Z"
    }
   },
   "outputs": [
    {
     "data": {
      "text/plain": [
       "Accident_Index                                  object\n",
       "Location_Easting_OSGR                            int64\n",
       "Location_Northing_OSGR                           int64\n",
       "Longitude                                      float64\n",
       "Latitude                                       float64\n",
       "Police_Force                                     int64\n",
       "Accident_Severity                                int64\n",
       "Number_of_Vehicles                               int64\n",
       "Number_of_Casualties                             int64\n",
       "Date                                            object\n",
       "Day_of_Week                                      int64\n",
       "Time                                            object\n",
       "Local_Authority_District                         int64\n",
       "Local_Authority_Highway                         object\n",
       "1st_Road_Class                                   int64\n",
       "1st_Road_Number                                  int64\n",
       "Road_Type                                        int64\n",
       "Speed_limit                                      int64\n",
       "Junction_Detail                                  int64\n",
       "Junction_Control                                 int64\n",
       "2nd_Road_Class                                   int64\n",
       "2nd_Road_Number                                  int64\n",
       "Pedestrian_Crossing-Human_Control                int64\n",
       "Pedestrian_Crossing-Physical_Facilities          int64\n",
       "Light_Conditions                                 int64\n",
       "Weather_Conditions                               int64\n",
       "Road_Surface_Conditions                          int64\n",
       "Special_Conditions_at_Site                       int64\n",
       "Carriageway_Hazards                              int64\n",
       "Urban_or_Rural_Area                              int64\n",
       "Did_Police_Officer_Attend_Scene_of_Accident      int64\n",
       "LSOA_of_Accident_Location                       object\n",
       "dtype: object"
      ]
     },
     "execution_count": 7,
     "metadata": {},
     "output_type": "execute_result"
    }
   ],
   "source": [
    "df.dtypes"
   ]
  },
  {
   "cell_type": "code",
   "execution_count": 6,
   "id": "a4717d39-8920-4da4-8dbb-02bfd143862a",
   "metadata": {
    "execution": {
     "iopub.execute_input": "2025-01-23T02:31:29.070291Z",
     "iopub.status.busy": "2025-01-23T02:31:29.070016Z",
     "iopub.status.idle": "2025-01-23T02:31:29.111600Z",
     "shell.execute_reply": "2025-01-23T02:31:29.110280Z",
     "shell.execute_reply.started": "2025-01-23T02:31:29.070269Z"
    }
   },
   "outputs": [
    {
     "name": "stdout",
     "output_type": "stream",
     "text": [
      "Accident_Index 0\n",
      "Location_Easting_OSGR 0\n",
      "Location_Northing_OSGR 0\n",
      "Longitude 0\n",
      "Latitude 0\n",
      "Police_Force 0\n",
      "Accident_Severity 0\n",
      "Number_of_Vehicles 0\n",
      "Number_of_Casualties 0\n",
      "Date 0\n",
      "Day_of_Week 0\n",
      "Time 0\n",
      "Local_Authority_District 0\n",
      "Local_Authority_Highway 0\n",
      "1st_Road_Class 0\n",
      "1st_Road_Number 0\n",
      "Road_Type 0\n",
      "Speed_limit 0\n",
      "Junction_Detail 0\n",
      "Junction_Control 0\n",
      "2nd_Road_Class 0\n",
      "2nd_Road_Number 0\n",
      "Pedestrian_Crossing-Human_Control 0\n",
      "Pedestrian_Crossing-Physical_Facilities 0\n",
      "Light_Conditions 0\n",
      "Weather_Conditions 0\n",
      "Road_Surface_Conditions 0\n",
      "Special_Conditions_at_Site 0\n",
      "Carriageway_Hazards 0\n",
      "Urban_or_Rural_Area 0\n",
      "Did_Police_Officer_Attend_Scene_of_Accident 0\n",
      "LSOA_of_Accident_Location 173\n"
     ]
    }
   ],
   "source": [
    "for col in df.columns:\n",
    "    print(col, df[col].isnull().sum())"
   ]
  }
 ],
 "metadata": {
  "kernelspec": {
   "display_name": "Python 3 (ipykernel)",
   "language": "python",
   "name": "python3"
  },
  "language_info": {
   "codemirror_mode": {
    "name": "ipython",
    "version": 3
   },
   "file_extension": ".py",
   "mimetype": "text/x-python",
   "name": "python",
   "nbconvert_exporter": "python",
   "pygments_lexer": "ipython3",
   "version": "3.10.12"
  }
 },
 "nbformat": 4,
 "nbformat_minor": 5
}
