{
 "cells": [
  {
   "cell_type": "code",
   "execution_count": 21,
   "id": "07572ac4-6e9b-4ab7-9bb0-4f479dab9085",
   "metadata": {
    "execution": {
     "iopub.execute_input": "2025-02-03T23:32:42.041572Z",
     "iopub.status.busy": "2025-02-03T23:32:42.038751Z",
     "iopub.status.idle": "2025-02-03T23:32:43.044982Z",
     "shell.execute_reply": "2025-02-03T23:32:43.044391Z",
     "shell.execute_reply.started": "2025-02-03T23:32:42.041501Z"
    }
   },
   "outputs": [],
   "source": [
    "import seaborn as sns\n",
    "import matplotlib.pyplot as plt\n",
    "import numpy as np\n",
    "import pandas as pd"
   ]
  },
  {
   "cell_type": "code",
   "execution_count": null,
   "id": "e10bb701-0d51-4b52-afd8-d3600b2962e7",
   "metadata": {},
   "outputs": [],
   "source": [
    "def box_plot(df):\n",
    "    plt.title(\"Box plot\")\n",
    "    sns.boxplot(df)\n",
    "    plt.show()"
   ]
  },
  {
   "cell_type": "code",
   "execution_count": null,
   "id": "3e653ff0-0212-4924-af65-e8b419fd87a4",
   "metadata": {},
   "outputs": [],
   "source": [
    "def Zcore_outlier(df):\n",
    "    outliers = []\n",
    "    mean = np.mean(df)\n",
    "    sd = np.std(df)\n",
    "    for i in df:\n",
    "        z = (i - mean) / sd\n",
    "        if np.abs(z) > 3:\n",
    "            outliers.append(i)\n",
    "    return outliers"
   ]
  },
  {
   "cell_type": "code",
   "execution_count": null,
   "id": "40ca6de7-5c7a-4350-90e8-96d0542b5175",
   "metadata": {},
   "outputs": [],
   "source": []
  },
  {
   "cell_type": "code",
   "execution_count": 1,
   "id": "e700474c-b4d6-4b24-ba05-4a3350b7aad4",
   "metadata": {
    "execution": {
     "iopub.execute_input": "2025-02-03T23:22:07.904022Z",
     "iopub.status.busy": "2025-02-03T23:22:07.903736Z",
     "iopub.status.idle": "2025-02-03T23:22:08.587588Z",
     "shell.execute_reply": "2025-02-03T23:22:08.586824Z",
     "shell.execute_reply.started": "2025-02-03T23:22:07.903999Z"
    }
   },
   "outputs": [
    {
     "data": {
      "text/html": [
       "<div>\n",
       "<style scoped>\n",
       "    .dataframe tbody tr th:only-of-type {\n",
       "        vertical-align: middle;\n",
       "    }\n",
       "\n",
       "    .dataframe tbody tr th {\n",
       "        vertical-align: top;\n",
       "    }\n",
       "\n",
       "    .dataframe thead th {\n",
       "        text-align: right;\n",
       "    }\n",
       "</style>\n",
       "<table border=\"1\" class=\"dataframe\">\n",
       "  <thead>\n",
       "    <tr style=\"text-align: right;\">\n",
       "      <th></th>\n",
       "      <th>paciente</th>\n",
       "      <th>tratamiento_a</th>\n",
       "      <th>tratamiento_b</th>\n",
       "    </tr>\n",
       "  </thead>\n",
       "  <tbody>\n",
       "    <tr>\n",
       "      <th>0</th>\n",
       "      <td>Fernando</td>\n",
       "      <td>25</td>\n",
       "      <td>0</td>\n",
       "    </tr>\n",
       "    <tr>\n",
       "      <th>1</th>\n",
       "      <td>Alfonso</td>\n",
       "      <td>5</td>\n",
       "      <td>17</td>\n",
       "    </tr>\n",
       "    <tr>\n",
       "      <th>2</th>\n",
       "      <td>Santiago</td>\n",
       "      <td>6</td>\n",
       "      <td>15</td>\n",
       "    </tr>\n",
       "    <tr>\n",
       "      <th>3</th>\n",
       "      <td>Lili</td>\n",
       "      <td>89</td>\n",
       "      <td>7</td>\n",
       "    </tr>\n",
       "    <tr>\n",
       "      <th>4</th>\n",
       "      <td>Rosalia</td>\n",
       "      <td>10</td>\n",
       "      <td>9</td>\n",
       "    </tr>\n",
       "  </tbody>\n",
       "</table>\n",
       "</div>"
      ],
      "text/plain": [
       "   paciente  tratamiento_a  tratamiento_b\n",
       "0  Fernando             25              0\n",
       "1   Alfonso              5             17\n",
       "2  Santiago              6             15\n",
       "3      Lili             89              7\n",
       "4   Rosalia             10              9"
      ]
     },
     "execution_count": 1,
     "metadata": {},
     "output_type": "execute_result"
    }
   ],
   "source": [
    "\n",
    "nombre = ['Fernando', 'Alfonso', 'Santiago', 'Lili', 'Rosalia']\n",
    "tratamiento_a = [25, 5, 6, 89, 10]\n",
    "tratamiento_b = [0, 17, 15, 7, 9]\n",
    "\n",
    "data_dict_1 = {\n",
    "    'paciente':nombre,\n",
    "    'tratamiento_a':tratamiento_a,\n",
    "    'tratamiento_b': tratamiento_b\n",
    "}\n",
    "\n",
    "df_1 = pd.DataFrame.from_dict(data_dict_1)\n",
    "\n",
    "df_1"
   ]
  },
  {
   "cell_type": "code",
   "execution_count": 2,
   "id": "8e823224-ef3b-49d2-bd07-c7857dc17d46",
   "metadata": {
    "execution": {
     "iopub.execute_input": "2025-02-03T23:23:20.421775Z",
     "iopub.status.busy": "2025-02-03T23:23:20.421123Z",
     "iopub.status.idle": "2025-02-03T23:23:20.437765Z",
     "shell.execute_reply": "2025-02-03T23:23:20.436951Z",
     "shell.execute_reply.started": "2025-02-03T23:23:20.421734Z"
    }
   },
   "outputs": [
    {
     "data": {
      "text/html": [
       "<div>\n",
       "<style scoped>\n",
       "    .dataframe tbody tr th:only-of-type {\n",
       "        vertical-align: middle;\n",
       "    }\n",
       "\n",
       "    .dataframe tbody tr th {\n",
       "        vertical-align: top;\n",
       "    }\n",
       "\n",
       "    .dataframe thead th {\n",
       "        text-align: right;\n",
       "    }\n",
       "</style>\n",
       "<table border=\"1\" class=\"dataframe\">\n",
       "  <thead>\n",
       "    <tr style=\"text-align: right;\">\n",
       "      <th></th>\n",
       "      <th>tratamiento</th>\n",
       "      <th>dosis_1</th>\n",
       "      <th>dosis_2</th>\n",
       "    </tr>\n",
       "  </thead>\n",
       "  <tbody>\n",
       "    <tr>\n",
       "      <th>0</th>\n",
       "      <td>tratamiento_a</td>\n",
       "      <td>5</td>\n",
       "      <td>0</td>\n",
       "    </tr>\n",
       "    <tr>\n",
       "      <th>1</th>\n",
       "      <td>tratamiento_b</td>\n",
       "      <td>9</td>\n",
       "      <td>7</td>\n",
       "    </tr>\n",
       "  </tbody>\n",
       "</table>\n",
       "</div>"
      ],
      "text/plain": [
       "     tratamiento  dosis_1  dosis_2\n",
       "0  tratamiento_a        5        0\n",
       "1  tratamiento_b        9        7"
      ]
     },
     "execution_count": 2,
     "metadata": {},
     "output_type": "execute_result"
    }
   ],
   "source": [
    "import numpy as np\n",
    "import pandas as pd\n",
    "nombre = ['tratamiento_a', 'tratamiento_b']\n",
    "dosis_1 = [5, 9]\n",
    "dosis_2 = [0, 7]\n",
    "\n",
    "data_dict_2 = {\n",
    "    'tratamiento':nombre,\n",
    "    'dosis_1':dosis_1,\n",
    "    'dosis_2': dosis_2\n",
    "}\n",
    "\n",
    "df_2 = pd.DataFrame.from_dict(data_dict_2)\n",
    "\n",
    "df_2"
   ]
  },
  {
   "cell_type": "code",
   "execution_count": 4,
   "id": "27e5a91f-099a-4903-845b-0ad7f76d83d7",
   "metadata": {
    "execution": {
     "iopub.execute_input": "2025-02-03T23:24:43.073636Z",
     "iopub.status.busy": "2025-02-03T23:24:43.073245Z",
     "iopub.status.idle": "2025-02-03T23:24:43.088656Z",
     "shell.execute_reply": "2025-02-03T23:24:43.087336Z",
     "shell.execute_reply.started": "2025-02-03T23:24:43.073614Z"
    }
   },
   "outputs": [
    {
     "data": {
      "text/html": [
       "<div>\n",
       "<style scoped>\n",
       "    .dataframe tbody tr th:only-of-type {\n",
       "        vertical-align: middle;\n",
       "    }\n",
       "\n",
       "    .dataframe tbody tr th {\n",
       "        vertical-align: top;\n",
       "    }\n",
       "\n",
       "    .dataframe thead th {\n",
       "        text-align: right;\n",
       "    }\n",
       "</style>\n",
       "<table border=\"1\" class=\"dataframe\">\n",
       "  <thead>\n",
       "    <tr style=\"text-align: right;\">\n",
       "      <th></th>\n",
       "      <th>paciente</th>\n",
       "      <th>tratamiento</th>\n",
       "      <th>resultado</th>\n",
       "    </tr>\n",
       "  </thead>\n",
       "  <tbody>\n",
       "    <tr>\n",
       "      <th>0</th>\n",
       "      <td>Fernando</td>\n",
       "      <td>tratamiento_a</td>\n",
       "      <td>25</td>\n",
       "    </tr>\n",
       "    <tr>\n",
       "      <th>1</th>\n",
       "      <td>Alfonso</td>\n",
       "      <td>tratamiento_a</td>\n",
       "      <td>5</td>\n",
       "    </tr>\n",
       "    <tr>\n",
       "      <th>2</th>\n",
       "      <td>Santiago</td>\n",
       "      <td>tratamiento_a</td>\n",
       "      <td>6</td>\n",
       "    </tr>\n",
       "    <tr>\n",
       "      <th>3</th>\n",
       "      <td>Lili</td>\n",
       "      <td>tratamiento_a</td>\n",
       "      <td>89</td>\n",
       "    </tr>\n",
       "    <tr>\n",
       "      <th>4</th>\n",
       "      <td>Rosalia</td>\n",
       "      <td>tratamiento_a</td>\n",
       "      <td>10</td>\n",
       "    </tr>\n",
       "    <tr>\n",
       "      <th>5</th>\n",
       "      <td>Fernando</td>\n",
       "      <td>tratamiento_b</td>\n",
       "      <td>0</td>\n",
       "    </tr>\n",
       "    <tr>\n",
       "      <th>6</th>\n",
       "      <td>Alfonso</td>\n",
       "      <td>tratamiento_b</td>\n",
       "      <td>17</td>\n",
       "    </tr>\n",
       "    <tr>\n",
       "      <th>7</th>\n",
       "      <td>Santiago</td>\n",
       "      <td>tratamiento_b</td>\n",
       "      <td>15</td>\n",
       "    </tr>\n",
       "    <tr>\n",
       "      <th>8</th>\n",
       "      <td>Lili</td>\n",
       "      <td>tratamiento_b</td>\n",
       "      <td>7</td>\n",
       "    </tr>\n",
       "    <tr>\n",
       "      <th>9</th>\n",
       "      <td>Rosalia</td>\n",
       "      <td>tratamiento_b</td>\n",
       "      <td>9</td>\n",
       "    </tr>\n",
       "  </tbody>\n",
       "</table>\n",
       "</div>"
      ],
      "text/plain": [
       "   paciente    tratamiento  resultado\n",
       "0  Fernando  tratamiento_a         25\n",
       "1   Alfonso  tratamiento_a          5\n",
       "2  Santiago  tratamiento_a          6\n",
       "3      Lili  tratamiento_a         89\n",
       "4   Rosalia  tratamiento_a         10\n",
       "5  Fernando  tratamiento_b          0\n",
       "6   Alfonso  tratamiento_b         17\n",
       "7  Santiago  tratamiento_b         15\n",
       "8      Lili  tratamiento_b          7\n",
       "9   Rosalia  tratamiento_b          9"
      ]
     },
     "execution_count": 4,
     "metadata": {},
     "output_type": "execute_result"
    }
   ],
   "source": [
    "df_pacientes = pd.melt(\n",
    "    df_1,\n",
    "    id_vars = ['paciente'],\n",
    "    value_vars = ['tratamiento_a','tratamiento_b']\n",
    ")\n",
    "df_pacientes.rename(\n",
    "    columns = {'variable':'tratamiento', 'value':'resultado'},\n",
    "    inplace = True\n",
    ")\n",
    "df_pacientes"
   ]
  },
  {
   "cell_type": "code",
   "execution_count": 9,
   "id": "3076561d-b384-4405-bcc0-ecf889e531f3",
   "metadata": {
    "execution": {
     "iopub.execute_input": "2025-02-03T23:28:20.084798Z",
     "iopub.status.busy": "2025-02-03T23:28:20.084271Z",
     "iopub.status.idle": "2025-02-03T23:28:20.107656Z",
     "shell.execute_reply": "2025-02-03T23:28:20.106400Z",
     "shell.execute_reply.started": "2025-02-03T23:28:20.084759Z"
    }
   },
   "outputs": [],
   "source": [
    "df_final = df_pacientes.merge(df_2, on = ['tratamiento'], how = 'left')\n",
    "df_final.to_csv(\"df_final.csv\", header = True, index = False)"
   ]
  },
  {
   "cell_type": "code",
   "execution_count": 54,
   "id": "2618baa2-e1c3-4d7f-abb3-48e9eb35960d",
   "metadata": {
    "execution": {
     "iopub.execute_input": "2025-02-03T23:45:28.703356Z",
     "iopub.status.busy": "2025-02-03T23:45:28.702669Z",
     "iopub.status.idle": "2025-02-03T23:45:28.732689Z",
     "shell.execute_reply": "2025-02-03T23:45:28.731512Z",
     "shell.execute_reply.started": "2025-02-03T23:45:28.703316Z"
    }
   },
   "outputs": [],
   "source": [
    "np.random.seed(100)\n",
    "n = 1000\n",
    "id_paciente = np.random.randint(1000, size=n)\n",
    "tratamiento_a = np.random.randint(low=10, high=100, size=n)\n",
    "tratamiento_b = np.random.randint(low=15, high=90, size=n)\n",
    "\n",
    "\n",
    "data_dict_pacientes = {\n",
    "    'paciente': id_paciente,\n",
    "    'tratamiento_a': tratamiento_a,\n",
    "    'tratamiento_b': tratamiento_b\n",
    "}\n",
    "\n",
    "df_pacientes_2 = pd.DataFrame.from_dict(data_dict_pacientes)\n",
    "df_pacientes_2['tratamiento_a'] = df_pacientes_2['tratamiento_a'].apply(\n",
    "    lambda x: x if x>15 else np.nan)\n",
    "df_pacientes_2['tratamiento_b'] = df_pacientes_2['tratamiento_b'].apply(\n",
    "    lambda x: np.nan if x>80 else x)\n",
    "\n",
    "df_pacientes_2.to_csv(\"df_pacientes_2.csv\", header = True, index = False)"
   ]
  },
  {
   "cell_type": "code",
   "execution_count": 55,
   "id": "c1c4610f-ac19-4ce4-8bc3-99849c13c7cc",
   "metadata": {
    "execution": {
     "iopub.execute_input": "2025-02-03T23:45:28.909635Z",
     "iopub.status.busy": "2025-02-03T23:45:28.909024Z",
     "iopub.status.idle": "2025-02-03T23:45:28.928425Z",
     "shell.execute_reply": "2025-02-03T23:45:28.926436Z",
     "shell.execute_reply.started": "2025-02-03T23:45:28.909593Z"
    }
   },
   "outputs": [
    {
     "data": {
      "text/html": [
       "<div>\n",
       "<style scoped>\n",
       "    .dataframe tbody tr th:only-of-type {\n",
       "        vertical-align: middle;\n",
       "    }\n",
       "\n",
       "    .dataframe tbody tr th {\n",
       "        vertical-align: top;\n",
       "    }\n",
       "\n",
       "    .dataframe thead th {\n",
       "        text-align: right;\n",
       "    }\n",
       "</style>\n",
       "<table border=\"1\" class=\"dataframe\">\n",
       "  <thead>\n",
       "    <tr style=\"text-align: right;\">\n",
       "      <th></th>\n",
       "      <th>paciente</th>\n",
       "      <th>tratamiento_a</th>\n",
       "      <th>tratamiento_b</th>\n",
       "    </tr>\n",
       "  </thead>\n",
       "  <tbody>\n",
       "    <tr>\n",
       "      <th>0</th>\n",
       "      <td>520</td>\n",
       "      <td>19.0</td>\n",
       "      <td>60.0</td>\n",
       "    </tr>\n",
       "    <tr>\n",
       "      <th>1</th>\n",
       "      <td>792</td>\n",
       "      <td>45.0</td>\n",
       "      <td>NaN</td>\n",
       "    </tr>\n",
       "  </tbody>\n",
       "</table>\n",
       "</div>"
      ],
      "text/plain": [
       "   paciente  tratamiento_a  tratamiento_b\n",
       "0       520           19.0           60.0\n",
       "1       792           45.0            NaN"
      ]
     },
     "execution_count": 55,
     "metadata": {},
     "output_type": "execute_result"
    }
   ],
   "source": [
    "df_pacientes_2.head(2)"
   ]
  },
  {
   "cell_type": "code",
   "execution_count": 56,
   "id": "6dd50508-0d23-4a28-82f0-bfc4fce85ac6",
   "metadata": {
    "execution": {
     "iopub.execute_input": "2025-02-03T23:45:29.075231Z",
     "iopub.status.busy": "2025-02-03T23:45:29.074898Z",
     "iopub.status.idle": "2025-02-03T23:45:29.095138Z",
     "shell.execute_reply": "2025-02-03T23:45:29.093743Z",
     "shell.execute_reply.started": "2025-02-03T23:45:29.075207Z"
    }
   },
   "outputs": [
    {
     "data": {
      "text/plain": [
       "[]"
      ]
     },
     "execution_count": 56,
     "metadata": {},
     "output_type": "execute_result"
    }
   ],
   "source": [
    "Zcore_outlier(df_pacientes_2[\"tratamiento_a\"])"
   ]
  },
  {
   "cell_type": "code",
   "execution_count": 57,
   "id": "4a7e7b74-428e-4b38-9c74-d8e249371625",
   "metadata": {
    "execution": {
     "iopub.execute_input": "2025-02-03T23:45:29.391187Z",
     "iopub.status.busy": "2025-02-03T23:45:29.390551Z",
     "iopub.status.idle": "2025-02-03T23:45:29.406007Z",
     "shell.execute_reply": "2025-02-03T23:45:29.404097Z",
     "shell.execute_reply.started": "2025-02-03T23:45:29.391142Z"
    }
   },
   "outputs": [
    {
     "data": {
      "text/plain": [
       "[]"
      ]
     },
     "execution_count": 57,
     "metadata": {},
     "output_type": "execute_result"
    }
   ],
   "source": [
    "Zcore_outlier(df_pacientes_2[\"tratamiento_b\"])"
   ]
  },
  {
   "cell_type": "code",
   "execution_count": 58,
   "id": "f2bea327-b8b1-4759-b131-99173bf8c1f6",
   "metadata": {
    "execution": {
     "iopub.execute_input": "2025-02-03T23:45:29.775280Z",
     "iopub.status.busy": "2025-02-03T23:45:29.772784Z",
     "iopub.status.idle": "2025-02-03T23:45:29.945064Z",
     "shell.execute_reply": "2025-02-03T23:45:29.943550Z",
     "shell.execute_reply.started": "2025-02-03T23:45:29.775185Z"
    }
   },
   "outputs": [
    {
     "data": {
      "image/png": "[encoded data removed]",
      "text/plain": [
       "<Figure size 640x480 with 1 Axes>"
      ]
     },
     "metadata": {},
     "output_type": "display_data"
    }
   ],
   "source": [
    "box_plot(df_pacientes_2)"
   ]
  },
  {
   "cell_type": "code",
   "execution_count": 59,
   "id": "4649fd89-8b37-455e-a099-04c3b36162d4",
   "metadata": {
    "execution": {
     "iopub.execute_input": "2025-02-03T23:45:30.549762Z",
     "iopub.status.busy": "2025-02-03T23:45:30.549301Z",
     "iopub.status.idle": "2025-02-03T23:45:30.560876Z",
     "shell.execute_reply": "2025-02-03T23:45:30.559136Z",
     "shell.execute_reply.started": "2025-02-03T23:45:30.549730Z"
    }
   },
   "outputs": [
    {
     "name": "stdout",
     "output_type": "stream",
     "text": [
      "paciente 0 0.0\n",
      "tratamiento_a 54 5.4\n",
      "tratamiento_b 140 14.000000000000002\n"
     ]
    }
   ],
   "source": [
    "for col in df_pacientes_2.columns:\n",
    "    print(col, df_pacientes_2[col].isnull().sum(), df_pacientes_2[col].isnull().sum() / df_pacientes_2.shape[0] * 100)"
   ]
  },
  {
   "cell_type": "code",
   "execution_count": 66,
   "id": "4ddf7faf-1a18-4697-9dc6-726d2494cb80",
   "metadata": {
    "execution": {
     "iopub.execute_input": "2025-02-03T23:47:54.493815Z",
     "iopub.status.busy": "2025-02-03T23:47:54.493131Z",
     "iopub.status.idle": "2025-02-03T23:47:54.505590Z",
     "shell.execute_reply": "2025-02-03T23:47:54.504185Z",
     "shell.execute_reply.started": "2025-02-03T23:47:54.493783Z"
    }
   },
   "outputs": [],
   "source": [
    "from sklearn.impute import SimpleImputer\n",
    "np.random.seed(100)\n",
    "imp_mean = SimpleImputer(missing_values=np.nan, strategy='mean')\n",
    "imp_mean.fit(df_pacientes_2[[\"tratamiento_a\"]])\n",
    "tratamiento_a_impute = imp_mean.transform(df_pacientes_2[[\"tratamiento_a\"]])"
   ]
  },
  {
   "cell_type": "code",
   "execution_count": 68,
   "id": "cf9d2c1b-a755-40f1-ab0f-82b5934e75a3",
   "metadata": {
    "execution": {
     "iopub.execute_input": "2025-02-03T23:48:19.674670Z",
     "iopub.status.busy": "2025-02-03T23:48:19.673557Z",
     "iopub.status.idle": "2025-02-03T23:48:19.700575Z",
     "shell.execute_reply": "2025-02-03T23:48:19.699523Z",
     "shell.execute_reply.started": "2025-02-03T23:48:19.674620Z"
    }
   },
   "outputs": [],
   "source": [
    "from sklearn.experimental import enable_iterative_imputer\n",
    "from sklearn.impute import IterativeImputer\n",
    "np.random.seed(100)\n",
    "imputer = IterativeImputer(max_iter=10, random_state=0)\n",
    "imputer.fit(df_pacientes_2)\n",
    "data_imputed = imputer.fit_transform(df_pacientes_2)\n",
    "tratamiento_b_impute = pd.DataFrame(data_imputed)[2]\n",
    "df_pacientes_2[\"tratamiento_a\"] = tratamiento_a_impute\n",
    "df_pacientes_2[\"tratamiento_b\"] = tratamiento_b_impute"
   ]
  },
  {
   "cell_type": "code",
   "execution_count": 70,
   "id": "345ae014-2304-4b17-91e6-321bded2f802",
   "metadata": {
    "execution": {
     "iopub.execute_input": "2025-02-03T23:49:15.047675Z",
     "iopub.status.busy": "2025-02-03T23:49:15.047444Z",
     "iopub.status.idle": "2025-02-03T23:49:15.062998Z",
     "shell.execute_reply": "2025-02-03T23:49:15.061438Z",
     "shell.execute_reply.started": "2025-02-03T23:49:15.047659Z"
    }
   },
   "outputs": [],
   "source": [
    "df_pacientes_2.to_csv(\"df_pacientes_2_final.csv\", header = True, index = False)"
   ]
  }
 ],
 "metadata": {
  "kernelspec": {
   "display_name": "Python 3 (ipykernel)",
   "language": "python",
   "name": "python3"
  },
  "language_info": {
   "codemirror_mode": {
    "name": "ipython",
    "version": 3
   },
   "file_extension": ".py",
   "mimetype": "text/x-python",
   "name": "python",
   "nbconvert_exporter": "python",
   "pygments_lexer": "ipython3",
   "version": "3.10.12"
  }
 },
 "nbformat": 4,
 "nbformat_minor": 5
}
