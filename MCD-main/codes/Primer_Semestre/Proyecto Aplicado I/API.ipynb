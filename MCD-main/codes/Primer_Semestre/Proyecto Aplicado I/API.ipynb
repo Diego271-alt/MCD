{
 "cells": [
  {
   "cell_type": "code",
   "execution_count": null,
   "id": "5c806c16-a4e6-45e4-abd3-7d1c25f98222",
   "metadata": {},
   "outputs": [],
   "source": [
    "import re\n",
    "import io\n",
    "import os\n",
    "import time\n",
    "import requests\n",
    "import numpy as np\n",
    "import pandas as pd\n",
    "from PIL import Image"
   ]
  },
  {
   "cell_type": "markdown",
   "id": "c6c2def4-b4cd-4916-aba5-66fb0941b3cd",
   "metadata": {},
   "source": [
    "# Definir las diferentes constantes del programa"
   ]
  },
  {
   "cell_type": "code",
   "execution_count": null,
   "id": "f06d00f2-d9f8-4302-9a07-0354d52e867c",
   "metadata": {},
   "outputs": [],
   "source": [
    "DOG_API   = \"https://random.dog/woof.json\"\n",
    "DUCK_API  = \"https://random-d.uk/api/random\"\n",
    "FOX_API   = \"https://randomfox.ca/floof/\"\n",
    "BASE_RAW_DIRECTORY = f'data/raw'\n",
    "BASE_MASTER_DIRECTORY = f'data/master'\n",
    "NUMBER_IMAGES = 5"
   ]
  },
  {
   "cell_type": "markdown",
   "id": "8a99e143-5867-49d7-93e8-56fa5cdf006b",
   "metadata": {},
   "source": [
    "# Definición de las funciones a utilizar"
   ]
  },
  {
   "cell_type": "code",
   "execution_count": null,
   "id": "4a37a0b3-464f-4ff3-9838-a9b51bb6819a",
   "metadata": {},
   "outputs": [],
   "source": [
    "def processImage(base_dir: str, byte_string: str, animal: str, index: int) -> None:  \n",
    "    \"\"\"\n",
    "    Función que permite guardar las imagenes en un directorio\n",
    "    \"\"\"\n",
    "    os.makedirs(f'{base_dir}/{animal}', exist_ok=True) # Permite generar el directorio si este no existe\n",
    "    with open(f'{base_dir}/{animal}/{index}.png', 'wb') as f:\n",
    "        f.write(byte_string)"
   ]
  },
  {
   "cell_type": "markdown",
   "id": "b2d7e841-9b71-4376-9373-c3d97d1578fa",
   "metadata": {},
   "source": [
    "# Descarga de imagenes"
   ]
  },
  {
   "cell_type": "code",
   "execution_count": null,
   "id": "f9fe234b-64a3-4cee-b3e2-7676ce5864d4",
   "metadata": {},
   "outputs": [],
   "source": [
    "# Descarga de imagenes de perros\n",
    "for index in range(NUMBER_IMAGES):\n",
    "    dog_data = requests.get(DOG_API)\n",
    "    if dog_data.status_code == 200:\n",
    "        processImage(\n",
    "            BASE_RAW_DIRECTORY,\n",
    "            requests.get(\n",
    "              dog_data.json()[\"url\"]\n",
    "            ).content,\n",
    "            'dog',\n",
    "            index\n",
    "        )\n",
    "    else:\n",
    "        break\n",
    "    time.sleep(3)"
   ]
  },
  {
   "cell_type": "code",
   "execution_count": null,
   "id": "3b209c22-963b-487f-978d-2fa7838816b1",
   "metadata": {},
   "outputs": [],
   "source": [
    "# Descarga de imagenes de patos\n",
    "for index in range(NUMBER_IMAGES):\n",
    "    duck_data = requests.get(DUCK_API)\n",
    "    if duck_data.status_code == 200:\n",
    "        processImage(\n",
    "            BASE_RAW_DIRECTORY,\n",
    "            requests.get(\n",
    "              duck_data.json()[\"url\"]\n",
    "            ).content,\n",
    "            'duck',\n",
    "            index\n",
    "        )\n",
    "    else:\n",
    "        break\n",
    "    time.sleep(3)"
   ]
  },
  {
   "cell_type": "code",
   "execution_count": null,
   "id": "7b0cedef-c9e5-479e-8fc3-580f557bc0b3",
   "metadata": {},
   "outputs": [],
   "source": [
    "# Descarga de imagenes de zorros\n",
    "for index in range(NUMBER_IMAGES):\n",
    "    fox_data = requests.get(FOX_API)\n",
    "    if fox_data.status_code == 200:\n",
    "        processImage(\n",
    "            BASE_RAW_DIRECTORY,\n",
    "            requests.get(\n",
    "              fox_data.json()[\"image\"]\n",
    "            ).content,\n",
    "            'fox',\n",
    "            index\n",
    "        )\n",
    "    else:\n",
    "        break\n",
    "    time.sleep(3)"
   ]
  },
  {
   "cell_type": "markdown",
   "id": "e486e9ef-79d9-4c38-b1ee-51fbca4d437f",
   "metadata": {},
   "source": [
    "# Estandarización de tamaños\n",
    "Se busca que todas las imagenes tengan una dimensión 100 x 100"
   ]
  },
  {
   "cell_type": "code",
   "execution_count": null,
   "id": "a1837b2f-df04-4dbf-b506-33874db7109e",
   "metadata": {},
   "outputs": [],
   "source": [
    "final_data = [[],[]] #La primer entrada será para guardar las categorias, la segunda permitirá almacenar la representación numérica de la imagen\n",
    "for animal in os.listdir(BASE_RAW_DIRECTORY):\n",
    "    for idx, picture in enumerate(os.listdir(f'{BASE_RAW_DIRECTORY}/{animal}')):\n",
    "        try:\n",
    "            if re.match(r'([0-9])+.png$', picture):\n",
    "                img = Image.open(f'{BASE_RAW_DIRECTORY}/{animal}/{picture}').convert('RGB') #Convertir a RGB, para eliminar canales como el Alfa que tienen algunas imagenes\n",
    "                image_resized = img.resize((100, 100))\n",
    "                img_byte_array = io.BytesIO() # Generar un stream virtual para obtener la cadena de byte-string\n",
    "                image_resized.save(img_byte_array, format='PNG') # Guardar en el stream virtual\n",
    "                img_bytes = img_byte_array.getvalue() # Obtener el byte-string\n",
    "                processImage(\n",
    "                    BASE_MASTER_DIRECTORY,\n",
    "                    img_bytes,\n",
    "                    animal,\n",
    "                    idx\n",
    "                )\n",
    "                final_data[0].append(animal)\n",
    "                final_data[1].append(np.array(image_resized).flatten()) # .flatten permite redimensionar la imagen a una sola dimensión\n",
    "        except:\n",
    "            print(f'{animal}/{picture} corrupted')"
   ]
  },
  {
   "cell_type": "code",
   "execution_count": null,
   "id": "d0431469-59a0-47fa-b56e-6f147c907991",
   "metadata": {},
   "outputs": [],
   "source": [
    "df = pd.DataFrame(final_data[1]) # Generar el dataframe de la representación numerica de las imagenes\n",
    "df = df / 255.0 # Estandarización de los pixeles"
   ]
  },
  {
   "cell_type": "code",
   "execution_count": null,
   "id": "8456ec3e-b49d-4cf8-9d71-f6098653f5c7",
   "metadata": {},
   "outputs": [],
   "source": [
    "df.columns = [f'img_{col}' for col in df.columns] # Cambiar el nombre de las columnas"
   ]
  },
  {
   "cell_type": "code",
   "execution_count": null,
   "id": "a58e7529-67ba-4f76-8bf6-151f9290ae22",
   "metadata": {},
   "outputs": [],
   "source": [
    "df_categories = pd.DataFrame(final_data[0], columns = [\"animal\"]) # Generando el dataframe de las categorias"
   ]
  },
  {
   "cell_type": "code",
   "execution_count": null,
   "id": "abdabf20-d6fc-4d10-8c51-1baa9a668bc9",
   "metadata": {},
   "outputs": [],
   "source": [
    "df_final = pd.concat([df, df_categories], axis = 1) # Uniendo ambos dataframes"
   ]
  },
  {
   "cell_type": "code",
   "execution_count": null,
   "id": "4f6d32bd-9a7f-48eb-92a7-871b580c3f82",
   "metadata": {},
   "outputs": [],
   "source": [
    "df_final.to_csv(\"data/ADT.csv\", index = False)"
   ]
  }
 ],
 "metadata": {
  "kernelspec": {
   "display_name": "Python 3 (ipykernel)",
   "language": "python",
   "name": "python3"
  },
  "language_info": {
   "codemirror_mode": {
    "name": "ipython",
    "version": 3
   },
   "file_extension": ".py",
   "mimetype": "text/x-python",
   "name": "python",
   "nbconvert_exporter": "python",
   "pygments_lexer": "ipython3",
   "version": "3.10.12"
  }
 },
 "nbformat": 4,
 "nbformat_minor": 5
}
